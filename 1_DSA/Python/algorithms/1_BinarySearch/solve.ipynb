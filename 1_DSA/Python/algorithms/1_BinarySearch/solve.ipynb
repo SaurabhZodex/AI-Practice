{
 "cells": [
  {
   "cell_type": "markdown",
   "metadata": {},
   "source": [
    "### Binary Search Exercise\n",
    "1. When I try to find number 5 in below list using binary search, it doesn't work and returns me -1 index. Why is that?\n",
    "\n",
    "    ```numbers = [1,4,6,9,10,5,7]```"
   ]
  },
  {
   "cell_type": "markdown",
   "metadata": {},
   "source": [
    "2. Find index of all the occurances of a number from sorted list\n",
    "\n",
    "    ```\n",
    "    numbers = [1,4,6,9,11,15,15,15,17,21,34,34,56]\n",
    "    number_to_find = 15  \n",
    "    ```\n",
    "   This should return 5,6,7 as indices containing number 15 in the array"
   ]
  },
  {
   "cell_type": "code",
   "execution_count": 1,
   "metadata": {},
   "outputs": [],
   "source": [
    "numbers = [1,4,6,9,11,15,15,15,17,21,34,34,56]\n",
    "number_to_find = 15 "
   ]
  },
  {
   "cell_type": "code",
   "execution_count": 20,
   "metadata": {},
   "outputs": [],
   "source": [
    "def binary_sort(numbers, number_to_find):    \n",
    "    right_pointer = len(numbers)-1\n",
    "    left_pointer = 0\n",
    "    mid_pointer = 0\n",
    "    while left_pointer<=right_pointer:\n",
    "        mid_pointer = (right_pointer+left_pointer)//2\n",
    "        if numbers[mid_pointer] == number_to_find:\n",
    "            indices = [mid_pointer]\n",
    "            for i in range(1, len(numbers)//2):\n",
    "                if numbers[mid_pointer-i]==number_to_find:\n",
    "                    indices.append(mid_pointer-i)\n",
    "                if numbers[mid_pointer+i]==number_to_find:\n",
    "                    indices.append(mid_pointer+i)\n",
    "            return sorted(indices)\n",
    "        if numbers[mid_pointer]<number_to_find:\n",
    "            left_pointer = mid_pointer\n",
    "        else:\n",
    "            right_pointer = mid_pointer\n",
    "    return -1\n",
    "        "
   ]
  },
  {
   "cell_type": "code",
   "execution_count": 21,
   "metadata": {},
   "outputs": [
    {
     "name": "stdout",
     "output_type": "stream",
     "text": [
      "15 is present at in index [5, 6, 7] in [1, 4, 6, 9, 11, 15, 15, 15, 17, 21, 34, 34, 56] list\n"
     ]
    }
   ],
   "source": [
    "index = binary_sort(numbers, number_to_find)\n",
    "print(f\"{number_to_find} is present at in index {index} in {numbers} list\")"
   ]
  },
  {
   "cell_type": "code",
   "execution_count": null,
   "metadata": {},
   "outputs": [],
   "source": []
  }
 ],
 "metadata": {
  "kernelspec": {
   "display_name": ".venv",
   "language": "python",
   "name": "python3"
  },
  "language_info": {
   "codemirror_mode": {
    "name": "ipython",
    "version": 3
   },
   "file_extension": ".py",
   "mimetype": "text/x-python",
   "name": "python",
   "nbconvert_exporter": "python",
   "pygments_lexer": "ipython3",
   "version": "3.10.11"
  }
 },
 "nbformat": 4,
 "nbformat_minor": 2
}
