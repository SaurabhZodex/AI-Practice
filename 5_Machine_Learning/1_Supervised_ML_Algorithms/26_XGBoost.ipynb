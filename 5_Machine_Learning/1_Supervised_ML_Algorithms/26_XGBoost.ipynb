{
 "cells": [
  {
   "cell_type": "code",
   "execution_count": null,
   "metadata": {},
   "outputs": [],
   "source": [
    "# pip install xgboost==2.1.2"
   ]
  },
  {
   "cell_type": "markdown",
   "metadata": {},
   "source": [
    "## Regression"
   ]
  },
  {
   "cell_type": "code",
   "execution_count": 1,
   "metadata": {},
   "outputs": [
    {
     "name": "stdout",
     "output_type": "stream",
     "text": [
      "Fitting 4 folds for each of 72 candidates, totalling 288 fits\n",
      "GridSearchCV\n",
      "Best parameters found:  {'colsample_bytree': 0.3, 'learning_rate': 0.1, 'max_depth': 2, 'n_estimators': 100, 'subsample': 0.8}\n",
      "Best R2_Score found:  0.46153716022036007\n"
     ]
    }
   ],
   "source": [
    "import xgboost as xgb\n",
    "import numpy as np\n",
    "from sklearn.model_selection import GridSearchCV\n",
    "from sklearn.model_selection import RandomizedSearchCV\n",
    "from sklearn.datasets import load_diabetes\n",
    "\n",
    "X, y = load_diabetes(return_X_y=True)\n",
    "\n",
    "dmatrix = xgb.DMatrix(data=X, label=y)\n",
    "\n",
    "# Grid Search Parameters\n",
    "grid_search_params = {\n",
    "    'colsample_bytree': [0.3, 0.7],\n",
    "    'learning_rate': [0.01, 0.1, 0.2, 0.5],\n",
    "    'n_estimators': [100],\n",
    "    'subsample': [0.2, 0.5, 0.8],\n",
    "    'max_depth': [2, 3, 5]\n",
    "}\n",
    "\n",
    "xg_grid_reg = xgb.XGBRegressor(objective= \"reg:squarederror\")\n",
    "\n",
    "grid = GridSearchCV(estimator=xg_grid_reg, param_grid=grid_search_params, scoring='r2',\n",
    "                    cv=4, verbose=1)\n",
    "\n",
    "grid.fit(X, y)\n",
    "print(\"GridSearchCV\")\n",
    "print(\"Best parameters found: \", grid.best_params_)\n",
    "print(\"Best R2_Score found: \", grid.best_score_)\n",
    "\n",
    "\n",
    "# Random Search Parameters\n",
    "params_random_search = {\n",
    "    'learning_rate': np.arange(0.01, 1.01, 0.01),\n",
    "    'n_estimators': [200],\n",
    "    'max_depth': range(2, 12),\n",
    "    'subsample': np.arange(0.02, 1.02, 0.02)\n",
    "}\n",
    "\n",
    "\n",
    "xg_random_reg = xgb.XGBRegressor(objective= \"reg:squarederror\")\n",
    "\n",
    "randomized = RandomizedSearchCV(param_distributions=params_random_search, estimator=xg_random_reg,\n",
    "                                    scoring=\"r2\", n_iter=5, cv=4, verbose=1)\n",
    "randomized.fit(X, y)\n",
    "\n",
    "print(\"Randomize Search Cross Validation\")\n",
    "print(\"Best parameters found: \", randomized.best_params_)\n",
    "print(\"Best R2_Score found: \", randomized.best_score_)\n"
   ]
  },
  {
   "cell_type": "markdown",
   "metadata": {},
   "source": [
    "- Total configurations in Grid Search → 2x4x1x3x3 = 72\n",
    "- Total configurations in Random Search → 100x1x10x50 = 50000 But it will choose randomly 5 and get result"
   ]
  },
  {
   "cell_type": "code",
   "execution_count": 17,
   "metadata": {},
   "outputs": [
    {
     "data": {
      "text/plain": [
       "{'mean_fit_time': array([0.09249949, 0.09374833, 0.42449909, 0.09025067, 0.18850052]),\n",
       " 'std_fit_time': array([0.00206262, 0.00082834, 0.01186395, 0.00192039, 0.00766484]),\n",
       " 'mean_score_time': array([0.00299829, 0.00275004, 0.00350243, 0.00249982, 0.00250036]),\n",
       " 'std_score_time': array([8.49235466e-07, 4.34499807e-04, 4.99309767e-04, 4.99368297e-04,\n",
       "        4.99072061e-04]),\n",
       " 'param_subsample': masked_array(data=[0.16, 0.76, 0.9600000000000001, 0.9600000000000001,\n",
       "                    0.66],\n",
       "              mask=[False, False, False, False, False],\n",
       "        fill_value=1e+20),\n",
       " 'param_n_estimators': masked_array(data=[200, 200, 200, 200, 200],\n",
       "              mask=[False, False, False, False, False],\n",
       "        fill_value=999999),\n",
       " 'param_max_depth': masked_array(data=[3, 3, 9, 3, 11],\n",
       "              mask=[False, False, False, False, False],\n",
       "        fill_value=999999),\n",
       " 'param_learning_rate': masked_array(data=[0.7000000000000001, 0.49, 0.05, 0.67, 0.52],\n",
       "              mask=[False, False, False, False, False],\n",
       "        fill_value=1e+20),\n",
       " 'params': [{'subsample': 0.16,\n",
       "   'n_estimators': 200,\n",
       "   'max_depth': 3,\n",
       "   'learning_rate': 0.7000000000000001},\n",
       "  {'subsample': 0.76,\n",
       "   'n_estimators': 200,\n",
       "   'max_depth': 3,\n",
       "   'learning_rate': 0.49},\n",
       "  {'subsample': 0.9600000000000001,\n",
       "   'n_estimators': 200,\n",
       "   'max_depth': 9,\n",
       "   'learning_rate': 0.05},\n",
       "  {'subsample': 0.9600000000000001,\n",
       "   'n_estimators': 200,\n",
       "   'max_depth': 3,\n",
       "   'learning_rate': 0.67},\n",
       "  {'subsample': 0.66,\n",
       "   'n_estimators': 200,\n",
       "   'max_depth': 11,\n",
       "   'learning_rate': 0.52}],\n",
       " 'split0_test_score': array([-9.31264501e+01,  7.55732291e-02,  2.45454764e-01,  1.37663922e-01,\n",
       "         1.87284197e-01]),\n",
       " 'split1_test_score': array([-50.14777538,   0.27933401,   0.3882991 ,   0.29195431,\n",
       "          0.40552538]),\n",
       " 'split2_test_score': array([-1.09075982e+02,  9.87561951e-02,  3.35150632e-01, -6.95977678e-03,\n",
       "         3.39791999e-01]),\n",
       " 'split3_test_score': array([-1.00043926e+02,  2.15298182e-01,  3.49937001e-01,  2.69108779e-01,\n",
       "         7.66424198e-02]),\n",
       " 'mean_test_score': array([-88.09853325,   0.1672404 ,   0.32971037,   0.17294181,\n",
       "          0.252311  ]),\n",
       " 'std_test_score': array([22.62899532,  0.08361741,  0.05236974,  0.11939553,  0.12866187]),\n",
       " 'rank_test_score': array([5, 4, 1, 3, 2])}"
      ]
     },
     "execution_count": 17,
     "metadata": {},
     "output_type": "execute_result"
    }
   ],
   "source": [
    "randomized.cv_results_"
   ]
  },
  {
   "cell_type": "markdown",
   "metadata": {},
   "source": [
    "## Classification"
   ]
  },
  {
   "cell_type": "code",
   "execution_count": 44,
   "metadata": {},
   "outputs": [
    {
     "name": "stdout",
     "output_type": "stream",
     "text": [
      "accuracy: 75.409836\n"
     ]
    },
    {
     "data": {
      "text/plain": [
       "[<matplotlib.lines.Line2D at 0x21c657bd900>]"
      ]
     },
     "execution_count": 44,
     "metadata": {},
     "output_type": "execute_result"
    },
    {
     "data": {
      "image/png": "[encoded data removed]",
      "text/plain": [
       "<Figure size 640x480 with 1 Axes>"
      ]
     },
     "metadata": {},
     "output_type": "display_data"
    }
   ],
   "source": [
    "import numpy as np\n",
    "import pandas as pd\n",
    "import xgboost as xgb\n",
    "from matplotlib import pyplot\n",
    "from sklearn.model_selection import train_test_split\n",
    "\n",
    "# load data\n",
    "df = pd.read_csv('./Datasets/heart.csv', delimiter=\",\")\n",
    "\n",
    "# Split data into X and y\n",
    "X = df.iloc[:, 0:-1]\n",
    "y = df.iloc[:, -1]\n",
    "\n",
    "# Spilt into train and test\n",
    "X_train, X_test, y_train, y_test = train_test_split(X, y, test_size=0.2, random_state=123)\n",
    "\n",
    "# XGB Classifier\n",
    "xg_cl = xgb.XGBClassifier(objective='binary:logitraw', n_estimators=100, seed=123)\n",
    "eval_set = [(X_train, y_train), (X_test, y_test)]\n",
    "\n",
    "# Fit the classifier to the training set\n",
    "xg_cl.fit(X_train, y_train, eval_set=eval_set, verbose=False)\n",
    "results = xg_cl.evals_result()\n",
    "\n",
    "# Predict the labels of the test set: preds\n",
    "predictions = xg_cl.predict(X_test)\n",
    "\n",
    "# Compute the accuracy: accuracy\n",
    "accuracy = float(np.sum(predictions == y_test))/y_test.shape[0]\n",
    "print(\"accuracy: %f\" % (accuracy*100))\n",
    "\n",
    "# plot classification error\n",
    "epochs = len(results['validation_0']['logloss'])\n",
    "x_axis = range(0, epochs)\n",
    "fig, ax = pyplot.subplots()\n",
    "ax.plot(x_axis, results['validation_0']['logloss'], label='Train')\n",
    "ax.plot(x_axis, results['validation_1']['logloss'], label='Test')"
   ]
  },
  {
   "cell_type": "code",
   "execution_count": null,
   "metadata": {},
   "outputs": [],
   "source": []
  }
 ],
 "metadata": {
  "kernelspec": {
   "display_name": ".venv",
   "language": "python",
   "name": "python3"
  },
  "language_info": {
   "codemirror_mode": {
    "name": "ipython",
    "version": 3
   },
   "file_extension": ".py",
   "mimetype": "text/x-python",
   "name": "python",
   "nbconvert_exporter": "python",
   "pygments_lexer": "ipython3",
   "version": "3.10.11"
  }
 },
 "nbformat": 4,
 "nbformat_minor": 2
}
