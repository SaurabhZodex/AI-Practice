{
 "cells": [
  {
   "cell_type": "code",
   "execution_count": 2,
   "metadata": {
    "colab": {
     "base_uri": "https://localhost:8080/",
     "height": 206
    },
    "id": "fT-y3-gHShSh",
    "outputId": "142e2083-40c3-4ee4-e474-faf13bd206b3"
   },
   "outputs": [
    {
     "data": {
      "text/html": [
       "<div>\n",
       "<style scoped>\n",
       "    .dataframe tbody tr th:only-of-type {\n",
       "        vertical-align: middle;\n",
       "    }\n",
       "\n",
       "    .dataframe tbody tr th {\n",
       "        vertical-align: top;\n",
       "    }\n",
       "\n",
       "    .dataframe thead th {\n",
       "        text-align: right;\n",
       "    }\n",
       "</style>\n",
       "<table border=\"1\" class=\"dataframe\">\n",
       "  <thead>\n",
       "    <tr style=\"text-align: right;\">\n",
       "      <th></th>\n",
       "      <th>Pregnancies</th>\n",
       "      <th>Glucose</th>\n",
       "      <th>BloodPressure</th>\n",
       "      <th>SkinThickness</th>\n",
       "      <th>Insulin</th>\n",
       "      <th>BMI</th>\n",
       "      <th>DiabetesPedigreeFunction</th>\n",
       "      <th>Age</th>\n",
       "      <th>Outcome</th>\n",
       "    </tr>\n",
       "  </thead>\n",
       "  <tbody>\n",
       "    <tr>\n",
       "      <th>0</th>\n",
       "      <td>6</td>\n",
       "      <td>148</td>\n",
       "      <td>72</td>\n",
       "      <td>35</td>\n",
       "      <td>0</td>\n",
       "      <td>33.6</td>\n",
       "      <td>0.627</td>\n",
       "      <td>50</td>\n",
       "      <td>1</td>\n",
       "    </tr>\n",
       "    <tr>\n",
       "      <th>1</th>\n",
       "      <td>1</td>\n",
       "      <td>85</td>\n",
       "      <td>66</td>\n",
       "      <td>29</td>\n",
       "      <td>0</td>\n",
       "      <td>26.6</td>\n",
       "      <td>0.351</td>\n",
       "      <td>31</td>\n",
       "      <td>0</td>\n",
       "    </tr>\n",
       "    <tr>\n",
       "      <th>2</th>\n",
       "      <td>8</td>\n",
       "      <td>183</td>\n",
       "      <td>64</td>\n",
       "      <td>0</td>\n",
       "      <td>0</td>\n",
       "      <td>23.3</td>\n",
       "      <td>0.672</td>\n",
       "      <td>32</td>\n",
       "      <td>1</td>\n",
       "    </tr>\n",
       "    <tr>\n",
       "      <th>3</th>\n",
       "      <td>1</td>\n",
       "      <td>89</td>\n",
       "      <td>66</td>\n",
       "      <td>23</td>\n",
       "      <td>94</td>\n",
       "      <td>28.1</td>\n",
       "      <td>0.167</td>\n",
       "      <td>21</td>\n",
       "      <td>0</td>\n",
       "    </tr>\n",
       "    <tr>\n",
       "      <th>4</th>\n",
       "      <td>0</td>\n",
       "      <td>137</td>\n",
       "      <td>40</td>\n",
       "      <td>35</td>\n",
       "      <td>168</td>\n",
       "      <td>43.1</td>\n",
       "      <td>2.288</td>\n",
       "      <td>33</td>\n",
       "      <td>1</td>\n",
       "    </tr>\n",
       "  </tbody>\n",
       "</table>\n",
       "</div>"
      ],
      "text/plain": [
       "   Pregnancies  Glucose  BloodPressure  SkinThickness  Insulin   BMI  \\\n",
       "0            6      148             72             35        0  33.6   \n",
       "1            1       85             66             29        0  26.6   \n",
       "2            8      183             64              0        0  23.3   \n",
       "3            1       89             66             23       94  28.1   \n",
       "4            0      137             40             35      168  43.1   \n",
       "\n",
       "   DiabetesPedigreeFunction  Age  Outcome  \n",
       "0                     0.627   50        1  \n",
       "1                     0.351   31        0  \n",
       "2                     0.672   32        1  \n",
       "3                     0.167   21        0  \n",
       "4                     2.288   33        1  "
      ]
     },
     "execution_count": 2,
     "metadata": {},
     "output_type": "execute_result"
    }
   ],
   "source": [
    "# Import necessary libraries\n",
    "import optuna\n",
    "from sklearn.datasets import load_diabetes\n",
    "from sklearn.model_selection import train_test_split\n",
    "from sklearn.preprocessing import StandardScaler\n",
    "\n",
    "# Load the Pima Indian Diabetes dataset from sklearn\n",
    "# Note: Scikit-learn's built-in 'load_diabetes' is a regression dataset.\n",
    "# We will load the actual diabetes dataset from an external source\n",
    "import pandas as pd\n",
    "\n",
    "# Load the Pima Indian Diabetes dataset (from UCI repository)\n",
    "url = \"https://raw.githubusercontent.com/jbrownlee/Datasets/master/pima-indians-diabetes.data.csv\"\n",
    "columns = ['Pregnancies', 'Glucose', 'BloodPressure', 'SkinThickness', 'Insulin', 'BMI',\n",
    "           'DiabetesPedigreeFunction', 'Age', 'Outcome']\n",
    "\n",
    "# Load the dataset\n",
    "df = pd.read_csv(url, names=columns)\n",
    "\n",
    "df.head()"
   ]
  },
  {
   "cell_type": "code",
   "execution_count": 3,
   "metadata": {
    "colab": {
     "base_uri": "https://localhost:8080/"
    },
    "id": "tZ_ggrcuTcgI",
    "outputId": "3f1e3a6c-aa89-44cb-afaa-17bec97e3eea"
   },
   "outputs": [
    {
     "name": "stdout",
     "output_type": "stream",
     "text": [
      "Pregnancies                 0\n",
      "Glucose                     0\n",
      "BloodPressure               0\n",
      "SkinThickness               0\n",
      "Insulin                     0\n",
      "BMI                         0\n",
      "DiabetesPedigreeFunction    0\n",
      "Age                         0\n",
      "Outcome                     0\n",
      "dtype: int64\n"
     ]
    }
   ],
   "source": [
    "import numpy as np\n",
    "\n",
    "# Replace zero values with NaN in columns where zero is not a valid value\n",
    "cols_with_missing_vals = ['Glucose', 'BloodPressure', 'SkinThickness', 'Insulin', 'BMI']\n",
    "df[cols_with_missing_vals] = df[cols_with_missing_vals].replace(0, np.nan)\n",
    "\n",
    "# Impute the missing values with the mean of the respective column\n",
    "df.fillna(df.mean(), inplace=True)\n",
    "\n",
    "# Check if there are any remaining missing values\n",
    "print(df.isnull().sum())\n"
   ]
  },
  {
   "cell_type": "code",
   "execution_count": 4,
   "metadata": {
    "colab": {
     "base_uri": "https://localhost:8080/"
    },
    "id": "3arW9ktITIHB",
    "outputId": "b23d4539-5825-4847-9546-186a40d0f8c4"
   },
   "outputs": [
    {
     "name": "stdout",
     "output_type": "stream",
     "text": [
      "Training set shape: (537, 8)\n",
      "Test set shape: (231, 8)\n"
     ]
    }
   ],
   "source": [
    "# Split into features (X) and target (y)\n",
    "X = df.drop('Outcome', axis=1)\n",
    "y = df['Outcome']\n",
    "\n",
    "# Split data into training and test sets (70% train, 30% test)\n",
    "X_train, X_test, y_train, y_test = train_test_split(X, y, test_size=0.3, random_state=42)\n",
    "\n",
    "# Optional: Scale the data for better model performance\n",
    "scaler = StandardScaler()\n",
    "X_train = scaler.fit_transform(X_train)\n",
    "X_test = scaler.transform(X_test)\n",
    "\n",
    "# Check the shape of the data\n",
    "print(f'Training set shape: {X_train.shape}')\n",
    "print(f'Test set shape: {X_test.shape}')\n"
   ]
  },
  {
   "cell_type": "code",
   "execution_count": 5,
   "metadata": {
    "id": "vAbA51fJTrb-"
   },
   "outputs": [],
   "source": [
    "from sklearn.ensemble import RandomForestClassifier\n",
    "from sklearn.model_selection import cross_val_score\n",
    "\n",
    "# Define the objective function\n",
    "def objective(trial):\n",
    "    # Suggest values for the hyperparameters\n",
    "    n_estimators = trial.suggest_int('n_estimators', 50, 200)\n",
    "    max_depth = trial.suggest_int('max_depth', 3, 20)\n",
    "\n",
    "    # Create the RandomForestClassifier with suggested hyperparameters\n",
    "    model = RandomForestClassifier(\n",
    "        n_estimators=n_estimators,\n",
    "        max_depth=max_depth,\n",
    "        random_state=42\n",
    "    )\n",
    "\n",
    "    # Perform 3-fold cross-validation and calculate accuracy\n",
    "    score = cross_val_score(model, X_train, y_train, cv=3, scoring='accuracy').mean()\n",
    "\n",
    "    return score  # Return the accuracy score for Optuna to maximize\n"
   ]
  },
  {
   "cell_type": "code",
   "execution_count": 6,
   "metadata": {
    "colab": {
     "base_uri": "https://localhost:8080/"
    },
    "id": "xN9Zi4k4UbBF",
    "outputId": "064439aa-1328-43d5-979d-ba1ecdc2f653"
   },
   "outputs": [
    {
     "name": "stderr",
     "output_type": "stream",
     "text": [
      "[I 2024-11-25 00:01:52,999] A new study created in memory with name: no-name-a8b26ddd-2470-4b74-b713-585533613637\n",
      "[I 2024-11-25 00:01:53,422] Trial 0 finished with value: 0.7728119180633147 and parameters: {'n_estimators': 76, 'max_depth': 13}. Best is trial 0 with value: 0.7728119180633147.\n",
      "[I 2024-11-25 00:01:54,222] Trial 1 finished with value: 0.7709497206703911 and parameters: {'n_estimators': 184, 'max_depth': 14}. Best is trial 0 with value: 0.7728119180633147.\n",
      "[I 2024-11-25 00:01:55,016] Trial 2 finished with value: 0.7765363128491619 and parameters: {'n_estimators': 185, 'max_depth': 16}. Best is trial 2 with value: 0.7765363128491619.\n",
      "[I 2024-11-25 00:01:55,585] Trial 3 finished with value: 0.7541899441340782 and parameters: {'n_estimators': 154, 'max_depth': 3}. Best is trial 2 with value: 0.7765363128491619.\n",
      "[I 2024-11-25 00:01:56,182] Trial 4 finished with value: 0.7672253258845437 and parameters: {'n_estimators': 134, 'max_depth': 6}. Best is trial 2 with value: 0.7765363128491619.\n",
      "[I 2024-11-25 00:01:56,773] Trial 5 finished with value: 0.7597765363128491 and parameters: {'n_estimators': 154, 'max_depth': 4}. Best is trial 2 with value: 0.7765363128491619.\n",
      "[I 2024-11-25 00:01:57,009] Trial 6 finished with value: 0.7746741154562384 and parameters: {'n_estimators': 54, 'max_depth': 18}. Best is trial 2 with value: 0.7765363128491619.\n",
      "[I 2024-11-25 00:01:57,702] Trial 7 finished with value: 0.7635009310986964 and parameters: {'n_estimators': 174, 'max_depth': 6}. Best is trial 2 with value: 0.7765363128491619.\n",
      "[I 2024-11-25 00:01:58,356] Trial 8 finished with value: 0.7579143389199254 and parameters: {'n_estimators': 157, 'max_depth': 9}. Best is trial 2 with value: 0.7765363128491619.\n",
      "[I 2024-11-25 00:01:58,808] Trial 9 finished with value: 0.7616387337057727 and parameters: {'n_estimators': 118, 'max_depth': 4}. Best is trial 2 with value: 0.7765363128491619.\n",
      "[I 2024-11-25 00:01:59,267] Trial 10 finished with value: 0.7728119180633147 and parameters: {'n_estimators': 103, 'max_depth': 20}. Best is trial 2 with value: 0.7765363128491619.\n",
      "[I 2024-11-25 00:01:59,506] Trial 11 finished with value: 0.7672253258845437 and parameters: {'n_estimators': 51, 'max_depth': 18}. Best is trial 2 with value: 0.7765363128491619.\n",
      "[I 2024-11-25 00:02:00,385] Trial 12 finished with value: 0.7802607076350093 and parameters: {'n_estimators': 198, 'max_depth': 16}. Best is trial 12 with value: 0.7802607076350093.\n",
      "[I 2024-11-25 00:02:01,279] Trial 13 finished with value: 0.7746741154562384 and parameters: {'n_estimators': 197, 'max_depth': 15}. Best is trial 12 with value: 0.7802607076350093.\n",
      "[I 2024-11-25 00:02:02,195] Trial 14 finished with value: 0.7746741154562384 and parameters: {'n_estimators': 200, 'max_depth': 17}. Best is trial 12 with value: 0.7802607076350093.\n",
      "[I 2024-11-25 00:02:02,943] Trial 15 finished with value: 0.7672253258845437 and parameters: {'n_estimators': 174, 'max_depth': 11}. Best is trial 12 with value: 0.7802607076350093.\n",
      "[I 2024-11-25 00:02:03,510] Trial 16 finished with value: 0.7672253258845437 and parameters: {'n_estimators': 136, 'max_depth': 11}. Best is trial 12 with value: 0.7802607076350093.\n",
      "[I 2024-11-25 00:02:04,229] Trial 17 finished with value: 0.7783985102420857 and parameters: {'n_estimators': 178, 'max_depth': 16}. Best is trial 12 with value: 0.7802607076350093.\n",
      "[I 2024-11-25 00:02:04,949] Trial 18 finished with value: 0.7709497206703911 and parameters: {'n_estimators': 165, 'max_depth': 20}. Best is trial 12 with value: 0.7802607076350093.\n",
      "[I 2024-11-25 00:02:05,353] Trial 19 finished with value: 0.7690875232774674 and parameters: {'n_estimators': 93, 'max_depth': 13}. Best is trial 12 with value: 0.7802607076350093.\n",
      "[I 2024-11-25 00:02:05,919] Trial 20 finished with value: 0.7616387337057727 and parameters: {'n_estimators': 140, 'max_depth': 9}. Best is trial 12 with value: 0.7802607076350093.\n",
      "[I 2024-11-25 00:02:06,686] Trial 21 finished with value: 0.7783985102420856 and parameters: {'n_estimators': 190, 'max_depth': 16}. Best is trial 12 with value: 0.7802607076350093.\n",
      "[I 2024-11-25 00:02:07,456] Trial 22 finished with value: 0.7783985102420856 and parameters: {'n_estimators': 190, 'max_depth': 16}. Best is trial 12 with value: 0.7802607076350093.\n",
      "[I 2024-11-25 00:02:08,276] Trial 23 finished with value: 0.7690875232774674 and parameters: {'n_estimators': 175, 'max_depth': 18}. Best is trial 12 with value: 0.7802607076350093.\n",
      "[I 2024-11-25 00:02:09,085] Trial 24 finished with value: 0.7709497206703911 and parameters: {'n_estimators': 198, 'max_depth': 14}. Best is trial 12 with value: 0.7802607076350093.\n",
      "[I 2024-11-25 00:02:09,830] Trial 25 finished with value: 0.7709497206703911 and parameters: {'n_estimators': 182, 'max_depth': 15}. Best is trial 12 with value: 0.7802607076350093.\n",
      "[I 2024-11-25 00:02:10,512] Trial 26 finished with value: 0.7728119180633147 and parameters: {'n_estimators': 166, 'max_depth': 19}. Best is trial 12 with value: 0.7802607076350093.\n",
      "[I 2024-11-25 00:02:11,286] Trial 27 finished with value: 0.7783985102420856 and parameters: {'n_estimators': 189, 'max_depth': 16}. Best is trial 12 with value: 0.7802607076350093.\n",
      "[I 2024-11-25 00:02:11,877] Trial 28 finished with value: 0.7709497206703911 and parameters: {'n_estimators': 145, 'max_depth': 13}. Best is trial 12 with value: 0.7802607076350093.\n",
      "[I 2024-11-25 00:02:12,595] Trial 29 finished with value: 0.7746741154562384 and parameters: {'n_estimators': 166, 'max_depth': 12}. Best is trial 12 with value: 0.7802607076350093.\n",
      "[I 2024-11-25 00:02:12,916] Trial 30 finished with value: 0.7802607076350094 and parameters: {'n_estimators': 70, 'max_depth': 17}. Best is trial 30 with value: 0.7802607076350094.\n",
      "[I 2024-11-25 00:02:13,208] Trial 31 finished with value: 0.7746741154562384 and parameters: {'n_estimators': 68, 'max_depth': 17}. Best is trial 30 with value: 0.7802607076350094.\n",
      "[I 2024-11-25 00:02:13,558] Trial 32 finished with value: 0.7709497206703911 and parameters: {'n_estimators': 83, 'max_depth': 15}. Best is trial 30 with value: 0.7802607076350094.\n",
      "[I 2024-11-25 00:02:14,035] Trial 33 finished with value: 0.7746741154562384 and parameters: {'n_estimators': 116, 'max_depth': 17}. Best is trial 30 with value: 0.7802607076350094.\n",
      "[I 2024-11-25 00:02:14,766] Trial 34 finished with value: 0.7746741154562384 and parameters: {'n_estimators': 180, 'max_depth': 14}. Best is trial 30 with value: 0.7802607076350094.\n",
      "[I 2024-11-25 00:02:15,065] Trial 35 finished with value: 0.7783985102420857 and parameters: {'n_estimators': 69, 'max_depth': 19}. Best is trial 30 with value: 0.7802607076350094.\n",
      "[I 2024-11-25 00:02:15,331] Trial 36 finished with value: 0.7728119180633147 and parameters: {'n_estimators': 62, 'max_depth': 19}. Best is trial 30 with value: 0.7802607076350094.\n",
      "[I 2024-11-25 00:02:15,655] Trial 37 finished with value: 0.7746741154562384 and parameters: {'n_estimators': 76, 'max_depth': 19}. Best is trial 30 with value: 0.7802607076350094.\n",
      "[I 2024-11-25 00:02:16,046] Trial 38 finished with value: 0.7672253258845437 and parameters: {'n_estimators': 94, 'max_depth': 20}. Best is trial 30 with value: 0.7802607076350094.\n",
      "[I 2024-11-25 00:02:16,311] Trial 39 finished with value: 0.7728119180633147 and parameters: {'n_estimators': 62, 'max_depth': 18}. Best is trial 30 with value: 0.7802607076350094.\n",
      "[I 2024-11-25 00:02:16,835] Trial 40 finished with value: 0.7783985102420857 and parameters: {'n_estimators': 127, 'max_depth': 17}. Best is trial 30 with value: 0.7802607076350094.\n",
      "[I 2024-11-25 00:02:17,346] Trial 41 finished with value: 0.7783985102420857 and parameters: {'n_estimators': 124, 'max_depth': 17}. Best is trial 30 with value: 0.7802607076350094.\n",
      "[I 2024-11-25 00:02:17,793] Trial 42 finished with value: 0.7597765363128491 and parameters: {'n_estimators': 84, 'max_depth': 19}. Best is trial 30 with value: 0.7802607076350094.\n",
      "[I 2024-11-25 00:02:18,259] Trial 43 finished with value: 0.7783985102420856 and parameters: {'n_estimators': 109, 'max_depth': 16}. Best is trial 30 with value: 0.7802607076350094.\n",
      "[I 2024-11-25 00:02:18,868] Trial 44 finished with value: 0.7653631284916201 and parameters: {'n_estimators': 150, 'max_depth': 14}. Best is trial 30 with value: 0.7802607076350094.\n",
      "[I 2024-11-25 00:02:19,388] Trial 45 finished with value: 0.7765363128491621 and parameters: {'n_estimators': 128, 'max_depth': 18}. Best is trial 30 with value: 0.7802607076350094.\n",
      "[I 2024-11-25 00:02:19,803] Trial 46 finished with value: 0.7653631284916201 and parameters: {'n_estimators': 100, 'max_depth': 15}. Best is trial 30 with value: 0.7802607076350094.\n",
      "[I 2024-11-25 00:02:20,120] Trial 47 finished with value: 0.7783985102420857 and parameters: {'n_estimators': 75, 'max_depth': 17}. Best is trial 30 with value: 0.7802607076350094.\n",
      "[I 2024-11-25 00:02:20,470] Trial 48 finished with value: 0.7672253258845437 and parameters: {'n_estimators': 83, 'max_depth': 18}. Best is trial 30 with value: 0.7802607076350094.\n",
      "[I 2024-11-25 00:02:20,720] Trial 49 finished with value: 0.7672253258845437 and parameters: {'n_estimators': 58, 'max_depth': 10}. Best is trial 30 with value: 0.7802607076350094.\n"
     ]
    }
   ],
   "source": [
    "# Create a study object and optimize the objective function\n",
    "study = optuna.create_study(direction='maximize', sampler=optuna.samplers.TPESampler())  # We aim to maximize accuracy\n",
    "study.optimize(objective, n_trials=50)  # Run 50 trials to find the best hyperparameters\n"
   ]
  },
  {
   "cell_type": "code",
   "execution_count": 7,
   "metadata": {
    "colab": {
     "base_uri": "https://localhost:8080/"
    },
    "id": "7UAUdw33fCgH",
    "outputId": "193d6c2b-eacd-4775-e22b-591b9534412d"
   },
   "outputs": [
    {
     "name": "stdout",
     "output_type": "stream",
     "text": [
      "Best trial accuracy: 0.7802607076350094\n",
      "Best hyperparameters: {'n_estimators': 70, 'max_depth': 17}\n"
     ]
    }
   ],
   "source": [
    "# Print the best result\n",
    "print(f'Best trial accuracy: {study.best_trial.value}')\n",
    "print(f'Best hyperparameters: {study.best_trial.params}')"
   ]
  },
  {
   "cell_type": "code",
   "execution_count": 8,
   "metadata": {
    "colab": {
     "base_uri": "https://localhost:8080/"
    },
    "id": "tb1zm_lAUtnC",
    "outputId": "440b2cc9-bf83-47fe-ae95-2661f508e651"
   },
   "outputs": [
    {
     "name": "stdout",
     "output_type": "stream",
     "text": [
      "Test Accuracy with best hyperparameters: 0.75\n"
     ]
    }
   ],
   "source": [
    "from sklearn.metrics import accuracy_score\n",
    "\n",
    "# Train a RandomForestClassifier using the best hyperparameters from Optuna\n",
    "best_model = RandomForestClassifier(**study.best_trial.params, random_state=42)\n",
    "\n",
    "# Fit the model to the training data\n",
    "best_model.fit(X_train, y_train)\n",
    "\n",
    "# Make predictions on the test set\n",
    "y_pred = best_model.predict(X_test)\n",
    "\n",
    "# Calculate the accuracy on the test set\n",
    "test_accuracy = accuracy_score(y_test, y_pred)\n",
    "\n",
    "# Print the test accuracy\n",
    "print(f'Test Accuracy with best hyperparameters: {test_accuracy:.2f}')\n"
   ]
  },
  {
   "cell_type": "markdown",
   "metadata": {
    "id": "o2xS9eSIuInj"
   },
   "source": [
    "## Samplers in Optuna"
   ]
  },
  {
   "cell_type": "markdown",
   "metadata": {},
   "source": [
    "### Random Sampler"
   ]
  },
  {
   "cell_type": "code",
   "execution_count": 9,
   "metadata": {
    "id": "HV7qYl2LzwnJ"
   },
   "outputs": [],
   "source": [
    "from sklearn.ensemble import RandomForestClassifier\n",
    "from sklearn.model_selection import cross_val_score\n",
    "\n",
    "# Define the objective function\n",
    "def objective(trial):\n",
    "    # Suggest values for the hyperparameters\n",
    "    n_estimators = trial.suggest_int('n_estimators', 50, 200)\n",
    "    max_depth = trial.suggest_int('max_depth', 3, 20)\n",
    "\n",
    "    # Create the RandomForestClassifier with suggested hyperparameters\n",
    "    model = RandomForestClassifier(\n",
    "        n_estimators=n_estimators,\n",
    "        max_depth=max_depth,\n",
    "        random_state=42\n",
    "    )\n",
    "\n",
    "    # Perform 3-fold cross-validation and calculate accuracy\n",
    "    score = cross_val_score(model, X_train, y_train, cv=3, scoring='accuracy').mean()\n",
    "\n",
    "    return score  # Return the accuracy score for Optuna to maximize\n"
   ]
  },
  {
   "cell_type": "code",
   "execution_count": 10,
   "metadata": {
    "colab": {
     "base_uri": "https://localhost:8080/"
    },
    "id": "69ySFwlocrsv",
    "outputId": "b2c7591f-fb34-4d76-afc9-171cd86b8121"
   },
   "outputs": [
    {
     "name": "stderr",
     "output_type": "stream",
     "text": [
      "[I 2024-11-25 00:04:20,460] A new study created in memory with name: no-name-4d2e0915-aad5-4221-a4a5-404eb3516cd4\n",
      "[I 2024-11-25 00:04:21,144] Trial 0 finished with value: 0.7635009310986964 and parameters: {'n_estimators': 164, 'max_depth': 6}. Best is trial 0 with value: 0.7635009310986964.\n",
      "[I 2024-11-25 00:04:21,621] Trial 1 finished with value: 0.7709497206703911 and parameters: {'n_estimators': 121, 'max_depth': 5}. Best is trial 1 with value: 0.7709497206703911.\n",
      "[I 2024-11-25 00:04:22,295] Trial 2 finished with value: 0.7746741154562384 and parameters: {'n_estimators': 134, 'max_depth': 17}. Best is trial 2 with value: 0.7746741154562384.\n",
      "[I 2024-11-25 00:04:22,736] Trial 3 finished with value: 0.7635009310986964 and parameters: {'n_estimators': 98, 'max_depth': 4}. Best is trial 2 with value: 0.7746741154562384.\n",
      "[I 2024-11-25 00:04:23,036] Trial 4 finished with value: 0.7728119180633147 and parameters: {'n_estimators': 64, 'max_depth': 18}. Best is trial 2 with value: 0.7746741154562384.\n",
      "[I 2024-11-25 00:04:23,285] Trial 5 finished with value: 0.7802607076350093 and parameters: {'n_estimators': 54, 'max_depth': 13}. Best is trial 5 with value: 0.7802607076350093.\n",
      "[I 2024-11-25 00:04:23,837] Trial 6 finished with value: 0.7821229050279329 and parameters: {'n_estimators': 119, 'max_depth': 19}. Best is trial 6 with value: 0.7821229050279329.\n",
      "[I 2024-11-25 00:04:24,449] Trial 7 finished with value: 0.7597765363128491 and parameters: {'n_estimators': 156, 'max_depth': 4}. Best is trial 6 with value: 0.7821229050279329.\n",
      "[I 2024-11-25 00:04:24,694] Trial 8 finished with value: 0.7560521415270017 and parameters: {'n_estimators': 60, 'max_depth': 4}. Best is trial 6 with value: 0.7821229050279329.\n",
      "[I 2024-11-25 00:04:25,616] Trial 9 finished with value: 0.7597765363128491 and parameters: {'n_estimators': 194, 'max_depth': 6}. Best is trial 6 with value: 0.7821229050279329.\n",
      "[I 2024-11-25 00:04:26,101] Trial 10 finished with value: 0.7728119180633147 and parameters: {'n_estimators': 108, 'max_depth': 15}. Best is trial 6 with value: 0.7821229050279329.\n",
      "[I 2024-11-25 00:04:26,470] Trial 11 finished with value: 0.7635009310986964 and parameters: {'n_estimators': 69, 'max_depth': 4}. Best is trial 6 with value: 0.7821229050279329.\n",
      "[I 2024-11-25 00:04:27,276] Trial 12 finished with value: 0.7653631284916201 and parameters: {'n_estimators': 157, 'max_depth': 11}. Best is trial 6 with value: 0.7821229050279329.\n",
      "[I 2024-11-25 00:04:27,514] Trial 13 finished with value: 0.7709497206703911 and parameters: {'n_estimators': 52, 'max_depth': 16}. Best is trial 6 with value: 0.7821229050279329.\n",
      "[I 2024-11-25 00:04:28,058] Trial 14 finished with value: 0.7821229050279329 and parameters: {'n_estimators': 119, 'max_depth': 20}. Best is trial 6 with value: 0.7821229050279329.\n",
      "[I 2024-11-25 00:04:28,568] Trial 15 finished with value: 0.7635009310986964 and parameters: {'n_estimators': 110, 'max_depth': 4}. Best is trial 6 with value: 0.7821229050279329.\n",
      "[I 2024-11-25 00:04:29,210] Trial 16 finished with value: 0.7728119180633147 and parameters: {'n_estimators': 139, 'max_depth': 12}. Best is trial 6 with value: 0.7821229050279329.\n",
      "[I 2024-11-25 00:04:30,175] Trial 17 finished with value: 0.7672253258845437 and parameters: {'n_estimators': 189, 'max_depth': 14}. Best is trial 6 with value: 0.7821229050279329.\n",
      "[I 2024-11-25 00:04:30,931] Trial 18 finished with value: 0.7579143389199254 and parameters: {'n_estimators': 135, 'max_depth': 3}. Best is trial 6 with value: 0.7821229050279329.\n",
      "[I 2024-11-25 00:04:31,610] Trial 19 finished with value: 0.7672253258845437 and parameters: {'n_estimators': 140, 'max_depth': 14}. Best is trial 6 with value: 0.7821229050279329.\n",
      "[I 2024-11-25 00:04:32,206] Trial 20 finished with value: 0.7765363128491621 and parameters: {'n_estimators': 132, 'max_depth': 16}. Best is trial 6 with value: 0.7821229050279329.\n",
      "[I 2024-11-25 00:04:33,022] Trial 21 finished with value: 0.7690875232774674 and parameters: {'n_estimators': 182, 'max_depth': 11}. Best is trial 6 with value: 0.7821229050279329.\n",
      "[I 2024-11-25 00:04:33,736] Trial 22 finished with value: 0.7746741154562384 and parameters: {'n_estimators': 164, 'max_depth': 7}. Best is trial 6 with value: 0.7821229050279329.\n",
      "[I 2024-11-25 00:04:34,178] Trial 23 finished with value: 0.7672253258845437 and parameters: {'n_estimators': 101, 'max_depth': 7}. Best is trial 6 with value: 0.7821229050279329.\n",
      "[I 2024-11-25 00:04:34,940] Trial 24 finished with value: 0.7709497206703911 and parameters: {'n_estimators': 143, 'max_depth': 16}. Best is trial 6 with value: 0.7821229050279329.\n",
      "[I 2024-11-25 00:04:35,322] Trial 25 finished with value: 0.7616387337057727 and parameters: {'n_estimators': 84, 'max_depth': 16}. Best is trial 6 with value: 0.7821229050279329.\n",
      "[I 2024-11-25 00:04:35,651] Trial 26 finished with value: 0.7653631284916201 and parameters: {'n_estimators': 68, 'max_depth': 10}. Best is trial 6 with value: 0.7821229050279329.\n",
      "[I 2024-11-25 00:04:36,137] Trial 27 finished with value: 0.7653631284916201 and parameters: {'n_estimators': 103, 'max_depth': 11}. Best is trial 6 with value: 0.7821229050279329.\n",
      "[I 2024-11-25 00:04:36,496] Trial 28 finished with value: 0.7690875232774674 and parameters: {'n_estimators': 74, 'max_depth': 15}. Best is trial 6 with value: 0.7821229050279329.\n",
      "[I 2024-11-25 00:04:37,082] Trial 29 finished with value: 0.7765363128491619 and parameters: {'n_estimators': 125, 'max_depth': 12}. Best is trial 6 with value: 0.7821229050279329.\n",
      "[I 2024-11-25 00:04:37,826] Trial 30 finished with value: 0.7690875232774674 and parameters: {'n_estimators': 165, 'max_depth': 15}. Best is trial 6 with value: 0.7821229050279329.\n",
      "[I 2024-11-25 00:04:38,701] Trial 31 finished with value: 0.7709497206703911 and parameters: {'n_estimators': 191, 'max_depth': 11}. Best is trial 6 with value: 0.7821229050279329.\n",
      "[I 2024-11-25 00:04:39,436] Trial 32 finished with value: 0.7746741154562384 and parameters: {'n_estimators': 153, 'max_depth': 18}. Best is trial 6 with value: 0.7821229050279329.\n",
      "[I 2024-11-25 00:04:39,848] Trial 33 finished with value: 0.7635009310986964 and parameters: {'n_estimators': 88, 'max_depth': 6}. Best is trial 6 with value: 0.7821229050279329.\n",
      "[I 2024-11-25 00:04:40,348] Trial 34 finished with value: 0.7653631284916201 and parameters: {'n_estimators': 113, 'max_depth': 11}. Best is trial 6 with value: 0.7821229050279329.\n",
      "[I 2024-11-25 00:04:40,838] Trial 35 finished with value: 0.7783985102420856 and parameters: {'n_estimators': 113, 'max_depth': 15}. Best is trial 6 with value: 0.7821229050279329.\n",
      "[I 2024-11-25 00:04:41,469] Trial 36 finished with value: 0.7653631284916201 and parameters: {'n_estimators': 164, 'max_depth': 5}. Best is trial 6 with value: 0.7821229050279329.\n",
      "[I 2024-11-25 00:04:42,098] Trial 37 finished with value: 0.7690875232774674 and parameters: {'n_estimators': 148, 'max_depth': 16}. Best is trial 6 with value: 0.7821229050279329.\n",
      "[I 2024-11-25 00:04:42,396] Trial 38 finished with value: 0.7783985102420857 and parameters: {'n_estimators': 69, 'max_depth': 20}. Best is trial 6 with value: 0.7821229050279329.\n",
      "[I 2024-11-25 00:04:43,098] Trial 39 finished with value: 0.7728119180633147 and parameters: {'n_estimators': 174, 'max_depth': 7}. Best is trial 6 with value: 0.7821229050279329.\n",
      "[I 2024-11-25 00:04:43,465] Trial 40 finished with value: 0.7635009310986964 and parameters: {'n_estimators': 89, 'max_depth': 7}. Best is trial 6 with value: 0.7821229050279329.\n",
      "[I 2024-11-25 00:04:43,840] Trial 41 finished with value: 0.7765363128491621 and parameters: {'n_estimators': 87, 'max_depth': 20}. Best is trial 6 with value: 0.7821229050279329.\n",
      "[I 2024-11-25 00:04:44,372] Trial 42 finished with value: 0.7690875232774674 and parameters: {'n_estimators': 127, 'max_depth': 10}. Best is trial 6 with value: 0.7821229050279329.\n",
      "[I 2024-11-25 00:04:44,934] Trial 43 finished with value: 0.7672253258845437 and parameters: {'n_estimators': 112, 'max_depth': 6}. Best is trial 6 with value: 0.7821229050279329.\n",
      "[I 2024-11-25 00:04:45,446] Trial 44 finished with value: 0.7709497206703911 and parameters: {'n_estimators': 119, 'max_depth': 12}. Best is trial 6 with value: 0.7821229050279329.\n",
      "[I 2024-11-25 00:04:45,867] Trial 45 finished with value: 0.7635009310986964 and parameters: {'n_estimators': 105, 'max_depth': 4}. Best is trial 6 with value: 0.7821229050279329.\n",
      "[I 2024-11-25 00:04:46,475] Trial 46 finished with value: 0.7690875232774674 and parameters: {'n_estimators': 136, 'max_depth': 5}. Best is trial 6 with value: 0.7821229050279329.\n",
      "[I 2024-11-25 00:04:46,876] Trial 47 finished with value: 0.7560521415270017 and parameters: {'n_estimators': 103, 'max_depth': 3}. Best is trial 6 with value: 0.7821229050279329.\n",
      "[I 2024-11-25 00:04:47,246] Trial 48 finished with value: 0.7616387337057727 and parameters: {'n_estimators': 92, 'max_depth': 4}. Best is trial 6 with value: 0.7821229050279329.\n",
      "[I 2024-11-25 00:04:47,970] Trial 49 finished with value: 0.7690875232774674 and parameters: {'n_estimators': 165, 'max_depth': 11}. Best is trial 6 with value: 0.7821229050279329.\n"
     ]
    }
   ],
   "source": [
    "study = optuna.create_study(direction='maximize', sampler=optuna.samplers.RandomSampler())  # We aim to maximize accuracy\n",
    "study.optimize(objective, n_trials=50)  # Run 50 trials to find the best hyperparameters"
   ]
  },
  {
   "cell_type": "code",
   "execution_count": 11,
   "metadata": {
    "colab": {
     "base_uri": "https://localhost:8080/"
    },
    "id": "xsHAu8b1uxK1",
    "outputId": "c9a6014d-5661-40b1-9ab6-11b85b17907b"
   },
   "outputs": [
    {
     "name": "stdout",
     "output_type": "stream",
     "text": [
      "Best trial accuracy: 0.7821229050279329\n",
      "Best hyperparameters: {'n_estimators': 119, 'max_depth': 19}\n"
     ]
    }
   ],
   "source": [
    "# Print the best result\n",
    "print(f'Best trial accuracy: {study.best_trial.value}')\n",
    "print(f'Best hyperparameters: {study.best_trial.params}')"
   ]
  },
  {
   "cell_type": "code",
   "execution_count": 12,
   "metadata": {
    "colab": {
     "base_uri": "https://localhost:8080/"
    },
    "id": "KFdBA3pyvAII",
    "outputId": "f66d0b58-ba82-488b-ad9d-adb07c3ee001"
   },
   "outputs": [
    {
     "name": "stdout",
     "output_type": "stream",
     "text": [
      "Test Accuracy with best hyperparameters: 0.74\n"
     ]
    }
   ],
   "source": [
    "from sklearn.metrics import accuracy_score\n",
    "\n",
    "# Train a RandomForestClassifier using the best hyperparameters from Optuna\n",
    "best_model = RandomForestClassifier(**study.best_trial.params, random_state=42)\n",
    "\n",
    "# Fit the model to the training data\n",
    "best_model.fit(X_train, y_train)\n",
    "\n",
    "# Make predictions on the test set\n",
    "y_pred = best_model.predict(X_test)\n",
    "\n",
    "# Calculate the accuracy on the test set\n",
    "test_accuracy = accuracy_score(y_test, y_pred)\n",
    "\n",
    "# Print the test accuracy\n",
    "print(f'Test Accuracy with best hyperparameters: {test_accuracy:.2f}')\n"
   ]
  },
  {
   "cell_type": "markdown",
   "metadata": {},
   "source": [
    "### Grid Sampler"
   ]
  },
  {
   "cell_type": "code",
   "execution_count": 13,
   "metadata": {
    "id": "lcdVExqJvOLC"
   },
   "outputs": [],
   "source": [
    "search_space = {\n",
    "    'n_estimators': [50, 100, 150, 200],\n",
    "    'max_depth': [5, 10, 15, 20]\n",
    "}"
   ]
  },
  {
   "cell_type": "code",
   "execution_count": 14,
   "metadata": {
    "colab": {
     "base_uri": "https://localhost:8080/"
    },
    "id": "4QKZcma6vYVT",
    "outputId": "1d336045-2ba0-4af8-cb1c-ec69232791cf"
   },
   "outputs": [
    {
     "name": "stderr",
     "output_type": "stream",
     "text": [
      "[I 2024-11-25 00:05:37,802] A new study created in memory with name: no-name-910e66a0-d8f8-440b-9790-804a7a603a7d\n"
     ]
    },
    {
     "name": "stderr",
     "output_type": "stream",
     "text": [
      "[I 2024-11-25 00:05:38,259] Trial 0 finished with value: 0.7690875232774674 and parameters: {'n_estimators': 100, 'max_depth': 5}. Best is trial 0 with value: 0.7690875232774674.\n",
      "[I 2024-11-25 00:05:38,904] Trial 1 finished with value: 0.7672253258845437 and parameters: {'n_estimators': 150, 'max_depth': 10}. Best is trial 0 with value: 0.7690875232774674.\n",
      "[I 2024-11-25 00:05:39,125] Trial 2 finished with value: 0.7728119180633147 and parameters: {'n_estimators': 50, 'max_depth': 15}. Best is trial 2 with value: 0.7728119180633147.\n",
      "[I 2024-11-25 00:05:39,571] Trial 3 finished with value: 0.7653631284916201 and parameters: {'n_estimators': 100, 'max_depth': 15}. Best is trial 2 with value: 0.7728119180633147.\n",
      "[I 2024-11-25 00:05:40,026] Trial 4 finished with value: 0.7690875232774674 and parameters: {'n_estimators': 100, 'max_depth': 20}. Best is trial 2 with value: 0.7728119180633147.\n",
      "[I 2024-11-25 00:05:40,257] Trial 5 finished with value: 0.7579143389199254 and parameters: {'n_estimators': 50, 'max_depth': 10}. Best is trial 2 with value: 0.7728119180633147.\n",
      "[I 2024-11-25 00:05:40,880] Trial 6 finished with value: 0.7653631284916201 and parameters: {'n_estimators': 150, 'max_depth': 5}. Best is trial 2 with value: 0.7728119180633147.\n",
      "[I 2024-11-25 00:05:41,573] Trial 7 finished with value: 0.7728119180633147 and parameters: {'n_estimators': 150, 'max_depth': 20}. Best is trial 2 with value: 0.7728119180633147.\n",
      "[I 2024-11-25 00:05:42,240] Trial 8 finished with value: 0.7728119180633147 and parameters: {'n_estimators': 150, 'max_depth': 15}. Best is trial 2 with value: 0.7728119180633147.\n",
      "[I 2024-11-25 00:05:43,021] Trial 9 finished with value: 0.7709497206703911 and parameters: {'n_estimators': 200, 'max_depth': 10}. Best is trial 2 with value: 0.7728119180633147.\n",
      "[I 2024-11-25 00:05:43,899] Trial 10 finished with value: 0.7728119180633147 and parameters: {'n_estimators': 200, 'max_depth': 20}. Best is trial 2 with value: 0.7728119180633147.\n",
      "[I 2024-11-25 00:05:44,829] Trial 11 finished with value: 0.7728119180633147 and parameters: {'n_estimators': 200, 'max_depth': 15}. Best is trial 2 with value: 0.7728119180633147.\n",
      "[I 2024-11-25 00:05:45,637] Trial 12 finished with value: 0.7690875232774674 and parameters: {'n_estimators': 200, 'max_depth': 5}. Best is trial 2 with value: 0.7728119180633147.\n",
      "[I 2024-11-25 00:05:45,866] Trial 13 finished with value: 0.7746741154562384 and parameters: {'n_estimators': 50, 'max_depth': 5}. Best is trial 13 with value: 0.7746741154562384.\n",
      "[I 2024-11-25 00:05:46,542] Trial 14 finished with value: 0.7616387337057727 and parameters: {'n_estimators': 100, 'max_depth': 10}. Best is trial 13 with value: 0.7746741154562384.\n",
      "[I 2024-11-25 00:05:46,765] Trial 15 finished with value: 0.7709497206703911 and parameters: {'n_estimators': 50, 'max_depth': 20}. Best is trial 13 with value: 0.7746741154562384.\n"
     ]
    }
   ],
   "source": [
    "# Create a study and optimize it using GridSampler\n",
    "study = optuna.create_study(direction='maximize', sampler=optuna.samplers.GridSampler(search_space))\n",
    "study.optimize(objective)"
   ]
  },
  {
   "cell_type": "code",
   "execution_count": 15,
   "metadata": {
    "colab": {
     "base_uri": "https://localhost:8080/"
    },
    "id": "UVQrXK77vojx",
    "outputId": "2ce9b4fc-38b1-418b-82c9-a441c58ee7be"
   },
   "outputs": [
    {
     "name": "stdout",
     "output_type": "stream",
     "text": [
      "Best trial accuracy: 0.7746741154562384\n",
      "Best hyperparameters: {'n_estimators': 50, 'max_depth': 5}\n"
     ]
    }
   ],
   "source": [
    "\n",
    "# Print the best result\n",
    "print(f'Best trial accuracy: {study.best_trial.value}')\n",
    "print(f'Best hyperparameters: {study.best_trial.params}')"
   ]
  },
  {
   "cell_type": "code",
   "execution_count": null,
   "metadata": {
    "colab": {
     "base_uri": "https://localhost:8080/"
    },
    "id": "oIZKJsSVwaYj",
    "outputId": "a562e64a-6f9d-44b6-847d-e72618874ba3"
   },
   "outputs": [
    {
     "name": "stdout",
     "output_type": "stream",
     "text": [
      "Test Accuracy with best hyperparameters: 0.74\n"
     ]
    }
   ],
   "source": [
    "from sklearn.metrics import accuracy_score\n",
    "\n",
    "# Train a RandomForestClassifier using the best hyperparameters from Optuna\n",
    "best_model = RandomForestClassifier(**study.best_trial.params, random_state=42)\n",
    "\n",
    "# Fit the model to the training data\n",
    "best_model.fit(X_train, y_train)\n",
    "\n",
    "# Make predictions on the test set\n",
    "y_pred = best_model.predict(X_test)\n",
    "\n",
    "# Calculate the accuracy on the test set\n",
    "test_accuracy = accuracy_score(y_test, y_pred)\n",
    "\n",
    "# Print the test accuracy\n",
    "print(f'Test Accuracy with best hyperparameters: {test_accuracy:.2f}')\n"
   ]
  },
  {
   "cell_type": "markdown",
   "metadata": {
    "id": "K4LmndX54oSU"
   },
   "source": [
    "## Optuna Visualizations"
   ]
  },
  {
   "cell_type": "code",
   "execution_count": 16,
   "metadata": {
    "id": "RxNsmlcR4nZi"
   },
   "outputs": [],
   "source": [
    "# For visualizations\n",
    "from optuna.visualization import plot_optimization_history, plot_parallel_coordinate, plot_slice, plot_contour, plot_param_importances"
   ]
  },
  {
   "cell_type": "code",
   "execution_count": 17,
   "metadata": {
    "colab": {
     "base_uri": "https://localhost:8080/",
     "height": 542
    },
    "id": "tL5Gc3uxymq8",
    "outputId": "f294758b-8adb-47c2-8e08-a8f012577c8e"
   },
   "outputs": [
    {
     "data": {
      "application/vnd.plotly.v1+json": {
       "config": {
        "plotlyServerURL": "https://plot.ly"
       },
       "data": [
        {
         "mode": "markers",
         "name": "Objective Value",
         "type": "scatter",
         "x": [
          0,
          1,
          2,
          3,
          4,
          5,
          6,
          7,
          8,
          9,
          10,
          11,
          12,
          13,
          14,
          15
         ],
         "y": [
          0.7690875232774674,
          0.7672253258845437,
          0.7728119180633147,
          0.7653631284916201,
          0.7690875232774674,
          0.7579143389199254,
          0.7653631284916201,
          0.7728119180633147,
          0.7728119180633147,
          0.7709497206703911,
          0.7728119180633147,
          0.7728119180633147,
          0.7690875232774674,
          0.7746741154562384,
          0.7616387337057727,
          0.7709497206703911
         ]
        },
        {
         "mode": "lines",
         "name": "Best Value",
         "type": "scatter",
         "x": [
          0,
          1,
          2,
          3,
          4,
          5,
          6,
          7,
          8,
          9,
          10,
          11,
          12,
          13,
          14,
          15
         ],
         "y": [
          0.7690875232774674,
          0.7690875232774674,
          0.7728119180633147,
          0.7728119180633147,
          0.7728119180633147,
          0.7728119180633147,
          0.7728119180633147,
          0.7728119180633147,
          0.7728119180633147,
          0.7728119180633147,
          0.7728119180633147,
          0.7728119180633147,
          0.7728119180633147,
          0.7746741154562384,
          0.7746741154562384,
          0.7746741154562384
         ]
        },
        {
         "marker": {
          "color": "#cccccc"
         },
         "mode": "markers",
         "name": "Infeasible Trial",
         "showlegend": false,
         "type": "scatter",
         "x": [],
         "y": []
        }
       ],
       "layout": {
        "template": {
         "data": {
          "bar": [
           {
            "error_x": {
             "color": "#2a3f5f"
            },
            "error_y": {
             "color": "#2a3f5f"
            },
            "marker": {
             "line": {
              "color": "#E5ECF6",
              "width": 0.5
             },
             "pattern": {
              "fillmode": "overlay",
              "size": 10,
              "solidity": 0.2
             }
            },
            "type": "bar"
           }
          ],
          "barpolar": [
           {
            "marker": {
             "line": {
              "color": "#E5ECF6",
              "width": 0.5
             },
             "pattern": {
              "fillmode": "overlay",
              "size": 10,
              "solidity": 0.2
             }
            },
            "type": "barpolar"
           }
          ],
          "carpet": [
           {
            "aaxis": {
             "endlinecolor": "#2a3f5f",
             "gridcolor": "white",
             "linecolor": "white",
             "minorgridcolor": "white",
             "startlinecolor": "#2a3f5f"
            },
            "baxis": {
             "endlinecolor": "#2a3f5f",
             "gridcolor": "white",
             "linecolor": "white",
             "minorgridcolor": "white",
             "startlinecolor": "#2a3f5f"
            },
            "type": "carpet"
           }
          ],
          "choropleth": [
           {
            "colorbar": {
             "outlinewidth": 0,
             "ticks": ""
            },
            "type": "choropleth"
           }
          ],
          "contour": [
           {
            "colorbar": {
             "outlinewidth": 0,
             "ticks": ""
            },
            "colorscale": [
             [
              0,
              "#0d0887"
             ],
             [
              0.1111111111111111,
              "#46039f"
             ],
             [
              0.2222222222222222,
              "#7201a8"
             ],
             [
              0.3333333333333333,
              "#9c179e"
             ],
             [
              0.4444444444444444,
              "#bd3786"
             ],
             [
              0.5555555555555556,
              "#d8576b"
             ],
             [
              0.6666666666666666,
              "#ed7953"
             ],
             [
              0.7777777777777778,
              "#fb9f3a"
             ],
             [
              0.8888888888888888,
              "#fdca26"
             ],
             [
              1,
              "#f0f921"
             ]
            ],
            "type": "contour"
           }
          ],
          "contourcarpet": [
           {
            "colorbar": {
             "outlinewidth": 0,
             "ticks": ""
            },
            "type": "contourcarpet"
           }
          ],
          "heatmap": [
           {
            "colorbar": {
             "outlinewidth": 0,
             "ticks": ""
            },
            "colorscale": [
             [
              0,
              "#0d0887"
             ],
             [
              0.1111111111111111,
              "#46039f"
             ],
             [
              0.2222222222222222,
              "#7201a8"
             ],
             [
              0.3333333333333333,
              "#9c179e"
             ],
             [
              0.4444444444444444,
              "#bd3786"
             ],
             [
              0.5555555555555556,
              "#d8576b"
             ],
             [
              0.6666666666666666,
              "#ed7953"
             ],
             [
              0.7777777777777778,
              "#fb9f3a"
             ],
             [
              0.8888888888888888,
              "#fdca26"
             ],
             [
              1,
              "#f0f921"
             ]
            ],
            "type": "heatmap"
           }
          ],
          "heatmapgl": [
           {
            "colorbar": {
             "outlinewidth": 0,
             "ticks": ""
            },
            "colorscale": [
             [
              0,
              "#0d0887"
             ],
             [
              0.1111111111111111,
              "#46039f"
             ],
             [
              0.2222222222222222,
              "#7201a8"
             ],
             [
              0.3333333333333333,
              "#9c179e"
             ],
             [
              0.4444444444444444,
              "#bd3786"
             ],
             [
              0.5555555555555556,
              "#d8576b"
             ],
             [
              0.6666666666666666,
              "#ed7953"
             ],
             [
              0.7777777777777778,
              "#fb9f3a"
             ],
             [
              0.8888888888888888,
              "#fdca26"
             ],
             [
              1,
              "#f0f921"
             ]
            ],
            "type": "heatmapgl"
           }
          ],
          "histogram": [
           {
            "marker": {
             "pattern": {
              "fillmode": "overlay",
              "size": 10,
              "solidity": 0.2
             }
            },
            "type": "histogram"
           }
          ],
          "histogram2d": [
           {
            "colorbar": {
             "outlinewidth": 0,
             "ticks": ""
            },
            "colorscale": [
             [
              0,
              "#0d0887"
             ],
             [
              0.1111111111111111,
              "#46039f"
             ],
             [
              0.2222222222222222,
              "#7201a8"
             ],
             [
              0.3333333333333333,
              "#9c179e"
             ],
             [
              0.4444444444444444,
              "#bd3786"
             ],
             [
              0.5555555555555556,
              "#d8576b"
             ],
             [
              0.6666666666666666,
              "#ed7953"
             ],
             [
              0.7777777777777778,
              "#fb9f3a"
             ],
             [
              0.8888888888888888,
              "#fdca26"
             ],
             [
              1,
              "#f0f921"
             ]
            ],
            "type": "histogram2d"
           }
          ],
          "histogram2dcontour": [
           {
            "colorbar": {
             "outlinewidth": 0,
             "ticks": ""
            },
            "colorscale": [
             [
              0,
              "#0d0887"
             ],
             [
              0.1111111111111111,
              "#46039f"
             ],
             [
              0.2222222222222222,
              "#7201a8"
             ],
             [
              0.3333333333333333,
              "#9c179e"
             ],
             [
              0.4444444444444444,
              "#bd3786"
             ],
             [
              0.5555555555555556,
              "#d8576b"
             ],
             [
              0.6666666666666666,
              "#ed7953"
             ],
             [
              0.7777777777777778,
              "#fb9f3a"
             ],
             [
              0.8888888888888888,
              "#fdca26"
             ],
             [
              1,
              "#f0f921"
             ]
            ],
            "type": "histogram2dcontour"
           }
          ],
          "mesh3d": [
           {
            "colorbar": {
             "outlinewidth": 0,
             "ticks": ""
            },
            "type": "mesh3d"
           }
          ],
          "parcoords": [
           {
            "line": {
             "colorbar": {
              "outlinewidth": 0,
              "ticks": ""
             }
            },
            "type": "parcoords"
           }
          ],
          "pie": [
           {
            "automargin": true,
            "type": "pie"
           }
          ],
          "scatter": [
           {
            "fillpattern": {
             "fillmode": "overlay",
             "size": 10,
             "solidity": 0.2
            },
            "type": "scatter"
           }
          ],
          "scatter3d": [
           {
            "line": {
             "colorbar": {
              "outlinewidth": 0,
              "ticks": ""
             }
            },
            "marker": {
             "colorbar": {
              "outlinewidth": 0,
              "ticks": ""
             }
            },
            "type": "scatter3d"
           }
          ],
          "scattercarpet": [
           {
            "marker": {
             "colorbar": {
              "outlinewidth": 0,
              "ticks": ""
             }
            },
            "type": "scattercarpet"
           }
          ],
          "scattergeo": [
           {
            "marker": {
             "colorbar": {
              "outlinewidth": 0,
              "ticks": ""
             }
            },
            "type": "scattergeo"
           }
          ],
          "scattergl": [
           {
            "marker": {
             "colorbar": {
              "outlinewidth": 0,
              "ticks": ""
             }
            },
            "type": "scattergl"
           }
          ],
          "scattermapbox": [
           {
            "marker": {
             "colorbar": {
              "outlinewidth": 0,
              "ticks": ""
             }
            },
            "type": "scattermapbox"
           }
          ],
          "scatterpolar": [
           {
            "marker": {
             "colorbar": {
              "outlinewidth": 0,
              "ticks": ""
             }
            },
            "type": "scatterpolar"
           }
          ],
          "scatterpolargl": [
           {
            "marker": {
             "colorbar": {
              "outlinewidth": 0,
              "ticks": ""
             }
            },
            "type": "scatterpolargl"
           }
          ],
          "scatterternary": [
           {
            "marker": {
             "colorbar": {
              "outlinewidth": 0,
              "ticks": ""
             }
            },
            "type": "scatterternary"
           }
          ],
          "surface": [
           {
            "colorbar": {
             "outlinewidth": 0,
             "ticks": ""
            },
            "colorscale": [
             [
              0,
              "#0d0887"
             ],
             [
              0.1111111111111111,
              "#46039f"
             ],
             [
              0.2222222222222222,
              "#7201a8"
             ],
             [
              0.3333333333333333,
              "#9c179e"
             ],
             [
              0.4444444444444444,
              "#bd3786"
             ],
             [
              0.5555555555555556,
              "#d8576b"
             ],
             [
              0.6666666666666666,
              "#ed7953"
             ],
             [
              0.7777777777777778,
              "#fb9f3a"
             ],
             [
              0.8888888888888888,
              "#fdca26"
             ],
             [
              1,
              "#f0f921"
             ]
            ],
            "type": "surface"
           }
          ],
          "table": [
           {
            "cells": {
             "fill": {
              "color": "#EBF0F8"
             },
             "line": {
              "color": "white"
             }
            },
            "header": {
             "fill": {
              "color": "#C8D4E3"
             },
             "line": {
              "color": "white"
             }
            },
            "type": "table"
           }
          ]
         },
         "layout": {
          "annotationdefaults": {
           "arrowcolor": "#2a3f5f",
           "arrowhead": 0,
           "arrowwidth": 1
          },
          "autotypenumbers": "strict",
          "coloraxis": {
           "colorbar": {
            "outlinewidth": 0,
            "ticks": ""
           }
          },
          "colorscale": {
           "diverging": [
            [
             0,
             "#8e0152"
            ],
            [
             0.1,
             "#c51b7d"
            ],
            [
             0.2,
             "#de77ae"
            ],
            [
             0.3,
             "#f1b6da"
            ],
            [
             0.4,
             "#fde0ef"
            ],
            [
             0.5,
             "#f7f7f7"
            ],
            [
             0.6,
             "#e6f5d0"
            ],
            [
             0.7,
             "#b8e186"
            ],
            [
             0.8,
             "#7fbc41"
            ],
            [
             0.9,
             "#4d9221"
            ],
            [
             1,
             "#276419"
            ]
           ],
           "sequential": [
            [
             0,
             "#0d0887"
            ],
            [
             0.1111111111111111,
             "#46039f"
            ],
            [
             0.2222222222222222,
             "#7201a8"
            ],
            [
             0.3333333333333333,
             "#9c179e"
            ],
            [
             0.4444444444444444,
             "#bd3786"
            ],
            [
             0.5555555555555556,
             "#d8576b"
            ],
            [
             0.6666666666666666,
             "#ed7953"
            ],
            [
             0.7777777777777778,
             "#fb9f3a"
            ],
            [
             0.8888888888888888,
             "#fdca26"
            ],
            [
             1,
             "#f0f921"
            ]
           ],
           "sequentialminus": [
            [
             0,
             "#0d0887"
            ],
            [
             0.1111111111111111,
             "#46039f"
            ],
            [
             0.2222222222222222,
             "#7201a8"
            ],
            [
             0.3333333333333333,
             "#9c179e"
            ],
            [
             0.4444444444444444,
             "#bd3786"
            ],
            [
             0.5555555555555556,
             "#d8576b"
            ],
            [
             0.6666666666666666,
             "#ed7953"
            ],
            [
             0.7777777777777778,
             "#fb9f3a"
            ],
            [
             0.8888888888888888,
             "#fdca26"
            ],
            [
             1,
             "#f0f921"
            ]
           ]
          },
          "colorway": [
           "#636efa",
           "#EF553B",
           "#00cc96",
           "#ab63fa",
           "#FFA15A",
           "#19d3f3",
           "#FF6692",
           "#B6E880",
           "#FF97FF",
           "#FECB52"
          ],
          "font": {
           "color": "#2a3f5f"
          },
          "geo": {
           "bgcolor": "white",
           "lakecolor": "white",
           "landcolor": "#E5ECF6",
           "showlakes": true,
           "showland": true,
           "subunitcolor": "white"
          },
          "hoverlabel": {
           "align": "left"
          },
          "hovermode": "closest",
          "mapbox": {
           "style": "light"
          },
          "paper_bgcolor": "white",
          "plot_bgcolor": "#E5ECF6",
          "polar": {
           "angularaxis": {
            "gridcolor": "white",
            "linecolor": "white",
            "ticks": ""
           },
           "bgcolor": "#E5ECF6",
           "radialaxis": {
            "gridcolor": "white",
            "linecolor": "white",
            "ticks": ""
           }
          },
          "scene": {
           "xaxis": {
            "backgroundcolor": "#E5ECF6",
            "gridcolor": "white",
            "gridwidth": 2,
            "linecolor": "white",
            "showbackground": true,
            "ticks": "",
            "zerolinecolor": "white"
           },
           "yaxis": {
            "backgroundcolor": "#E5ECF6",
            "gridcolor": "white",
            "gridwidth": 2,
            "linecolor": "white",
            "showbackground": true,
            "ticks": "",
            "zerolinecolor": "white"
           },
           "zaxis": {
            "backgroundcolor": "#E5ECF6",
            "gridcolor": "white",
            "gridwidth": 2,
            "linecolor": "white",
            "showbackground": true,
            "ticks": "",
            "zerolinecolor": "white"
           }
          },
          "shapedefaults": {
           "line": {
            "color": "#2a3f5f"
           }
          },
          "ternary": {
           "aaxis": {
            "gridcolor": "white",
            "linecolor": "white",
            "ticks": ""
           },
           "baxis": {
            "gridcolor": "white",
            "linecolor": "white",
            "ticks": ""
           },
           "bgcolor": "#E5ECF6",
           "caxis": {
            "gridcolor": "white",
            "linecolor": "white",
            "ticks": ""
           }
          },
          "title": {
           "x": 0.05
          },
          "xaxis": {
           "automargin": true,
           "gridcolor": "white",
           "linecolor": "white",
           "ticks": "",
           "title": {
            "standoff": 15
           },
           "zerolinecolor": "white",
           "zerolinewidth": 2
          },
          "yaxis": {
           "automargin": true,
           "gridcolor": "white",
           "linecolor": "white",
           "ticks": "",
           "title": {
            "standoff": 15
           },
           "zerolinecolor": "white",
           "zerolinewidth": 2
          }
         }
        },
        "title": {
         "text": "Optimization History Plot"
        },
        "xaxis": {
         "title": {
          "text": "Trial"
         }
        },
        "yaxis": {
         "title": {
          "text": "Objective Value"
         }
        }
       }
      }
     },
     "metadata": {},
     "output_type": "display_data"
    }
   ],
   "source": [
    "# 1. Optimization History\n",
    "plot_optimization_history(study).show()"
   ]
  },
  {
   "cell_type": "code",
   "execution_count": 18,
   "metadata": {
    "colab": {
     "base_uri": "https://localhost:8080/",
     "height": 542
    },
    "id": "0VPz89RB4yQ7",
    "outputId": "fe6cae2c-f2bb-44f8-fd24-7df67b88c9a5"
   },
   "outputs": [
    {
     "data": {
      "application/vnd.plotly.v1+json": {
       "config": {
        "plotlyServerURL": "https://plot.ly"
       },
       "data": [
        {
         "dimensions": [
          {
           "label": "Objective Value",
           "range": [
            0.7579143389199254,
            0.7746741154562384
           ],
           "values": [
            0.7690875232774674,
            0.7672253258845437,
            0.7728119180633147,
            0.7653631284916201,
            0.7690875232774674,
            0.7579143389199254,
            0.7653631284916201,
            0.7728119180633147,
            0.7728119180633147,
            0.7709497206703911,
            0.7728119180633147,
            0.7728119180633147,
            0.7690875232774674,
            0.7746741154562384,
            0.7616387337057727,
            0.7709497206703911
           ]
          },
          {
           "label": "max_depth",
           "range": [
            5,
            20
           ],
           "values": [
            5,
            10,
            15,
            15,
            20,
            10,
            5,
            20,
            15,
            10,
            20,
            15,
            5,
            5,
            10,
            20
           ]
          },
          {
           "label": "n_estimators",
           "range": [
            50,
            200
           ],
           "values": [
            100,
            150,
            50,
            100,
            100,
            50,
            150,
            150,
            150,
            200,
            200,
            200,
            200,
            50,
            100,
            50
           ]
          }
         ],
         "labelangle": 30,
         "labelside": "bottom",
         "line": {
          "color": [
           0.7690875232774674,
           0.7672253258845437,
           0.7728119180633147,
           0.7653631284916201,
           0.7690875232774674,
           0.7579143389199254,
           0.7653631284916201,
           0.7728119180633147,
           0.7728119180633147,
           0.7709497206703911,
           0.7728119180633147,
           0.7728119180633147,
           0.7690875232774674,
           0.7746741154562384,
           0.7616387337057727,
           0.7709497206703911
          ],
          "colorbar": {
           "title": {
            "text": "Objective Value"
           }
          },
          "colorscale": [
           [
            0,
            "rgb(247,251,255)"
           ],
           [
            0.125,
            "rgb(222,235,247)"
           ],
           [
            0.25,
            "rgb(198,219,239)"
           ],
           [
            0.375,
            "rgb(158,202,225)"
           ],
           [
            0.5,
            "rgb(107,174,214)"
           ],
           [
            0.625,
            "rgb(66,146,198)"
           ],
           [
            0.75,
            "rgb(33,113,181)"
           ],
           [
            0.875,
            "rgb(8,81,156)"
           ],
           [
            1,
            "rgb(8,48,107)"
           ]
          ],
          "reversescale": false,
          "showscale": true
         },
         "type": "parcoords"
        }
       ],
       "layout": {
        "template": {
         "data": {
          "bar": [
           {
            "error_x": {
             "color": "#2a3f5f"
            },
            "error_y": {
             "color": "#2a3f5f"
            },
            "marker": {
             "line": {
              "color": "#E5ECF6",
              "width": 0.5
             },
             "pattern": {
              "fillmode": "overlay",
              "size": 10,
              "solidity": 0.2
             }
            },
            "type": "bar"
           }
          ],
          "barpolar": [
           {
            "marker": {
             "line": {
              "color": "#E5ECF6",
              "width": 0.5
             },
             "pattern": {
              "fillmode": "overlay",
              "size": 10,
              "solidity": 0.2
             }
            },
            "type": "barpolar"
           }
          ],
          "carpet": [
           {
            "aaxis": {
             "endlinecolor": "#2a3f5f",
             "gridcolor": "white",
             "linecolor": "white",
             "minorgridcolor": "white",
             "startlinecolor": "#2a3f5f"
            },
            "baxis": {
             "endlinecolor": "#2a3f5f",
             "gridcolor": "white",
             "linecolor": "white",
             "minorgridcolor": "white",
             "startlinecolor": "#2a3f5f"
            },
            "type": "carpet"
           }
          ],
          "choropleth": [
           {
            "colorbar": {
             "outlinewidth": 0,
             "ticks": ""
            },
            "type": "choropleth"
           }
          ],
          "contour": [
           {
            "colorbar": {
             "outlinewidth": 0,
             "ticks": ""
            },
            "colorscale": [
             [
              0,
              "#0d0887"
             ],
             [
              0.1111111111111111,
              "#46039f"
             ],
             [
              0.2222222222222222,
              "#7201a8"
             ],
             [
              0.3333333333333333,
              "#9c179e"
             ],
             [
              0.4444444444444444,
              "#bd3786"
             ],
             [
              0.5555555555555556,
              "#d8576b"
             ],
             [
              0.6666666666666666,
              "#ed7953"
             ],
             [
              0.7777777777777778,
              "#fb9f3a"
             ],
             [
              0.8888888888888888,
              "#fdca26"
             ],
             [
              1,
              "#f0f921"
             ]
            ],
            "type": "contour"
           }
          ],
          "contourcarpet": [
           {
            "colorbar": {
             "outlinewidth": 0,
             "ticks": ""
            },
            "type": "contourcarpet"
           }
          ],
          "heatmap": [
           {
            "colorbar": {
             "outlinewidth": 0,
             "ticks": ""
            },
            "colorscale": [
             [
              0,
              "#0d0887"
             ],
             [
              0.1111111111111111,
              "#46039f"
             ],
             [
              0.2222222222222222,
              "#7201a8"
             ],
             [
              0.3333333333333333,
              "#9c179e"
             ],
             [
              0.4444444444444444,
              "#bd3786"
             ],
             [
              0.5555555555555556,
              "#d8576b"
             ],
             [
              0.6666666666666666,
              "#ed7953"
             ],
             [
              0.7777777777777778,
              "#fb9f3a"
             ],
             [
              0.8888888888888888,
              "#fdca26"
             ],
             [
              1,
              "#f0f921"
             ]
            ],
            "type": "heatmap"
           }
          ],
          "heatmapgl": [
           {
            "colorbar": {
             "outlinewidth": 0,
             "ticks": ""
            },
            "colorscale": [
             [
              0,
              "#0d0887"
             ],
             [
              0.1111111111111111,
              "#46039f"
             ],
             [
              0.2222222222222222,
              "#7201a8"
             ],
             [
              0.3333333333333333,
              "#9c179e"
             ],
             [
              0.4444444444444444,
              "#bd3786"
             ],
             [
              0.5555555555555556,
              "#d8576b"
             ],
             [
              0.6666666666666666,
              "#ed7953"
             ],
             [
              0.7777777777777778,
              "#fb9f3a"
             ],
             [
              0.8888888888888888,
              "#fdca26"
             ],
             [
              1,
              "#f0f921"
             ]
            ],
            "type": "heatmapgl"
           }
          ],
          "histogram": [
           {
            "marker": {
             "pattern": {
              "fillmode": "overlay",
              "size": 10,
              "solidity": 0.2
             }
            },
            "type": "histogram"
           }
          ],
          "histogram2d": [
           {
            "colorbar": {
             "outlinewidth": 0,
             "ticks": ""
            },
            "colorscale": [
             [
              0,
              "#0d0887"
             ],
             [
              0.1111111111111111,
              "#46039f"
             ],
             [
              0.2222222222222222,
              "#7201a8"
             ],
             [
              0.3333333333333333,
              "#9c179e"
             ],
             [
              0.4444444444444444,
              "#bd3786"
             ],
             [
              0.5555555555555556,
              "#d8576b"
             ],
             [
              0.6666666666666666,
              "#ed7953"
             ],
             [
              0.7777777777777778,
              "#fb9f3a"
             ],
             [
              0.8888888888888888,
              "#fdca26"
             ],
             [
              1,
              "#f0f921"
             ]
            ],
            "type": "histogram2d"
           }
          ],
          "histogram2dcontour": [
           {
            "colorbar": {
             "outlinewidth": 0,
             "ticks": ""
            },
            "colorscale": [
             [
              0,
              "#0d0887"
             ],
             [
              0.1111111111111111,
              "#46039f"
             ],
             [
              0.2222222222222222,
              "#7201a8"
             ],
             [
              0.3333333333333333,
              "#9c179e"
             ],
             [
              0.4444444444444444,
              "#bd3786"
             ],
             [
              0.5555555555555556,
              "#d8576b"
             ],
             [
              0.6666666666666666,
              "#ed7953"
             ],
             [
              0.7777777777777778,
              "#fb9f3a"
             ],
             [
              0.8888888888888888,
              "#fdca26"
             ],
             [
              1,
              "#f0f921"
             ]
            ],
            "type": "histogram2dcontour"
           }
          ],
          "mesh3d": [
           {
            "colorbar": {
             "outlinewidth": 0,
             "ticks": ""
            },
            "type": "mesh3d"
           }
          ],
          "parcoords": [
           {
            "line": {
             "colorbar": {
              "outlinewidth": 0,
              "ticks": ""
             }
            },
            "type": "parcoords"
           }
          ],
          "pie": [
           {
            "automargin": true,
            "type": "pie"
           }
          ],
          "scatter": [
           {
            "fillpattern": {
             "fillmode": "overlay",
             "size": 10,
             "solidity": 0.2
            },
            "type": "scatter"
           }
          ],
          "scatter3d": [
           {
            "line": {
             "colorbar": {
              "outlinewidth": 0,
              "ticks": ""
             }
            },
            "marker": {
             "colorbar": {
              "outlinewidth": 0,
              "ticks": ""
             }
            },
            "type": "scatter3d"
           }
          ],
          "scattercarpet": [
           {
            "marker": {
             "colorbar": {
              "outlinewidth": 0,
              "ticks": ""
             }
            },
            "type": "scattercarpet"
           }
          ],
          "scattergeo": [
           {
            "marker": {
             "colorbar": {
              "outlinewidth": 0,
              "ticks": ""
             }
            },
            "type": "scattergeo"
           }
          ],
          "scattergl": [
           {
            "marker": {
             "colorbar": {
              "outlinewidth": 0,
              "ticks": ""
             }
            },
            "type": "scattergl"
           }
          ],
          "scattermapbox": [
           {
            "marker": {
             "colorbar": {
              "outlinewidth": 0,
              "ticks": ""
             }
            },
            "type": "scattermapbox"
           }
          ],
          "scatterpolar": [
           {
            "marker": {
             "colorbar": {
              "outlinewidth": 0,
              "ticks": ""
             }
            },
            "type": "scatterpolar"
           }
          ],
          "scatterpolargl": [
           {
            "marker": {
             "colorbar": {
              "outlinewidth": 0,
              "ticks": ""
             }
            },
            "type": "scatterpolargl"
           }
          ],
          "scatterternary": [
           {
            "marker": {
             "colorbar": {
              "outlinewidth": 0,
              "ticks": ""
             }
            },
            "type": "scatterternary"
           }
          ],
          "surface": [
           {
            "colorbar": {
             "outlinewidth": 0,
             "ticks": ""
            },
            "colorscale": [
             [
              0,
              "#0d0887"
             ],
             [
              0.1111111111111111,
              "#46039f"
             ],
             [
              0.2222222222222222,
              "#7201a8"
             ],
             [
              0.3333333333333333,
              "#9c179e"
             ],
             [
              0.4444444444444444,
              "#bd3786"
             ],
             [
              0.5555555555555556,
              "#d8576b"
             ],
             [
              0.6666666666666666,
              "#ed7953"
             ],
             [
              0.7777777777777778,
              "#fb9f3a"
             ],
             [
              0.8888888888888888,
              "#fdca26"
             ],
             [
              1,
              "#f0f921"
             ]
            ],
            "type": "surface"
           }
          ],
          "table": [
           {
            "cells": {
             "fill": {
              "color": "#EBF0F8"
             },
             "line": {
              "color": "white"
             }
            },
            "header": {
             "fill": {
              "color": "#C8D4E3"
             },
             "line": {
              "color": "white"
             }
            },
            "type": "table"
           }
          ]
         },
         "layout": {
          "annotationdefaults": {
           "arrowcolor": "#2a3f5f",
           "arrowhead": 0,
           "arrowwidth": 1
          },
          "autotypenumbers": "strict",
          "coloraxis": {
           "colorbar": {
            "outlinewidth": 0,
            "ticks": ""
           }
          },
          "colorscale": {
           "diverging": [
            [
             0,
             "#8e0152"
            ],
            [
             0.1,
             "#c51b7d"
            ],
            [
             0.2,
             "#de77ae"
            ],
            [
             0.3,
             "#f1b6da"
            ],
            [
             0.4,
             "#fde0ef"
            ],
            [
             0.5,
             "#f7f7f7"
            ],
            [
             0.6,
             "#e6f5d0"
            ],
            [
             0.7,
             "#b8e186"
            ],
            [
             0.8,
             "#7fbc41"
            ],
            [
             0.9,
             "#4d9221"
            ],
            [
             1,
             "#276419"
            ]
           ],
           "sequential": [
            [
             0,
             "#0d0887"
            ],
            [
             0.1111111111111111,
             "#46039f"
            ],
            [
             0.2222222222222222,
             "#7201a8"
            ],
            [
             0.3333333333333333,
             "#9c179e"
            ],
            [
             0.4444444444444444,
             "#bd3786"
            ],
            [
             0.5555555555555556,
             "#d8576b"
            ],
            [
             0.6666666666666666,
             "#ed7953"
            ],
            [
             0.7777777777777778,
             "#fb9f3a"
            ],
            [
             0.8888888888888888,
             "#fdca26"
            ],
            [
             1,
             "#f0f921"
            ]
           ],
           "sequentialminus": [
            [
             0,
             "#0d0887"
            ],
            [
             0.1111111111111111,
             "#46039f"
            ],
            [
             0.2222222222222222,
             "#7201a8"
            ],
            [
             0.3333333333333333,
             "#9c179e"
            ],
            [
             0.4444444444444444,
             "#bd3786"
            ],
            [
             0.5555555555555556,
             "#d8576b"
            ],
            [
             0.6666666666666666,
             "#ed7953"
            ],
            [
             0.7777777777777778,
             "#fb9f3a"
            ],
            [
             0.8888888888888888,
             "#fdca26"
            ],
            [
             1,
             "#f0f921"
            ]
           ]
          },
          "colorway": [
           "#636efa",
           "#EF553B",
           "#00cc96",
           "#ab63fa",
           "#FFA15A",
           "#19d3f3",
           "#FF6692",
           "#B6E880",
           "#FF97FF",
           "#FECB52"
          ],
          "font": {
           "color": "#2a3f5f"
          },
          "geo": {
           "bgcolor": "white",
           "lakecolor": "white",
           "landcolor": "#E5ECF6",
           "showlakes": true,
           "showland": true,
           "subunitcolor": "white"
          },
          "hoverlabel": {
           "align": "left"
          },
          "hovermode": "closest",
          "mapbox": {
           "style": "light"
          },
          "paper_bgcolor": "white",
          "plot_bgcolor": "#E5ECF6",
          "polar": {
           "angularaxis": {
            "gridcolor": "white",
            "linecolor": "white",
            "ticks": ""
           },
           "bgcolor": "#E5ECF6",
           "radialaxis": {
            "gridcolor": "white",
            "linecolor": "white",
            "ticks": ""
           }
          },
          "scene": {
           "xaxis": {
            "backgroundcolor": "#E5ECF6",
            "gridcolor": "white",
            "gridwidth": 2,
            "linecolor": "white",
            "showbackground": true,
            "ticks": "",
            "zerolinecolor": "white"
           },
           "yaxis": {
            "backgroundcolor": "#E5ECF6",
            "gridcolor": "white",
            "gridwidth": 2,
            "linecolor": "white",
            "showbackground": true,
            "ticks": "",
            "zerolinecolor": "white"
           },
           "zaxis": {
            "backgroundcolor": "#E5ECF6",
            "gridcolor": "white",
            "gridwidth": 2,
            "linecolor": "white",
            "showbackground": true,
            "ticks": "",
            "zerolinecolor": "white"
           }
          },
          "shapedefaults": {
           "line": {
            "color": "#2a3f5f"
           }
          },
          "ternary": {
           "aaxis": {
            "gridcolor": "white",
            "linecolor": "white",
            "ticks": ""
           },
           "baxis": {
            "gridcolor": "white",
            "linecolor": "white",
            "ticks": ""
           },
           "bgcolor": "#E5ECF6",
           "caxis": {
            "gridcolor": "white",
            "linecolor": "white",
            "ticks": ""
           }
          },
          "title": {
           "x": 0.05
          },
          "xaxis": {
           "automargin": true,
           "gridcolor": "white",
           "linecolor": "white",
           "ticks": "",
           "title": {
            "standoff": 15
           },
           "zerolinecolor": "white",
           "zerolinewidth": 2
          },
          "yaxis": {
           "automargin": true,
           "gridcolor": "white",
           "linecolor": "white",
           "ticks": "",
           "title": {
            "standoff": 15
           },
           "zerolinecolor": "white",
           "zerolinewidth": 2
          }
         }
        },
        "title": {
         "text": "Parallel Coordinate Plot"
        }
       }
      }
     },
     "metadata": {},
     "output_type": "display_data"
    }
   ],
   "source": [
    "# 2. Parallel Coordinates Plot\n",
    "plot_parallel_coordinate(study).show()"
   ]
  },
  {
   "cell_type": "code",
   "execution_count": 19,
   "metadata": {
    "colab": {
     "base_uri": "https://localhost:8080/",
     "height": 542
    },
    "id": "JO1GGlRv43tJ",
    "outputId": "23c9ff04-02a8-471e-903b-3073d49b8fd7"
   },
   "outputs": [
    {
     "data": {
      "application/vnd.plotly.v1+json": {
       "config": {
        "plotlyServerURL": "https://plot.ly"
       },
       "data": [
        {
         "marker": {
          "color": [
           0,
           1,
           2,
           3,
           4,
           5,
           6,
           7,
           8,
           9,
           10,
           11,
           12,
           13,
           14,
           15
          ],
          "colorbar": {
           "title": {
            "text": "Trial"
           },
           "x": 1,
           "xpad": 40
          },
          "colorscale": [
           [
            0,
            "rgb(247,251,255)"
           ],
           [
            0.125,
            "rgb(222,235,247)"
           ],
           [
            0.25,
            "rgb(198,219,239)"
           ],
           [
            0.375,
            "rgb(158,202,225)"
           ],
           [
            0.5,
            "rgb(107,174,214)"
           ],
           [
            0.625,
            "rgb(66,146,198)"
           ],
           [
            0.75,
            "rgb(33,113,181)"
           ],
           [
            0.875,
            "rgb(8,81,156)"
           ],
           [
            1,
            "rgb(8,48,107)"
           ]
          ],
          "line": {
           "color": "Grey",
           "width": 0.5
          },
          "showscale": true
         },
         "mode": "markers",
         "name": "Feasible Trial",
         "showlegend": false,
         "type": "scatter",
         "x": [
          5,
          10,
          15,
          15,
          20,
          10,
          5,
          20,
          15,
          10,
          20,
          15,
          5,
          5,
          10,
          20
         ],
         "xaxis": "x",
         "y": [
          0.7690875232774674,
          0.7672253258845437,
          0.7728119180633147,
          0.7653631284916201,
          0.7690875232774674,
          0.7579143389199254,
          0.7653631284916201,
          0.7728119180633147,
          0.7728119180633147,
          0.7709497206703911,
          0.7728119180633147,
          0.7728119180633147,
          0.7690875232774674,
          0.7746741154562384,
          0.7616387337057727,
          0.7709497206703911
         ],
         "yaxis": "y"
        },
        {
         "marker": {
          "color": [
           0,
           1,
           2,
           3,
           4,
           5,
           6,
           7,
           8,
           9,
           10,
           11,
           12,
           13,
           14,
           15
          ],
          "colorbar": {
           "title": {
            "text": "Trial"
           },
           "x": 1,
           "xpad": 40
          },
          "colorscale": [
           [
            0,
            "rgb(247,251,255)"
           ],
           [
            0.125,
            "rgb(222,235,247)"
           ],
           [
            0.25,
            "rgb(198,219,239)"
           ],
           [
            0.375,
            "rgb(158,202,225)"
           ],
           [
            0.5,
            "rgb(107,174,214)"
           ],
           [
            0.625,
            "rgb(66,146,198)"
           ],
           [
            0.75,
            "rgb(33,113,181)"
           ],
           [
            0.875,
            "rgb(8,81,156)"
           ],
           [
            1,
            "rgb(8,48,107)"
           ]
          ],
          "line": {
           "color": "Grey",
           "width": 0.5
          },
          "showscale": false
         },
         "mode": "markers",
         "name": "Feasible Trial",
         "showlegend": false,
         "type": "scatter",
         "x": [
          100,
          150,
          50,
          100,
          100,
          50,
          150,
          150,
          150,
          200,
          200,
          200,
          200,
          50,
          100,
          50
         ],
         "xaxis": "x2",
         "y": [
          0.7690875232774674,
          0.7672253258845437,
          0.7728119180633147,
          0.7653631284916201,
          0.7690875232774674,
          0.7579143389199254,
          0.7653631284916201,
          0.7728119180633147,
          0.7728119180633147,
          0.7709497206703911,
          0.7728119180633147,
          0.7728119180633147,
          0.7690875232774674,
          0.7746741154562384,
          0.7616387337057727,
          0.7709497206703911
         ],
         "yaxis": "y2"
        }
       ],
       "layout": {
        "template": {
         "data": {
          "bar": [
           {
            "error_x": {
             "color": "#2a3f5f"
            },
            "error_y": {
             "color": "#2a3f5f"
            },
            "marker": {
             "line": {
              "color": "#E5ECF6",
              "width": 0.5
             },
             "pattern": {
              "fillmode": "overlay",
              "size": 10,
              "solidity": 0.2
             }
            },
            "type": "bar"
           }
          ],
          "barpolar": [
           {
            "marker": {
             "line": {
              "color": "#E5ECF6",
              "width": 0.5
             },
             "pattern": {
              "fillmode": "overlay",
              "size": 10,
              "solidity": 0.2
             }
            },
            "type": "barpolar"
           }
          ],
          "carpet": [
           {
            "aaxis": {
             "endlinecolor": "#2a3f5f",
             "gridcolor": "white",
             "linecolor": "white",
             "minorgridcolor": "white",
             "startlinecolor": "#2a3f5f"
            },
            "baxis": {
             "endlinecolor": "#2a3f5f",
             "gridcolor": "white",
             "linecolor": "white",
             "minorgridcolor": "white",
             "startlinecolor": "#2a3f5f"
            },
            "type": "carpet"
           }
          ],
          "choropleth": [
           {
            "colorbar": {
             "outlinewidth": 0,
             "ticks": ""
            },
            "type": "choropleth"
           }
          ],
          "contour": [
           {
            "colorbar": {
             "outlinewidth": 0,
             "ticks": ""
            },
            "colorscale": [
             [
              0,
              "#0d0887"
             ],
             [
              0.1111111111111111,
              "#46039f"
             ],
             [
              0.2222222222222222,
              "#7201a8"
             ],
             [
              0.3333333333333333,
              "#9c179e"
             ],
             [
              0.4444444444444444,
              "#bd3786"
             ],
             [
              0.5555555555555556,
              "#d8576b"
             ],
             [
              0.6666666666666666,
              "#ed7953"
             ],
             [
              0.7777777777777778,
              "#fb9f3a"
             ],
             [
              0.8888888888888888,
              "#fdca26"
             ],
             [
              1,
              "#f0f921"
             ]
            ],
            "type": "contour"
           }
          ],
          "contourcarpet": [
           {
            "colorbar": {
             "outlinewidth": 0,
             "ticks": ""
            },
            "type": "contourcarpet"
           }
          ],
          "heatmap": [
           {
            "colorbar": {
             "outlinewidth": 0,
             "ticks": ""
            },
            "colorscale": [
             [
              0,
              "#0d0887"
             ],
             [
              0.1111111111111111,
              "#46039f"
             ],
             [
              0.2222222222222222,
              "#7201a8"
             ],
             [
              0.3333333333333333,
              "#9c179e"
             ],
             [
              0.4444444444444444,
              "#bd3786"
             ],
             [
              0.5555555555555556,
              "#d8576b"
             ],
             [
              0.6666666666666666,
              "#ed7953"
             ],
             [
              0.7777777777777778,
              "#fb9f3a"
             ],
             [
              0.8888888888888888,
              "#fdca26"
             ],
             [
              1,
              "#f0f921"
             ]
            ],
            "type": "heatmap"
           }
          ],
          "heatmapgl": [
           {
            "colorbar": {
             "outlinewidth": 0,
             "ticks": ""
            },
            "colorscale": [
             [
              0,
              "#0d0887"
             ],
             [
              0.1111111111111111,
              "#46039f"
             ],
             [
              0.2222222222222222,
              "#7201a8"
             ],
             [
              0.3333333333333333,
              "#9c179e"
             ],
             [
              0.4444444444444444,
              "#bd3786"
             ],
             [
              0.5555555555555556,
              "#d8576b"
             ],
             [
              0.6666666666666666,
              "#ed7953"
             ],
             [
              0.7777777777777778,
              "#fb9f3a"
             ],
             [
              0.8888888888888888,
              "#fdca26"
             ],
             [
              1,
              "#f0f921"
             ]
            ],
            "type": "heatmapgl"
           }
          ],
          "histogram": [
           {
            "marker": {
             "pattern": {
              "fillmode": "overlay",
              "size": 10,
              "solidity": 0.2
             }
            },
            "type": "histogram"
           }
          ],
          "histogram2d": [
           {
            "colorbar": {
             "outlinewidth": 0,
             "ticks": ""
            },
            "colorscale": [
             [
              0,
              "#0d0887"
             ],
             [
              0.1111111111111111,
              "#46039f"
             ],
             [
              0.2222222222222222,
              "#7201a8"
             ],
             [
              0.3333333333333333,
              "#9c179e"
             ],
             [
              0.4444444444444444,
              "#bd3786"
             ],
             [
              0.5555555555555556,
              "#d8576b"
             ],
             [
              0.6666666666666666,
              "#ed7953"
             ],
             [
              0.7777777777777778,
              "#fb9f3a"
             ],
             [
              0.8888888888888888,
              "#fdca26"
             ],
             [
              1,
              "#f0f921"
             ]
            ],
            "type": "histogram2d"
           }
          ],
          "histogram2dcontour": [
           {
            "colorbar": {
             "outlinewidth": 0,
             "ticks": ""
            },
            "colorscale": [
             [
              0,
              "#0d0887"
             ],
             [
              0.1111111111111111,
              "#46039f"
             ],
             [
              0.2222222222222222,
              "#7201a8"
             ],
             [
              0.3333333333333333,
              "#9c179e"
             ],
             [
              0.4444444444444444,
              "#bd3786"
             ],
             [
              0.5555555555555556,
              "#d8576b"
             ],
             [
              0.6666666666666666,
              "#ed7953"
             ],
             [
              0.7777777777777778,
              "#fb9f3a"
             ],
             [
              0.8888888888888888,
              "#fdca26"
             ],
             [
              1,
              "#f0f921"
             ]
            ],
            "type": "histogram2dcontour"
           }
          ],
          "mesh3d": [
           {
            "colorbar": {
             "outlinewidth": 0,
             "ticks": ""
            },
            "type": "mesh3d"
           }
          ],
          "parcoords": [
           {
            "line": {
             "colorbar": {
              "outlinewidth": 0,
              "ticks": ""
             }
            },
            "type": "parcoords"
           }
          ],
          "pie": [
           {
            "automargin": true,
            "type": "pie"
           }
          ],
          "scatter": [
           {
            "fillpattern": {
             "fillmode": "overlay",
             "size": 10,
             "solidity": 0.2
            },
            "type": "scatter"
           }
          ],
          "scatter3d": [
           {
            "line": {
             "colorbar": {
              "outlinewidth": 0,
              "ticks": ""
             }
            },
            "marker": {
             "colorbar": {
              "outlinewidth": 0,
              "ticks": ""
             }
            },
            "type": "scatter3d"
           }
          ],
          "scattercarpet": [
           {
            "marker": {
             "colorbar": {
              "outlinewidth": 0,
              "ticks": ""
             }
            },
            "type": "scattercarpet"
           }
          ],
          "scattergeo": [
           {
            "marker": {
             "colorbar": {
              "outlinewidth": 0,
              "ticks": ""
             }
            },
            "type": "scattergeo"
           }
          ],
          "scattergl": [
           {
            "marker": {
             "colorbar": {
              "outlinewidth": 0,
              "ticks": ""
             }
            },
            "type": "scattergl"
           }
          ],
          "scattermapbox": [
           {
            "marker": {
             "colorbar": {
              "outlinewidth": 0,
              "ticks": ""
             }
            },
            "type": "scattermapbox"
           }
          ],
          "scatterpolar": [
           {
            "marker": {
             "colorbar": {
              "outlinewidth": 0,
              "ticks": ""
             }
            },
            "type": "scatterpolar"
           }
          ],
          "scatterpolargl": [
           {
            "marker": {
             "colorbar": {
              "outlinewidth": 0,
              "ticks": ""
             }
            },
            "type": "scatterpolargl"
           }
          ],
          "scatterternary": [
           {
            "marker": {
             "colorbar": {
              "outlinewidth": 0,
              "ticks": ""
             }
            },
            "type": "scatterternary"
           }
          ],
          "surface": [
           {
            "colorbar": {
             "outlinewidth": 0,
             "ticks": ""
            },
            "colorscale": [
             [
              0,
              "#0d0887"
             ],
             [
              0.1111111111111111,
              "#46039f"
             ],
             [
              0.2222222222222222,
              "#7201a8"
             ],
             [
              0.3333333333333333,
              "#9c179e"
             ],
             [
              0.4444444444444444,
              "#bd3786"
             ],
             [
              0.5555555555555556,
              "#d8576b"
             ],
             [
              0.6666666666666666,
              "#ed7953"
             ],
             [
              0.7777777777777778,
              "#fb9f3a"
             ],
             [
              0.8888888888888888,
              "#fdca26"
             ],
             [
              1,
              "#f0f921"
             ]
            ],
            "type": "surface"
           }
          ],
          "table": [
           {
            "cells": {
             "fill": {
              "color": "#EBF0F8"
             },
             "line": {
              "color": "white"
             }
            },
            "header": {
             "fill": {
              "color": "#C8D4E3"
             },
             "line": {
              "color": "white"
             }
            },
            "type": "table"
           }
          ]
         },
         "layout": {
          "annotationdefaults": {
           "arrowcolor": "#2a3f5f",
           "arrowhead": 0,
           "arrowwidth": 1
          },
          "autotypenumbers": "strict",
          "coloraxis": {
           "colorbar": {
            "outlinewidth": 0,
            "ticks": ""
           }
          },
          "colorscale": {
           "diverging": [
            [
             0,
             "#8e0152"
            ],
            [
             0.1,
             "#c51b7d"
            ],
            [
             0.2,
             "#de77ae"
            ],
            [
             0.3,
             "#f1b6da"
            ],
            [
             0.4,
             "#fde0ef"
            ],
            [
             0.5,
             "#f7f7f7"
            ],
            [
             0.6,
             "#e6f5d0"
            ],
            [
             0.7,
             "#b8e186"
            ],
            [
             0.8,
             "#7fbc41"
            ],
            [
             0.9,
             "#4d9221"
            ],
            [
             1,
             "#276419"
            ]
           ],
           "sequential": [
            [
             0,
             "#0d0887"
            ],
            [
             0.1111111111111111,
             "#46039f"
            ],
            [
             0.2222222222222222,
             "#7201a8"
            ],
            [
             0.3333333333333333,
             "#9c179e"
            ],
            [
             0.4444444444444444,
             "#bd3786"
            ],
            [
             0.5555555555555556,
             "#d8576b"
            ],
            [
             0.6666666666666666,
             "#ed7953"
            ],
            [
             0.7777777777777778,
             "#fb9f3a"
            ],
            [
             0.8888888888888888,
             "#fdca26"
            ],
            [
             1,
             "#f0f921"
            ]
           ],
           "sequentialminus": [
            [
             0,
             "#0d0887"
            ],
            [
             0.1111111111111111,
             "#46039f"
            ],
            [
             0.2222222222222222,
             "#7201a8"
            ],
            [
             0.3333333333333333,
             "#9c179e"
            ],
            [
             0.4444444444444444,
             "#bd3786"
            ],
            [
             0.5555555555555556,
             "#d8576b"
            ],
            [
             0.6666666666666666,
             "#ed7953"
            ],
            [
             0.7777777777777778,
             "#fb9f3a"
            ],
            [
             0.8888888888888888,
             "#fdca26"
            ],
            [
             1,
             "#f0f921"
            ]
           ]
          },
          "colorway": [
           "#636efa",
           "#EF553B",
           "#00cc96",
           "#ab63fa",
           "#FFA15A",
           "#19d3f3",
           "#FF6692",
           "#B6E880",
           "#FF97FF",
           "#FECB52"
          ],
          "font": {
           "color": "#2a3f5f"
          },
          "geo": {
           "bgcolor": "white",
           "lakecolor": "white",
           "landcolor": "#E5ECF6",
           "showlakes": true,
           "showland": true,
           "subunitcolor": "white"
          },
          "hoverlabel": {
           "align": "left"
          },
          "hovermode": "closest",
          "mapbox": {
           "style": "light"
          },
          "paper_bgcolor": "white",
          "plot_bgcolor": "#E5ECF6",
          "polar": {
           "angularaxis": {
            "gridcolor": "white",
            "linecolor": "white",
            "ticks": ""
           },
           "bgcolor": "#E5ECF6",
           "radialaxis": {
            "gridcolor": "white",
            "linecolor": "white",
            "ticks": ""
           }
          },
          "scene": {
           "xaxis": {
            "backgroundcolor": "#E5ECF6",
            "gridcolor": "white",
            "gridwidth": 2,
            "linecolor": "white",
            "showbackground": true,
            "ticks": "",
            "zerolinecolor": "white"
           },
           "yaxis": {
            "backgroundcolor": "#E5ECF6",
            "gridcolor": "white",
            "gridwidth": 2,
            "linecolor": "white",
            "showbackground": true,
            "ticks": "",
            "zerolinecolor": "white"
           },
           "zaxis": {
            "backgroundcolor": "#E5ECF6",
            "gridcolor": "white",
            "gridwidth": 2,
            "linecolor": "white",
            "showbackground": true,
            "ticks": "",
            "zerolinecolor": "white"
           }
          },
          "shapedefaults": {
           "line": {
            "color": "#2a3f5f"
           }
          },
          "ternary": {
           "aaxis": {
            "gridcolor": "white",
            "linecolor": "white",
            "ticks": ""
           },
           "baxis": {
            "gridcolor": "white",
            "linecolor": "white",
            "ticks": ""
           },
           "bgcolor": "#E5ECF6",
           "caxis": {
            "gridcolor": "white",
            "linecolor": "white",
            "ticks": ""
           }
          },
          "title": {
           "x": 0.05
          },
          "xaxis": {
           "automargin": true,
           "gridcolor": "white",
           "linecolor": "white",
           "ticks": "",
           "title": {
            "standoff": 15
           },
           "zerolinecolor": "white",
           "zerolinewidth": 2
          },
          "yaxis": {
           "automargin": true,
           "gridcolor": "white",
           "linecolor": "white",
           "ticks": "",
           "title": {
            "standoff": 15
           },
           "zerolinecolor": "white",
           "zerolinewidth": 2
          }
         }
        },
        "title": {
         "text": "Slice Plot"
        },
        "xaxis": {
         "anchor": "y",
         "domain": [
          0,
          0.45
         ],
         "title": {
          "text": "max_depth"
         }
        },
        "xaxis2": {
         "anchor": "y2",
         "domain": [
          0.55,
          1
         ],
         "title": {
          "text": "n_estimators"
         }
        },
        "yaxis": {
         "anchor": "x",
         "domain": [
          0,
          1
         ],
         "title": {
          "text": "Objective Value"
         }
        },
        "yaxis2": {
         "anchor": "x2",
         "domain": [
          0,
          1
         ],
         "matches": "y",
         "showticklabels": false
        }
       }
      }
     },
     "metadata": {},
     "output_type": "display_data"
    }
   ],
   "source": [
    "# 3. Slice Plot\n",
    "plot_slice(study).show()"
   ]
  },
  {
   "cell_type": "code",
   "execution_count": 20,
   "metadata": {
    "colab": {
     "base_uri": "https://localhost:8080/",
     "height": 542
    },
    "id": "b3u7VrCi5DPB",
    "outputId": "03272990-910f-45a5-f99c-fdad29188048"
   },
   "outputs": [
    {
     "data": {
      "application/vnd.plotly.v1+json": {
       "config": {
        "plotlyServerURL": "https://plot.ly"
       },
       "data": [
        {
         "colorbar": {
          "title": {
           "text": "Objective Value"
          }
         },
         "colorscale": [
          [
           0,
           "rgb(247,251,255)"
          ],
          [
           0.125,
           "rgb(222,235,247)"
          ],
          [
           0.25,
           "rgb(198,219,239)"
          ],
          [
           0.375,
           "rgb(158,202,225)"
          ],
          [
           0.5,
           "rgb(107,174,214)"
          ],
          [
           0.625,
           "rgb(66,146,198)"
          ],
          [
           0.75,
           "rgb(33,113,181)"
          ],
          [
           0.875,
           "rgb(8,81,156)"
          ],
          [
           1,
           "rgb(8,48,107)"
          ]
         ],
         "connectgaps": true,
         "contours": {
          "coloring": "heatmap"
         },
         "hoverinfo": "none",
         "line": {
          "smoothing": 1.3
         },
         "reversescale": false,
         "type": "contour",
         "x": [
          4.25,
          5,
          10,
          15,
          20,
          20.75
         ],
         "y": [
          42.5,
          50,
          100,
          150,
          200,
          207.5
         ],
         "z": [
          [
           null,
           null,
           null,
           null,
           null,
           null
          ],
          [
           null,
           0.7746741154562384,
           0.7579143389199254,
           0.7728119180633147,
           0.7709497206703911,
           null
          ],
          [
           null,
           0.7690875232774674,
           0.7616387337057727,
           0.7653631284916201,
           0.7690875232774674,
           null
          ],
          [
           null,
           0.7653631284916201,
           0.7672253258845437,
           0.7728119180633147,
           0.7728119180633147,
           null
          ],
          [
           null,
           0.7690875232774674,
           0.7709497206703911,
           0.7728119180633147,
           0.7728119180633147,
           null
          ],
          [
           null,
           null,
           null,
           null,
           null,
           null
          ]
         ]
        },
        {
         "marker": {
          "color": "black",
          "line": {
           "color": "Gray",
           "width": 2
          }
         },
         "mode": "markers",
         "name": "Feasible Trial",
         "showlegend": false,
         "type": "scatter",
         "x": [
          5,
          10,
          15,
          15,
          20,
          10,
          5,
          20,
          15,
          10,
          20,
          15,
          5,
          5,
          10,
          20
         ],
         "y": [
          100,
          150,
          50,
          100,
          100,
          50,
          150,
          150,
          150,
          200,
          200,
          200,
          200,
          50,
          100,
          50
         ]
        },
        {
         "marker": {
          "color": "#cccccc",
          "line": {
           "color": "Gray",
           "width": 2
          }
         },
         "mode": "markers",
         "name": "Infeasible Trial",
         "showlegend": false,
         "type": "scatter",
         "x": [],
         "y": []
        }
       ],
       "layout": {
        "template": {
         "data": {
          "bar": [
           {
            "error_x": {
             "color": "#2a3f5f"
            },
            "error_y": {
             "color": "#2a3f5f"
            },
            "marker": {
             "line": {
              "color": "#E5ECF6",
              "width": 0.5
             },
             "pattern": {
              "fillmode": "overlay",
              "size": 10,
              "solidity": 0.2
             }
            },
            "type": "bar"
           }
          ],
          "barpolar": [
           {
            "marker": {
             "line": {
              "color": "#E5ECF6",
              "width": 0.5
             },
             "pattern": {
              "fillmode": "overlay",
              "size": 10,
              "solidity": 0.2
             }
            },
            "type": "barpolar"
           }
          ],
          "carpet": [
           {
            "aaxis": {
             "endlinecolor": "#2a3f5f",
             "gridcolor": "white",
             "linecolor": "white",
             "minorgridcolor": "white",
             "startlinecolor": "#2a3f5f"
            },
            "baxis": {
             "endlinecolor": "#2a3f5f",
             "gridcolor": "white",
             "linecolor": "white",
             "minorgridcolor": "white",
             "startlinecolor": "#2a3f5f"
            },
            "type": "carpet"
           }
          ],
          "choropleth": [
           {
            "colorbar": {
             "outlinewidth": 0,
             "ticks": ""
            },
            "type": "choropleth"
           }
          ],
          "contour": [
           {
            "colorbar": {
             "outlinewidth": 0,
             "ticks": ""
            },
            "colorscale": [
             [
              0,
              "#0d0887"
             ],
             [
              0.1111111111111111,
              "#46039f"
             ],
             [
              0.2222222222222222,
              "#7201a8"
             ],
             [
              0.3333333333333333,
              "#9c179e"
             ],
             [
              0.4444444444444444,
              "#bd3786"
             ],
             [
              0.5555555555555556,
              "#d8576b"
             ],
             [
              0.6666666666666666,
              "#ed7953"
             ],
             [
              0.7777777777777778,
              "#fb9f3a"
             ],
             [
              0.8888888888888888,
              "#fdca26"
             ],
             [
              1,
              "#f0f921"
             ]
            ],
            "type": "contour"
           }
          ],
          "contourcarpet": [
           {
            "colorbar": {
             "outlinewidth": 0,
             "ticks": ""
            },
            "type": "contourcarpet"
           }
          ],
          "heatmap": [
           {
            "colorbar": {
             "outlinewidth": 0,
             "ticks": ""
            },
            "colorscale": [
             [
              0,
              "#0d0887"
             ],
             [
              0.1111111111111111,
              "#46039f"
             ],
             [
              0.2222222222222222,
              "#7201a8"
             ],
             [
              0.3333333333333333,
              "#9c179e"
             ],
             [
              0.4444444444444444,
              "#bd3786"
             ],
             [
              0.5555555555555556,
              "#d8576b"
             ],
             [
              0.6666666666666666,
              "#ed7953"
             ],
             [
              0.7777777777777778,
              "#fb9f3a"
             ],
             [
              0.8888888888888888,
              "#fdca26"
             ],
             [
              1,
              "#f0f921"
             ]
            ],
            "type": "heatmap"
           }
          ],
          "heatmapgl": [
           {
            "colorbar": {
             "outlinewidth": 0,
             "ticks": ""
            },
            "colorscale": [
             [
              0,
              "#0d0887"
             ],
             [
              0.1111111111111111,
              "#46039f"
             ],
             [
              0.2222222222222222,
              "#7201a8"
             ],
             [
              0.3333333333333333,
              "#9c179e"
             ],
             [
              0.4444444444444444,
              "#bd3786"
             ],
             [
              0.5555555555555556,
              "#d8576b"
             ],
             [
              0.6666666666666666,
              "#ed7953"
             ],
             [
              0.7777777777777778,
              "#fb9f3a"
             ],
             [
              0.8888888888888888,
              "#fdca26"
             ],
             [
              1,
              "#f0f921"
             ]
            ],
            "type": "heatmapgl"
           }
          ],
          "histogram": [
           {
            "marker": {
             "pattern": {
              "fillmode": "overlay",
              "size": 10,
              "solidity": 0.2
             }
            },
            "type": "histogram"
           }
          ],
          "histogram2d": [
           {
            "colorbar": {
             "outlinewidth": 0,
             "ticks": ""
            },
            "colorscale": [
             [
              0,
              "#0d0887"
             ],
             [
              0.1111111111111111,
              "#46039f"
             ],
             [
              0.2222222222222222,
              "#7201a8"
             ],
             [
              0.3333333333333333,
              "#9c179e"
             ],
             [
              0.4444444444444444,
              "#bd3786"
             ],
             [
              0.5555555555555556,
              "#d8576b"
             ],
             [
              0.6666666666666666,
              "#ed7953"
             ],
             [
              0.7777777777777778,
              "#fb9f3a"
             ],
             [
              0.8888888888888888,
              "#fdca26"
             ],
             [
              1,
              "#f0f921"
             ]
            ],
            "type": "histogram2d"
           }
          ],
          "histogram2dcontour": [
           {
            "colorbar": {
             "outlinewidth": 0,
             "ticks": ""
            },
            "colorscale": [
             [
              0,
              "#0d0887"
             ],
             [
              0.1111111111111111,
              "#46039f"
             ],
             [
              0.2222222222222222,
              "#7201a8"
             ],
             [
              0.3333333333333333,
              "#9c179e"
             ],
             [
              0.4444444444444444,
              "#bd3786"
             ],
             [
              0.5555555555555556,
              "#d8576b"
             ],
             [
              0.6666666666666666,
              "#ed7953"
             ],
             [
              0.7777777777777778,
              "#fb9f3a"
             ],
             [
              0.8888888888888888,
              "#fdca26"
             ],
             [
              1,
              "#f0f921"
             ]
            ],
            "type": "histogram2dcontour"
           }
          ],
          "mesh3d": [
           {
            "colorbar": {
             "outlinewidth": 0,
             "ticks": ""
            },
            "type": "mesh3d"
           }
          ],
          "parcoords": [
           {
            "line": {
             "colorbar": {
              "outlinewidth": 0,
              "ticks": ""
             }
            },
            "type": "parcoords"
           }
          ],
          "pie": [
           {
            "automargin": true,
            "type": "pie"
           }
          ],
          "scatter": [
           {
            "fillpattern": {
             "fillmode": "overlay",
             "size": 10,
             "solidity": 0.2
            },
            "type": "scatter"
           }
          ],
          "scatter3d": [
           {
            "line": {
             "colorbar": {
              "outlinewidth": 0,
              "ticks": ""
             }
            },
            "marker": {
             "colorbar": {
              "outlinewidth": 0,
              "ticks": ""
             }
            },
            "type": "scatter3d"
           }
          ],
          "scattercarpet": [
           {
            "marker": {
             "colorbar": {
              "outlinewidth": 0,
              "ticks": ""
             }
            },
            "type": "scattercarpet"
           }
          ],
          "scattergeo": [
           {
            "marker": {
             "colorbar": {
              "outlinewidth": 0,
              "ticks": ""
             }
            },
            "type": "scattergeo"
           }
          ],
          "scattergl": [
           {
            "marker": {
             "colorbar": {
              "outlinewidth": 0,
              "ticks": ""
             }
            },
            "type": "scattergl"
           }
          ],
          "scattermapbox": [
           {
            "marker": {
             "colorbar": {
              "outlinewidth": 0,
              "ticks": ""
             }
            },
            "type": "scattermapbox"
           }
          ],
          "scatterpolar": [
           {
            "marker": {
             "colorbar": {
              "outlinewidth": 0,
              "ticks": ""
             }
            },
            "type": "scatterpolar"
           }
          ],
          "scatterpolargl": [
           {
            "marker": {
             "colorbar": {
              "outlinewidth": 0,
              "ticks": ""
             }
            },
            "type": "scatterpolargl"
           }
          ],
          "scatterternary": [
           {
            "marker": {
             "colorbar": {
              "outlinewidth": 0,
              "ticks": ""
             }
            },
            "type": "scatterternary"
           }
          ],
          "surface": [
           {
            "colorbar": {
             "outlinewidth": 0,
             "ticks": ""
            },
            "colorscale": [
             [
              0,
              "#0d0887"
             ],
             [
              0.1111111111111111,
              "#46039f"
             ],
             [
              0.2222222222222222,
              "#7201a8"
             ],
             [
              0.3333333333333333,
              "#9c179e"
             ],
             [
              0.4444444444444444,
              "#bd3786"
             ],
             [
              0.5555555555555556,
              "#d8576b"
             ],
             [
              0.6666666666666666,
              "#ed7953"
             ],
             [
              0.7777777777777778,
              "#fb9f3a"
             ],
             [
              0.8888888888888888,
              "#fdca26"
             ],
             [
              1,
              "#f0f921"
             ]
            ],
            "type": "surface"
           }
          ],
          "table": [
           {
            "cells": {
             "fill": {
              "color": "#EBF0F8"
             },
             "line": {
              "color": "white"
             }
            },
            "header": {
             "fill": {
              "color": "#C8D4E3"
             },
             "line": {
              "color": "white"
             }
            },
            "type": "table"
           }
          ]
         },
         "layout": {
          "annotationdefaults": {
           "arrowcolor": "#2a3f5f",
           "arrowhead": 0,
           "arrowwidth": 1
          },
          "autotypenumbers": "strict",
          "coloraxis": {
           "colorbar": {
            "outlinewidth": 0,
            "ticks": ""
           }
          },
          "colorscale": {
           "diverging": [
            [
             0,
             "#8e0152"
            ],
            [
             0.1,
             "#c51b7d"
            ],
            [
             0.2,
             "#de77ae"
            ],
            [
             0.3,
             "#f1b6da"
            ],
            [
             0.4,
             "#fde0ef"
            ],
            [
             0.5,
             "#f7f7f7"
            ],
            [
             0.6,
             "#e6f5d0"
            ],
            [
             0.7,
             "#b8e186"
            ],
            [
             0.8,
             "#7fbc41"
            ],
            [
             0.9,
             "#4d9221"
            ],
            [
             1,
             "#276419"
            ]
           ],
           "sequential": [
            [
             0,
             "#0d0887"
            ],
            [
             0.1111111111111111,
             "#46039f"
            ],
            [
             0.2222222222222222,
             "#7201a8"
            ],
            [
             0.3333333333333333,
             "#9c179e"
            ],
            [
             0.4444444444444444,
             "#bd3786"
            ],
            [
             0.5555555555555556,
             "#d8576b"
            ],
            [
             0.6666666666666666,
             "#ed7953"
            ],
            [
             0.7777777777777778,
             "#fb9f3a"
            ],
            [
             0.8888888888888888,
             "#fdca26"
            ],
            [
             1,
             "#f0f921"
            ]
           ],
           "sequentialminus": [
            [
             0,
             "#0d0887"
            ],
            [
             0.1111111111111111,
             "#46039f"
            ],
            [
             0.2222222222222222,
             "#7201a8"
            ],
            [
             0.3333333333333333,
             "#9c179e"
            ],
            [
             0.4444444444444444,
             "#bd3786"
            ],
            [
             0.5555555555555556,
             "#d8576b"
            ],
            [
             0.6666666666666666,
             "#ed7953"
            ],
            [
             0.7777777777777778,
             "#fb9f3a"
            ],
            [
             0.8888888888888888,
             "#fdca26"
            ],
            [
             1,
             "#f0f921"
            ]
           ]
          },
          "colorway": [
           "#636efa",
           "#EF553B",
           "#00cc96",
           "#ab63fa",
           "#FFA15A",
           "#19d3f3",
           "#FF6692",
           "#B6E880",
           "#FF97FF",
           "#FECB52"
          ],
          "font": {
           "color": "#2a3f5f"
          },
          "geo": {
           "bgcolor": "white",
           "lakecolor": "white",
           "landcolor": "#E5ECF6",
           "showlakes": true,
           "showland": true,
           "subunitcolor": "white"
          },
          "hoverlabel": {
           "align": "left"
          },
          "hovermode": "closest",
          "mapbox": {
           "style": "light"
          },
          "paper_bgcolor": "white",
          "plot_bgcolor": "#E5ECF6",
          "polar": {
           "angularaxis": {
            "gridcolor": "white",
            "linecolor": "white",
            "ticks": ""
           },
           "bgcolor": "#E5ECF6",
           "radialaxis": {
            "gridcolor": "white",
            "linecolor": "white",
            "ticks": ""
           }
          },
          "scene": {
           "xaxis": {
            "backgroundcolor": "#E5ECF6",
            "gridcolor": "white",
            "gridwidth": 2,
            "linecolor": "white",
            "showbackground": true,
            "ticks": "",
            "zerolinecolor": "white"
           },
           "yaxis": {
            "backgroundcolor": "#E5ECF6",
            "gridcolor": "white",
            "gridwidth": 2,
            "linecolor": "white",
            "showbackground": true,
            "ticks": "",
            "zerolinecolor": "white"
           },
           "zaxis": {
            "backgroundcolor": "#E5ECF6",
            "gridcolor": "white",
            "gridwidth": 2,
            "linecolor": "white",
            "showbackground": true,
            "ticks": "",
            "zerolinecolor": "white"
           }
          },
          "shapedefaults": {
           "line": {
            "color": "#2a3f5f"
           }
          },
          "ternary": {
           "aaxis": {
            "gridcolor": "white",
            "linecolor": "white",
            "ticks": ""
           },
           "baxis": {
            "gridcolor": "white",
            "linecolor": "white",
            "ticks": ""
           },
           "bgcolor": "#E5ECF6",
           "caxis": {
            "gridcolor": "white",
            "linecolor": "white",
            "ticks": ""
           }
          },
          "title": {
           "x": 0.05
          },
          "xaxis": {
           "automargin": true,
           "gridcolor": "white",
           "linecolor": "white",
           "ticks": "",
           "title": {
            "standoff": 15
           },
           "zerolinecolor": "white",
           "zerolinewidth": 2
          },
          "yaxis": {
           "automargin": true,
           "gridcolor": "white",
           "linecolor": "white",
           "ticks": "",
           "title": {
            "standoff": 15
           },
           "zerolinecolor": "white",
           "zerolinewidth": 2
          }
         }
        },
        "title": {
         "text": "Contour Plot"
        },
        "xaxis": {
         "range": [
          4.25,
          20.75
         ],
         "title": {
          "text": "max_depth"
         }
        },
        "yaxis": {
         "range": [
          42.5,
          207.5
         ],
         "title": {
          "text": "n_estimators"
         }
        }
       }
      }
     },
     "metadata": {},
     "output_type": "display_data"
    }
   ],
   "source": [
    "# 4. Contour Plot\n",
    "plot_contour(study).show()"
   ]
  },
  {
   "cell_type": "code",
   "execution_count": 21,
   "metadata": {
    "colab": {
     "base_uri": "https://localhost:8080/",
     "height": 542
    },
    "id": "Iw7pTZf_5JPp",
    "outputId": "1a7f10c4-4c7c-4148-f108-f3acb77d8844"
   },
   "outputs": [
    {
     "data": {
      "application/vnd.plotly.v1+json": {
       "config": {
        "plotlyServerURL": "https://plot.ly"
       },
       "data": [
        {
         "cliponaxis": false,
         "hovertemplate": [
          "n_estimators (IntDistribution): 0.45564547999978333<extra></extra>",
          "max_depth (IntDistribution): 0.5443545200002167<extra></extra>"
         ],
         "name": "Objective Value",
         "orientation": "h",
         "text": [
          "0.46",
          "0.54"
         ],
         "textposition": "outside",
         "type": "bar",
         "x": [
          0.45564547999978333,
          0.5443545200002167
         ],
         "y": [
          "n_estimators",
          "max_depth"
         ]
        }
       ],
       "layout": {
        "template": {
         "data": {
          "bar": [
           {
            "error_x": {
             "color": "#2a3f5f"
            },
            "error_y": {
             "color": "#2a3f5f"
            },
            "marker": {
             "line": {
              "color": "#E5ECF6",
              "width": 0.5
             },
             "pattern": {
              "fillmode": "overlay",
              "size": 10,
              "solidity": 0.2
             }
            },
            "type": "bar"
           }
          ],
          "barpolar": [
           {
            "marker": {
             "line": {
              "color": "#E5ECF6",
              "width": 0.5
             },
             "pattern": {
              "fillmode": "overlay",
              "size": 10,
              "solidity": 0.2
             }
            },
            "type": "barpolar"
           }
          ],
          "carpet": [
           {
            "aaxis": {
             "endlinecolor": "#2a3f5f",
             "gridcolor": "white",
             "linecolor": "white",
             "minorgridcolor": "white",
             "startlinecolor": "#2a3f5f"
            },
            "baxis": {
             "endlinecolor": "#2a3f5f",
             "gridcolor": "white",
             "linecolor": "white",
             "minorgridcolor": "white",
             "startlinecolor": "#2a3f5f"
            },
            "type": "carpet"
           }
          ],
          "choropleth": [
           {
            "colorbar": {
             "outlinewidth": 0,
             "ticks": ""
            },
            "type": "choropleth"
           }
          ],
          "contour": [
           {
            "colorbar": {
             "outlinewidth": 0,
             "ticks": ""
            },
            "colorscale": [
             [
              0,
              "#0d0887"
             ],
             [
              0.1111111111111111,
              "#46039f"
             ],
             [
              0.2222222222222222,
              "#7201a8"
             ],
             [
              0.3333333333333333,
              "#9c179e"
             ],
             [
              0.4444444444444444,
              "#bd3786"
             ],
             [
              0.5555555555555556,
              "#d8576b"
             ],
             [
              0.6666666666666666,
              "#ed7953"
             ],
             [
              0.7777777777777778,
              "#fb9f3a"
             ],
             [
              0.8888888888888888,
              "#fdca26"
             ],
             [
              1,
              "#f0f921"
             ]
            ],
            "type": "contour"
           }
          ],
          "contourcarpet": [
           {
            "colorbar": {
             "outlinewidth": 0,
             "ticks": ""
            },
            "type": "contourcarpet"
           }
          ],
          "heatmap": [
           {
            "colorbar": {
             "outlinewidth": 0,
             "ticks": ""
            },
            "colorscale": [
             [
              0,
              "#0d0887"
             ],
             [
              0.1111111111111111,
              "#46039f"
             ],
             [
              0.2222222222222222,
              "#7201a8"
             ],
             [
              0.3333333333333333,
              "#9c179e"
             ],
             [
              0.4444444444444444,
              "#bd3786"
             ],
             [
              0.5555555555555556,
              "#d8576b"
             ],
             [
              0.6666666666666666,
              "#ed7953"
             ],
             [
              0.7777777777777778,
              "#fb9f3a"
             ],
             [
              0.8888888888888888,
              "#fdca26"
             ],
             [
              1,
              "#f0f921"
             ]
            ],
            "type": "heatmap"
           }
          ],
          "heatmapgl": [
           {
            "colorbar": {
             "outlinewidth": 0,
             "ticks": ""
            },
            "colorscale": [
             [
              0,
              "#0d0887"
             ],
             [
              0.1111111111111111,
              "#46039f"
             ],
             [
              0.2222222222222222,
              "#7201a8"
             ],
             [
              0.3333333333333333,
              "#9c179e"
             ],
             [
              0.4444444444444444,
              "#bd3786"
             ],
             [
              0.5555555555555556,
              "#d8576b"
             ],
             [
              0.6666666666666666,
              "#ed7953"
             ],
             [
              0.7777777777777778,
              "#fb9f3a"
             ],
             [
              0.8888888888888888,
              "#fdca26"
             ],
             [
              1,
              "#f0f921"
             ]
            ],
            "type": "heatmapgl"
           }
          ],
          "histogram": [
           {
            "marker": {
             "pattern": {
              "fillmode": "overlay",
              "size": 10,
              "solidity": 0.2
             }
            },
            "type": "histogram"
           }
          ],
          "histogram2d": [
           {
            "colorbar": {
             "outlinewidth": 0,
             "ticks": ""
            },
            "colorscale": [
             [
              0,
              "#0d0887"
             ],
             [
              0.1111111111111111,
              "#46039f"
             ],
             [
              0.2222222222222222,
              "#7201a8"
             ],
             [
              0.3333333333333333,
              "#9c179e"
             ],
             [
              0.4444444444444444,
              "#bd3786"
             ],
             [
              0.5555555555555556,
              "#d8576b"
             ],
             [
              0.6666666666666666,
              "#ed7953"
             ],
             [
              0.7777777777777778,
              "#fb9f3a"
             ],
             [
              0.8888888888888888,
              "#fdca26"
             ],
             [
              1,
              "#f0f921"
             ]
            ],
            "type": "histogram2d"
           }
          ],
          "histogram2dcontour": [
           {
            "colorbar": {
             "outlinewidth": 0,
             "ticks": ""
            },
            "colorscale": [
             [
              0,
              "#0d0887"
             ],
             [
              0.1111111111111111,
              "#46039f"
             ],
             [
              0.2222222222222222,
              "#7201a8"
             ],
             [
              0.3333333333333333,
              "#9c179e"
             ],
             [
              0.4444444444444444,
              "#bd3786"
             ],
             [
              0.5555555555555556,
              "#d8576b"
             ],
             [
              0.6666666666666666,
              "#ed7953"
             ],
             [
              0.7777777777777778,
              "#fb9f3a"
             ],
             [
              0.8888888888888888,
              "#fdca26"
             ],
             [
              1,
              "#f0f921"
             ]
            ],
            "type": "histogram2dcontour"
           }
          ],
          "mesh3d": [
           {
            "colorbar": {
             "outlinewidth": 0,
             "ticks": ""
            },
            "type": "mesh3d"
           }
          ],
          "parcoords": [
           {
            "line": {
             "colorbar": {
              "outlinewidth": 0,
              "ticks": ""
             }
            },
            "type": "parcoords"
           }
          ],
          "pie": [
           {
            "automargin": true,
            "type": "pie"
           }
          ],
          "scatter": [
           {
            "fillpattern": {
             "fillmode": "overlay",
             "size": 10,
             "solidity": 0.2
            },
            "type": "scatter"
           }
          ],
          "scatter3d": [
           {
            "line": {
             "colorbar": {
              "outlinewidth": 0,
              "ticks": ""
             }
            },
            "marker": {
             "colorbar": {
              "outlinewidth": 0,
              "ticks": ""
             }
            },
            "type": "scatter3d"
           }
          ],
          "scattercarpet": [
           {
            "marker": {
             "colorbar": {
              "outlinewidth": 0,
              "ticks": ""
             }
            },
            "type": "scattercarpet"
           }
          ],
          "scattergeo": [
           {
            "marker": {
             "colorbar": {
              "outlinewidth": 0,
              "ticks": ""
             }
            },
            "type": "scattergeo"
           }
          ],
          "scattergl": [
           {
            "marker": {
             "colorbar": {
              "outlinewidth": 0,
              "ticks": ""
             }
            },
            "type": "scattergl"
           }
          ],
          "scattermapbox": [
           {
            "marker": {
             "colorbar": {
              "outlinewidth": 0,
              "ticks": ""
             }
            },
            "type": "scattermapbox"
           }
          ],
          "scatterpolar": [
           {
            "marker": {
             "colorbar": {
              "outlinewidth": 0,
              "ticks": ""
             }
            },
            "type": "scatterpolar"
           }
          ],
          "scatterpolargl": [
           {
            "marker": {
             "colorbar": {
              "outlinewidth": 0,
              "ticks": ""
             }
            },
            "type": "scatterpolargl"
           }
          ],
          "scatterternary": [
           {
            "marker": {
             "colorbar": {
              "outlinewidth": 0,
              "ticks": ""
             }
            },
            "type": "scatterternary"
           }
          ],
          "surface": [
           {
            "colorbar": {
             "outlinewidth": 0,
             "ticks": ""
            },
            "colorscale": [
             [
              0,
              "#0d0887"
             ],
             [
              0.1111111111111111,
              "#46039f"
             ],
             [
              0.2222222222222222,
              "#7201a8"
             ],
             [
              0.3333333333333333,
              "#9c179e"
             ],
             [
              0.4444444444444444,
              "#bd3786"
             ],
             [
              0.5555555555555556,
              "#d8576b"
             ],
             [
              0.6666666666666666,
              "#ed7953"
             ],
             [
              0.7777777777777778,
              "#fb9f3a"
             ],
             [
              0.8888888888888888,
              "#fdca26"
             ],
             [
              1,
              "#f0f921"
             ]
            ],
            "type": "surface"
           }
          ],
          "table": [
           {
            "cells": {
             "fill": {
              "color": "#EBF0F8"
             },
             "line": {
              "color": "white"
             }
            },
            "header": {
             "fill": {
              "color": "#C8D4E3"
             },
             "line": {
              "color": "white"
             }
            },
            "type": "table"
           }
          ]
         },
         "layout": {
          "annotationdefaults": {
           "arrowcolor": "#2a3f5f",
           "arrowhead": 0,
           "arrowwidth": 1
          },
          "autotypenumbers": "strict",
          "coloraxis": {
           "colorbar": {
            "outlinewidth": 0,
            "ticks": ""
           }
          },
          "colorscale": {
           "diverging": [
            [
             0,
             "#8e0152"
            ],
            [
             0.1,
             "#c51b7d"
            ],
            [
             0.2,
             "#de77ae"
            ],
            [
             0.3,
             "#f1b6da"
            ],
            [
             0.4,
             "#fde0ef"
            ],
            [
             0.5,
             "#f7f7f7"
            ],
            [
             0.6,
             "#e6f5d0"
            ],
            [
             0.7,
             "#b8e186"
            ],
            [
             0.8,
             "#7fbc41"
            ],
            [
             0.9,
             "#4d9221"
            ],
            [
             1,
             "#276419"
            ]
           ],
           "sequential": [
            [
             0,
             "#0d0887"
            ],
            [
             0.1111111111111111,
             "#46039f"
            ],
            [
             0.2222222222222222,
             "#7201a8"
            ],
            [
             0.3333333333333333,
             "#9c179e"
            ],
            [
             0.4444444444444444,
             "#bd3786"
            ],
            [
             0.5555555555555556,
             "#d8576b"
            ],
            [
             0.6666666666666666,
             "#ed7953"
            ],
            [
             0.7777777777777778,
             "#fb9f3a"
            ],
            [
             0.8888888888888888,
             "#fdca26"
            ],
            [
             1,
             "#f0f921"
            ]
           ],
           "sequentialminus": [
            [
             0,
             "#0d0887"
            ],
            [
             0.1111111111111111,
             "#46039f"
            ],
            [
             0.2222222222222222,
             "#7201a8"
            ],
            [
             0.3333333333333333,
             "#9c179e"
            ],
            [
             0.4444444444444444,
             "#bd3786"
            ],
            [
             0.5555555555555556,
             "#d8576b"
            ],
            [
             0.6666666666666666,
             "#ed7953"
            ],
            [
             0.7777777777777778,
             "#fb9f3a"
            ],
            [
             0.8888888888888888,
             "#fdca26"
            ],
            [
             1,
             "#f0f921"
            ]
           ]
          },
          "colorway": [
           "#636efa",
           "#EF553B",
           "#00cc96",
           "#ab63fa",
           "#FFA15A",
           "#19d3f3",
           "#FF6692",
           "#B6E880",
           "#FF97FF",
           "#FECB52"
          ],
          "font": {
           "color": "#2a3f5f"
          },
          "geo": {
           "bgcolor": "white",
           "lakecolor": "white",
           "landcolor": "#E5ECF6",
           "showlakes": true,
           "showland": true,
           "subunitcolor": "white"
          },
          "hoverlabel": {
           "align": "left"
          },
          "hovermode": "closest",
          "mapbox": {
           "style": "light"
          },
          "paper_bgcolor": "white",
          "plot_bgcolor": "#E5ECF6",
          "polar": {
           "angularaxis": {
            "gridcolor": "white",
            "linecolor": "white",
            "ticks": ""
           },
           "bgcolor": "#E5ECF6",
           "radialaxis": {
            "gridcolor": "white",
            "linecolor": "white",
            "ticks": ""
           }
          },
          "scene": {
           "xaxis": {
            "backgroundcolor": "#E5ECF6",
            "gridcolor": "white",
            "gridwidth": 2,
            "linecolor": "white",
            "showbackground": true,
            "ticks": "",
            "zerolinecolor": "white"
           },
           "yaxis": {
            "backgroundcolor": "#E5ECF6",
            "gridcolor": "white",
            "gridwidth": 2,
            "linecolor": "white",
            "showbackground": true,
            "ticks": "",
            "zerolinecolor": "white"
           },
           "zaxis": {
            "backgroundcolor": "#E5ECF6",
            "gridcolor": "white",
            "gridwidth": 2,
            "linecolor": "white",
            "showbackground": true,
            "ticks": "",
            "zerolinecolor": "white"
           }
          },
          "shapedefaults": {
           "line": {
            "color": "#2a3f5f"
           }
          },
          "ternary": {
           "aaxis": {
            "gridcolor": "white",
            "linecolor": "white",
            "ticks": ""
           },
           "baxis": {
            "gridcolor": "white",
            "linecolor": "white",
            "ticks": ""
           },
           "bgcolor": "#E5ECF6",
           "caxis": {
            "gridcolor": "white",
            "linecolor": "white",
            "ticks": ""
           }
          },
          "title": {
           "x": 0.05
          },
          "xaxis": {
           "automargin": true,
           "gridcolor": "white",
           "linecolor": "white",
           "ticks": "",
           "title": {
            "standoff": 15
           },
           "zerolinecolor": "white",
           "zerolinewidth": 2
          },
          "yaxis": {
           "automargin": true,
           "gridcolor": "white",
           "linecolor": "white",
           "ticks": "",
           "title": {
            "standoff": 15
           },
           "zerolinecolor": "white",
           "zerolinewidth": 2
          }
         }
        },
        "title": {
         "text": "Hyperparameter Importances"
        },
        "xaxis": {
         "title": {
          "text": "Hyperparameter Importance"
         }
        },
        "yaxis": {
         "title": {
          "text": "Hyperparameter"
         }
        }
       }
      }
     },
     "metadata": {},
     "output_type": "display_data"
    }
   ],
   "source": [
    "# 5. Hyperparameter Importance\n",
    "plot_param_importances(study).show()"
   ]
  },
  {
   "cell_type": "markdown",
   "metadata": {
    "id": "m-zjVci7BYvh"
   },
   "source": [
    "## Optimizing Multiple ML Models"
   ]
  },
  {
   "cell_type": "code",
   "execution_count": 22,
   "metadata": {
    "id": "HJ81Ws4uBrD3"
   },
   "outputs": [],
   "source": [
    "# Importing the required libraries\n",
    "from sklearn.ensemble import RandomForestClassifier, GradientBoostingClassifier\n",
    "from sklearn.svm import SVC"
   ]
  },
  {
   "cell_type": "code",
   "execution_count": 23,
   "metadata": {
    "id": "bbHIIH8s5O8Z"
   },
   "outputs": [],
   "source": [
    "# Define the objective function for Optuna\n",
    "def objective(trial):\n",
    "    # Choose the algorithm to tune\n",
    "    classifier_name = trial.suggest_categorical('classifier', ['SVM', 'RandomForest', 'GradientBoosting'])\n",
    "\n",
    "    if classifier_name == 'SVM':\n",
    "        # SVM hyperparameters\n",
    "        c = trial.suggest_float('C', 0.1, 100, log=True)\n",
    "        kernel = trial.suggest_categorical('kernel', ['linear', 'rbf', 'poly', 'sigmoid'])\n",
    "        gamma = trial.suggest_categorical('gamma', ['scale', 'auto'])\n",
    "\n",
    "        model = SVC(C=c, kernel=kernel, gamma=gamma, random_state=42)\n",
    "\n",
    "    elif classifier_name == 'RandomForest':\n",
    "        # Random Forest hyperparameters\n",
    "        n_estimators = trial.suggest_int('n_estimators', 50, 300)\n",
    "        max_depth = trial.suggest_int('max_depth', 3, 20)\n",
    "        min_samples_split = trial.suggest_int('min_samples_split', 2, 10)\n",
    "        min_samples_leaf = trial.suggest_int('min_samples_leaf', 1, 10)\n",
    "        bootstrap = trial.suggest_categorical('bootstrap', [True, False])\n",
    "\n",
    "        model = RandomForestClassifier(\n",
    "            n_estimators=n_estimators,\n",
    "            max_depth=max_depth,\n",
    "            min_samples_split=min_samples_split,\n",
    "            min_samples_leaf=min_samples_leaf,\n",
    "            bootstrap=bootstrap,\n",
    "            random_state=42\n",
    "        )\n",
    "\n",
    "    elif classifier_name == 'GradientBoosting':\n",
    "        # Gradient Boosting hyperparameters\n",
    "        n_estimators = trial.suggest_int('n_estimators', 50, 300)\n",
    "        learning_rate = trial.suggest_float('learning_rate', 0.01, 0.3, log=True)\n",
    "        max_depth = trial.suggest_int('max_depth', 3, 20)\n",
    "        min_samples_split = trial.suggest_int('min_samples_split', 2, 10)\n",
    "        min_samples_leaf = trial.suggest_int('min_samples_leaf', 1, 10)\n",
    "\n",
    "        model = GradientBoostingClassifier(\n",
    "            n_estimators=n_estimators,\n",
    "            learning_rate=learning_rate,\n",
    "            max_depth=max_depth,\n",
    "            min_samples_split=min_samples_split,\n",
    "            min_samples_leaf=min_samples_leaf,\n",
    "            random_state=42\n",
    "        )\n",
    "\n",
    "    # Perform cross-validation and return the mean accuracy\n",
    "    score = cross_val_score(model, X_train, y_train, cv=3, scoring='accuracy').mean()\n",
    "    return score"
   ]
  },
  {
   "cell_type": "code",
   "execution_count": 25,
   "metadata": {
    "colab": {
     "base_uri": "https://localhost:8080/"
    },
    "id": "lP_GVCWxBf60",
    "outputId": "8d93f5e2-d8b9-44a0-fcf6-61dd2e3de7b6"
   },
   "outputs": [
    {
     "name": "stderr",
     "output_type": "stream",
     "text": [
      "[I 2024-11-25 00:16:27,541] A new study created in memory with name: no-name-2aad46a7-ea20-40c9-b153-9b9165a4b703\n",
      "[I 2024-11-25 00:16:27,807] Trial 0 finished with value: 0.7709497206703911 and parameters: {'classifier': 'RandomForest', 'n_estimators': 71, 'max_depth': 6, 'min_samples_split': 7, 'min_samples_leaf': 10, 'bootstrap': False}. Best is trial 0 with value: 0.7709497206703911.\n",
      "[I 2024-11-25 00:16:30,587] Trial 1 finished with value: 0.7709497206703911 and parameters: {'classifier': 'GradientBoosting', 'n_estimators': 207, 'learning_rate': 0.01342656799124919, 'max_depth': 10, 'min_samples_split': 5, 'min_samples_leaf': 7}. Best is trial 0 with value: 0.7709497206703911.\n",
      "[I 2024-11-25 00:16:31,165] Trial 2 finished with value: 0.7746741154562384 and parameters: {'classifier': 'RandomForest', 'n_estimators': 151, 'max_depth': 13, 'min_samples_split': 6, 'min_samples_leaf': 8, 'bootstrap': False}. Best is trial 2 with value: 0.7746741154562384.\n",
      "[I 2024-11-25 00:16:32,062] Trial 3 finished with value: 0.7597765363128491 and parameters: {'classifier': 'RandomForest', 'n_estimators': 213, 'max_depth': 11, 'min_samples_split': 7, 'min_samples_leaf': 8, 'bootstrap': True}. Best is trial 2 with value: 0.7746741154562384.\n",
      "[I 2024-11-25 00:16:32,204] Trial 4 finished with value: 0.7858472998137801 and parameters: {'classifier': 'SVM', 'C': 28.030209499758836, 'kernel': 'linear', 'gamma': 'scale'}. Best is trial 4 with value: 0.7858472998137801.\n",
      "[I 2024-11-25 00:16:32,228] Trial 5 finished with value: 0.7243947858472999 and parameters: {'classifier': 'SVM', 'C': 1.4678160045538464, 'kernel': 'poly', 'gamma': 'scale'}. Best is trial 4 with value: 0.7858472998137801.\n",
      "[I 2024-11-25 00:16:32,258] Trial 6 finished with value: 0.7746741154562384 and parameters: {'classifier': 'SVM', 'C': 0.8883632723542225, 'kernel': 'rbf', 'gamma': 'scale'}. Best is trial 4 with value: 0.7858472998137801.\n",
      "[I 2024-11-25 00:16:32,816] Trial 7 finished with value: 0.7653631284916201 and parameters: {'classifier': 'RandomForest', 'n_estimators': 123, 'max_depth': 18, 'min_samples_split': 6, 'min_samples_leaf': 3, 'bootstrap': False}. Best is trial 4 with value: 0.7858472998137801.\n",
      "[I 2024-11-25 00:16:35,188] Trial 8 finished with value: 0.750465549348231 and parameters: {'classifier': 'GradientBoosting', 'n_estimators': 262, 'learning_rate': 0.014577542335841544, 'max_depth': 15, 'min_samples_split': 6, 'min_samples_leaf': 10}. Best is trial 4 with value: 0.7858472998137801.\n",
      "[I 2024-11-25 00:16:37,320] Trial 9 finished with value: 0.750465549348231 and parameters: {'classifier': 'GradientBoosting', 'n_estimators': 208, 'learning_rate': 0.06440044475548116, 'max_depth': 8, 'min_samples_split': 9, 'min_samples_leaf': 2}. Best is trial 4 with value: 0.7858472998137801.\n",
      "[I 2024-11-25 00:16:37,478] Trial 10 finished with value: 0.7858472998137801 and parameters: {'classifier': 'SVM', 'C': 54.80394579489363, 'kernel': 'linear', 'gamma': 'auto'}. Best is trial 4 with value: 0.7858472998137801.\n",
      "[I 2024-11-25 00:16:37,656] Trial 11 finished with value: 0.7858472998137801 and parameters: {'classifier': 'SVM', 'C': 68.3300178693978, 'kernel': 'linear', 'gamma': 'auto'}. Best is trial 4 with value: 0.7858472998137801.\n",
      "[I 2024-11-25 00:16:37,829] Trial 12 finished with value: 0.7858472998137801 and parameters: {'classifier': 'SVM', 'C': 57.241011339128995, 'kernel': 'linear', 'gamma': 'auto'}. Best is trial 4 with value: 0.7858472998137801.\n",
      "[I 2024-11-25 00:16:37,904] Trial 13 finished with value: 0.7858472998137801 and parameters: {'classifier': 'SVM', 'C': 16.779999148396207, 'kernel': 'linear', 'gamma': 'scale'}. Best is trial 4 with value: 0.7858472998137801.\n",
      "[I 2024-11-25 00:16:37,932] Trial 14 finished with value: 0.7672253258845437 and parameters: {'classifier': 'SVM', 'C': 0.1132572472023777, 'kernel': 'sigmoid', 'gamma': 'auto'}. Best is trial 4 with value: 0.7858472998137801.\n",
      "[I 2024-11-25 00:16:37,983] Trial 15 finished with value: 0.7858472998137801 and parameters: {'classifier': 'SVM', 'C': 9.423663258121648, 'kernel': 'linear', 'gamma': 'auto'}. Best is trial 4 with value: 0.7858472998137801.\n",
      "[I 2024-11-25 00:16:38,050] Trial 16 finished with value: 0.7858472998137801 and parameters: {'classifier': 'SVM', 'C': 15.302629220740359, 'kernel': 'linear', 'gamma': 'scale'}. Best is trial 4 with value: 0.7858472998137801.\n",
      "[I 2024-11-25 00:16:38,099] Trial 17 finished with value: 0.7113594040968342 and parameters: {'classifier': 'SVM', 'C': 93.64466798448387, 'kernel': 'rbf', 'gamma': 'auto'}. Best is trial 4 with value: 0.7858472998137801.\n",
      "[I 2024-11-25 00:16:38,128] Trial 18 finished with value: 0.7355679702048418 and parameters: {'classifier': 'SVM', 'C': 4.762103618032864, 'kernel': 'poly', 'gamma': 'scale'}. Best is trial 4 with value: 0.7858472998137801.\n",
      "[I 2024-11-25 00:16:39,523] Trial 19 finished with value: 0.7504655493482307 and parameters: {'classifier': 'GradientBoosting', 'n_estimators': 288, 'learning_rate': 0.28837861060088543, 'max_depth': 4, 'min_samples_split': 2, 'min_samples_leaf': 5}. Best is trial 4 with value: 0.7858472998137801.\n",
      "[I 2024-11-25 00:16:39,550] Trial 20 finished with value: 0.6945996275605214 and parameters: {'classifier': 'SVM', 'C': 30.87376538623413, 'kernel': 'sigmoid', 'gamma': 'scale'}. Best is trial 4 with value: 0.7858472998137801.\n",
      "[I 2024-11-25 00:16:39,758] Trial 21 finished with value: 0.7858472998137801 and parameters: {'classifier': 'SVM', 'C': 77.97108176845452, 'kernel': 'linear', 'gamma': 'auto'}. Best is trial 4 with value: 0.7858472998137801.\n",
      "[I 2024-11-25 00:16:39,874] Trial 22 finished with value: 0.7858472998137801 and parameters: {'classifier': 'SVM', 'C': 31.785520577290132, 'kernel': 'linear', 'gamma': 'auto'}. Best is trial 4 with value: 0.7858472998137801.\n",
      "[I 2024-11-25 00:16:39,983] Trial 23 finished with value: 0.7858472998137801 and parameters: {'classifier': 'SVM', 'C': 32.983718445675635, 'kernel': 'linear', 'gamma': 'auto'}. Best is trial 4 with value: 0.7858472998137801.\n",
      "[I 2024-11-25 00:16:40,273] Trial 24 finished with value: 0.7858472998137801 and parameters: {'classifier': 'SVM', 'C': 97.152915787013, 'kernel': 'linear', 'gamma': 'auto'}. Best is trial 4 with value: 0.7858472998137801.\n",
      "[I 2024-11-25 00:16:40,313] Trial 25 finished with value: 0.7858472998137801 and parameters: {'classifier': 'SVM', 'C': 5.567908329789403, 'kernel': 'linear', 'gamma': 'auto'}. Best is trial 4 with value: 0.7858472998137801.\n",
      "[I 2024-11-25 00:16:40,416] Trial 26 finished with value: 0.7858472998137801 and parameters: {'classifier': 'SVM', 'C': 34.08390348905987, 'kernel': 'linear', 'gamma': 'scale'}. Best is trial 4 with value: 0.7858472998137801.\n",
      "[I 2024-11-25 00:16:40,452] Trial 27 finished with value: 0.750465549348231 and parameters: {'classifier': 'SVM', 'C': 15.927864518694205, 'kernel': 'rbf', 'gamma': 'auto'}. Best is trial 4 with value: 0.7858472998137801.\n",
      "[I 2024-11-25 00:16:41,293] Trial 28 finished with value: 0.6983240223463687 and parameters: {'classifier': 'GradientBoosting', 'n_estimators': 51, 'learning_rate': 0.24413068688478537, 'max_depth': 20, 'min_samples_split': 2, 'min_samples_leaf': 1}. Best is trial 4 with value: 0.7858472998137801.\n",
      "[I 2024-11-25 00:16:41,751] Trial 29 finished with value: 0.7616387337057727 and parameters: {'classifier': 'RandomForest', 'n_estimators': 113, 'max_depth': 16, 'min_samples_split': 10, 'min_samples_leaf': 4, 'bootstrap': True}. Best is trial 4 with value: 0.7858472998137801.\n",
      "[I 2024-11-25 00:16:42,826] Trial 30 finished with value: 0.7597765363128491 and parameters: {'classifier': 'RandomForest', 'n_estimators': 294, 'max_depth': 3, 'min_samples_split': 4, 'min_samples_leaf': 6, 'bootstrap': True}. Best is trial 4 with value: 0.7858472998137801.\n",
      "[I 2024-11-25 00:16:43,018] Trial 31 finished with value: 0.7858472998137801 and parameters: {'classifier': 'SVM', 'C': 66.21856301097459, 'kernel': 'linear', 'gamma': 'auto'}. Best is trial 4 with value: 0.7858472998137801.\n",
      "[I 2024-11-25 00:16:43,193] Trial 32 finished with value: 0.7858472998137801 and parameters: {'classifier': 'SVM', 'C': 52.70159733565145, 'kernel': 'linear', 'gamma': 'auto'}. Best is trial 4 with value: 0.7858472998137801.\n",
      "[I 2024-11-25 00:16:43,313] Trial 33 finished with value: 0.7858472998137801 and parameters: {'classifier': 'SVM', 'C': 39.02239876965462, 'kernel': 'linear', 'gamma': 'auto'}. Best is trial 4 with value: 0.7858472998137801.\n",
      "[I 2024-11-25 00:16:43,386] Trial 34 finished with value: 0.7858472998137801 and parameters: {'classifier': 'SVM', 'C': 17.484730263955274, 'kernel': 'linear', 'gamma': 'auto'}. Best is trial 4 with value: 0.7858472998137801.\n",
      "[I 2024-11-25 00:16:43,452] Trial 35 finished with value: 0.690875232774674 and parameters: {'classifier': 'SVM', 'C': 52.31586387581939, 'kernel': 'poly', 'gamma': 'auto'}. Best is trial 4 with value: 0.7858472998137801.\n",
      "[I 2024-11-25 00:16:44,396] Trial 36 finished with value: 0.7672253258845437 and parameters: {'classifier': 'RandomForest', 'n_estimators': 240, 'max_depth': 8, 'min_samples_split': 9, 'min_samples_leaf': 3, 'bootstrap': True}. Best is trial 4 with value: 0.7858472998137801.\n",
      "[I 2024-11-25 00:16:44,420] Trial 37 finished with value: 0.696461824953445 and parameters: {'classifier': 'SVM', 'C': 21.843008382650805, 'kernel': 'sigmoid', 'gamma': 'scale'}. Best is trial 4 with value: 0.7858472998137801.\n",
      "[I 2024-11-25 00:16:47,914] Trial 38 finished with value: 0.6927374301675977 and parameters: {'classifier': 'GradientBoosting', 'n_estimators': 172, 'learning_rate': 0.05796100970675997, 'max_depth': 20, 'min_samples_split': 4, 'min_samples_leaf': 1}. Best is trial 4 with value: 0.7858472998137801.\n",
      "[I 2024-11-25 00:16:48,221] Trial 39 finished with value: 0.7877094972067039 and parameters: {'classifier': 'RandomForest', 'n_estimators': 95, 'max_depth': 14, 'min_samples_split': 3, 'min_samples_leaf': 9, 'bootstrap': False}. Best is trial 39 with value: 0.7877094972067039.\n",
      "[I 2024-11-25 00:16:48,525] Trial 40 finished with value: 0.7839851024208566 and parameters: {'classifier': 'RandomForest', 'n_estimators': 93, 'max_depth': 13, 'min_samples_split': 3, 'min_samples_leaf': 9, 'bootstrap': False}. Best is trial 39 with value: 0.7877094972067039.\n",
      "[I 2024-11-25 00:16:48,995] Trial 41 finished with value: 0.7635009310986964 and parameters: {'classifier': 'RandomForest', 'n_estimators': 143, 'max_depth': 16, 'min_samples_split': 4, 'min_samples_leaf': 6, 'bootstrap': False}. Best is trial 39 with value: 0.7877094972067039.\n",
      "[I 2024-11-25 00:16:49,292] Trial 42 finished with value: 0.7783985102420857 and parameters: {'classifier': 'RandomForest', 'n_estimators': 89, 'max_depth': 14, 'min_samples_split': 3, 'min_samples_leaf': 8, 'bootstrap': False}. Best is trial 39 with value: 0.7877094972067039.\n",
      "[I 2024-11-25 00:16:49,803] Trial 43 finished with value: 0.7783985102420856 and parameters: {'classifier': 'RandomForest', 'n_estimators': 163, 'max_depth': 9, 'min_samples_split': 8, 'min_samples_leaf': 9, 'bootstrap': False}. Best is trial 39 with value: 0.7877094972067039.\n",
      "[I 2024-11-25 00:16:50,221] Trial 44 finished with value: 0.7709497206703911 and parameters: {'classifier': 'RandomForest', 'n_estimators': 126, 'max_depth': 18, 'min_samples_split': 3, 'min_samples_leaf': 5, 'bootstrap': False}. Best is trial 39 with value: 0.7877094972067039.\n",
      "[I 2024-11-25 00:16:50,398] Trial 45 finished with value: 0.7858472998137801 and parameters: {'classifier': 'SVM', 'C': 52.84435156036423, 'kernel': 'linear', 'gamma': 'auto'}. Best is trial 39 with value: 0.7877094972067039.\n",
      "[I 2024-11-25 00:16:51,828] Trial 46 finished with value: 0.750465549348231 and parameters: {'classifier': 'GradientBoosting', 'n_estimators': 189, 'learning_rate': 0.11836213464375887, 'max_depth': 6, 'min_samples_split': 5, 'min_samples_leaf': 7}. Best is trial 39 with value: 0.7877094972067039.\n",
      "[I 2024-11-25 00:16:51,872] Trial 47 finished with value: 0.7858472998137801 and parameters: {'classifier': 'SVM', 'C': 7.099980001352585, 'kernel': 'linear', 'gamma': 'auto'}. Best is trial 39 with value: 0.7877094972067039.\n",
      "[I 2024-11-25 00:16:51,904] Trial 48 finished with value: 0.7858472998137801 and parameters: {'classifier': 'SVM', 'C': 2.170514175064982, 'kernel': 'linear', 'gamma': 'scale'}. Best is trial 39 with value: 0.7877094972067039.\n",
      "[I 2024-11-25 00:16:51,926] Trial 49 finished with value: 0.7839851024208566 and parameters: {'classifier': 'SVM', 'C': 0.5955757862057106, 'kernel': 'linear', 'gamma': 'auto'}. Best is trial 39 with value: 0.7877094972067039.\n",
      "[I 2024-11-25 00:16:52,171] Trial 50 finished with value: 0.7616387337057727 and parameters: {'classifier': 'RandomForest', 'n_estimators': 54, 'max_depth': 12, 'min_samples_split': 2, 'min_samples_leaf': 9, 'bootstrap': True}. Best is trial 39 with value: 0.7877094972067039.\n",
      "[I 2024-11-25 00:16:52,262] Trial 51 finished with value: 0.7858472998137801 and parameters: {'classifier': 'SVM', 'C': 22.36167068815653, 'kernel': 'linear', 'gamma': 'scale'}. Best is trial 39 with value: 0.7877094972067039.\n",
      "[I 2024-11-25 00:16:52,295] Trial 52 finished with value: 0.7094972067039106 and parameters: {'classifier': 'SVM', 'C': 10.644331201101778, 'kernel': 'poly', 'gamma': 'scale'}. Best is trial 39 with value: 0.7877094972067039.\n",
      "[I 2024-11-25 00:16:52,453] Trial 53 finished with value: 0.7858472998137801 and parameters: {'classifier': 'SVM', 'C': 47.841404094915816, 'kernel': 'linear', 'gamma': 'scale'}. Best is trial 39 with value: 0.7877094972067039.\n",
      "[I 2024-11-25 00:16:52,501] Trial 54 finished with value: 0.7094972067039107 and parameters: {'classifier': 'SVM', 'C': 98.67898719710928, 'kernel': 'rbf', 'gamma': 'scale'}. Best is trial 39 with value: 0.7877094972067039.\n",
      "[I 2024-11-25 00:16:52,592] Trial 55 finished with value: 0.7858472998137801 and parameters: {'classifier': 'SVM', 'C': 27.71686105620749, 'kernel': 'linear', 'gamma': 'scale'}. Best is trial 39 with value: 0.7877094972067039.\n",
      "[I 2024-11-25 00:16:52,614] Trial 56 finished with value: 0.6815642458100558 and parameters: {'classifier': 'SVM', 'C': 12.9680166062567, 'kernel': 'sigmoid', 'gamma': 'scale'}. Best is trial 39 with value: 0.7877094972067039.\n",
      "[I 2024-11-25 00:16:53,607] Trial 57 finished with value: 0.7728119180633147 and parameters: {'classifier': 'GradientBoosting', 'n_estimators': 95, 'learning_rate': 0.025516005694962818, 'max_depth': 18, 'min_samples_split': 5, 'min_samples_leaf': 7}. Best is trial 39 with value: 0.7877094972067039.\n",
      "[I 2024-11-25 00:16:53,631] Trial 58 finished with value: 0.7858472998137803 and parameters: {'classifier': 'SVM', 'C': 0.3270355642080534, 'kernel': 'linear', 'gamma': 'scale'}. Best is trial 39 with value: 0.7877094972067039.\n",
      "[I 2024-11-25 00:16:53,655] Trial 59 finished with value: 0.7821229050279329 and parameters: {'classifier': 'SVM', 'C': 0.38238216030521127, 'kernel': 'linear', 'gamma': 'auto'}. Best is trial 39 with value: 0.7877094972067039.\n",
      "[I 2024-11-25 00:16:53,679] Trial 60 finished with value: 0.7895716945996275 and parameters: {'classifier': 'SVM', 'C': 0.13964790337895397, 'kernel': 'linear', 'gamma': 'scale'}. Best is trial 60 with value: 0.7895716945996275.\n",
      "[I 2024-11-25 00:16:53,703] Trial 61 finished with value: 0.7895716945996275 and parameters: {'classifier': 'SVM', 'C': 0.14174039026238766, 'kernel': 'linear', 'gamma': 'scale'}. Best is trial 60 with value: 0.7895716945996275.\n",
      "[I 2024-11-25 00:16:53,727] Trial 62 finished with value: 0.7895716945996275 and parameters: {'classifier': 'SVM', 'C': 0.13860914551989648, 'kernel': 'linear', 'gamma': 'scale'}. Best is trial 60 with value: 0.7895716945996275.\n",
      "[I 2024-11-25 00:16:53,748] Trial 63 finished with value: 0.7877094972067038 and parameters: {'classifier': 'SVM', 'C': 0.10122253989863247, 'kernel': 'linear', 'gamma': 'scale'}. Best is trial 60 with value: 0.7895716945996275.\n",
      "[I 2024-11-25 00:16:53,775] Trial 64 finished with value: 0.7877094972067038 and parameters: {'classifier': 'SVM', 'C': 0.10120999752607525, 'kernel': 'linear', 'gamma': 'scale'}. Best is trial 60 with value: 0.7895716945996275.\n",
      "[I 2024-11-25 00:16:53,797] Trial 65 finished with value: 0.7877094972067038 and parameters: {'classifier': 'SVM', 'C': 0.10043978181491349, 'kernel': 'linear', 'gamma': 'scale'}. Best is trial 60 with value: 0.7895716945996275.\n",
      "[I 2024-11-25 00:16:53,820] Trial 66 finished with value: 0.7877094972067038 and parameters: {'classifier': 'SVM', 'C': 0.10195571488386705, 'kernel': 'linear', 'gamma': 'scale'}. Best is trial 60 with value: 0.7895716945996275.\n",
      "[I 2024-11-25 00:16:53,856] Trial 67 finished with value: 0.7523277467411545 and parameters: {'classifier': 'SVM', 'C': 0.15486582907176538, 'kernel': 'rbf', 'gamma': 'scale'}. Best is trial 60 with value: 0.7895716945996275.\n",
      "[I 2024-11-25 00:16:53,880] Trial 68 finished with value: 0.7150837988826816 and parameters: {'classifier': 'SVM', 'C': 0.17316474948296717, 'kernel': 'poly', 'gamma': 'scale'}. Best is trial 60 with value: 0.7895716945996275.\n",
      "[I 2024-11-25 00:16:53,906] Trial 69 finished with value: 0.7858472998137803 and parameters: {'classifier': 'SVM', 'C': 0.21320976054930788, 'kernel': 'linear', 'gamma': 'scale'}. Best is trial 60 with value: 0.7895716945996275.\n",
      "[I 2024-11-25 00:16:54,687] Trial 70 finished with value: 0.7690875232774674 and parameters: {'classifier': 'RandomForest', 'n_estimators': 251, 'max_depth': 11, 'min_samples_split': 7, 'min_samples_leaf': 10, 'bootstrap': False}. Best is trial 60 with value: 0.7895716945996275.\n",
      "[I 2024-11-25 00:16:54,712] Trial 71 finished with value: 0.7877094972067038 and parameters: {'classifier': 'SVM', 'C': 0.10526706892407918, 'kernel': 'linear', 'gamma': 'scale'}. Best is trial 60 with value: 0.7895716945996275.\n",
      "[I 2024-11-25 00:16:54,735] Trial 72 finished with value: 0.7895716945996275 and parameters: {'classifier': 'SVM', 'C': 0.14375042646219455, 'kernel': 'linear', 'gamma': 'scale'}. Best is trial 60 with value: 0.7895716945996275.\n",
      "[I 2024-11-25 00:16:54,777] Trial 73 finished with value: 0.7858472998137803 and parameters: {'classifier': 'SVM', 'C': 0.23596527295757805, 'kernel': 'linear', 'gamma': 'scale'}. Best is trial 60 with value: 0.7895716945996275.\n",
      "[I 2024-11-25 00:16:54,814] Trial 74 finished with value: 0.7895716945996275 and parameters: {'classifier': 'SVM', 'C': 0.14397670863165934, 'kernel': 'linear', 'gamma': 'scale'}. Best is trial 60 with value: 0.7895716945996275.\n",
      "[I 2024-11-25 00:16:54,844] Trial 75 finished with value: 0.7895716945996275 and parameters: {'classifier': 'SVM', 'C': 0.14305549189418132, 'kernel': 'linear', 'gamma': 'scale'}. Best is trial 60 with value: 0.7895716945996275.\n",
      "[I 2024-11-25 00:16:54,875] Trial 76 finished with value: 0.7709497206703911 and parameters: {'classifier': 'SVM', 'C': 0.14948477607472457, 'kernel': 'sigmoid', 'gamma': 'scale'}. Best is trial 60 with value: 0.7895716945996275.\n",
      "[I 2024-11-25 00:16:55,471] Trial 77 finished with value: 0.750465549348231 and parameters: {'classifier': 'GradientBoosting', 'n_estimators': 72, 'learning_rate': 0.030924087697020406, 'max_depth': 6, 'min_samples_split': 3, 'min_samples_leaf': 5}. Best is trial 60 with value: 0.7895716945996275.\n",
      "[I 2024-11-25 00:16:55,497] Trial 78 finished with value: 0.7858472998137803 and parameters: {'classifier': 'SVM', 'C': 0.2851272973527274, 'kernel': 'linear', 'gamma': 'scale'}. Best is trial 60 with value: 0.7895716945996275.\n",
      "[I 2024-11-25 00:16:55,521] Trial 79 finished with value: 0.7839851024208566 and parameters: {'classifier': 'SVM', 'C': 0.4456380173577981, 'kernel': 'linear', 'gamma': 'scale'}. Best is trial 60 with value: 0.7895716945996275.\n",
      "[I 2024-11-25 00:16:56,000] Trial 80 finished with value: 0.7616387337057727 and parameters: {'classifier': 'RandomForest', 'n_estimators': 136, 'max_depth': 16, 'min_samples_split': 4, 'min_samples_leaf': 4, 'bootstrap': False}. Best is trial 60 with value: 0.7895716945996275.\n",
      "[I 2024-11-25 00:16:56,024] Trial 81 finished with value: 0.7895716945996275 and parameters: {'classifier': 'SVM', 'C': 0.13876800678317663, 'kernel': 'linear', 'gamma': 'scale'}. Best is trial 60 with value: 0.7895716945996275.\n",
      "[I 2024-11-25 00:16:56,046] Trial 82 finished with value: 0.7895716945996275 and parameters: {'classifier': 'SVM', 'C': 0.1390722659389213, 'kernel': 'linear', 'gamma': 'scale'}. Best is trial 60 with value: 0.7895716945996275.\n",
      "[I 2024-11-25 00:16:56,068] Trial 83 finished with value: 0.7895716945996275 and parameters: {'classifier': 'SVM', 'C': 0.14879423852258544, 'kernel': 'linear', 'gamma': 'scale'}. Best is trial 60 with value: 0.7895716945996275.\n",
      "[I 2024-11-25 00:16:56,091] Trial 84 finished with value: 0.7895716945996275 and parameters: {'classifier': 'SVM', 'C': 0.1467536783873732, 'kernel': 'linear', 'gamma': 'scale'}. Best is trial 60 with value: 0.7895716945996275.\n",
      "[I 2024-11-25 00:16:56,114] Trial 85 finished with value: 0.7858472998137803 and parameters: {'classifier': 'SVM', 'C': 0.22286047523239058, 'kernel': 'linear', 'gamma': 'scale'}. Best is trial 60 with value: 0.7895716945996275.\n",
      "[I 2024-11-25 00:16:56,136] Trial 86 finished with value: 0.7877094972067038 and parameters: {'classifier': 'SVM', 'C': 0.18084446391118308, 'kernel': 'linear', 'gamma': 'scale'}. Best is trial 60 with value: 0.7895716945996275.\n",
      "[I 2024-11-25 00:16:56,159] Trial 87 finished with value: 0.7895716945996275 and parameters: {'classifier': 'SVM', 'C': 0.1401692501429136, 'kernel': 'linear', 'gamma': 'scale'}. Best is trial 60 with value: 0.7895716945996275.\n",
      "[I 2024-11-25 00:16:56,184] Trial 88 finished with value: 0.7858472998137803 and parameters: {'classifier': 'SVM', 'C': 0.25833587141708775, 'kernel': 'linear', 'gamma': 'scale'}. Best is trial 60 with value: 0.7895716945996275.\n",
      "[I 2024-11-25 00:16:56,208] Trial 89 finished with value: 0.7895716945996275 and parameters: {'classifier': 'SVM', 'C': 0.13127496681690828, 'kernel': 'linear', 'gamma': 'scale'}. Best is trial 60 with value: 0.7895716945996275.\n",
      "[I 2024-11-25 00:16:56,232] Trial 90 finished with value: 0.7858472998137803 and parameters: {'classifier': 'SVM', 'C': 0.1879312546229471, 'kernel': 'linear', 'gamma': 'scale'}. Best is trial 60 with value: 0.7895716945996275.\n",
      "[I 2024-11-25 00:16:56,254] Trial 91 finished with value: 0.7895716945996275 and parameters: {'classifier': 'SVM', 'C': 0.13686742880657693, 'kernel': 'linear', 'gamma': 'scale'}. Best is trial 60 with value: 0.7895716945996275.\n",
      "[I 2024-11-25 00:16:56,278] Trial 92 finished with value: 0.7858472998137803 and parameters: {'classifier': 'SVM', 'C': 0.19064719517898393, 'kernel': 'linear', 'gamma': 'scale'}. Best is trial 60 with value: 0.7895716945996275.\n",
      "[I 2024-11-25 00:16:56,300] Trial 93 finished with value: 0.7895716945996275 and parameters: {'classifier': 'SVM', 'C': 0.12982165663228165, 'kernel': 'linear', 'gamma': 'scale'}. Best is trial 60 with value: 0.7895716945996275.\n",
      "[I 2024-11-25 00:16:56,323] Trial 94 finished with value: 0.7877094972067038 and parameters: {'classifier': 'SVM', 'C': 0.16174627470471614, 'kernel': 'linear', 'gamma': 'scale'}. Best is trial 60 with value: 0.7895716945996275.\n",
      "[I 2024-11-25 00:16:56,350] Trial 95 finished with value: 0.7839851024208566 and parameters: {'classifier': 'SVM', 'C': 1.0658209001335455, 'kernel': 'linear', 'gamma': 'scale'}. Best is trial 60 with value: 0.7895716945996275.\n",
      "[I 2024-11-25 00:16:56,387] Trial 96 finished with value: 0.7653631284916201 and parameters: {'classifier': 'SVM', 'C': 0.3094848315304142, 'kernel': 'rbf', 'gamma': 'scale'}. Best is trial 60 with value: 0.7895716945996275.\n",
      "[I 2024-11-25 00:16:56,413] Trial 97 finished with value: 0.7113594040968342 and parameters: {'classifier': 'SVM', 'C': 0.13067224881480133, 'kernel': 'poly', 'gamma': 'scale'}. Best is trial 60 with value: 0.7895716945996275.\n",
      "[I 2024-11-25 00:16:56,435] Trial 98 finished with value: 0.7858472998137803 and parameters: {'classifier': 'SVM', 'C': 0.23236261867048608, 'kernel': 'linear', 'gamma': 'scale'}. Best is trial 60 with value: 0.7895716945996275.\n",
      "[I 2024-11-25 00:16:57,471] Trial 99 finished with value: 0.7392923649906891 and parameters: {'classifier': 'GradientBoosting', 'n_estimators': 271, 'learning_rate': 0.09679247944003994, 'max_depth': 3, 'min_samples_split': 9, 'min_samples_leaf': 2}. Best is trial 60 with value: 0.7895716945996275.\n"
     ]
    }
   ],
   "source": [
    "# Create a study and optimize it using CmaEsSampler\n",
    "study = optuna.create_study(direction='maximize')\n",
    "study.optimize(objective, n_trials=100)"
   ]
  },
  {
   "cell_type": "code",
   "execution_count": 26,
   "metadata": {
    "colab": {
     "base_uri": "https://localhost:8080/"
    },
    "id": "jLNRO9POBzbW",
    "outputId": "769a9cdf-dc13-4093-b029-875536452690"
   },
   "outputs": [
    {
     "name": "stdout",
     "output_type": "stream",
     "text": [
      "Best trial parameters: {'classifier': 'SVM', 'C': 0.13964790337895397, 'kernel': 'linear', 'gamma': 'scale'}\n",
      "Best trial accuracy: 0.7895716945996275\n"
     ]
    }
   ],
   "source": [
    "# Retrieve the best trial\n",
    "best_trial = study.best_trial\n",
    "print(\"Best trial parameters:\", best_trial.params)\n",
    "print(\"Best trial accuracy:\", best_trial.value)"
   ]
  },
  {
   "cell_type": "code",
   "execution_count": 27,
   "metadata": {
    "colab": {
     "base_uri": "https://localhost:8080/",
     "height": 617
    },
    "id": "QD74lBzvB6Q5",
    "outputId": "d9f3eb63-ce25-4c56-db57-211ac8e3c85b"
   },
   "outputs": [
    {
     "data": {
      "text/html": [
       "<div>\n",
       "<style scoped>\n",
       "    .dataframe tbody tr th:only-of-type {\n",
       "        vertical-align: middle;\n",
       "    }\n",
       "\n",
       "    .dataframe tbody tr th {\n",
       "        vertical-align: top;\n",
       "    }\n",
       "\n",
       "    .dataframe thead th {\n",
       "        text-align: right;\n",
       "    }\n",
       "</style>\n",
       "<table border=\"1\" class=\"dataframe\">\n",
       "  <thead>\n",
       "    <tr style=\"text-align: right;\">\n",
       "      <th></th>\n",
       "      <th>number</th>\n",
       "      <th>value</th>\n",
       "      <th>datetime_start</th>\n",
       "      <th>datetime_complete</th>\n",
       "      <th>duration</th>\n",
       "      <th>params_C</th>\n",
       "      <th>params_bootstrap</th>\n",
       "      <th>params_classifier</th>\n",
       "      <th>params_gamma</th>\n",
       "      <th>params_kernel</th>\n",
       "      <th>params_learning_rate</th>\n",
       "      <th>params_max_depth</th>\n",
       "      <th>params_min_samples_leaf</th>\n",
       "      <th>params_min_samples_split</th>\n",
       "      <th>params_n_estimators</th>\n",
       "      <th>state</th>\n",
       "    </tr>\n",
       "  </thead>\n",
       "  <tbody>\n",
       "    <tr>\n",
       "      <th>0</th>\n",
       "      <td>0</td>\n",
       "      <td>0.770950</td>\n",
       "      <td>2024-11-25 00:16:27.543855</td>\n",
       "      <td>2024-11-25 00:16:27.806891</td>\n",
       "      <td>0 days 00:00:00.263036</td>\n",
       "      <td>NaN</td>\n",
       "      <td>False</td>\n",
       "      <td>RandomForest</td>\n",
       "      <td>NaN</td>\n",
       "      <td>NaN</td>\n",
       "      <td>NaN</td>\n",
       "      <td>6.0</td>\n",
       "      <td>10.0</td>\n",
       "      <td>7.0</td>\n",
       "      <td>71.0</td>\n",
       "      <td>COMPLETE</td>\n",
       "    </tr>\n",
       "    <tr>\n",
       "      <th>1</th>\n",
       "      <td>1</td>\n",
       "      <td>0.770950</td>\n",
       "      <td>2024-11-25 00:16:27.808855</td>\n",
       "      <td>2024-11-25 00:16:30.587191</td>\n",
       "      <td>0 days 00:00:02.778336</td>\n",
       "      <td>NaN</td>\n",
       "      <td>NaN</td>\n",
       "      <td>GradientBoosting</td>\n",
       "      <td>NaN</td>\n",
       "      <td>NaN</td>\n",
       "      <td>0.013427</td>\n",
       "      <td>10.0</td>\n",
       "      <td>7.0</td>\n",
       "      <td>5.0</td>\n",
       "      <td>207.0</td>\n",
       "      <td>COMPLETE</td>\n",
       "    </tr>\n",
       "    <tr>\n",
       "      <th>2</th>\n",
       "      <td>2</td>\n",
       "      <td>0.774674</td>\n",
       "      <td>2024-11-25 00:16:30.589196</td>\n",
       "      <td>2024-11-25 00:16:31.164833</td>\n",
       "      <td>0 days 00:00:00.575637</td>\n",
       "      <td>NaN</td>\n",
       "      <td>False</td>\n",
       "      <td>RandomForest</td>\n",
       "      <td>NaN</td>\n",
       "      <td>NaN</td>\n",
       "      <td>NaN</td>\n",
       "      <td>13.0</td>\n",
       "      <td>8.0</td>\n",
       "      <td>6.0</td>\n",
       "      <td>151.0</td>\n",
       "      <td>COMPLETE</td>\n",
       "    </tr>\n",
       "    <tr>\n",
       "      <th>3</th>\n",
       "      <td>3</td>\n",
       "      <td>0.759777</td>\n",
       "      <td>2024-11-25 00:16:31.166795</td>\n",
       "      <td>2024-11-25 00:16:32.062248</td>\n",
       "      <td>0 days 00:00:00.895453</td>\n",
       "      <td>NaN</td>\n",
       "      <td>True</td>\n",
       "      <td>RandomForest</td>\n",
       "      <td>NaN</td>\n",
       "      <td>NaN</td>\n",
       "      <td>NaN</td>\n",
       "      <td>11.0</td>\n",
       "      <td>8.0</td>\n",
       "      <td>7.0</td>\n",
       "      <td>213.0</td>\n",
       "      <td>COMPLETE</td>\n",
       "    </tr>\n",
       "    <tr>\n",
       "      <th>4</th>\n",
       "      <td>4</td>\n",
       "      <td>0.785847</td>\n",
       "      <td>2024-11-25 00:16:32.063108</td>\n",
       "      <td>2024-11-25 00:16:32.204764</td>\n",
       "      <td>0 days 00:00:00.141656</td>\n",
       "      <td>28.030209</td>\n",
       "      <td>NaN</td>\n",
       "      <td>SVM</td>\n",
       "      <td>scale</td>\n",
       "      <td>linear</td>\n",
       "      <td>NaN</td>\n",
       "      <td>NaN</td>\n",
       "      <td>NaN</td>\n",
       "      <td>NaN</td>\n",
       "      <td>NaN</td>\n",
       "      <td>COMPLETE</td>\n",
       "    </tr>\n",
       "    <tr>\n",
       "      <th>...</th>\n",
       "      <td>...</td>\n",
       "      <td>...</td>\n",
       "      <td>...</td>\n",
       "      <td>...</td>\n",
       "      <td>...</td>\n",
       "      <td>...</td>\n",
       "      <td>...</td>\n",
       "      <td>...</td>\n",
       "      <td>...</td>\n",
       "      <td>...</td>\n",
       "      <td>...</td>\n",
       "      <td>...</td>\n",
       "      <td>...</td>\n",
       "      <td>...</td>\n",
       "      <td>...</td>\n",
       "      <td>...</td>\n",
       "    </tr>\n",
       "    <tr>\n",
       "      <th>95</th>\n",
       "      <td>95</td>\n",
       "      <td>0.783985</td>\n",
       "      <td>2024-11-25 00:16:56.324805</td>\n",
       "      <td>2024-11-25 00:16:56.350701</td>\n",
       "      <td>0 days 00:00:00.025896</td>\n",
       "      <td>1.065821</td>\n",
       "      <td>NaN</td>\n",
       "      <td>SVM</td>\n",
       "      <td>scale</td>\n",
       "      <td>linear</td>\n",
       "      <td>NaN</td>\n",
       "      <td>NaN</td>\n",
       "      <td>NaN</td>\n",
       "      <td>NaN</td>\n",
       "      <td>NaN</td>\n",
       "      <td>COMPLETE</td>\n",
       "    </tr>\n",
       "    <tr>\n",
       "      <th>96</th>\n",
       "      <td>96</td>\n",
       "      <td>0.765363</td>\n",
       "      <td>2024-11-25 00:16:56.351742</td>\n",
       "      <td>2024-11-25 00:16:56.387830</td>\n",
       "      <td>0 days 00:00:00.036088</td>\n",
       "      <td>0.309485</td>\n",
       "      <td>NaN</td>\n",
       "      <td>SVM</td>\n",
       "      <td>scale</td>\n",
       "      <td>rbf</td>\n",
       "      <td>NaN</td>\n",
       "      <td>NaN</td>\n",
       "      <td>NaN</td>\n",
       "      <td>NaN</td>\n",
       "      <td>NaN</td>\n",
       "      <td>COMPLETE</td>\n",
       "    </tr>\n",
       "    <tr>\n",
       "      <th>97</th>\n",
       "      <td>97</td>\n",
       "      <td>0.711359</td>\n",
       "      <td>2024-11-25 00:16:56.388829</td>\n",
       "      <td>2024-11-25 00:16:56.412739</td>\n",
       "      <td>0 days 00:00:00.023910</td>\n",
       "      <td>0.130672</td>\n",
       "      <td>NaN</td>\n",
       "      <td>SVM</td>\n",
       "      <td>scale</td>\n",
       "      <td>poly</td>\n",
       "      <td>NaN</td>\n",
       "      <td>NaN</td>\n",
       "      <td>NaN</td>\n",
       "      <td>NaN</td>\n",
       "      <td>NaN</td>\n",
       "      <td>COMPLETE</td>\n",
       "    </tr>\n",
       "    <tr>\n",
       "      <th>98</th>\n",
       "      <td>98</td>\n",
       "      <td>0.785847</td>\n",
       "      <td>2024-11-25 00:16:56.413730</td>\n",
       "      <td>2024-11-25 00:16:56.435136</td>\n",
       "      <td>0 days 00:00:00.021406</td>\n",
       "      <td>0.232363</td>\n",
       "      <td>NaN</td>\n",
       "      <td>SVM</td>\n",
       "      <td>scale</td>\n",
       "      <td>linear</td>\n",
       "      <td>NaN</td>\n",
       "      <td>NaN</td>\n",
       "      <td>NaN</td>\n",
       "      <td>NaN</td>\n",
       "      <td>NaN</td>\n",
       "      <td>COMPLETE</td>\n",
       "    </tr>\n",
       "    <tr>\n",
       "      <th>99</th>\n",
       "      <td>99</td>\n",
       "      <td>0.739292</td>\n",
       "      <td>2024-11-25 00:16:56.436102</td>\n",
       "      <td>2024-11-25 00:16:57.471102</td>\n",
       "      <td>0 days 00:00:01.035000</td>\n",
       "      <td>NaN</td>\n",
       "      <td>NaN</td>\n",
       "      <td>GradientBoosting</td>\n",
       "      <td>NaN</td>\n",
       "      <td>NaN</td>\n",
       "      <td>0.096792</td>\n",
       "      <td>3.0</td>\n",
       "      <td>2.0</td>\n",
       "      <td>9.0</td>\n",
       "      <td>271.0</td>\n",
       "      <td>COMPLETE</td>\n",
       "    </tr>\n",
       "  </tbody>\n",
       "</table>\n",
       "<p>100 rows × 16 columns</p>\n",
       "</div>"
      ],
      "text/plain": [
       "    number     value             datetime_start          datetime_complete  \\\n",
       "0        0  0.770950 2024-11-25 00:16:27.543855 2024-11-25 00:16:27.806891   \n",
       "1        1  0.770950 2024-11-25 00:16:27.808855 2024-11-25 00:16:30.587191   \n",
       "2        2  0.774674 2024-11-25 00:16:30.589196 2024-11-25 00:16:31.164833   \n",
       "3        3  0.759777 2024-11-25 00:16:31.166795 2024-11-25 00:16:32.062248   \n",
       "4        4  0.785847 2024-11-25 00:16:32.063108 2024-11-25 00:16:32.204764   \n",
       "..     ...       ...                        ...                        ...   \n",
       "95      95  0.783985 2024-11-25 00:16:56.324805 2024-11-25 00:16:56.350701   \n",
       "96      96  0.765363 2024-11-25 00:16:56.351742 2024-11-25 00:16:56.387830   \n",
       "97      97  0.711359 2024-11-25 00:16:56.388829 2024-11-25 00:16:56.412739   \n",
       "98      98  0.785847 2024-11-25 00:16:56.413730 2024-11-25 00:16:56.435136   \n",
       "99      99  0.739292 2024-11-25 00:16:56.436102 2024-11-25 00:16:57.471102   \n",
       "\n",
       "                 duration   params_C params_bootstrap params_classifier  \\\n",
       "0  0 days 00:00:00.263036        NaN            False      RandomForest   \n",
       "1  0 days 00:00:02.778336        NaN              NaN  GradientBoosting   \n",
       "2  0 days 00:00:00.575637        NaN            False      RandomForest   \n",
       "3  0 days 00:00:00.895453        NaN             True      RandomForest   \n",
       "4  0 days 00:00:00.141656  28.030209              NaN               SVM   \n",
       "..                    ...        ...              ...               ...   \n",
       "95 0 days 00:00:00.025896   1.065821              NaN               SVM   \n",
       "96 0 days 00:00:00.036088   0.309485              NaN               SVM   \n",
       "97 0 days 00:00:00.023910   0.130672              NaN               SVM   \n",
       "98 0 days 00:00:00.021406   0.232363              NaN               SVM   \n",
       "99 0 days 00:00:01.035000        NaN              NaN  GradientBoosting   \n",
       "\n",
       "   params_gamma params_kernel  params_learning_rate  params_max_depth  \\\n",
       "0           NaN           NaN                   NaN               6.0   \n",
       "1           NaN           NaN              0.013427              10.0   \n",
       "2           NaN           NaN                   NaN              13.0   \n",
       "3           NaN           NaN                   NaN              11.0   \n",
       "4         scale        linear                   NaN               NaN   \n",
       "..          ...           ...                   ...               ...   \n",
       "95        scale        linear                   NaN               NaN   \n",
       "96        scale           rbf                   NaN               NaN   \n",
       "97        scale          poly                   NaN               NaN   \n",
       "98        scale        linear                   NaN               NaN   \n",
       "99          NaN           NaN              0.096792               3.0   \n",
       "\n",
       "    params_min_samples_leaf  params_min_samples_split  params_n_estimators  \\\n",
       "0                      10.0                       7.0                 71.0   \n",
       "1                       7.0                       5.0                207.0   \n",
       "2                       8.0                       6.0                151.0   \n",
       "3                       8.0                       7.0                213.0   \n",
       "4                       NaN                       NaN                  NaN   \n",
       "..                      ...                       ...                  ...   \n",
       "95                      NaN                       NaN                  NaN   \n",
       "96                      NaN                       NaN                  NaN   \n",
       "97                      NaN                       NaN                  NaN   \n",
       "98                      NaN                       NaN                  NaN   \n",
       "99                      2.0                       9.0                271.0   \n",
       "\n",
       "       state  \n",
       "0   COMPLETE  \n",
       "1   COMPLETE  \n",
       "2   COMPLETE  \n",
       "3   COMPLETE  \n",
       "4   COMPLETE  \n",
       "..       ...  \n",
       "95  COMPLETE  \n",
       "96  COMPLETE  \n",
       "97  COMPLETE  \n",
       "98  COMPLETE  \n",
       "99  COMPLETE  \n",
       "\n",
       "[100 rows x 16 columns]"
      ]
     },
     "execution_count": 27,
     "metadata": {},
     "output_type": "execute_result"
    }
   ],
   "source": [
    "study.trials_dataframe()"
   ]
  },
  {
   "cell_type": "code",
   "execution_count": 28,
   "metadata": {
    "colab": {
     "base_uri": "https://localhost:8080/",
     "height": 209
    },
    "id": "FYO7J-SXB9MY",
    "outputId": "d818d28e-f179-4168-f40a-7d3d889759db"
   },
   "outputs": [
    {
     "data": {
      "text/plain": [
       "SVM                 74\n",
       "RandomForest        16\n",
       "GradientBoosting    10\n",
       "Name: params_classifier, dtype: int64"
      ]
     },
     "execution_count": 28,
     "metadata": {},
     "output_type": "execute_result"
    }
   ],
   "source": [
    "study.trials_dataframe()['params_classifier'].value_counts()"
   ]
  },
  {
   "cell_type": "code",
   "execution_count": 29,
   "metadata": {
    "colab": {
     "base_uri": "https://localhost:8080/",
     "height": 209
    },
    "id": "miKGSOCDCIpc",
    "outputId": "df94e173-cc52-44a1-8a1e-04632cc171e7"
   },
   "outputs": [
    {
     "data": {
      "text/plain": [
       "params_classifier\n",
       "GradientBoosting    0.742644\n",
       "RandomForest        0.769669\n",
       "SVM                 0.773114\n",
       "Name: value, dtype: float64"
      ]
     },
     "execution_count": 29,
     "metadata": {},
     "output_type": "execute_result"
    }
   ],
   "source": [
    "study.trials_dataframe().groupby('params_classifier')['value'].mean()"
   ]
  },
  {
   "cell_type": "code",
   "execution_count": 30,
   "metadata": {
    "colab": {
     "base_uri": "https://localhost:8080/",
     "height": 542
    },
    "id": "a2-8K8--CiJS",
    "outputId": "a62afda2-4faf-45e4-daf7-1f5357d0ed2c"
   },
   "outputs": [
    {
     "data": {
      "application/vnd.plotly.v1+json": {
       "config": {
        "plotlyServerURL": "https://plot.ly"
       },
       "data": [
        {
         "mode": "markers",
         "name": "Objective Value",
         "type": "scatter",
         "x": [
          0,
          1,
          2,
          3,
          4,
          5,
          6,
          7,
          8,
          9,
          10,
          11,
          12,
          13,
          14,
          15,
          16,
          17,
          18,
          19,
          20,
          21,
          22,
          23,
          24,
          25,
          26,
          27,
          28,
          29,
          30,
          31,
          32,
          33,
          34,
          35,
          36,
          37,
          38,
          39,
          40,
          41,
          42,
          43,
          44,
          45,
          46,
          47,
          48,
          49,
          50,
          51,
          52,
          53,
          54,
          55,
          56,
          57,
          58,
          59,
          60,
          61,
          62,
          63,
          64,
          65,
          66,
          67,
          68,
          69,
          70,
          71,
          72,
          73,
          74,
          75,
          76,
          77,
          78,
          79,
          80,
          81,
          82,
          83,
          84,
          85,
          86,
          87,
          88,
          89,
          90,
          91,
          92,
          93,
          94,
          95,
          96,
          97,
          98,
          99
         ],
         "y": [
          0.7709497206703911,
          0.7709497206703911,
          0.7746741154562384,
          0.7597765363128491,
          0.7858472998137801,
          0.7243947858472999,
          0.7746741154562384,
          0.7653631284916201,
          0.750465549348231,
          0.750465549348231,
          0.7858472998137801,
          0.7858472998137801,
          0.7858472998137801,
          0.7858472998137801,
          0.7672253258845437,
          0.7858472998137801,
          0.7858472998137801,
          0.7113594040968342,
          0.7355679702048418,
          0.7504655493482307,
          0.6945996275605214,
          0.7858472998137801,
          0.7858472998137801,
          0.7858472998137801,
          0.7858472998137801,
          0.7858472998137801,
          0.7858472998137801,
          0.750465549348231,
          0.6983240223463687,
          0.7616387337057727,
          0.7597765363128491,
          0.7858472998137801,
          0.7858472998137801,
          0.7858472998137801,
          0.7858472998137801,
          0.690875232774674,
          0.7672253258845437,
          0.696461824953445,
          0.6927374301675977,
          0.7877094972067039,
          0.7839851024208566,
          0.7635009310986964,
          0.7783985102420857,
          0.7783985102420856,
          0.7709497206703911,
          0.7858472998137801,
          0.750465549348231,
          0.7858472998137801,
          0.7858472998137801,
          0.7839851024208566,
          0.7616387337057727,
          0.7858472998137801,
          0.7094972067039106,
          0.7858472998137801,
          0.7094972067039107,
          0.7858472998137801,
          0.6815642458100558,
          0.7728119180633147,
          0.7858472998137803,
          0.7821229050279329,
          0.7895716945996275,
          0.7895716945996275,
          0.7895716945996275,
          0.7877094972067038,
          0.7877094972067038,
          0.7877094972067038,
          0.7877094972067038,
          0.7523277467411545,
          0.7150837988826816,
          0.7858472998137803,
          0.7690875232774674,
          0.7877094972067038,
          0.7895716945996275,
          0.7858472998137803,
          0.7895716945996275,
          0.7895716945996275,
          0.7709497206703911,
          0.750465549348231,
          0.7858472998137803,
          0.7839851024208566,
          0.7616387337057727,
          0.7895716945996275,
          0.7895716945996275,
          0.7895716945996275,
          0.7895716945996275,
          0.7858472998137803,
          0.7877094972067038,
          0.7895716945996275,
          0.7858472998137803,
          0.7895716945996275,
          0.7858472998137803,
          0.7895716945996275,
          0.7858472998137803,
          0.7895716945996275,
          0.7877094972067038,
          0.7839851024208566,
          0.7653631284916201,
          0.7113594040968342,
          0.7858472998137803,
          0.7392923649906891
         ]
        },
        {
         "mode": "lines",
         "name": "Best Value",
         "type": "scatter",
         "x": [
          0,
          1,
          2,
          3,
          4,
          5,
          6,
          7,
          8,
          9,
          10,
          11,
          12,
          13,
          14,
          15,
          16,
          17,
          18,
          19,
          20,
          21,
          22,
          23,
          24,
          25,
          26,
          27,
          28,
          29,
          30,
          31,
          32,
          33,
          34,
          35,
          36,
          37,
          38,
          39,
          40,
          41,
          42,
          43,
          44,
          45,
          46,
          47,
          48,
          49,
          50,
          51,
          52,
          53,
          54,
          55,
          56,
          57,
          58,
          59,
          60,
          61,
          62,
          63,
          64,
          65,
          66,
          67,
          68,
          69,
          70,
          71,
          72,
          73,
          74,
          75,
          76,
          77,
          78,
          79,
          80,
          81,
          82,
          83,
          84,
          85,
          86,
          87,
          88,
          89,
          90,
          91,
          92,
          93,
          94,
          95,
          96,
          97,
          98,
          99
         ],
         "y": [
          0.7709497206703911,
          0.7709497206703911,
          0.7746741154562384,
          0.7746741154562384,
          0.7858472998137801,
          0.7858472998137801,
          0.7858472998137801,
          0.7858472998137801,
          0.7858472998137801,
          0.7858472998137801,
          0.7858472998137801,
          0.7858472998137801,
          0.7858472998137801,
          0.7858472998137801,
          0.7858472998137801,
          0.7858472998137801,
          0.7858472998137801,
          0.7858472998137801,
          0.7858472998137801,
          0.7858472998137801,
          0.7858472998137801,
          0.7858472998137801,
          0.7858472998137801,
          0.7858472998137801,
          0.7858472998137801,
          0.7858472998137801,
          0.7858472998137801,
          0.7858472998137801,
          0.7858472998137801,
          0.7858472998137801,
          0.7858472998137801,
          0.7858472998137801,
          0.7858472998137801,
          0.7858472998137801,
          0.7858472998137801,
          0.7858472998137801,
          0.7858472998137801,
          0.7858472998137801,
          0.7858472998137801,
          0.7877094972067039,
          0.7877094972067039,
          0.7877094972067039,
          0.7877094972067039,
          0.7877094972067039,
          0.7877094972067039,
          0.7877094972067039,
          0.7877094972067039,
          0.7877094972067039,
          0.7877094972067039,
          0.7877094972067039,
          0.7877094972067039,
          0.7877094972067039,
          0.7877094972067039,
          0.7877094972067039,
          0.7877094972067039,
          0.7877094972067039,
          0.7877094972067039,
          0.7877094972067039,
          0.7877094972067039,
          0.7877094972067039,
          0.7895716945996275,
          0.7895716945996275,
          0.7895716945996275,
          0.7895716945996275,
          0.7895716945996275,
          0.7895716945996275,
          0.7895716945996275,
          0.7895716945996275,
          0.7895716945996275,
          0.7895716945996275,
          0.7895716945996275,
          0.7895716945996275,
          0.7895716945996275,
          0.7895716945996275,
          0.7895716945996275,
          0.7895716945996275,
          0.7895716945996275,
          0.7895716945996275,
          0.7895716945996275,
          0.7895716945996275,
          0.7895716945996275,
          0.7895716945996275,
          0.7895716945996275,
          0.7895716945996275,
          0.7895716945996275,
          0.7895716945996275,
          0.7895716945996275,
          0.7895716945996275,
          0.7895716945996275,
          0.7895716945996275,
          0.7895716945996275,
          0.7895716945996275,
          0.7895716945996275,
          0.7895716945996275,
          0.7895716945996275,
          0.7895716945996275,
          0.7895716945996275,
          0.7895716945996275,
          0.7895716945996275,
          0.7895716945996275
         ]
        },
        {
         "marker": {
          "color": "#cccccc"
         },
         "mode": "markers",
         "name": "Infeasible Trial",
         "showlegend": false,
         "type": "scatter",
         "x": [],
         "y": []
        }
       ],
       "layout": {
        "template": {
         "data": {
          "bar": [
           {
            "error_x": {
             "color": "#2a3f5f"
            },
            "error_y": {
             "color": "#2a3f5f"
            },
            "marker": {
             "line": {
              "color": "#E5ECF6",
              "width": 0.5
             },
             "pattern": {
              "fillmode": "overlay",
              "size": 10,
              "solidity": 0.2
             }
            },
            "type": "bar"
           }
          ],
          "barpolar": [
           {
            "marker": {
             "line": {
              "color": "#E5ECF6",
              "width": 0.5
             },
             "pattern": {
              "fillmode": "overlay",
              "size": 10,
              "solidity": 0.2
             }
            },
            "type": "barpolar"
           }
          ],
          "carpet": [
           {
            "aaxis": {
             "endlinecolor": "#2a3f5f",
             "gridcolor": "white",
             "linecolor": "white",
             "minorgridcolor": "white",
             "startlinecolor": "#2a3f5f"
            },
            "baxis": {
             "endlinecolor": "#2a3f5f",
             "gridcolor": "white",
             "linecolor": "white",
             "minorgridcolor": "white",
             "startlinecolor": "#2a3f5f"
            },
            "type": "carpet"
           }
          ],
          "choropleth": [
           {
            "colorbar": {
             "outlinewidth": 0,
             "ticks": ""
            },
            "type": "choropleth"
           }
          ],
          "contour": [
           {
            "colorbar": {
             "outlinewidth": 0,
             "ticks": ""
            },
            "colorscale": [
             [
              0,
              "#0d0887"
             ],
             [
              0.1111111111111111,
              "#46039f"
             ],
             [
              0.2222222222222222,
              "#7201a8"
             ],
             [
              0.3333333333333333,
              "#9c179e"
             ],
             [
              0.4444444444444444,
              "#bd3786"
             ],
             [
              0.5555555555555556,
              "#d8576b"
             ],
             [
              0.6666666666666666,
              "#ed7953"
             ],
             [
              0.7777777777777778,
              "#fb9f3a"
             ],
             [
              0.8888888888888888,
              "#fdca26"
             ],
             [
              1,
              "#f0f921"
             ]
            ],
            "type": "contour"
           }
          ],
          "contourcarpet": [
           {
            "colorbar": {
             "outlinewidth": 0,
             "ticks": ""
            },
            "type": "contourcarpet"
           }
          ],
          "heatmap": [
           {
            "colorbar": {
             "outlinewidth": 0,
             "ticks": ""
            },
            "colorscale": [
             [
              0,
              "#0d0887"
             ],
             [
              0.1111111111111111,
              "#46039f"
             ],
             [
              0.2222222222222222,
              "#7201a8"
             ],
             [
              0.3333333333333333,
              "#9c179e"
             ],
             [
              0.4444444444444444,
              "#bd3786"
             ],
             [
              0.5555555555555556,
              "#d8576b"
             ],
             [
              0.6666666666666666,
              "#ed7953"
             ],
             [
              0.7777777777777778,
              "#fb9f3a"
             ],
             [
              0.8888888888888888,
              "#fdca26"
             ],
             [
              1,
              "#f0f921"
             ]
            ],
            "type": "heatmap"
           }
          ],
          "heatmapgl": [
           {
            "colorbar": {
             "outlinewidth": 0,
             "ticks": ""
            },
            "colorscale": [
             [
              0,
              "#0d0887"
             ],
             [
              0.1111111111111111,
              "#46039f"
             ],
             [
              0.2222222222222222,
              "#7201a8"
             ],
             [
              0.3333333333333333,
              "#9c179e"
             ],
             [
              0.4444444444444444,
              "#bd3786"
             ],
             [
              0.5555555555555556,
              "#d8576b"
             ],
             [
              0.6666666666666666,
              "#ed7953"
             ],
             [
              0.7777777777777778,
              "#fb9f3a"
             ],
             [
              0.8888888888888888,
              "#fdca26"
             ],
             [
              1,
              "#f0f921"
             ]
            ],
            "type": "heatmapgl"
           }
          ],
          "histogram": [
           {
            "marker": {
             "pattern": {
              "fillmode": "overlay",
              "size": 10,
              "solidity": 0.2
             }
            },
            "type": "histogram"
           }
          ],
          "histogram2d": [
           {
            "colorbar": {
             "outlinewidth": 0,
             "ticks": ""
            },
            "colorscale": [
             [
              0,
              "#0d0887"
             ],
             [
              0.1111111111111111,
              "#46039f"
             ],
             [
              0.2222222222222222,
              "#7201a8"
             ],
             [
              0.3333333333333333,
              "#9c179e"
             ],
             [
              0.4444444444444444,
              "#bd3786"
             ],
             [
              0.5555555555555556,
              "#d8576b"
             ],
             [
              0.6666666666666666,
              "#ed7953"
             ],
             [
              0.7777777777777778,
              "#fb9f3a"
             ],
             [
              0.8888888888888888,
              "#fdca26"
             ],
             [
              1,
              "#f0f921"
             ]
            ],
            "type": "histogram2d"
           }
          ],
          "histogram2dcontour": [
           {
            "colorbar": {
             "outlinewidth": 0,
             "ticks": ""
            },
            "colorscale": [
             [
              0,
              "#0d0887"
             ],
             [
              0.1111111111111111,
              "#46039f"
             ],
             [
              0.2222222222222222,
              "#7201a8"
             ],
             [
              0.3333333333333333,
              "#9c179e"
             ],
             [
              0.4444444444444444,
              "#bd3786"
             ],
             [
              0.5555555555555556,
              "#d8576b"
             ],
             [
              0.6666666666666666,
              "#ed7953"
             ],
             [
              0.7777777777777778,
              "#fb9f3a"
             ],
             [
              0.8888888888888888,
              "#fdca26"
             ],
             [
              1,
              "#f0f921"
             ]
            ],
            "type": "histogram2dcontour"
           }
          ],
          "mesh3d": [
           {
            "colorbar": {
             "outlinewidth": 0,
             "ticks": ""
            },
            "type": "mesh3d"
           }
          ],
          "parcoords": [
           {
            "line": {
             "colorbar": {
              "outlinewidth": 0,
              "ticks": ""
             }
            },
            "type": "parcoords"
           }
          ],
          "pie": [
           {
            "automargin": true,
            "type": "pie"
           }
          ],
          "scatter": [
           {
            "fillpattern": {
             "fillmode": "overlay",
             "size": 10,
             "solidity": 0.2
            },
            "type": "scatter"
           }
          ],
          "scatter3d": [
           {
            "line": {
             "colorbar": {
              "outlinewidth": 0,
              "ticks": ""
             }
            },
            "marker": {
             "colorbar": {
              "outlinewidth": 0,
              "ticks": ""
             }
            },
            "type": "scatter3d"
           }
          ],
          "scattercarpet": [
           {
            "marker": {
             "colorbar": {
              "outlinewidth": 0,
              "ticks": ""
             }
            },
            "type": "scattercarpet"
           }
          ],
          "scattergeo": [
           {
            "marker": {
             "colorbar": {
              "outlinewidth": 0,
              "ticks": ""
             }
            },
            "type": "scattergeo"
           }
          ],
          "scattergl": [
           {
            "marker": {
             "colorbar": {
              "outlinewidth": 0,
              "ticks": ""
             }
            },
            "type": "scattergl"
           }
          ],
          "scattermapbox": [
           {
            "marker": {
             "colorbar": {
              "outlinewidth": 0,
              "ticks": ""
             }
            },
            "type": "scattermapbox"
           }
          ],
          "scatterpolar": [
           {
            "marker": {
             "colorbar": {
              "outlinewidth": 0,
              "ticks": ""
             }
            },
            "type": "scatterpolar"
           }
          ],
          "scatterpolargl": [
           {
            "marker": {
             "colorbar": {
              "outlinewidth": 0,
              "ticks": ""
             }
            },
            "type": "scatterpolargl"
           }
          ],
          "scatterternary": [
           {
            "marker": {
             "colorbar": {
              "outlinewidth": 0,
              "ticks": ""
             }
            },
            "type": "scatterternary"
           }
          ],
          "surface": [
           {
            "colorbar": {
             "outlinewidth": 0,
             "ticks": ""
            },
            "colorscale": [
             [
              0,
              "#0d0887"
             ],
             [
              0.1111111111111111,
              "#46039f"
             ],
             [
              0.2222222222222222,
              "#7201a8"
             ],
             [
              0.3333333333333333,
              "#9c179e"
             ],
             [
              0.4444444444444444,
              "#bd3786"
             ],
             [
              0.5555555555555556,
              "#d8576b"
             ],
             [
              0.6666666666666666,
              "#ed7953"
             ],
             [
              0.7777777777777778,
              "#fb9f3a"
             ],
             [
              0.8888888888888888,
              "#fdca26"
             ],
             [
              1,
              "#f0f921"
             ]
            ],
            "type": "surface"
           }
          ],
          "table": [
           {
            "cells": {
             "fill": {
              "color": "#EBF0F8"
             },
             "line": {
              "color": "white"
             }
            },
            "header": {
             "fill": {
              "color": "#C8D4E3"
             },
             "line": {
              "color": "white"
             }
            },
            "type": "table"
           }
          ]
         },
         "layout": {
          "annotationdefaults": {
           "arrowcolor": "#2a3f5f",
           "arrowhead": 0,
           "arrowwidth": 1
          },
          "autotypenumbers": "strict",
          "coloraxis": {
           "colorbar": {
            "outlinewidth": 0,
            "ticks": ""
           }
          },
          "colorscale": {
           "diverging": [
            [
             0,
             "#8e0152"
            ],
            [
             0.1,
             "#c51b7d"
            ],
            [
             0.2,
             "#de77ae"
            ],
            [
             0.3,
             "#f1b6da"
            ],
            [
             0.4,
             "#fde0ef"
            ],
            [
             0.5,
             "#f7f7f7"
            ],
            [
             0.6,
             "#e6f5d0"
            ],
            [
             0.7,
             "#b8e186"
            ],
            [
             0.8,
             "#7fbc41"
            ],
            [
             0.9,
             "#4d9221"
            ],
            [
             1,
             "#276419"
            ]
           ],
           "sequential": [
            [
             0,
             "#0d0887"
            ],
            [
             0.1111111111111111,
             "#46039f"
            ],
            [
             0.2222222222222222,
             "#7201a8"
            ],
            [
             0.3333333333333333,
             "#9c179e"
            ],
            [
             0.4444444444444444,
             "#bd3786"
            ],
            [
             0.5555555555555556,
             "#d8576b"
            ],
            [
             0.6666666666666666,
             "#ed7953"
            ],
            [
             0.7777777777777778,
             "#fb9f3a"
            ],
            [
             0.8888888888888888,
             "#fdca26"
            ],
            [
             1,
             "#f0f921"
            ]
           ],
           "sequentialminus": [
            [
             0,
             "#0d0887"
            ],
            [
             0.1111111111111111,
             "#46039f"
            ],
            [
             0.2222222222222222,
             "#7201a8"
            ],
            [
             0.3333333333333333,
             "#9c179e"
            ],
            [
             0.4444444444444444,
             "#bd3786"
            ],
            [
             0.5555555555555556,
             "#d8576b"
            ],
            [
             0.6666666666666666,
             "#ed7953"
            ],
            [
             0.7777777777777778,
             "#fb9f3a"
            ],
            [
             0.8888888888888888,
             "#fdca26"
            ],
            [
             1,
             "#f0f921"
            ]
           ]
          },
          "colorway": [
           "#636efa",
           "#EF553B",
           "#00cc96",
           "#ab63fa",
           "#FFA15A",
           "#19d3f3",
           "#FF6692",
           "#B6E880",
           "#FF97FF",
           "#FECB52"
          ],
          "font": {
           "color": "#2a3f5f"
          },
          "geo": {
           "bgcolor": "white",
           "lakecolor": "white",
           "landcolor": "#E5ECF6",
           "showlakes": true,
           "showland": true,
           "subunitcolor": "white"
          },
          "hoverlabel": {
           "align": "left"
          },
          "hovermode": "closest",
          "mapbox": {
           "style": "light"
          },
          "paper_bgcolor": "white",
          "plot_bgcolor": "#E5ECF6",
          "polar": {
           "angularaxis": {
            "gridcolor": "white",
            "linecolor": "white",
            "ticks": ""
           },
           "bgcolor": "#E5ECF6",
           "radialaxis": {
            "gridcolor": "white",
            "linecolor": "white",
            "ticks": ""
           }
          },
          "scene": {
           "xaxis": {
            "backgroundcolor": "#E5ECF6",
            "gridcolor": "white",
            "gridwidth": 2,
            "linecolor": "white",
            "showbackground": true,
            "ticks": "",
            "zerolinecolor": "white"
           },
           "yaxis": {
            "backgroundcolor": "#E5ECF6",
            "gridcolor": "white",
            "gridwidth": 2,
            "linecolor": "white",
            "showbackground": true,
            "ticks": "",
            "zerolinecolor": "white"
           },
           "zaxis": {
            "backgroundcolor": "#E5ECF6",
            "gridcolor": "white",
            "gridwidth": 2,
            "linecolor": "white",
            "showbackground": true,
            "ticks": "",
            "zerolinecolor": "white"
           }
          },
          "shapedefaults": {
           "line": {
            "color": "#2a3f5f"
           }
          },
          "ternary": {
           "aaxis": {
            "gridcolor": "white",
            "linecolor": "white",
            "ticks": ""
           },
           "baxis": {
            "gridcolor": "white",
            "linecolor": "white",
            "ticks": ""
           },
           "bgcolor": "#E5ECF6",
           "caxis": {
            "gridcolor": "white",
            "linecolor": "white",
            "ticks": ""
           }
          },
          "title": {
           "x": 0.05
          },
          "xaxis": {
           "automargin": true,
           "gridcolor": "white",
           "linecolor": "white",
           "ticks": "",
           "title": {
            "standoff": 15
           },
           "zerolinecolor": "white",
           "zerolinewidth": 2
          },
          "yaxis": {
           "automargin": true,
           "gridcolor": "white",
           "linecolor": "white",
           "ticks": "",
           "title": {
            "standoff": 15
           },
           "zerolinecolor": "white",
           "zerolinewidth": 2
          }
         }
        },
        "title": {
         "text": "Optimization History Plot"
        },
        "xaxis": {
         "title": {
          "text": "Trial"
         }
        },
        "yaxis": {
         "title": {
          "text": "Objective Value"
         }
        }
       }
      }
     },
     "metadata": {},
     "output_type": "display_data"
    }
   ],
   "source": [
    "# 1. Optimization History\n",
    "plot_optimization_history(study).show()"
   ]
  },
  {
   "cell_type": "code",
   "execution_count": 31,
   "metadata": {
    "colab": {
     "base_uri": "https://localhost:8080/",
     "height": 562
    },
    "id": "0n7zfgCNCx-4",
    "outputId": "1604fbd1-9fd6-4749-fcdf-62fea03e8428"
   },
   "outputs": [
    {
     "data": {
      "application/vnd.plotly.v1+json": {
       "config": {
        "plotlyServerURL": "https://plot.ly"
       },
       "data": [
        {
         "marker": {
          "color": [
           4,
           5,
           6,
           10,
           11,
           12,
           13,
           14,
           15,
           16,
           17,
           18,
           20,
           21,
           22,
           23,
           24,
           25,
           26,
           27,
           31,
           32,
           33,
           34,
           35,
           37,
           45,
           47,
           48,
           49,
           51,
           52,
           53,
           54,
           55,
           56,
           58,
           59,
           60,
           61,
           62,
           63,
           64,
           65,
           66,
           67,
           68,
           69,
           71,
           72,
           73,
           74,
           75,
           76,
           78,
           79,
           81,
           82,
           83,
           84,
           85,
           86,
           87,
           88,
           89,
           90,
           91,
           92,
           93,
           94,
           95,
           96,
           97,
           98
          ],
          "colorbar": {
           "title": {
            "text": "Trial"
           },
           "x": 1,
           "xpad": 40
          },
          "colorscale": [
           [
            0,
            "rgb(247,251,255)"
           ],
           [
            0.125,
            "rgb(222,235,247)"
           ],
           [
            0.25,
            "rgb(198,219,239)"
           ],
           [
            0.375,
            "rgb(158,202,225)"
           ],
           [
            0.5,
            "rgb(107,174,214)"
           ],
           [
            0.625,
            "rgb(66,146,198)"
           ],
           [
            0.75,
            "rgb(33,113,181)"
           ],
           [
            0.875,
            "rgb(8,81,156)"
           ],
           [
            1,
            "rgb(8,48,107)"
           ]
          ],
          "line": {
           "color": "Grey",
           "width": 0.5
          },
          "showscale": true
         },
         "mode": "markers",
         "name": "Feasible Trial",
         "showlegend": false,
         "type": "scatter",
         "x": [
          28.030209499758836,
          1.4678160045538464,
          0.8883632723542225,
          54.80394579489363,
          68.3300178693978,
          57.241011339128995,
          16.779999148396207,
          0.1132572472023777,
          9.423663258121648,
          15.302629220740359,
          93.64466798448387,
          4.762103618032864,
          30.87376538623413,
          77.97108176845452,
          31.785520577290132,
          32.983718445675635,
          97.152915787013,
          5.567908329789403,
          34.08390348905987,
          15.927864518694205,
          66.21856301097459,
          52.70159733565145,
          39.02239876965462,
          17.484730263955274,
          52.31586387581939,
          21.843008382650805,
          52.84435156036423,
          7.099980001352585,
          2.170514175064982,
          0.5955757862057106,
          22.36167068815653,
          10.644331201101778,
          47.841404094915816,
          98.67898719710928,
          27.71686105620749,
          12.9680166062567,
          0.3270355642080534,
          0.38238216030521127,
          0.13964790337895397,
          0.14174039026238766,
          0.13860914551989648,
          0.10122253989863247,
          0.10120999752607525,
          0.10043978181491349,
          0.10195571488386705,
          0.15486582907176538,
          0.17316474948296717,
          0.21320976054930788,
          0.10526706892407918,
          0.14375042646219455,
          0.23596527295757805,
          0.14397670863165934,
          0.14305549189418132,
          0.14948477607472457,
          0.2851272973527274,
          0.4456380173577981,
          0.13876800678317663,
          0.1390722659389213,
          0.14879423852258544,
          0.1467536783873732,
          0.22286047523239058,
          0.18084446391118308,
          0.1401692501429136,
          0.25833587141708775,
          0.13127496681690828,
          0.1879312546229471,
          0.13686742880657693,
          0.19064719517898393,
          0.12982165663228165,
          0.16174627470471614,
          1.0658209001335455,
          0.3094848315304142,
          0.13067224881480133,
          0.23236261867048608
         ],
         "xaxis": "x",
         "y": [
          0.7858472998137801,
          0.7243947858472999,
          0.7746741154562384,
          0.7858472998137801,
          0.7858472998137801,
          0.7858472998137801,
          0.7858472998137801,
          0.7672253258845437,
          0.7858472998137801,
          0.7858472998137801,
          0.7113594040968342,
          0.7355679702048418,
          0.6945996275605214,
          0.7858472998137801,
          0.7858472998137801,
          0.7858472998137801,
          0.7858472998137801,
          0.7858472998137801,
          0.7858472998137801,
          0.750465549348231,
          0.7858472998137801,
          0.7858472998137801,
          0.7858472998137801,
          0.7858472998137801,
          0.690875232774674,
          0.696461824953445,
          0.7858472998137801,
          0.7858472998137801,
          0.7858472998137801,
          0.7839851024208566,
          0.7858472998137801,
          0.7094972067039106,
          0.7858472998137801,
          0.7094972067039107,
          0.7858472998137801,
          0.6815642458100558,
          0.7858472998137803,
          0.7821229050279329,
          0.7895716945996275,
          0.7895716945996275,
          0.7895716945996275,
          0.7877094972067038,
          0.7877094972067038,
          0.7877094972067038,
          0.7877094972067038,
          0.7523277467411545,
          0.7150837988826816,
          0.7858472998137803,
          0.7877094972067038,
          0.7895716945996275,
          0.7858472998137803,
          0.7895716945996275,
          0.7895716945996275,
          0.7709497206703911,
          0.7858472998137803,
          0.7839851024208566,
          0.7895716945996275,
          0.7895716945996275,
          0.7895716945996275,
          0.7895716945996275,
          0.7858472998137803,
          0.7877094972067038,
          0.7895716945996275,
          0.7858472998137803,
          0.7895716945996275,
          0.7858472998137803,
          0.7895716945996275,
          0.7858472998137803,
          0.7895716945996275,
          0.7877094972067038,
          0.7839851024208566,
          0.7653631284916201,
          0.7113594040968342,
          0.7858472998137803
         ],
         "yaxis": "y"
        },
        {
         "marker": {
          "color": [
           0,
           2,
           3,
           7,
           29,
           30,
           36,
           39,
           40,
           41,
           42,
           43,
           44,
           50,
           70,
           80
          ],
          "colorbar": {
           "title": {
            "text": "Trial"
           },
           "x": 1,
           "xpad": 40
          },
          "colorscale": [
           [
            0,
            "rgb(247,251,255)"
           ],
           [
            0.125,
            "rgb(222,235,247)"
           ],
           [
            0.25,
            "rgb(198,219,239)"
           ],
           [
            0.375,
            "rgb(158,202,225)"
           ],
           [
            0.5,
            "rgb(107,174,214)"
           ],
           [
            0.625,
            "rgb(66,146,198)"
           ],
           [
            0.75,
            "rgb(33,113,181)"
           ],
           [
            0.875,
            "rgb(8,81,156)"
           ],
           [
            1,
            "rgb(8,48,107)"
           ]
          ],
          "line": {
           "color": "Grey",
           "width": 0.5
          },
          "showscale": false
         },
         "mode": "markers",
         "name": "Feasible Trial",
         "showlegend": false,
         "type": "scatter",
         "x": [
          false,
          false,
          true,
          false,
          true,
          true,
          true,
          false,
          false,
          false,
          false,
          false,
          false,
          true,
          false,
          false
         ],
         "xaxis": "x2",
         "y": [
          0.7709497206703911,
          0.7746741154562384,
          0.7597765363128491,
          0.7653631284916201,
          0.7616387337057727,
          0.7597765363128491,
          0.7672253258845437,
          0.7877094972067039,
          0.7839851024208566,
          0.7635009310986964,
          0.7783985102420857,
          0.7783985102420856,
          0.7709497206703911,
          0.7616387337057727,
          0.7690875232774674,
          0.7616387337057727
         ],
         "yaxis": "y2"
        },
        {
         "marker": {
          "color": [
           0,
           1,
           2,
           3,
           4,
           5,
           6,
           7,
           8,
           9,
           10,
           11,
           12,
           13,
           14,
           15,
           16,
           17,
           18,
           19,
           20,
           21,
           22,
           23,
           24,
           25,
           26,
           27,
           28,
           29,
           30,
           31,
           32,
           33,
           34,
           35,
           36,
           37,
           38,
           39,
           40,
           41,
           42,
           43,
           44,
           45,
           46,
           47,
           48,
           49,
           50,
           51,
           52,
           53,
           54,
           55,
           56,
           57,
           58,
           59,
           60,
           61,
           62,
           63,
           64,
           65,
           66,
           67,
           68,
           69,
           70,
           71,
           72,
           73,
           74,
           75,
           76,
           77,
           78,
           79,
           80,
           81,
           82,
           83,
           84,
           85,
           86,
           87,
           88,
           89,
           90,
           91,
           92,
           93,
           94,
           95,
           96,
           97,
           98,
           99
          ],
          "colorbar": {
           "title": {
            "text": "Trial"
           },
           "x": 1,
           "xpad": 40
          },
          "colorscale": [
           [
            0,
            "rgb(247,251,255)"
           ],
           [
            0.125,
            "rgb(222,235,247)"
           ],
           [
            0.25,
            "rgb(198,219,239)"
           ],
           [
            0.375,
            "rgb(158,202,225)"
           ],
           [
            0.5,
            "rgb(107,174,214)"
           ],
           [
            0.625,
            "rgb(66,146,198)"
           ],
           [
            0.75,
            "rgb(33,113,181)"
           ],
           [
            0.875,
            "rgb(8,81,156)"
           ],
           [
            1,
            "rgb(8,48,107)"
           ]
          ],
          "line": {
           "color": "Grey",
           "width": 0.5
          },
          "showscale": false
         },
         "mode": "markers",
         "name": "Feasible Trial",
         "showlegend": false,
         "type": "scatter",
         "x": [
          "RandomForest",
          "GradientBoosting",
          "RandomForest",
          "RandomForest",
          "SVM",
          "SVM",
          "SVM",
          "RandomForest",
          "GradientBoosting",
          "GradientBoosting",
          "SVM",
          "SVM",
          "SVM",
          "SVM",
          "SVM",
          "SVM",
          "SVM",
          "SVM",
          "SVM",
          "GradientBoosting",
          "SVM",
          "SVM",
          "SVM",
          "SVM",
          "SVM",
          "SVM",
          "SVM",
          "SVM",
          "GradientBoosting",
          "RandomForest",
          "RandomForest",
          "SVM",
          "SVM",
          "SVM",
          "SVM",
          "SVM",
          "RandomForest",
          "SVM",
          "GradientBoosting",
          "RandomForest",
          "RandomForest",
          "RandomForest",
          "RandomForest",
          "RandomForest",
          "RandomForest",
          "SVM",
          "GradientBoosting",
          "SVM",
          "SVM",
          "SVM",
          "RandomForest",
          "SVM",
          "SVM",
          "SVM",
          "SVM",
          "SVM",
          "SVM",
          "GradientBoosting",
          "SVM",
          "SVM",
          "SVM",
          "SVM",
          "SVM",
          "SVM",
          "SVM",
          "SVM",
          "SVM",
          "SVM",
          "SVM",
          "SVM",
          "RandomForest",
          "SVM",
          "SVM",
          "SVM",
          "SVM",
          "SVM",
          "SVM",
          "GradientBoosting",
          "SVM",
          "SVM",
          "RandomForest",
          "SVM",
          "SVM",
          "SVM",
          "SVM",
          "SVM",
          "SVM",
          "SVM",
          "SVM",
          "SVM",
          "SVM",
          "SVM",
          "SVM",
          "SVM",
          "SVM",
          "SVM",
          "SVM",
          "SVM",
          "SVM",
          "GradientBoosting"
         ],
         "xaxis": "x3",
         "y": [
          0.7709497206703911,
          0.7709497206703911,
          0.7746741154562384,
          0.7597765363128491,
          0.7858472998137801,
          0.7243947858472999,
          0.7746741154562384,
          0.7653631284916201,
          0.750465549348231,
          0.750465549348231,
          0.7858472998137801,
          0.7858472998137801,
          0.7858472998137801,
          0.7858472998137801,
          0.7672253258845437,
          0.7858472998137801,
          0.7858472998137801,
          0.7113594040968342,
          0.7355679702048418,
          0.7504655493482307,
          0.6945996275605214,
          0.7858472998137801,
          0.7858472998137801,
          0.7858472998137801,
          0.7858472998137801,
          0.7858472998137801,
          0.7858472998137801,
          0.750465549348231,
          0.6983240223463687,
          0.7616387337057727,
          0.7597765363128491,
          0.7858472998137801,
          0.7858472998137801,
          0.7858472998137801,
          0.7858472998137801,
          0.690875232774674,
          0.7672253258845437,
          0.696461824953445,
          0.6927374301675977,
          0.7877094972067039,
          0.7839851024208566,
          0.7635009310986964,
          0.7783985102420857,
          0.7783985102420856,
          0.7709497206703911,
          0.7858472998137801,
          0.750465549348231,
          0.7858472998137801,
          0.7858472998137801,
          0.7839851024208566,
          0.7616387337057727,
          0.7858472998137801,
          0.7094972067039106,
          0.7858472998137801,
          0.7094972067039107,
          0.7858472998137801,
          0.6815642458100558,
          0.7728119180633147,
          0.7858472998137803,
          0.7821229050279329,
          0.7895716945996275,
          0.7895716945996275,
          0.7895716945996275,
          0.7877094972067038,
          0.7877094972067038,
          0.7877094972067038,
          0.7877094972067038,
          0.7523277467411545,
          0.7150837988826816,
          0.7858472998137803,
          0.7690875232774674,
          0.7877094972067038,
          0.7895716945996275,
          0.7858472998137803,
          0.7895716945996275,
          0.7895716945996275,
          0.7709497206703911,
          0.750465549348231,
          0.7858472998137803,
          0.7839851024208566,
          0.7616387337057727,
          0.7895716945996275,
          0.7895716945996275,
          0.7895716945996275,
          0.7895716945996275,
          0.7858472998137803,
          0.7877094972067038,
          0.7895716945996275,
          0.7858472998137803,
          0.7895716945996275,
          0.7858472998137803,
          0.7895716945996275,
          0.7858472998137803,
          0.7895716945996275,
          0.7877094972067038,
          0.7839851024208566,
          0.7653631284916201,
          0.7113594040968342,
          0.7858472998137803,
          0.7392923649906891
         ],
         "yaxis": "y3"
        },
        {
         "marker": {
          "color": [
           4,
           5,
           6,
           10,
           11,
           12,
           13,
           14,
           15,
           16,
           17,
           18,
           20,
           21,
           22,
           23,
           24,
           25,
           26,
           27,
           31,
           32,
           33,
           34,
           35,
           37,
           45,
           47,
           48,
           49,
           51,
           52,
           53,
           54,
           55,
           56,
           58,
           59,
           60,
           61,
           62,
           63,
           64,
           65,
           66,
           67,
           68,
           69,
           71,
           72,
           73,
           74,
           75,
           76,
           78,
           79,
           81,
           82,
           83,
           84,
           85,
           86,
           87,
           88,
           89,
           90,
           91,
           92,
           93,
           94,
           95,
           96,
           97,
           98
          ],
          "colorbar": {
           "title": {
            "text": "Trial"
           },
           "x": 1,
           "xpad": 40
          },
          "colorscale": [
           [
            0,
            "rgb(247,251,255)"
           ],
           [
            0.125,
            "rgb(222,235,247)"
           ],
           [
            0.25,
            "rgb(198,219,239)"
           ],
           [
            0.375,
            "rgb(158,202,225)"
           ],
           [
            0.5,
            "rgb(107,174,214)"
           ],
           [
            0.625,
            "rgb(66,146,198)"
           ],
           [
            0.75,
            "rgb(33,113,181)"
           ],
           [
            0.875,
            "rgb(8,81,156)"
           ],
           [
            1,
            "rgb(8,48,107)"
           ]
          ],
          "line": {
           "color": "Grey",
           "width": 0.5
          },
          "showscale": false
         },
         "mode": "markers",
         "name": "Feasible Trial",
         "showlegend": false,
         "type": "scatter",
         "x": [
          "scale",
          "scale",
          "scale",
          "auto",
          "auto",
          "auto",
          "scale",
          "auto",
          "auto",
          "scale",
          "auto",
          "scale",
          "scale",
          "auto",
          "auto",
          "auto",
          "auto",
          "auto",
          "scale",
          "auto",
          "auto",
          "auto",
          "auto",
          "auto",
          "auto",
          "scale",
          "auto",
          "auto",
          "scale",
          "auto",
          "scale",
          "scale",
          "scale",
          "scale",
          "scale",
          "scale",
          "scale",
          "auto",
          "scale",
          "scale",
          "scale",
          "scale",
          "scale",
          "scale",
          "scale",
          "scale",
          "scale",
          "scale",
          "scale",
          "scale",
          "scale",
          "scale",
          "scale",
          "scale",
          "scale",
          "scale",
          "scale",
          "scale",
          "scale",
          "scale",
          "scale",
          "scale",
          "scale",
          "scale",
          "scale",
          "scale",
          "scale",
          "scale",
          "scale",
          "scale",
          "scale",
          "scale",
          "scale",
          "scale"
         ],
         "xaxis": "x4",
         "y": [
          0.7858472998137801,
          0.7243947858472999,
          0.7746741154562384,
          0.7858472998137801,
          0.7858472998137801,
          0.7858472998137801,
          0.7858472998137801,
          0.7672253258845437,
          0.7858472998137801,
          0.7858472998137801,
          0.7113594040968342,
          0.7355679702048418,
          0.6945996275605214,
          0.7858472998137801,
          0.7858472998137801,
          0.7858472998137801,
          0.7858472998137801,
          0.7858472998137801,
          0.7858472998137801,
          0.750465549348231,
          0.7858472998137801,
          0.7858472998137801,
          0.7858472998137801,
          0.7858472998137801,
          0.690875232774674,
          0.696461824953445,
          0.7858472998137801,
          0.7858472998137801,
          0.7858472998137801,
          0.7839851024208566,
          0.7858472998137801,
          0.7094972067039106,
          0.7858472998137801,
          0.7094972067039107,
          0.7858472998137801,
          0.6815642458100558,
          0.7858472998137803,
          0.7821229050279329,
          0.7895716945996275,
          0.7895716945996275,
          0.7895716945996275,
          0.7877094972067038,
          0.7877094972067038,
          0.7877094972067038,
          0.7877094972067038,
          0.7523277467411545,
          0.7150837988826816,
          0.7858472998137803,
          0.7877094972067038,
          0.7895716945996275,
          0.7858472998137803,
          0.7895716945996275,
          0.7895716945996275,
          0.7709497206703911,
          0.7858472998137803,
          0.7839851024208566,
          0.7895716945996275,
          0.7895716945996275,
          0.7895716945996275,
          0.7895716945996275,
          0.7858472998137803,
          0.7877094972067038,
          0.7895716945996275,
          0.7858472998137803,
          0.7895716945996275,
          0.7858472998137803,
          0.7895716945996275,
          0.7858472998137803,
          0.7895716945996275,
          0.7877094972067038,
          0.7839851024208566,
          0.7653631284916201,
          0.7113594040968342,
          0.7858472998137803
         ],
         "yaxis": "y4"
        },
        {
         "marker": {
          "color": [
           4,
           5,
           6,
           10,
           11,
           12,
           13,
           14,
           15,
           16,
           17,
           18,
           20,
           21,
           22,
           23,
           24,
           25,
           26,
           27,
           31,
           32,
           33,
           34,
           35,
           37,
           45,
           47,
           48,
           49,
           51,
           52,
           53,
           54,
           55,
           56,
           58,
           59,
           60,
           61,
           62,
           63,
           64,
           65,
           66,
           67,
           68,
           69,
           71,
           72,
           73,
           74,
           75,
           76,
           78,
           79,
           81,
           82,
           83,
           84,
           85,
           86,
           87,
           88,
           89,
           90,
           91,
           92,
           93,
           94,
           95,
           96,
           97,
           98
          ],
          "colorbar": {
           "title": {
            "text": "Trial"
           },
           "x": 1,
           "xpad": 40
          },
          "colorscale": [
           [
            0,
            "rgb(247,251,255)"
           ],
           [
            0.125,
            "rgb(222,235,247)"
           ],
           [
            0.25,
            "rgb(198,219,239)"
           ],
           [
            0.375,
            "rgb(158,202,225)"
           ],
           [
            0.5,
            "rgb(107,174,214)"
           ],
           [
            0.625,
            "rgb(66,146,198)"
           ],
           [
            0.75,
            "rgb(33,113,181)"
           ],
           [
            0.875,
            "rgb(8,81,156)"
           ],
           [
            1,
            "rgb(8,48,107)"
           ]
          ],
          "line": {
           "color": "Grey",
           "width": 0.5
          },
          "showscale": false
         },
         "mode": "markers",
         "name": "Feasible Trial",
         "showlegend": false,
         "type": "scatter",
         "x": [
          "linear",
          "poly",
          "rbf",
          "linear",
          "linear",
          "linear",
          "linear",
          "sigmoid",
          "linear",
          "linear",
          "rbf",
          "poly",
          "sigmoid",
          "linear",
          "linear",
          "linear",
          "linear",
          "linear",
          "linear",
          "rbf",
          "linear",
          "linear",
          "linear",
          "linear",
          "poly",
          "sigmoid",
          "linear",
          "linear",
          "linear",
          "linear",
          "linear",
          "poly",
          "linear",
          "rbf",
          "linear",
          "sigmoid",
          "linear",
          "linear",
          "linear",
          "linear",
          "linear",
          "linear",
          "linear",
          "linear",
          "linear",
          "rbf",
          "poly",
          "linear",
          "linear",
          "linear",
          "linear",
          "linear",
          "linear",
          "sigmoid",
          "linear",
          "linear",
          "linear",
          "linear",
          "linear",
          "linear",
          "linear",
          "linear",
          "linear",
          "linear",
          "linear",
          "linear",
          "linear",
          "linear",
          "linear",
          "linear",
          "linear",
          "rbf",
          "poly",
          "linear"
         ],
         "xaxis": "x5",
         "y": [
          0.7858472998137801,
          0.7243947858472999,
          0.7746741154562384,
          0.7858472998137801,
          0.7858472998137801,
          0.7858472998137801,
          0.7858472998137801,
          0.7672253258845437,
          0.7858472998137801,
          0.7858472998137801,
          0.7113594040968342,
          0.7355679702048418,
          0.6945996275605214,
          0.7858472998137801,
          0.7858472998137801,
          0.7858472998137801,
          0.7858472998137801,
          0.7858472998137801,
          0.7858472998137801,
          0.750465549348231,
          0.7858472998137801,
          0.7858472998137801,
          0.7858472998137801,
          0.7858472998137801,
          0.690875232774674,
          0.696461824953445,
          0.7858472998137801,
          0.7858472998137801,
          0.7858472998137801,
          0.7839851024208566,
          0.7858472998137801,
          0.7094972067039106,
          0.7858472998137801,
          0.7094972067039107,
          0.7858472998137801,
          0.6815642458100558,
          0.7858472998137803,
          0.7821229050279329,
          0.7895716945996275,
          0.7895716945996275,
          0.7895716945996275,
          0.7877094972067038,
          0.7877094972067038,
          0.7877094972067038,
          0.7877094972067038,
          0.7523277467411545,
          0.7150837988826816,
          0.7858472998137803,
          0.7877094972067038,
          0.7895716945996275,
          0.7858472998137803,
          0.7895716945996275,
          0.7895716945996275,
          0.7709497206703911,
          0.7858472998137803,
          0.7839851024208566,
          0.7895716945996275,
          0.7895716945996275,
          0.7895716945996275,
          0.7895716945996275,
          0.7858472998137803,
          0.7877094972067038,
          0.7895716945996275,
          0.7858472998137803,
          0.7895716945996275,
          0.7858472998137803,
          0.7895716945996275,
          0.7858472998137803,
          0.7895716945996275,
          0.7877094972067038,
          0.7839851024208566,
          0.7653631284916201,
          0.7113594040968342,
          0.7858472998137803
         ],
         "yaxis": "y5"
        },
        {
         "marker": {
          "color": [
           1,
           8,
           9,
           19,
           28,
           38,
           46,
           57,
           77,
           99
          ],
          "colorbar": {
           "title": {
            "text": "Trial"
           },
           "x": 1,
           "xpad": 40
          },
          "colorscale": [
           [
            0,
            "rgb(247,251,255)"
           ],
           [
            0.125,
            "rgb(222,235,247)"
           ],
           [
            0.25,
            "rgb(198,219,239)"
           ],
           [
            0.375,
            "rgb(158,202,225)"
           ],
           [
            0.5,
            "rgb(107,174,214)"
           ],
           [
            0.625,
            "rgb(66,146,198)"
           ],
           [
            0.75,
            "rgb(33,113,181)"
           ],
           [
            0.875,
            "rgb(8,81,156)"
           ],
           [
            1,
            "rgb(8,48,107)"
           ]
          ],
          "line": {
           "color": "Grey",
           "width": 0.5
          },
          "showscale": false
         },
         "mode": "markers",
         "name": "Feasible Trial",
         "showlegend": false,
         "type": "scatter",
         "x": [
          0.01342656799124919,
          0.014577542335841544,
          0.06440044475548116,
          0.28837861060088543,
          0.24413068688478537,
          0.05796100970675997,
          0.11836213464375887,
          0.025516005694962818,
          0.030924087697020406,
          0.09679247944003994
         ],
         "xaxis": "x6",
         "y": [
          0.7709497206703911,
          0.750465549348231,
          0.750465549348231,
          0.7504655493482307,
          0.6983240223463687,
          0.6927374301675977,
          0.750465549348231,
          0.7728119180633147,
          0.750465549348231,
          0.7392923649906891
         ],
         "yaxis": "y6"
        },
        {
         "marker": {
          "color": [
           0,
           1,
           2,
           3,
           7,
           8,
           9,
           19,
           28,
           29,
           30,
           36,
           38,
           39,
           40,
           41,
           42,
           43,
           44,
           46,
           50,
           57,
           70,
           77,
           80,
           99
          ],
          "colorbar": {
           "title": {
            "text": "Trial"
           },
           "x": 1,
           "xpad": 40
          },
          "colorscale": [
           [
            0,
            "rgb(247,251,255)"
           ],
           [
            0.125,
            "rgb(222,235,247)"
           ],
           [
            0.25,
            "rgb(198,219,239)"
           ],
           [
            0.375,
            "rgb(158,202,225)"
           ],
           [
            0.5,
            "rgb(107,174,214)"
           ],
           [
            0.625,
            "rgb(66,146,198)"
           ],
           [
            0.75,
            "rgb(33,113,181)"
           ],
           [
            0.875,
            "rgb(8,81,156)"
           ],
           [
            1,
            "rgb(8,48,107)"
           ]
          ],
          "line": {
           "color": "Grey",
           "width": 0.5
          },
          "showscale": false
         },
         "mode": "markers",
         "name": "Feasible Trial",
         "showlegend": false,
         "type": "scatter",
         "x": [
          6,
          10,
          13,
          11,
          18,
          15,
          8,
          4,
          20,
          16,
          3,
          8,
          20,
          14,
          13,
          16,
          14,
          9,
          18,
          6,
          12,
          18,
          11,
          6,
          16,
          3
         ],
         "xaxis": "x7",
         "y": [
          0.7709497206703911,
          0.7709497206703911,
          0.7746741154562384,
          0.7597765363128491,
          0.7653631284916201,
          0.750465549348231,
          0.750465549348231,
          0.7504655493482307,
          0.6983240223463687,
          0.7616387337057727,
          0.7597765363128491,
          0.7672253258845437,
          0.6927374301675977,
          0.7877094972067039,
          0.7839851024208566,
          0.7635009310986964,
          0.7783985102420857,
          0.7783985102420856,
          0.7709497206703911,
          0.750465549348231,
          0.7616387337057727,
          0.7728119180633147,
          0.7690875232774674,
          0.750465549348231,
          0.7616387337057727,
          0.7392923649906891
         ],
         "yaxis": "y7"
        },
        {
         "marker": {
          "color": [
           0,
           1,
           2,
           3,
           7,
           8,
           9,
           19,
           28,
           29,
           30,
           36,
           38,
           39,
           40,
           41,
           42,
           43,
           44,
           46,
           50,
           57,
           70,
           77,
           80,
           99
          ],
          "colorbar": {
           "title": {
            "text": "Trial"
           },
           "x": 1,
           "xpad": 40
          },
          "colorscale": [
           [
            0,
            "rgb(247,251,255)"
           ],
           [
            0.125,
            "rgb(222,235,247)"
           ],
           [
            0.25,
            "rgb(198,219,239)"
           ],
           [
            0.375,
            "rgb(158,202,225)"
           ],
           [
            0.5,
            "rgb(107,174,214)"
           ],
           [
            0.625,
            "rgb(66,146,198)"
           ],
           [
            0.75,
            "rgb(33,113,181)"
           ],
           [
            0.875,
            "rgb(8,81,156)"
           ],
           [
            1,
            "rgb(8,48,107)"
           ]
          ],
          "line": {
           "color": "Grey",
           "width": 0.5
          },
          "showscale": false
         },
         "mode": "markers",
         "name": "Feasible Trial",
         "showlegend": false,
         "type": "scatter",
         "x": [
          10,
          7,
          8,
          8,
          3,
          10,
          2,
          5,
          1,
          4,
          6,
          3,
          1,
          9,
          9,
          6,
          8,
          9,
          5,
          7,
          9,
          7,
          10,
          5,
          4,
          2
         ],
         "xaxis": "x8",
         "y": [
          0.7709497206703911,
          0.7709497206703911,
          0.7746741154562384,
          0.7597765363128491,
          0.7653631284916201,
          0.750465549348231,
          0.750465549348231,
          0.7504655493482307,
          0.6983240223463687,
          0.7616387337057727,
          0.7597765363128491,
          0.7672253258845437,
          0.6927374301675977,
          0.7877094972067039,
          0.7839851024208566,
          0.7635009310986964,
          0.7783985102420857,
          0.7783985102420856,
          0.7709497206703911,
          0.750465549348231,
          0.7616387337057727,
          0.7728119180633147,
          0.7690875232774674,
          0.750465549348231,
          0.7616387337057727,
          0.7392923649906891
         ],
         "yaxis": "y8"
        },
        {
         "marker": {
          "color": [
           0,
           1,
           2,
           3,
           7,
           8,
           9,
           19,
           28,
           29,
           30,
           36,
           38,
           39,
           40,
           41,
           42,
           43,
           44,
           46,
           50,
           57,
           70,
           77,
           80,
           99
          ],
          "colorbar": {
           "title": {
            "text": "Trial"
           },
           "x": 1,
           "xpad": 40
          },
          "colorscale": [
           [
            0,
            "rgb(247,251,255)"
           ],
           [
            0.125,
            "rgb(222,235,247)"
           ],
           [
            0.25,
            "rgb(198,219,239)"
           ],
           [
            0.375,
            "rgb(158,202,225)"
           ],
           [
            0.5,
            "rgb(107,174,214)"
           ],
           [
            0.625,
            "rgb(66,146,198)"
           ],
           [
            0.75,
            "rgb(33,113,181)"
           ],
           [
            0.875,
            "rgb(8,81,156)"
           ],
           [
            1,
            "rgb(8,48,107)"
           ]
          ],
          "line": {
           "color": "Grey",
           "width": 0.5
          },
          "showscale": false
         },
         "mode": "markers",
         "name": "Feasible Trial",
         "showlegend": false,
         "type": "scatter",
         "x": [
          7,
          5,
          6,
          7,
          6,
          6,
          9,
          2,
          2,
          10,
          4,
          9,
          4,
          3,
          3,
          4,
          3,
          8,
          3,
          5,
          2,
          5,
          7,
          3,
          4,
          9
         ],
         "xaxis": "x9",
         "y": [
          0.7709497206703911,
          0.7709497206703911,
          0.7746741154562384,
          0.7597765363128491,
          0.7653631284916201,
          0.750465549348231,
          0.750465549348231,
          0.7504655493482307,
          0.6983240223463687,
          0.7616387337057727,
          0.7597765363128491,
          0.7672253258845437,
          0.6927374301675977,
          0.7877094972067039,
          0.7839851024208566,
          0.7635009310986964,
          0.7783985102420857,
          0.7783985102420856,
          0.7709497206703911,
          0.750465549348231,
          0.7616387337057727,
          0.7728119180633147,
          0.7690875232774674,
          0.750465549348231,
          0.7616387337057727,
          0.7392923649906891
         ],
         "yaxis": "y9"
        },
        {
         "marker": {
          "color": [
           0,
           1,
           2,
           3,
           7,
           8,
           9,
           19,
           28,
           29,
           30,
           36,
           38,
           39,
           40,
           41,
           42,
           43,
           44,
           46,
           50,
           57,
           70,
           77,
           80,
           99
          ],
          "colorbar": {
           "title": {
            "text": "Trial"
           },
           "x": 1,
           "xpad": 40
          },
          "colorscale": [
           [
            0,
            "rgb(247,251,255)"
           ],
           [
            0.125,
            "rgb(222,235,247)"
           ],
           [
            0.25,
            "rgb(198,219,239)"
           ],
           [
            0.375,
            "rgb(158,202,225)"
           ],
           [
            0.5,
            "rgb(107,174,214)"
           ],
           [
            0.625,
            "rgb(66,146,198)"
           ],
           [
            0.75,
            "rgb(33,113,181)"
           ],
           [
            0.875,
            "rgb(8,81,156)"
           ],
           [
            1,
            "rgb(8,48,107)"
           ]
          ],
          "line": {
           "color": "Grey",
           "width": 0.5
          },
          "showscale": false
         },
         "mode": "markers",
         "name": "Feasible Trial",
         "showlegend": false,
         "type": "scatter",
         "x": [
          71,
          207,
          151,
          213,
          123,
          262,
          208,
          288,
          51,
          113,
          294,
          240,
          172,
          95,
          93,
          143,
          89,
          163,
          126,
          189,
          54,
          95,
          251,
          72,
          136,
          271
         ],
         "xaxis": "x10",
         "y": [
          0.7709497206703911,
          0.7709497206703911,
          0.7746741154562384,
          0.7597765363128491,
          0.7653631284916201,
          0.750465549348231,
          0.750465549348231,
          0.7504655493482307,
          0.6983240223463687,
          0.7616387337057727,
          0.7597765363128491,
          0.7672253258845437,
          0.6927374301675977,
          0.7877094972067039,
          0.7839851024208566,
          0.7635009310986964,
          0.7783985102420857,
          0.7783985102420856,
          0.7709497206703911,
          0.750465549348231,
          0.7616387337057727,
          0.7728119180633147,
          0.7690875232774674,
          0.750465549348231,
          0.7616387337057727,
          0.7392923649906891
         ],
         "yaxis": "y10"
        }
       ],
       "layout": {
        "template": {
         "data": {
          "bar": [
           {
            "error_x": {
             "color": "#2a3f5f"
            },
            "error_y": {
             "color": "#2a3f5f"
            },
            "marker": {
             "line": {
              "color": "#E5ECF6",
              "width": 0.5
             },
             "pattern": {
              "fillmode": "overlay",
              "size": 10,
              "solidity": 0.2
             }
            },
            "type": "bar"
           }
          ],
          "barpolar": [
           {
            "marker": {
             "line": {
              "color": "#E5ECF6",
              "width": 0.5
             },
             "pattern": {
              "fillmode": "overlay",
              "size": 10,
              "solidity": 0.2
             }
            },
            "type": "barpolar"
           }
          ],
          "carpet": [
           {
            "aaxis": {
             "endlinecolor": "#2a3f5f",
             "gridcolor": "white",
             "linecolor": "white",
             "minorgridcolor": "white",
             "startlinecolor": "#2a3f5f"
            },
            "baxis": {
             "endlinecolor": "#2a3f5f",
             "gridcolor": "white",
             "linecolor": "white",
             "minorgridcolor": "white",
             "startlinecolor": "#2a3f5f"
            },
            "type": "carpet"
           }
          ],
          "choropleth": [
           {
            "colorbar": {
             "outlinewidth": 0,
             "ticks": ""
            },
            "type": "choropleth"
           }
          ],
          "contour": [
           {
            "colorbar": {
             "outlinewidth": 0,
             "ticks": ""
            },
            "colorscale": [
             [
              0,
              "#0d0887"
             ],
             [
              0.1111111111111111,
              "#46039f"
             ],
             [
              0.2222222222222222,
              "#7201a8"
             ],
             [
              0.3333333333333333,
              "#9c179e"
             ],
             [
              0.4444444444444444,
              "#bd3786"
             ],
             [
              0.5555555555555556,
              "#d8576b"
             ],
             [
              0.6666666666666666,
              "#ed7953"
             ],
             [
              0.7777777777777778,
              "#fb9f3a"
             ],
             [
              0.8888888888888888,
              "#fdca26"
             ],
             [
              1,
              "#f0f921"
             ]
            ],
            "type": "contour"
           }
          ],
          "contourcarpet": [
           {
            "colorbar": {
             "outlinewidth": 0,
             "ticks": ""
            },
            "type": "contourcarpet"
           }
          ],
          "heatmap": [
           {
            "colorbar": {
             "outlinewidth": 0,
             "ticks": ""
            },
            "colorscale": [
             [
              0,
              "#0d0887"
             ],
             [
              0.1111111111111111,
              "#46039f"
             ],
             [
              0.2222222222222222,
              "#7201a8"
             ],
             [
              0.3333333333333333,
              "#9c179e"
             ],
             [
              0.4444444444444444,
              "#bd3786"
             ],
             [
              0.5555555555555556,
              "#d8576b"
             ],
             [
              0.6666666666666666,
              "#ed7953"
             ],
             [
              0.7777777777777778,
              "#fb9f3a"
             ],
             [
              0.8888888888888888,
              "#fdca26"
             ],
             [
              1,
              "#f0f921"
             ]
            ],
            "type": "heatmap"
           }
          ],
          "heatmapgl": [
           {
            "colorbar": {
             "outlinewidth": 0,
             "ticks": ""
            },
            "colorscale": [
             [
              0,
              "#0d0887"
             ],
             [
              0.1111111111111111,
              "#46039f"
             ],
             [
              0.2222222222222222,
              "#7201a8"
             ],
             [
              0.3333333333333333,
              "#9c179e"
             ],
             [
              0.4444444444444444,
              "#bd3786"
             ],
             [
              0.5555555555555556,
              "#d8576b"
             ],
             [
              0.6666666666666666,
              "#ed7953"
             ],
             [
              0.7777777777777778,
              "#fb9f3a"
             ],
             [
              0.8888888888888888,
              "#fdca26"
             ],
             [
              1,
              "#f0f921"
             ]
            ],
            "type": "heatmapgl"
           }
          ],
          "histogram": [
           {
            "marker": {
             "pattern": {
              "fillmode": "overlay",
              "size": 10,
              "solidity": 0.2
             }
            },
            "type": "histogram"
           }
          ],
          "histogram2d": [
           {
            "colorbar": {
             "outlinewidth": 0,
             "ticks": ""
            },
            "colorscale": [
             [
              0,
              "#0d0887"
             ],
             [
              0.1111111111111111,
              "#46039f"
             ],
             [
              0.2222222222222222,
              "#7201a8"
             ],
             [
              0.3333333333333333,
              "#9c179e"
             ],
             [
              0.4444444444444444,
              "#bd3786"
             ],
             [
              0.5555555555555556,
              "#d8576b"
             ],
             [
              0.6666666666666666,
              "#ed7953"
             ],
             [
              0.7777777777777778,
              "#fb9f3a"
             ],
             [
              0.8888888888888888,
              "#fdca26"
             ],
             [
              1,
              "#f0f921"
             ]
            ],
            "type": "histogram2d"
           }
          ],
          "histogram2dcontour": [
           {
            "colorbar": {
             "outlinewidth": 0,
             "ticks": ""
            },
            "colorscale": [
             [
              0,
              "#0d0887"
             ],
             [
              0.1111111111111111,
              "#46039f"
             ],
             [
              0.2222222222222222,
              "#7201a8"
             ],
             [
              0.3333333333333333,
              "#9c179e"
             ],
             [
              0.4444444444444444,
              "#bd3786"
             ],
             [
              0.5555555555555556,
              "#d8576b"
             ],
             [
              0.6666666666666666,
              "#ed7953"
             ],
             [
              0.7777777777777778,
              "#fb9f3a"
             ],
             [
              0.8888888888888888,
              "#fdca26"
             ],
             [
              1,
              "#f0f921"
             ]
            ],
            "type": "histogram2dcontour"
           }
          ],
          "mesh3d": [
           {
            "colorbar": {
             "outlinewidth": 0,
             "ticks": ""
            },
            "type": "mesh3d"
           }
          ],
          "parcoords": [
           {
            "line": {
             "colorbar": {
              "outlinewidth": 0,
              "ticks": ""
             }
            },
            "type": "parcoords"
           }
          ],
          "pie": [
           {
            "automargin": true,
            "type": "pie"
           }
          ],
          "scatter": [
           {
            "fillpattern": {
             "fillmode": "overlay",
             "size": 10,
             "solidity": 0.2
            },
            "type": "scatter"
           }
          ],
          "scatter3d": [
           {
            "line": {
             "colorbar": {
              "outlinewidth": 0,
              "ticks": ""
             }
            },
            "marker": {
             "colorbar": {
              "outlinewidth": 0,
              "ticks": ""
             }
            },
            "type": "scatter3d"
           }
          ],
          "scattercarpet": [
           {
            "marker": {
             "colorbar": {
              "outlinewidth": 0,
              "ticks": ""
             }
            },
            "type": "scattercarpet"
           }
          ],
          "scattergeo": [
           {
            "marker": {
             "colorbar": {
              "outlinewidth": 0,
              "ticks": ""
             }
            },
            "type": "scattergeo"
           }
          ],
          "scattergl": [
           {
            "marker": {
             "colorbar": {
              "outlinewidth": 0,
              "ticks": ""
             }
            },
            "type": "scattergl"
           }
          ],
          "scattermapbox": [
           {
            "marker": {
             "colorbar": {
              "outlinewidth": 0,
              "ticks": ""
             }
            },
            "type": "scattermapbox"
           }
          ],
          "scatterpolar": [
           {
            "marker": {
             "colorbar": {
              "outlinewidth": 0,
              "ticks": ""
             }
            },
            "type": "scatterpolar"
           }
          ],
          "scatterpolargl": [
           {
            "marker": {
             "colorbar": {
              "outlinewidth": 0,
              "ticks": ""
             }
            },
            "type": "scatterpolargl"
           }
          ],
          "scatterternary": [
           {
            "marker": {
             "colorbar": {
              "outlinewidth": 0,
              "ticks": ""
             }
            },
            "type": "scatterternary"
           }
          ],
          "surface": [
           {
            "colorbar": {
             "outlinewidth": 0,
             "ticks": ""
            },
            "colorscale": [
             [
              0,
              "#0d0887"
             ],
             [
              0.1111111111111111,
              "#46039f"
             ],
             [
              0.2222222222222222,
              "#7201a8"
             ],
             [
              0.3333333333333333,
              "#9c179e"
             ],
             [
              0.4444444444444444,
              "#bd3786"
             ],
             [
              0.5555555555555556,
              "#d8576b"
             ],
             [
              0.6666666666666666,
              "#ed7953"
             ],
             [
              0.7777777777777778,
              "#fb9f3a"
             ],
             [
              0.8888888888888888,
              "#fdca26"
             ],
             [
              1,
              "#f0f921"
             ]
            ],
            "type": "surface"
           }
          ],
          "table": [
           {
            "cells": {
             "fill": {
              "color": "#EBF0F8"
             },
             "line": {
              "color": "white"
             }
            },
            "header": {
             "fill": {
              "color": "#C8D4E3"
             },
             "line": {
              "color": "white"
             }
            },
            "type": "table"
           }
          ]
         },
         "layout": {
          "annotationdefaults": {
           "arrowcolor": "#2a3f5f",
           "arrowhead": 0,
           "arrowwidth": 1
          },
          "autotypenumbers": "strict",
          "coloraxis": {
           "colorbar": {
            "outlinewidth": 0,
            "ticks": ""
           }
          },
          "colorscale": {
           "diverging": [
            [
             0,
             "#8e0152"
            ],
            [
             0.1,
             "#c51b7d"
            ],
            [
             0.2,
             "#de77ae"
            ],
            [
             0.3,
             "#f1b6da"
            ],
            [
             0.4,
             "#fde0ef"
            ],
            [
             0.5,
             "#f7f7f7"
            ],
            [
             0.6,
             "#e6f5d0"
            ],
            [
             0.7,
             "#b8e186"
            ],
            [
             0.8,
             "#7fbc41"
            ],
            [
             0.9,
             "#4d9221"
            ],
            [
             1,
             "#276419"
            ]
           ],
           "sequential": [
            [
             0,
             "#0d0887"
            ],
            [
             0.1111111111111111,
             "#46039f"
            ],
            [
             0.2222222222222222,
             "#7201a8"
            ],
            [
             0.3333333333333333,
             "#9c179e"
            ],
            [
             0.4444444444444444,
             "#bd3786"
            ],
            [
             0.5555555555555556,
             "#d8576b"
            ],
            [
             0.6666666666666666,
             "#ed7953"
            ],
            [
             0.7777777777777778,
             "#fb9f3a"
            ],
            [
             0.8888888888888888,
             "#fdca26"
            ],
            [
             1,
             "#f0f921"
            ]
           ],
           "sequentialminus": [
            [
             0,
             "#0d0887"
            ],
            [
             0.1111111111111111,
             "#46039f"
            ],
            [
             0.2222222222222222,
             "#7201a8"
            ],
            [
             0.3333333333333333,
             "#9c179e"
            ],
            [
             0.4444444444444444,
             "#bd3786"
            ],
            [
             0.5555555555555556,
             "#d8576b"
            ],
            [
             0.6666666666666666,
             "#ed7953"
            ],
            [
             0.7777777777777778,
             "#fb9f3a"
            ],
            [
             0.8888888888888888,
             "#fdca26"
            ],
            [
             1,
             "#f0f921"
            ]
           ]
          },
          "colorway": [
           "#636efa",
           "#EF553B",
           "#00cc96",
           "#ab63fa",
           "#FFA15A",
           "#19d3f3",
           "#FF6692",
           "#B6E880",
           "#FF97FF",
           "#FECB52"
          ],
          "font": {
           "color": "#2a3f5f"
          },
          "geo": {
           "bgcolor": "white",
           "lakecolor": "white",
           "landcolor": "#E5ECF6",
           "showlakes": true,
           "showland": true,
           "subunitcolor": "white"
          },
          "hoverlabel": {
           "align": "left"
          },
          "hovermode": "closest",
          "mapbox": {
           "style": "light"
          },
          "paper_bgcolor": "white",
          "plot_bgcolor": "#E5ECF6",
          "polar": {
           "angularaxis": {
            "gridcolor": "white",
            "linecolor": "white",
            "ticks": ""
           },
           "bgcolor": "#E5ECF6",
           "radialaxis": {
            "gridcolor": "white",
            "linecolor": "white",
            "ticks": ""
           }
          },
          "scene": {
           "xaxis": {
            "backgroundcolor": "#E5ECF6",
            "gridcolor": "white",
            "gridwidth": 2,
            "linecolor": "white",
            "showbackground": true,
            "ticks": "",
            "zerolinecolor": "white"
           },
           "yaxis": {
            "backgroundcolor": "#E5ECF6",
            "gridcolor": "white",
            "gridwidth": 2,
            "linecolor": "white",
            "showbackground": true,
            "ticks": "",
            "zerolinecolor": "white"
           },
           "zaxis": {
            "backgroundcolor": "#E5ECF6",
            "gridcolor": "white",
            "gridwidth": 2,
            "linecolor": "white",
            "showbackground": true,
            "ticks": "",
            "zerolinecolor": "white"
           }
          },
          "shapedefaults": {
           "line": {
            "color": "#2a3f5f"
           }
          },
          "ternary": {
           "aaxis": {
            "gridcolor": "white",
            "linecolor": "white",
            "ticks": ""
           },
           "baxis": {
            "gridcolor": "white",
            "linecolor": "white",
            "ticks": ""
           },
           "bgcolor": "#E5ECF6",
           "caxis": {
            "gridcolor": "white",
            "linecolor": "white",
            "ticks": ""
           }
          },
          "title": {
           "x": 0.05
          },
          "xaxis": {
           "automargin": true,
           "gridcolor": "white",
           "linecolor": "white",
           "ticks": "",
           "title": {
            "standoff": 15
           },
           "zerolinecolor": "white",
           "zerolinewidth": 2
          },
          "yaxis": {
           "automargin": true,
           "gridcolor": "white",
           "linecolor": "white",
           "ticks": "",
           "title": {
            "standoff": 15
           },
           "zerolinecolor": "white",
           "zerolinewidth": 2
          }
         }
        },
        "title": {
         "text": "Slice Plot"
        },
        "width": 3000,
        "xaxis": {
         "anchor": "y",
         "domain": [
          0,
          0.082
         ],
         "title": {
          "text": "C"
         },
         "type": "log"
        },
        "xaxis10": {
         "anchor": "y10",
         "domain": [
          0.9179999999999999,
          0.9999999999999999
         ],
         "title": {
          "text": "n_estimators"
         }
        },
        "xaxis2": {
         "anchor": "y2",
         "categoryarray": [
          true,
          false
         ],
         "categoryorder": "array",
         "domain": [
          0.10200000000000001,
          0.184
         ],
         "title": {
          "text": "bootstrap"
         },
         "type": "category"
        },
        "xaxis3": {
         "anchor": "y3",
         "categoryarray": [
          "SVM",
          "RandomForest",
          "GradientBoosting"
         ],
         "categoryorder": "array",
         "domain": [
          0.20400000000000001,
          0.28600000000000003
         ],
         "title": {
          "text": "classifier"
         },
         "type": "category"
        },
        "xaxis4": {
         "anchor": "y4",
         "categoryarray": [
          "scale",
          "auto"
         ],
         "categoryorder": "array",
         "domain": [
          0.306,
          0.388
         ],
         "title": {
          "text": "gamma"
         },
         "type": "category"
        },
        "xaxis5": {
         "anchor": "y5",
         "categoryarray": [
          "linear",
          "rbf",
          "poly",
          "sigmoid"
         ],
         "categoryorder": "array",
         "domain": [
          0.40800000000000003,
          0.49000000000000005
         ],
         "title": {
          "text": "kernel"
         },
         "type": "category"
        },
        "xaxis6": {
         "anchor": "y6",
         "domain": [
          0.51,
          0.592
         ],
         "title": {
          "text": "learning_rate"
         },
         "type": "log"
        },
        "xaxis7": {
         "anchor": "y7",
         "domain": [
          0.6120000000000001,
          0.6940000000000001
         ],
         "title": {
          "text": "max_depth"
         }
        },
        "xaxis8": {
         "anchor": "y8",
         "domain": [
          0.7140000000000001,
          0.796
         ],
         "title": {
          "text": "min_samples_leaf"
         }
        },
        "xaxis9": {
         "anchor": "y9",
         "domain": [
          0.8160000000000001,
          0.898
         ],
         "title": {
          "text": "min_samples_split"
         }
        },
        "yaxis": {
         "anchor": "x",
         "domain": [
          0,
          1
         ],
         "title": {
          "text": "Objective Value"
         }
        },
        "yaxis10": {
         "anchor": "x10",
         "domain": [
          0,
          1
         ],
         "matches": "y",
         "showticklabels": false
        },
        "yaxis2": {
         "anchor": "x2",
         "domain": [
          0,
          1
         ],
         "matches": "y",
         "showticklabels": false
        },
        "yaxis3": {
         "anchor": "x3",
         "domain": [
          0,
          1
         ],
         "matches": "y",
         "showticklabels": false
        },
        "yaxis4": {
         "anchor": "x4",
         "domain": [
          0,
          1
         ],
         "matches": "y",
         "showticklabels": false
        },
        "yaxis5": {
         "anchor": "x5",
         "domain": [
          0,
          1
         ],
         "matches": "y",
         "showticklabels": false
        },
        "yaxis6": {
         "anchor": "x6",
         "domain": [
          0,
          1
         ],
         "matches": "y",
         "showticklabels": false
        },
        "yaxis7": {
         "anchor": "x7",
         "domain": [
          0,
          1
         ],
         "matches": "y",
         "showticklabels": false
        },
        "yaxis8": {
         "anchor": "x8",
         "domain": [
          0,
          1
         ],
         "matches": "y",
         "showticklabels": false
        },
        "yaxis9": {
         "anchor": "x9",
         "domain": [
          0,
          1
         ],
         "matches": "y",
         "showticklabels": false
        }
       }
      }
     },
     "metadata": {},
     "output_type": "display_data"
    }
   ],
   "source": [
    "# 3. Slice Plot\n",
    "plot_slice(study).show()"
   ]
  },
  {
   "cell_type": "code",
   "execution_count": 32,
   "metadata": {
    "colab": {
     "base_uri": "https://localhost:8080/",
     "height": 542
    },
    "id": "rUhujoemC4hI",
    "outputId": "1928b7b9-16f5-4ac1-8370-a94e5e639bc6"
   },
   "outputs": [
    {
     "data": {
      "application/vnd.plotly.v1+json": {
       "config": {
        "plotlyServerURL": "https://plot.ly"
       },
       "data": [
        {
         "cliponaxis": false,
         "hovertemplate": [
          "classifier (CategoricalDistribution): 1.0<extra></extra>"
         ],
         "name": "Objective Value",
         "orientation": "h",
         "text": [
          "1.00"
         ],
         "textposition": "outside",
         "type": "bar",
         "x": [
          1
         ],
         "y": [
          "classifier"
         ]
        }
       ],
       "layout": {
        "template": {
         "data": {
          "bar": [
           {
            "error_x": {
             "color": "#2a3f5f"
            },
            "error_y": {
             "color": "#2a3f5f"
            },
            "marker": {
             "line": {
              "color": "#E5ECF6",
              "width": 0.5
             },
             "pattern": {
              "fillmode": "overlay",
              "size": 10,
              "solidity": 0.2
             }
            },
            "type": "bar"
           }
          ],
          "barpolar": [
           {
            "marker": {
             "line": {
              "color": "#E5ECF6",
              "width": 0.5
             },
             "pattern": {
              "fillmode": "overlay",
              "size": 10,
              "solidity": 0.2
             }
            },
            "type": "barpolar"
           }
          ],
          "carpet": [
           {
            "aaxis": {
             "endlinecolor": "#2a3f5f",
             "gridcolor": "white",
             "linecolor": "white",
             "minorgridcolor": "white",
             "startlinecolor": "#2a3f5f"
            },
            "baxis": {
             "endlinecolor": "#2a3f5f",
             "gridcolor": "white",
             "linecolor": "white",
             "minorgridcolor": "white",
             "startlinecolor": "#2a3f5f"
            },
            "type": "carpet"
           }
          ],
          "choropleth": [
           {
            "colorbar": {
             "outlinewidth": 0,
             "ticks": ""
            },
            "type": "choropleth"
           }
          ],
          "contour": [
           {
            "colorbar": {
             "outlinewidth": 0,
             "ticks": ""
            },
            "colorscale": [
             [
              0,
              "#0d0887"
             ],
             [
              0.1111111111111111,
              "#46039f"
             ],
             [
              0.2222222222222222,
              "#7201a8"
             ],
             [
              0.3333333333333333,
              "#9c179e"
             ],
             [
              0.4444444444444444,
              "#bd3786"
             ],
             [
              0.5555555555555556,
              "#d8576b"
             ],
             [
              0.6666666666666666,
              "#ed7953"
             ],
             [
              0.7777777777777778,
              "#fb9f3a"
             ],
             [
              0.8888888888888888,
              "#fdca26"
             ],
             [
              1,
              "#f0f921"
             ]
            ],
            "type": "contour"
           }
          ],
          "contourcarpet": [
           {
            "colorbar": {
             "outlinewidth": 0,
             "ticks": ""
            },
            "type": "contourcarpet"
           }
          ],
          "heatmap": [
           {
            "colorbar": {
             "outlinewidth": 0,
             "ticks": ""
            },
            "colorscale": [
             [
              0,
              "#0d0887"
             ],
             [
              0.1111111111111111,
              "#46039f"
             ],
             [
              0.2222222222222222,
              "#7201a8"
             ],
             [
              0.3333333333333333,
              "#9c179e"
             ],
             [
              0.4444444444444444,
              "#bd3786"
             ],
             [
              0.5555555555555556,
              "#d8576b"
             ],
             [
              0.6666666666666666,
              "#ed7953"
             ],
             [
              0.7777777777777778,
              "#fb9f3a"
             ],
             [
              0.8888888888888888,
              "#fdca26"
             ],
             [
              1,
              "#f0f921"
             ]
            ],
            "type": "heatmap"
           }
          ],
          "heatmapgl": [
           {
            "colorbar": {
             "outlinewidth": 0,
             "ticks": ""
            },
            "colorscale": [
             [
              0,
              "#0d0887"
             ],
             [
              0.1111111111111111,
              "#46039f"
             ],
             [
              0.2222222222222222,
              "#7201a8"
             ],
             [
              0.3333333333333333,
              "#9c179e"
             ],
             [
              0.4444444444444444,
              "#bd3786"
             ],
             [
              0.5555555555555556,
              "#d8576b"
             ],
             [
              0.6666666666666666,
              "#ed7953"
             ],
             [
              0.7777777777777778,
              "#fb9f3a"
             ],
             [
              0.8888888888888888,
              "#fdca26"
             ],
             [
              1,
              "#f0f921"
             ]
            ],
            "type": "heatmapgl"
           }
          ],
          "histogram": [
           {
            "marker": {
             "pattern": {
              "fillmode": "overlay",
              "size": 10,
              "solidity": 0.2
             }
            },
            "type": "histogram"
           }
          ],
          "histogram2d": [
           {
            "colorbar": {
             "outlinewidth": 0,
             "ticks": ""
            },
            "colorscale": [
             [
              0,
              "#0d0887"
             ],
             [
              0.1111111111111111,
              "#46039f"
             ],
             [
              0.2222222222222222,
              "#7201a8"
             ],
             [
              0.3333333333333333,
              "#9c179e"
             ],
             [
              0.4444444444444444,
              "#bd3786"
             ],
             [
              0.5555555555555556,
              "#d8576b"
             ],
             [
              0.6666666666666666,
              "#ed7953"
             ],
             [
              0.7777777777777778,
              "#fb9f3a"
             ],
             [
              0.8888888888888888,
              "#fdca26"
             ],
             [
              1,
              "#f0f921"
             ]
            ],
            "type": "histogram2d"
           }
          ],
          "histogram2dcontour": [
           {
            "colorbar": {
             "outlinewidth": 0,
             "ticks": ""
            },
            "colorscale": [
             [
              0,
              "#0d0887"
             ],
             [
              0.1111111111111111,
              "#46039f"
             ],
             [
              0.2222222222222222,
              "#7201a8"
             ],
             [
              0.3333333333333333,
              "#9c179e"
             ],
             [
              0.4444444444444444,
              "#bd3786"
             ],
             [
              0.5555555555555556,
              "#d8576b"
             ],
             [
              0.6666666666666666,
              "#ed7953"
             ],
             [
              0.7777777777777778,
              "#fb9f3a"
             ],
             [
              0.8888888888888888,
              "#fdca26"
             ],
             [
              1,
              "#f0f921"
             ]
            ],
            "type": "histogram2dcontour"
           }
          ],
          "mesh3d": [
           {
            "colorbar": {
             "outlinewidth": 0,
             "ticks": ""
            },
            "type": "mesh3d"
           }
          ],
          "parcoords": [
           {
            "line": {
             "colorbar": {
              "outlinewidth": 0,
              "ticks": ""
             }
            },
            "type": "parcoords"
           }
          ],
          "pie": [
           {
            "automargin": true,
            "type": "pie"
           }
          ],
          "scatter": [
           {
            "fillpattern": {
             "fillmode": "overlay",
             "size": 10,
             "solidity": 0.2
            },
            "type": "scatter"
           }
          ],
          "scatter3d": [
           {
            "line": {
             "colorbar": {
              "outlinewidth": 0,
              "ticks": ""
             }
            },
            "marker": {
             "colorbar": {
              "outlinewidth": 0,
              "ticks": ""
             }
            },
            "type": "scatter3d"
           }
          ],
          "scattercarpet": [
           {
            "marker": {
             "colorbar": {
              "outlinewidth": 0,
              "ticks": ""
             }
            },
            "type": "scattercarpet"
           }
          ],
          "scattergeo": [
           {
            "marker": {
             "colorbar": {
              "outlinewidth": 0,
              "ticks": ""
             }
            },
            "type": "scattergeo"
           }
          ],
          "scattergl": [
           {
            "marker": {
             "colorbar": {
              "outlinewidth": 0,
              "ticks": ""
             }
            },
            "type": "scattergl"
           }
          ],
          "scattermapbox": [
           {
            "marker": {
             "colorbar": {
              "outlinewidth": 0,
              "ticks": ""
             }
            },
            "type": "scattermapbox"
           }
          ],
          "scatterpolar": [
           {
            "marker": {
             "colorbar": {
              "outlinewidth": 0,
              "ticks": ""
             }
            },
            "type": "scatterpolar"
           }
          ],
          "scatterpolargl": [
           {
            "marker": {
             "colorbar": {
              "outlinewidth": 0,
              "ticks": ""
             }
            },
            "type": "scatterpolargl"
           }
          ],
          "scatterternary": [
           {
            "marker": {
             "colorbar": {
              "outlinewidth": 0,
              "ticks": ""
             }
            },
            "type": "scatterternary"
           }
          ],
          "surface": [
           {
            "colorbar": {
             "outlinewidth": 0,
             "ticks": ""
            },
            "colorscale": [
             [
              0,
              "#0d0887"
             ],
             [
              0.1111111111111111,
              "#46039f"
             ],
             [
              0.2222222222222222,
              "#7201a8"
             ],
             [
              0.3333333333333333,
              "#9c179e"
             ],
             [
              0.4444444444444444,
              "#bd3786"
             ],
             [
              0.5555555555555556,
              "#d8576b"
             ],
             [
              0.6666666666666666,
              "#ed7953"
             ],
             [
              0.7777777777777778,
              "#fb9f3a"
             ],
             [
              0.8888888888888888,
              "#fdca26"
             ],
             [
              1,
              "#f0f921"
             ]
            ],
            "type": "surface"
           }
          ],
          "table": [
           {
            "cells": {
             "fill": {
              "color": "#EBF0F8"
             },
             "line": {
              "color": "white"
             }
            },
            "header": {
             "fill": {
              "color": "#C8D4E3"
             },
             "line": {
              "color": "white"
             }
            },
            "type": "table"
           }
          ]
         },
         "layout": {
          "annotationdefaults": {
           "arrowcolor": "#2a3f5f",
           "arrowhead": 0,
           "arrowwidth": 1
          },
          "autotypenumbers": "strict",
          "coloraxis": {
           "colorbar": {
            "outlinewidth": 0,
            "ticks": ""
           }
          },
          "colorscale": {
           "diverging": [
            [
             0,
             "#8e0152"
            ],
            [
             0.1,
             "#c51b7d"
            ],
            [
             0.2,
             "#de77ae"
            ],
            [
             0.3,
             "#f1b6da"
            ],
            [
             0.4,
             "#fde0ef"
            ],
            [
             0.5,
             "#f7f7f7"
            ],
            [
             0.6,
             "#e6f5d0"
            ],
            [
             0.7,
             "#b8e186"
            ],
            [
             0.8,
             "#7fbc41"
            ],
            [
             0.9,
             "#4d9221"
            ],
            [
             1,
             "#276419"
            ]
           ],
           "sequential": [
            [
             0,
             "#0d0887"
            ],
            [
             0.1111111111111111,
             "#46039f"
            ],
            [
             0.2222222222222222,
             "#7201a8"
            ],
            [
             0.3333333333333333,
             "#9c179e"
            ],
            [
             0.4444444444444444,
             "#bd3786"
            ],
            [
             0.5555555555555556,
             "#d8576b"
            ],
            [
             0.6666666666666666,
             "#ed7953"
            ],
            [
             0.7777777777777778,
             "#fb9f3a"
            ],
            [
             0.8888888888888888,
             "#fdca26"
            ],
            [
             1,
             "#f0f921"
            ]
           ],
           "sequentialminus": [
            [
             0,
             "#0d0887"
            ],
            [
             0.1111111111111111,
             "#46039f"
            ],
            [
             0.2222222222222222,
             "#7201a8"
            ],
            [
             0.3333333333333333,
             "#9c179e"
            ],
            [
             0.4444444444444444,
             "#bd3786"
            ],
            [
             0.5555555555555556,
             "#d8576b"
            ],
            [
             0.6666666666666666,
             "#ed7953"
            ],
            [
             0.7777777777777778,
             "#fb9f3a"
            ],
            [
             0.8888888888888888,
             "#fdca26"
            ],
            [
             1,
             "#f0f921"
            ]
           ]
          },
          "colorway": [
           "#636efa",
           "#EF553B",
           "#00cc96",
           "#ab63fa",
           "#FFA15A",
           "#19d3f3",
           "#FF6692",
           "#B6E880",
           "#FF97FF",
           "#FECB52"
          ],
          "font": {
           "color": "#2a3f5f"
          },
          "geo": {
           "bgcolor": "white",
           "lakecolor": "white",
           "landcolor": "#E5ECF6",
           "showlakes": true,
           "showland": true,
           "subunitcolor": "white"
          },
          "hoverlabel": {
           "align": "left"
          },
          "hovermode": "closest",
          "mapbox": {
           "style": "light"
          },
          "paper_bgcolor": "white",
          "plot_bgcolor": "#E5ECF6",
          "polar": {
           "angularaxis": {
            "gridcolor": "white",
            "linecolor": "white",
            "ticks": ""
           },
           "bgcolor": "#E5ECF6",
           "radialaxis": {
            "gridcolor": "white",
            "linecolor": "white",
            "ticks": ""
           }
          },
          "scene": {
           "xaxis": {
            "backgroundcolor": "#E5ECF6",
            "gridcolor": "white",
            "gridwidth": 2,
            "linecolor": "white",
            "showbackground": true,
            "ticks": "",
            "zerolinecolor": "white"
           },
           "yaxis": {
            "backgroundcolor": "#E5ECF6",
            "gridcolor": "white",
            "gridwidth": 2,
            "linecolor": "white",
            "showbackground": true,
            "ticks": "",
            "zerolinecolor": "white"
           },
           "zaxis": {
            "backgroundcolor": "#E5ECF6",
            "gridcolor": "white",
            "gridwidth": 2,
            "linecolor": "white",
            "showbackground": true,
            "ticks": "",
            "zerolinecolor": "white"
           }
          },
          "shapedefaults": {
           "line": {
            "color": "#2a3f5f"
           }
          },
          "ternary": {
           "aaxis": {
            "gridcolor": "white",
            "linecolor": "white",
            "ticks": ""
           },
           "baxis": {
            "gridcolor": "white",
            "linecolor": "white",
            "ticks": ""
           },
           "bgcolor": "#E5ECF6",
           "caxis": {
            "gridcolor": "white",
            "linecolor": "white",
            "ticks": ""
           }
          },
          "title": {
           "x": 0.05
          },
          "xaxis": {
           "automargin": true,
           "gridcolor": "white",
           "linecolor": "white",
           "ticks": "",
           "title": {
            "standoff": 15
           },
           "zerolinecolor": "white",
           "zerolinewidth": 2
          },
          "yaxis": {
           "automargin": true,
           "gridcolor": "white",
           "linecolor": "white",
           "ticks": "",
           "title": {
            "standoff": 15
           },
           "zerolinecolor": "white",
           "zerolinewidth": 2
          }
         }
        },
        "title": {
         "text": "Hyperparameter Importances"
        },
        "xaxis": {
         "title": {
          "text": "Hyperparameter Importance"
         }
        },
        "yaxis": {
         "title": {
          "text": "Hyperparameter"
         }
        }
       }
      }
     },
     "metadata": {},
     "output_type": "display_data"
    }
   ],
   "source": [
    "# 5. Hyperparameter Importance\n",
    "plot_param_importances(study).show()"
   ]
  },
  {
   "cell_type": "code",
   "execution_count": 35,
   "metadata": {
    "colab": {
     "base_uri": "https://localhost:8080/"
    },
    "id": "APAwYNxkIwMf",
    "outputId": "204d3690-5f5e-444d-89fa-9c21e6552562"
   },
   "outputs": [
    {
     "name": "stderr",
     "output_type": "stream",
     "text": [
      "[I 2024-11-25 11:24:30,398] A new study created in memory with name: no-name-44968a4d-f009-4b5b-82fd-6c7564f67399\n"
     ]
    },
    {
     "name": "stdout",
     "output_type": "stream",
     "text": [
      "[0]\ttrain-mlogloss:0.84756\teval-mlogloss:0.83984\n",
      "[1]\ttrain-mlogloss:0.67815\teval-mlogloss:0.66032\n",
      "[2]\ttrain-mlogloss:0.55321\teval-mlogloss:0.52929\n",
      "[3]\ttrain-mlogloss:0.46070\teval-mlogloss:0.43272\n",
      "[4]\ttrain-mlogloss:0.38703\teval-mlogloss:0.35567\n",
      "[5]\ttrain-mlogloss:0.32761\teval-mlogloss:0.28972\n",
      "[6]\ttrain-mlogloss:0.28233\teval-mlogloss:0.24174\n",
      "[7]\ttrain-mlogloss:0.24520\teval-mlogloss:0.20416\n",
      "[8]\ttrain-mlogloss:0.21640\teval-mlogloss:0.17436\n",
      "[9]\ttrain-mlogloss:0.19499\teval-mlogloss:0.15091\n",
      "[10]\ttrain-mlogloss:0.17662\teval-mlogloss:0.12797\n",
      "[11]\ttrain-mlogloss:0.16296\teval-mlogloss:0.11234\n",
      "[12]\ttrain-mlogloss:0.15132\teval-mlogloss:0.09628\n",
      "[13]\ttrain-mlogloss:0.14271\teval-mlogloss:0.08640\n",
      "[14]\ttrain-mlogloss:0.13996\teval-mlogloss:0.08422\n",
      "[15]\ttrain-mlogloss:0.13694\teval-mlogloss:0.07915\n",
      "[16]\ttrain-mlogloss:0.13483\teval-mlogloss:0.07507\n",
      "[17]\ttrain-mlogloss:0.13261\teval-mlogloss:0.07201\n",
      "[18]\ttrain-mlogloss:0.13062\teval-mlogloss:0.06808\n",
      "[19]\ttrain-mlogloss:0.12922\teval-mlogloss:0.06584\n",
      "[20]\ttrain-mlogloss:0.12847\teval-mlogloss:0.06478\n",
      "[21]\ttrain-mlogloss:0.12765\teval-mlogloss:0.06443\n",
      "[22]\ttrain-mlogloss:0.12568\teval-mlogloss:0.06269\n",
      "[23]\ttrain-mlogloss:0.12558\teval-mlogloss:0.06371\n",
      "[24]\ttrain-mlogloss:0.12448\teval-mlogloss:0.06275\n",
      "[25]\ttrain-mlogloss:0.12338\teval-mlogloss:0.06304\n",
      "[26]\ttrain-mlogloss:0.12303\teval-mlogloss:0.06301\n",
      "[27]\ttrain-mlogloss:0.12303\teval-mlogloss:0.06291\n",
      "[28]\ttrain-mlogloss:0.12222\teval-mlogloss:0.06228\n",
      "[29]\ttrain-mlogloss:0.12126\teval-mlogloss:0.06139\n",
      "[30]\ttrain-mlogloss:0.12014\teval-mlogloss:0.06264\n",
      "[31]\ttrain-mlogloss:0.11921\teval-mlogloss:0.06184\n",
      "[32]\ttrain-mlogloss:0.11934\teval-mlogloss:0.06274\n",
      "[33]\ttrain-mlogloss:0.11825\teval-mlogloss:0.06032\n",
      "[34]\ttrain-mlogloss:0.11722\teval-mlogloss:0.06078\n",
      "[35]\ttrain-mlogloss:0.11652\teval-mlogloss:0.05914\n",
      "[36]\ttrain-mlogloss:0.11629\teval-mlogloss:0.05894\n",
      "[37]\ttrain-mlogloss:0.11590\teval-mlogloss:0.05883\n",
      "[38]\ttrain-mlogloss:0.11555\teval-mlogloss:0.05885\n",
      "[39]\ttrain-mlogloss:0.11554\teval-mlogloss:0.05902\n",
      "[40]\ttrain-mlogloss:0.11478\teval-mlogloss:0.05958\n",
      "[41]\ttrain-mlogloss:0.11458\teval-mlogloss:0.05953\n",
      "[42]\ttrain-mlogloss:0.11450\teval-mlogloss:0.05862\n",
      "[43]\ttrain-mlogloss:0.11432\teval-mlogloss:0.05835\n",
      "[44]\ttrain-mlogloss:0.11404\teval-mlogloss:0.05805\n",
      "[45]\ttrain-mlogloss:0.11338\teval-mlogloss:0.05865\n",
      "[46]\ttrain-mlogloss:0.11273\teval-mlogloss:0.05983\n",
      "[47]\ttrain-mlogloss:0.11207\teval-mlogloss:0.05938\n",
      "[48]\ttrain-mlogloss:0.11197\teval-mlogloss:0.05947\n",
      "[49]\ttrain-mlogloss:0.11186\teval-mlogloss:0.05947\n",
      "[50]\ttrain-mlogloss:0.11169\teval-mlogloss:0.05843\n",
      "[51]\ttrain-mlogloss:0.11074\teval-mlogloss:0.05627\n",
      "[52]\ttrain-mlogloss:0.11068\teval-mlogloss:0.05561\n",
      "[53]\ttrain-mlogloss:0.11052\teval-mlogloss:0.05573\n",
      "[54]\ttrain-mlogloss:0.11052\teval-mlogloss:0.05611\n",
      "[55]\ttrain-mlogloss:0.10974\teval-mlogloss:0.05459\n",
      "[56]\ttrain-mlogloss:0.10972\teval-mlogloss:0.05466\n",
      "[57]\ttrain-mlogloss:0.10949\teval-mlogloss:0.05408\n",
      "[58]\ttrain-mlogloss:0.10953\teval-mlogloss:0.05349\n",
      "[59]\ttrain-mlogloss:0.10911\teval-mlogloss:0.05354\n",
      "[60]\ttrain-mlogloss:0.10888\teval-mlogloss:0.05378\n",
      "[61]\ttrain-mlogloss:0.10880\teval-mlogloss:0.05270\n",
      "[62]\ttrain-mlogloss:0.10889\teval-mlogloss:0.05307\n",
      "[63]\ttrain-mlogloss:0.10885\teval-mlogloss:0.05201\n",
      "[64]\ttrain-mlogloss:0.10880\teval-mlogloss:0.05182\n",
      "[65]\ttrain-mlogloss:0.10871\teval-mlogloss:0.05171\n",
      "[66]\ttrain-mlogloss:0.10873\teval-mlogloss:0.05147\n",
      "[67]\ttrain-mlogloss:0.10861\teval-mlogloss:0.05148\n",
      "[68]\ttrain-mlogloss:0.10861\teval-mlogloss:0.05240\n",
      "[69]\ttrain-mlogloss:0.10818\teval-mlogloss:0.05261\n",
      "[70]\ttrain-mlogloss:0.10788\teval-mlogloss:0.05263\n",
      "[71]\ttrain-mlogloss:0.10782\teval-mlogloss:0.05260\n",
      "[72]\ttrain-mlogloss:0.10770\teval-mlogloss:0.05229\n",
      "[73]\ttrain-mlogloss:0.10772\teval-mlogloss:0.05257\n",
      "[74]\ttrain-mlogloss:0.10776\teval-mlogloss:0.05296\n",
      "[75]\ttrain-mlogloss:0.10768\teval-mlogloss:0.05268\n",
      "[76]\ttrain-mlogloss:0.10757\teval-mlogloss:0.05232\n",
      "[77]\ttrain-mlogloss:0.10711\teval-mlogloss:0.05278\n",
      "[78]\ttrain-mlogloss:0.10701\teval-mlogloss:0.05322\n",
      "[79]\ttrain-mlogloss:0.10673\teval-mlogloss:0.05273\n",
      "[80]\ttrain-mlogloss:0.10663\teval-mlogloss:0.05263\n",
      "[81]\ttrain-mlogloss:0.10666\teval-mlogloss:0.05297\n",
      "[82]\ttrain-mlogloss:0.10661\teval-mlogloss:0.05235\n",
      "[83]\ttrain-mlogloss:0.10655\teval-mlogloss:0.05240\n",
      "[84]\ttrain-mlogloss:0.10631\teval-mlogloss:0.05282\n",
      "[85]\ttrain-mlogloss:0.10634\teval-mlogloss:0.05318\n",
      "[86]\ttrain-mlogloss:0.10635\teval-mlogloss:0.05300\n",
      "[87]\ttrain-mlogloss:0.10609\teval-mlogloss:0.05350\n",
      "[88]\ttrain-mlogloss:0.10609\teval-mlogloss:0.05360\n",
      "[89]\ttrain-mlogloss:0.10591\teval-mlogloss:0.05348\n",
      "[90]\ttrain-mlogloss:0.10584\teval-mlogloss:0.05371\n",
      "[91]\ttrain-mlogloss:0.10615\teval-mlogloss:0.05429\n",
      "[92]\ttrain-mlogloss:0.10581\teval-mlogloss:0.05383\n",
      "[93]\ttrain-mlogloss:0.10546\teval-mlogloss:0.05335\n",
      "[94]\ttrain-mlogloss:0.10548\teval-mlogloss:0.05285\n",
      "[95]\ttrain-mlogloss:0.10544\teval-mlogloss:0.05280\n",
      "[96]\ttrain-mlogloss:0.10507\teval-mlogloss:0.05238\n"
     ]
    },
    {
     "name": "stderr",
     "output_type": "stream",
     "text": [
      "[I 2024-11-25 11:24:33,130] Trial 0 finished with value: 1.0 and parameters: {'lambda': 0.1862281922948573, 'alpha': 0.0002686829395108523, 'eta': 0.2010747597313131, 'gamma': 1.8671245320624107e-07, 'max_depth': 9, 'min_child_weight': 4, 'subsample': 0.7537517770115805, 'colsample_bytree': 0.9625969913585541}. Best is trial 0 with value: 1.0.\n"
     ]
    },
    {
     "name": "stdout",
     "output_type": "stream",
     "text": [
      "[0]\ttrain-mlogloss:0.74584\teval-mlogloss:0.72633\n",
      "[1]\ttrain-mlogloss:0.57332\teval-mlogloss:0.54083\n",
      "[2]\ttrain-mlogloss:0.43913\teval-mlogloss:0.39752\n",
      "[3]\ttrain-mlogloss:0.35377\teval-mlogloss:0.30434\n",
      "[4]\ttrain-mlogloss:0.30453\teval-mlogloss:0.24929\n",
      "[5]\ttrain-mlogloss:0.26491\teval-mlogloss:0.20352\n",
      "[6]\ttrain-mlogloss:0.26327\teval-mlogloss:0.19884\n",
      "[7]\ttrain-mlogloss:0.26330\teval-mlogloss:0.19895\n",
      "[8]\ttrain-mlogloss:0.24846\teval-mlogloss:0.18189\n",
      "[9]\ttrain-mlogloss:0.23865\teval-mlogloss:0.17006\n",
      "[10]\ttrain-mlogloss:0.23877\teval-mlogloss:0.17043\n",
      "[11]\ttrain-mlogloss:0.23875\teval-mlogloss:0.17032\n",
      "[12]\ttrain-mlogloss:0.23783\teval-mlogloss:0.16747\n",
      "[13]\ttrain-mlogloss:0.23711\teval-mlogloss:0.16726\n",
      "[14]\ttrain-mlogloss:0.23633\teval-mlogloss:0.16656\n",
      "[15]\ttrain-mlogloss:0.23624\teval-mlogloss:0.16641\n",
      "[16]\ttrain-mlogloss:0.23578\teval-mlogloss:0.16601\n",
      "[17]\ttrain-mlogloss:0.23535\teval-mlogloss:0.16605\n",
      "[18]\ttrain-mlogloss:0.23508\teval-mlogloss:0.16645\n",
      "[19]\ttrain-mlogloss:0.23514\teval-mlogloss:0.16672\n",
      "[20]\ttrain-mlogloss:0.23491\teval-mlogloss:0.16651\n",
      "[21]\ttrain-mlogloss:0.23442\teval-mlogloss:0.16587\n",
      "[22]\ttrain-mlogloss:0.23414\teval-mlogloss:0.16581\n",
      "[23]\ttrain-mlogloss:0.23375\teval-mlogloss:0.16536\n",
      "[24]\ttrain-mlogloss:0.23354\teval-mlogloss:0.16513\n",
      "[25]\ttrain-mlogloss:0.23291\teval-mlogloss:0.16321\n",
      "[26]\ttrain-mlogloss:0.23280\teval-mlogloss:0.16329\n",
      "[27]\ttrain-mlogloss:0.23280\teval-mlogloss:0.16318\n",
      "[28]\ttrain-mlogloss:0.23272\teval-mlogloss:0.16328\n",
      "[29]\ttrain-mlogloss:0.23272\teval-mlogloss:0.16343\n",
      "[30]\ttrain-mlogloss:0.23267\teval-mlogloss:0.16335\n",
      "[31]\ttrain-mlogloss:0.23265\teval-mlogloss:0.16300\n",
      "[32]\ttrain-mlogloss:0.23273\teval-mlogloss:0.16299\n",
      "[33]\ttrain-mlogloss:0.23162\teval-mlogloss:0.15869\n",
      "[34]\ttrain-mlogloss:0.23156\teval-mlogloss:0.15887\n",
      "[35]\ttrain-mlogloss:0.23156\teval-mlogloss:0.15891\n",
      "[36]\ttrain-mlogloss:0.23139\teval-mlogloss:0.15899\n",
      "[37]\ttrain-mlogloss:0.23138\teval-mlogloss:0.15890\n",
      "[38]\ttrain-mlogloss:0.23144\teval-mlogloss:0.15915\n",
      "[39]\ttrain-mlogloss:0.23142\teval-mlogloss:0.15929\n",
      "[40]\ttrain-mlogloss:0.23127\teval-mlogloss:0.15935\n",
      "[41]\ttrain-mlogloss:0.23099\teval-mlogloss:0.15927\n",
      "[42]\ttrain-mlogloss:0.23066\teval-mlogloss:0.15742\n",
      "[43]\ttrain-mlogloss:0.22987\teval-mlogloss:0.15684\n",
      "[44]\ttrain-mlogloss:0.22970\teval-mlogloss:0.15594\n",
      "[45]\ttrain-mlogloss:0.22970\teval-mlogloss:0.15568\n",
      "[46]\ttrain-mlogloss:0.22970\teval-mlogloss:0.15567\n",
      "[47]\ttrain-mlogloss:0.22218\teval-mlogloss:0.14563\n",
      "[48]\ttrain-mlogloss:0.22215\teval-mlogloss:0.14575\n",
      "[49]\ttrain-mlogloss:0.22215\teval-mlogloss:0.14577\n",
      "[50]\ttrain-mlogloss:0.22218\teval-mlogloss:0.14577\n",
      "[51]\ttrain-mlogloss:0.22221\teval-mlogloss:0.14581\n",
      "[52]\ttrain-mlogloss:0.22214\teval-mlogloss:0.14589\n",
      "[53]\ttrain-mlogloss:0.22214\teval-mlogloss:0.14599\n",
      "[54]\ttrain-mlogloss:0.22189\teval-mlogloss:0.14587\n",
      "[55]\ttrain-mlogloss:0.22195\teval-mlogloss:0.14572\n",
      "[56]\ttrain-mlogloss:0.22190\teval-mlogloss:0.14588\n",
      "[57]\ttrain-mlogloss:0.22185\teval-mlogloss:0.14523\n",
      "[58]\ttrain-mlogloss:0.22200\teval-mlogloss:0.14535\n",
      "[59]\ttrain-mlogloss:0.22189\teval-mlogloss:0.14525\n",
      "[60]\ttrain-mlogloss:0.22175\teval-mlogloss:0.14549\n",
      "[61]\ttrain-mlogloss:0.22175\teval-mlogloss:0.14549\n",
      "[62]\ttrain-mlogloss:0.22172\teval-mlogloss:0.14543\n",
      "[63]\ttrain-mlogloss:0.22179\teval-mlogloss:0.14513\n",
      "[64]\ttrain-mlogloss:0.22182\teval-mlogloss:0.14519\n",
      "[65]\ttrain-mlogloss:0.22183\teval-mlogloss:0.14513\n",
      "[66]\ttrain-mlogloss:0.22186\teval-mlogloss:0.14512\n",
      "[67]\ttrain-mlogloss:0.22184\teval-mlogloss:0.14508\n",
      "[68]\ttrain-mlogloss:0.22197\teval-mlogloss:0.14627\n",
      "[69]\ttrain-mlogloss:0.22200\teval-mlogloss:0.14633\n",
      "[70]\ttrain-mlogloss:0.22198\teval-mlogloss:0.14637\n",
      "[71]\ttrain-mlogloss:0.22198\teval-mlogloss:0.14616\n",
      "[72]\ttrain-mlogloss:0.22178\teval-mlogloss:0.14610\n",
      "[73]\ttrain-mlogloss:0.22176\teval-mlogloss:0.14636\n",
      "[74]\ttrain-mlogloss:0.22178\teval-mlogloss:0.14654\n",
      "[75]\ttrain-mlogloss:0.22175\teval-mlogloss:0.14633\n",
      "[76]\ttrain-mlogloss:0.22176\teval-mlogloss:0.14623\n",
      "[77]\ttrain-mlogloss:0.22164\teval-mlogloss:0.14597\n",
      "[78]\ttrain-mlogloss:0.22170\teval-mlogloss:0.14601\n",
      "[79]\ttrain-mlogloss:0.22152\teval-mlogloss:0.14497\n",
      "[80]\ttrain-mlogloss:0.22123\teval-mlogloss:0.14495\n",
      "[81]\ttrain-mlogloss:0.22129\teval-mlogloss:0.14516\n",
      "[82]\ttrain-mlogloss:0.22116\teval-mlogloss:0.14442\n",
      "[83]\ttrain-mlogloss:0.22085\teval-mlogloss:0.14434\n",
      "[84]\ttrain-mlogloss:0.22085\teval-mlogloss:0.14432\n",
      "[85]\ttrain-mlogloss:0.22096\teval-mlogloss:0.14498\n",
      "[86]\ttrain-mlogloss:0.22087\teval-mlogloss:0.14450\n",
      "[87]\ttrain-mlogloss:0.22074\teval-mlogloss:0.14442\n",
      "[88]\ttrain-mlogloss:0.22049\teval-mlogloss:0.14446\n",
      "[89]\ttrain-mlogloss:0.22052\teval-mlogloss:0.14451\n",
      "[90]\ttrain-mlogloss:0.22058\teval-mlogloss:0.14452\n",
      "[91]\ttrain-mlogloss:0.22073\teval-mlogloss:0.14480\n",
      "[92]\ttrain-mlogloss:0.22066\teval-mlogloss:0.14490\n",
      "[93]\ttrain-mlogloss:0.22050\teval-mlogloss:0.14462\n",
      "[94]\ttrain-mlogloss:0.22052\teval-mlogloss:0.14466\n",
      "[95]\ttrain-mlogloss:0.22052\teval-mlogloss:0.14436\n",
      "[96]\ttrain-mlogloss:0.22050\teval-mlogloss:0.14428\n",
      "[97]\ttrain-mlogloss:0.22064\teval-mlogloss:0.14455\n",
      "[98]\ttrain-mlogloss:0.22063\teval-mlogloss:0.14472\n",
      "[99]\ttrain-mlogloss:0.22056\teval-mlogloss:0.14435\n",
      "[100]\ttrain-mlogloss:0.22034\teval-mlogloss:0.14451\n",
      "[101]\ttrain-mlogloss:0.22035\teval-mlogloss:0.14476\n",
      "[102]\ttrain-mlogloss:0.22038\teval-mlogloss:0.14433\n",
      "[103]\ttrain-mlogloss:0.22037\teval-mlogloss:0.14436\n",
      "[104]\ttrain-mlogloss:0.22038\teval-mlogloss:0.14447\n",
      "[105]\ttrain-mlogloss:0.22021\teval-mlogloss:0.14439\n",
      "[106]\ttrain-mlogloss:0.22022\teval-mlogloss:0.14456\n",
      "[107]\ttrain-mlogloss:0.21983\teval-mlogloss:0.14423\n",
      "[108]\ttrain-mlogloss:0.21969\teval-mlogloss:0.14391\n",
      "[109]\ttrain-mlogloss:0.21954\teval-mlogloss:0.14407\n",
      "[110]\ttrain-mlogloss:0.21960\teval-mlogloss:0.14431\n",
      "[111]\ttrain-mlogloss:0.21958\teval-mlogloss:0.14424\n",
      "[112]\ttrain-mlogloss:0.21968\teval-mlogloss:0.14413\n",
      "[113]\ttrain-mlogloss:0.21965\teval-mlogloss:0.14392\n",
      "[114]\ttrain-mlogloss:0.21966\teval-mlogloss:0.14387\n",
      "[115]\ttrain-mlogloss:0.21958\teval-mlogloss:0.14389\n",
      "[116]\ttrain-mlogloss:0.21960\teval-mlogloss:0.14422\n",
      "[117]\ttrain-mlogloss:0.21955\teval-mlogloss:0.14399\n",
      "[118]\ttrain-mlogloss:0.21963\teval-mlogloss:0.14445\n",
      "[119]\ttrain-mlogloss:0.21962\teval-mlogloss:0.14418\n",
      "[120]\ttrain-mlogloss:0.21959\teval-mlogloss:0.14424\n",
      "[121]\ttrain-mlogloss:0.21982\teval-mlogloss:0.14433\n",
      "[122]\ttrain-mlogloss:0.21978\teval-mlogloss:0.14428\n",
      "[123]\ttrain-mlogloss:0.21967\teval-mlogloss:0.14397\n",
      "[124]\ttrain-mlogloss:0.21956\teval-mlogloss:0.14428\n",
      "[125]\ttrain-mlogloss:0.21949\teval-mlogloss:0.14408\n",
      "[126]\ttrain-mlogloss:0.21953\teval-mlogloss:0.14418\n",
      "[127]\ttrain-mlogloss:0.21947\teval-mlogloss:0.14388\n",
      "[128]\ttrain-mlogloss:0.21948\teval-mlogloss:0.14373\n",
      "[129]\ttrain-mlogloss:0.21954\teval-mlogloss:0.14356\n",
      "[130]\ttrain-mlogloss:0.21937\teval-mlogloss:0.14375\n",
      "[131]\ttrain-mlogloss:0.21947\teval-mlogloss:0.14390\n",
      "[132]\ttrain-mlogloss:0.21911\teval-mlogloss:0.14375\n",
      "[133]\ttrain-mlogloss:0.21910\teval-mlogloss:0.14396\n",
      "[134]\ttrain-mlogloss:0.21913\teval-mlogloss:0.14386\n",
      "[135]\ttrain-mlogloss:0.21922\teval-mlogloss:0.14378\n",
      "[136]\ttrain-mlogloss:0.21923\teval-mlogloss:0.14371\n",
      "[137]\ttrain-mlogloss:0.21911\teval-mlogloss:0.14381\n",
      "[138]\ttrain-mlogloss:0.21911\teval-mlogloss:0.14372\n",
      "[139]\ttrain-mlogloss:0.21908\teval-mlogloss:0.14389\n",
      "[140]\ttrain-mlogloss:0.21908\teval-mlogloss:0.14399\n",
      "[141]\ttrain-mlogloss:0.21914\teval-mlogloss:0.14403\n",
      "[142]\ttrain-mlogloss:0.21918\teval-mlogloss:0.14420\n",
      "[143]\ttrain-mlogloss:0.21916\teval-mlogloss:0.14396\n",
      "[144]\ttrain-mlogloss:0.21902\teval-mlogloss:0.14325\n",
      "[145]\ttrain-mlogloss:0.21909\teval-mlogloss:0.14355\n",
      "[146]\ttrain-mlogloss:0.21887\teval-mlogloss:0.14363\n",
      "[147]\ttrain-mlogloss:0.21885\teval-mlogloss:0.14361\n",
      "[148]\ttrain-mlogloss:0.21860\teval-mlogloss:0.14377\n",
      "[149]\ttrain-mlogloss:0.21864\teval-mlogloss:0.14383\n",
      "[150]\ttrain-mlogloss:0.21859\teval-mlogloss:0.14394\n",
      "[151]\ttrain-mlogloss:0.21858\teval-mlogloss:0.14350\n",
      "[152]\ttrain-mlogloss:0.21861\teval-mlogloss:0.14385\n",
      "[153]\ttrain-mlogloss:0.21860\teval-mlogloss:0.14342\n",
      "[154]\ttrain-mlogloss:0.21859\teval-mlogloss:0.14353\n",
      "[155]\ttrain-mlogloss:0.21839\teval-mlogloss:0.14124\n",
      "[156]\ttrain-mlogloss:0.21853\teval-mlogloss:0.14109\n",
      "[157]\ttrain-mlogloss:0.21850\teval-mlogloss:0.14089\n",
      "[158]\ttrain-mlogloss:0.21848\teval-mlogloss:0.14085\n",
      "[159]\ttrain-mlogloss:0.21847\teval-mlogloss:0.14058\n",
      "[160]\ttrain-mlogloss:0.21848\teval-mlogloss:0.14075\n",
      "[161]\ttrain-mlogloss:0.21837\teval-mlogloss:0.14071\n",
      "[162]\ttrain-mlogloss:0.21830\teval-mlogloss:0.14091\n",
      "[163]\ttrain-mlogloss:0.21833\teval-mlogloss:0.14106\n",
      "[164]\ttrain-mlogloss:0.21837\teval-mlogloss:0.14076\n",
      "[165]\ttrain-mlogloss:0.21842\teval-mlogloss:0.14087\n",
      "[166]\ttrain-mlogloss:0.21831\teval-mlogloss:0.14095\n",
      "[167]\ttrain-mlogloss:0.21828\teval-mlogloss:0.14098\n",
      "[168]\ttrain-mlogloss:0.21827\teval-mlogloss:0.14099\n",
      "[169]\ttrain-mlogloss:0.21842\teval-mlogloss:0.14136\n",
      "[170]\ttrain-mlogloss:0.21833\teval-mlogloss:0.14120\n",
      "[171]\ttrain-mlogloss:0.21838\teval-mlogloss:0.14146\n",
      "[172]\ttrain-mlogloss:0.21832\teval-mlogloss:0.14109\n",
      "[173]\ttrain-mlogloss:0.21830\teval-mlogloss:0.14132\n",
      "[174]\ttrain-mlogloss:0.21838\teval-mlogloss:0.14158\n",
      "[175]\ttrain-mlogloss:0.21835\teval-mlogloss:0.14136\n",
      "[176]\ttrain-mlogloss:0.21830\teval-mlogloss:0.14136\n",
      "[177]\ttrain-mlogloss:0.21838\teval-mlogloss:0.14120\n",
      "[178]\ttrain-mlogloss:0.21834\teval-mlogloss:0.14109\n",
      "[179]\ttrain-mlogloss:0.21817\teval-mlogloss:0.14096\n",
      "[180]\ttrain-mlogloss:0.21820\teval-mlogloss:0.14083\n",
      "[181]\ttrain-mlogloss:0.21815\teval-mlogloss:0.14087\n",
      "[182]\ttrain-mlogloss:0.21861\teval-mlogloss:0.14064\n",
      "[183]\ttrain-mlogloss:0.21827\teval-mlogloss:0.14061\n",
      "[184]\ttrain-mlogloss:0.21822\teval-mlogloss:0.14067\n",
      "[185]\ttrain-mlogloss:0.21816\teval-mlogloss:0.14081\n",
      "[186]\ttrain-mlogloss:0.21813\teval-mlogloss:0.14091\n",
      "[187]\ttrain-mlogloss:0.21811\teval-mlogloss:0.14097\n",
      "[188]\ttrain-mlogloss:0.21810\teval-mlogloss:0.14110\n"
     ]
    },
    {
     "name": "stderr",
     "output_type": "stream",
     "text": [
      "[I 2024-11-25 11:24:36,083] Trial 1 finished with value: 1.0 and parameters: {'lambda': 3.959844694942787e-06, 'alpha': 0.021514107982753786, 'eta': 0.2953149375502616, 'gamma': 0.0019492018762115107, 'max_depth': 5, 'min_child_weight': 9, 'subsample': 0.7337965674726503, 'colsample_bytree': 0.704134552387603}. Best is trial 0 with value: 1.0.\n"
     ]
    },
    {
     "name": "stdout",
     "output_type": "stream",
     "text": [
      "[0]\ttrain-mlogloss:0.78478\teval-mlogloss:0.76926\n",
      "[1]\ttrain-mlogloss:0.59651\teval-mlogloss:0.56815\n",
      "[2]\ttrain-mlogloss:0.46365\teval-mlogloss:0.42741\n",
      "[3]\ttrain-mlogloss:0.39357\teval-mlogloss:0.35092\n",
      "[4]\ttrain-mlogloss:0.32443\teval-mlogloss:0.27695\n",
      "[5]\ttrain-mlogloss:0.27278\teval-mlogloss:0.21465\n",
      "[6]\ttrain-mlogloss:0.25116\teval-mlogloss:0.18890\n",
      "[7]\ttrain-mlogloss:0.25112\teval-mlogloss:0.18883\n",
      "[8]\ttrain-mlogloss:0.24638\teval-mlogloss:0.18377\n",
      "[9]\ttrain-mlogloss:0.23588\teval-mlogloss:0.17384\n",
      "[10]\ttrain-mlogloss:0.23578\teval-mlogloss:0.17518\n",
      "[11]\ttrain-mlogloss:0.23594\teval-mlogloss:0.17585\n",
      "[12]\ttrain-mlogloss:0.23362\teval-mlogloss:0.17255\n",
      "[13]\ttrain-mlogloss:0.23367\teval-mlogloss:0.17198\n",
      "[14]\ttrain-mlogloss:0.23292\teval-mlogloss:0.17128\n",
      "[15]\ttrain-mlogloss:0.23247\teval-mlogloss:0.17115\n",
      "[16]\ttrain-mlogloss:0.23192\teval-mlogloss:0.17016\n",
      "[17]\ttrain-mlogloss:0.23137\teval-mlogloss:0.17013\n",
      "[18]\ttrain-mlogloss:0.23162\teval-mlogloss:0.17169\n",
      "[19]\ttrain-mlogloss:0.22670\teval-mlogloss:0.16519\n",
      "[20]\ttrain-mlogloss:0.22541\teval-mlogloss:0.16370\n",
      "[21]\ttrain-mlogloss:0.22456\teval-mlogloss:0.16312\n",
      "[22]\ttrain-mlogloss:0.21524\teval-mlogloss:0.15270\n",
      "[23]\ttrain-mlogloss:0.21492\teval-mlogloss:0.15201\n",
      "[24]\ttrain-mlogloss:0.21412\teval-mlogloss:0.15095\n",
      "[25]\ttrain-mlogloss:0.21374\teval-mlogloss:0.15089\n",
      "[26]\ttrain-mlogloss:0.21321\teval-mlogloss:0.15046\n",
      "[27]\ttrain-mlogloss:0.21316\teval-mlogloss:0.15050\n",
      "[28]\ttrain-mlogloss:0.21250\teval-mlogloss:0.14960\n",
      "[29]\ttrain-mlogloss:0.21248\teval-mlogloss:0.14973\n",
      "[30]\ttrain-mlogloss:0.21247\teval-mlogloss:0.14977\n",
      "[31]\ttrain-mlogloss:0.20544\teval-mlogloss:0.14155\n",
      "[32]\ttrain-mlogloss:0.20550\teval-mlogloss:0.14155\n",
      "[33]\ttrain-mlogloss:0.20426\teval-mlogloss:0.13749\n",
      "[34]\ttrain-mlogloss:0.20432\teval-mlogloss:0.13740\n",
      "[35]\ttrain-mlogloss:0.20430\teval-mlogloss:0.13748\n",
      "[36]\ttrain-mlogloss:0.20442\teval-mlogloss:0.13752\n",
      "[37]\ttrain-mlogloss:0.20419\teval-mlogloss:0.13721\n",
      "[38]\ttrain-mlogloss:0.20375\teval-mlogloss:0.13704\n",
      "[39]\ttrain-mlogloss:0.20363\teval-mlogloss:0.13713\n",
      "[40]\ttrain-mlogloss:0.20350\teval-mlogloss:0.13708\n",
      "[41]\ttrain-mlogloss:0.20339\teval-mlogloss:0.13714\n",
      "[42]\ttrain-mlogloss:0.20355\teval-mlogloss:0.13706\n",
      "[43]\ttrain-mlogloss:0.20262\teval-mlogloss:0.13597\n",
      "[44]\ttrain-mlogloss:0.20243\teval-mlogloss:0.13614\n",
      "[45]\ttrain-mlogloss:0.20237\teval-mlogloss:0.13582\n",
      "[46]\ttrain-mlogloss:0.20230\teval-mlogloss:0.13551\n",
      "[47]\ttrain-mlogloss:0.20237\teval-mlogloss:0.13549\n",
      "[48]\ttrain-mlogloss:0.20236\teval-mlogloss:0.13546\n",
      "[49]\ttrain-mlogloss:0.20235\teval-mlogloss:0.13546\n",
      "[50]\ttrain-mlogloss:0.20247\teval-mlogloss:0.13544\n",
      "[51]\ttrain-mlogloss:0.20245\teval-mlogloss:0.13554\n",
      "[52]\ttrain-mlogloss:0.20233\teval-mlogloss:0.13556\n",
      "[53]\ttrain-mlogloss:0.20225\teval-mlogloss:0.13587\n",
      "[54]\ttrain-mlogloss:0.20208\teval-mlogloss:0.13463\n",
      "[55]\ttrain-mlogloss:0.20228\teval-mlogloss:0.13469\n",
      "[56]\ttrain-mlogloss:0.20216\teval-mlogloss:0.13474\n",
      "[57]\ttrain-mlogloss:0.20238\teval-mlogloss:0.13510\n",
      "[58]\ttrain-mlogloss:0.20255\teval-mlogloss:0.13527\n",
      "[59]\ttrain-mlogloss:0.20251\teval-mlogloss:0.13503\n",
      "[60]\ttrain-mlogloss:0.20202\teval-mlogloss:0.13481\n",
      "[61]\ttrain-mlogloss:0.20147\teval-mlogloss:0.13267\n",
      "[62]\ttrain-mlogloss:0.20175\teval-mlogloss:0.13223\n",
      "[63]\ttrain-mlogloss:0.20157\teval-mlogloss:0.13220\n",
      "[64]\ttrain-mlogloss:0.20160\teval-mlogloss:0.13219\n"
     ]
    },
    {
     "name": "stderr",
     "output_type": "stream",
     "text": [
      "[I 2024-11-25 11:24:36,451] Trial 2 pruned. Trial was pruned at iteration 64.\n"
     ]
    },
    {
     "name": "stdout",
     "output_type": "stream",
     "text": [
      "[0]\ttrain-mlogloss:1.01844\teval-mlogloss:1.01487\n",
      "[1]\ttrain-mlogloss:0.95481\teval-mlogloss:0.95098\n",
      "[2]\ttrain-mlogloss:0.89123\teval-mlogloss:0.88216\n",
      "[3]\ttrain-mlogloss:0.83369\teval-mlogloss:0.82094\n",
      "[4]\ttrain-mlogloss:0.78189\teval-mlogloss:0.76726\n",
      "[5]\ttrain-mlogloss:0.73442\teval-mlogloss:0.71692\n",
      "[6]\ttrain-mlogloss:0.69464\teval-mlogloss:0.67757\n",
      "[7]\ttrain-mlogloss:0.66344\teval-mlogloss:0.64521\n",
      "[8]\ttrain-mlogloss:0.62491\teval-mlogloss:0.60500\n",
      "[9]\ttrain-mlogloss:0.58945\teval-mlogloss:0.56737\n",
      "[10]\ttrain-mlogloss:0.55670\teval-mlogloss:0.53273\n",
      "[11]\ttrain-mlogloss:0.52765\teval-mlogloss:0.50203\n",
      "[12]\ttrain-mlogloss:0.49992\teval-mlogloss:0.47210\n",
      "[13]\ttrain-mlogloss:0.47959\teval-mlogloss:0.45172\n",
      "[14]\ttrain-mlogloss:0.46066\teval-mlogloss:0.43475\n",
      "[15]\ttrain-mlogloss:0.43813\teval-mlogloss:0.41061\n",
      "[16]\ttrain-mlogloss:0.42101\teval-mlogloss:0.39312\n",
      "[17]\ttrain-mlogloss:0.40050\teval-mlogloss:0.37075\n",
      "[18]\ttrain-mlogloss:0.38086\teval-mlogloss:0.35055\n",
      "[19]\ttrain-mlogloss:0.36321\teval-mlogloss:0.33041\n",
      "[20]\ttrain-mlogloss:0.34708\teval-mlogloss:0.31239\n",
      "[21]\ttrain-mlogloss:0.33328\teval-mlogloss:0.29780\n",
      "[22]\ttrain-mlogloss:0.31836\teval-mlogloss:0.28191\n",
      "[23]\ttrain-mlogloss:0.30653\teval-mlogloss:0.26986\n",
      "[24]\ttrain-mlogloss:0.29334\teval-mlogloss:0.25594\n",
      "[25]\ttrain-mlogloss:0.28510\teval-mlogloss:0.24689\n",
      "[26]\ttrain-mlogloss:0.27579\teval-mlogloss:0.23730\n",
      "[27]\ttrain-mlogloss:0.26858\teval-mlogloss:0.22982\n",
      "[28]\ttrain-mlogloss:0.25830\teval-mlogloss:0.21733\n",
      "[29]\ttrain-mlogloss:0.24925\teval-mlogloss:0.20648\n",
      "[30]\ttrain-mlogloss:0.24058\teval-mlogloss:0.19607\n",
      "[31]\ttrain-mlogloss:0.23450\teval-mlogloss:0.18890\n",
      "[32]\ttrain-mlogloss:0.22636\teval-mlogloss:0.18085\n",
      "[33]\ttrain-mlogloss:0.22167\teval-mlogloss:0.17591\n",
      "[34]\ttrain-mlogloss:0.21547\teval-mlogloss:0.16859\n",
      "[35]\ttrain-mlogloss:0.20911\teval-mlogloss:0.16218\n",
      "[36]\ttrain-mlogloss:0.20324\teval-mlogloss:0.15489\n",
      "[37]\ttrain-mlogloss:0.19698\teval-mlogloss:0.14722\n",
      "[38]\ttrain-mlogloss:0.19263\teval-mlogloss:0.14165\n",
      "[39]\ttrain-mlogloss:0.19010\teval-mlogloss:0.13874\n",
      "[40]\ttrain-mlogloss:0.18633\teval-mlogloss:0.13469\n",
      "[41]\ttrain-mlogloss:0.18443\teval-mlogloss:0.13161\n",
      "[42]\ttrain-mlogloss:0.18096\teval-mlogloss:0.12792\n",
      "[43]\ttrain-mlogloss:0.17854\teval-mlogloss:0.12487\n",
      "[44]\ttrain-mlogloss:0.17540\teval-mlogloss:0.12176\n",
      "[45]\ttrain-mlogloss:0.17397\teval-mlogloss:0.11946\n",
      "[46]\ttrain-mlogloss:0.17233\teval-mlogloss:0.11767\n",
      "[47]\ttrain-mlogloss:0.17107\teval-mlogloss:0.11594\n",
      "[48]\ttrain-mlogloss:0.16995\teval-mlogloss:0.11437\n",
      "[49]\ttrain-mlogloss:0.16891\teval-mlogloss:0.11319\n",
      "[50]\ttrain-mlogloss:0.16739\teval-mlogloss:0.11102\n",
      "[51]\ttrain-mlogloss:0.16619\teval-mlogloss:0.10957\n",
      "[52]\ttrain-mlogloss:0.16518\teval-mlogloss:0.10786\n",
      "[53]\ttrain-mlogloss:0.16460\teval-mlogloss:0.10687\n",
      "[54]\ttrain-mlogloss:0.16343\teval-mlogloss:0.10535\n",
      "[55]\ttrain-mlogloss:0.16261\teval-mlogloss:0.10428\n",
      "[56]\ttrain-mlogloss:0.16149\teval-mlogloss:0.10283\n",
      "[57]\ttrain-mlogloss:0.16046\teval-mlogloss:0.10122\n",
      "[58]\ttrain-mlogloss:0.16036\teval-mlogloss:0.10124\n",
      "[59]\ttrain-mlogloss:0.15952\teval-mlogloss:0.10020\n",
      "[60]\ttrain-mlogloss:0.15870\teval-mlogloss:0.09898\n",
      "[61]\ttrain-mlogloss:0.15862\teval-mlogloss:0.09887\n",
      "[62]\ttrain-mlogloss:0.15808\teval-mlogloss:0.09890\n",
      "[63]\ttrain-mlogloss:0.15740\teval-mlogloss:0.09798\n"
     ]
    },
    {
     "name": "stderr",
     "output_type": "stream",
     "text": [
      "[I 2024-11-25 11:24:37,548] Trial 3 pruned. Trial was pruned at iteration 64.\n"
     ]
    },
    {
     "name": "stdout",
     "output_type": "stream",
     "text": [
      "[0]\ttrain-mlogloss:0.89067\teval-mlogloss:0.89229\n",
      "[1]\ttrain-mlogloss:0.70312\teval-mlogloss:0.69532\n"
     ]
    },
    {
     "name": "stderr",
     "output_type": "stream",
     "text": [
      "[I 2024-11-25 11:24:37,563] Trial 4 pruned. Trial was pruned at iteration 1.\n"
     ]
    },
    {
     "name": "stdout",
     "output_type": "stream",
     "text": [
      "[0]\ttrain-mlogloss:0.84239\teval-mlogloss:0.84759\n"
     ]
    },
    {
     "name": "stderr",
     "output_type": "stream",
     "text": [
      "[I 2024-11-25 11:24:37,573] Trial 5 pruned. Trial was pruned at iteration 1.\n"
     ]
    },
    {
     "name": "stdout",
     "output_type": "stream",
     "text": [
      "[0]\ttrain-mlogloss:0.97873\teval-mlogloss:0.97317\n"
     ]
    },
    {
     "name": "stderr",
     "output_type": "stream",
     "text": [
      "[I 2024-11-25 11:24:37,585] Trial 6 pruned. Trial was pruned at iteration 1.\n"
     ]
    },
    {
     "name": "stdout",
     "output_type": "stream",
     "text": [
      "[0]\ttrain-mlogloss:1.05928\teval-mlogloss:1.05770\n",
      "[1]\ttrain-mlogloss:1.02543\teval-mlogloss:1.02286\n",
      "[2]\ttrain-mlogloss:0.98969\teval-mlogloss:0.98459\n",
      "[3]\ttrain-mlogloss:0.95647\teval-mlogloss:0.95074\n",
      "[4]\ttrain-mlogloss:0.92481\teval-mlogloss:0.91839\n",
      "[5]\ttrain-mlogloss:0.89410\teval-mlogloss:0.88524\n",
      "[6]\ttrain-mlogloss:0.86709\teval-mlogloss:0.85772\n",
      "[7]\ttrain-mlogloss:0.84409\teval-mlogloss:0.83494\n",
      "[8]\ttrain-mlogloss:0.81720\teval-mlogloss:0.80682\n",
      "[9]\ttrain-mlogloss:0.79160\teval-mlogloss:0.78015\n",
      "[10]\ttrain-mlogloss:0.76691\teval-mlogloss:0.75470\n",
      "[11]\ttrain-mlogloss:0.74362\teval-mlogloss:0.73058\n",
      "[12]\ttrain-mlogloss:0.72111\teval-mlogloss:0.70692\n",
      "[13]\ttrain-mlogloss:0.70286\teval-mlogloss:0.68912\n",
      "[14]\ttrain-mlogloss:0.68597\teval-mlogloss:0.67279\n",
      "[15]\ttrain-mlogloss:0.66616\teval-mlogloss:0.65193\n",
      "[16]\ttrain-mlogloss:0.64991\teval-mlogloss:0.63620\n",
      "[17]\ttrain-mlogloss:0.63116\teval-mlogloss:0.61656\n",
      "[18]\ttrain-mlogloss:0.61294\teval-mlogloss:0.59744\n",
      "[19]\ttrain-mlogloss:0.59576\teval-mlogloss:0.57919\n",
      "[20]\ttrain-mlogloss:0.57896\teval-mlogloss:0.56145\n",
      "[21]\ttrain-mlogloss:0.56428\teval-mlogloss:0.54648\n",
      "[22]\ttrain-mlogloss:0.54865\teval-mlogloss:0.52989\n",
      "[23]\ttrain-mlogloss:0.53520\teval-mlogloss:0.51627\n",
      "[24]\ttrain-mlogloss:0.52105\teval-mlogloss:0.50141\n",
      "[25]\ttrain-mlogloss:0.50995\teval-mlogloss:0.49039\n",
      "[26]\ttrain-mlogloss:0.49843\teval-mlogloss:0.47893\n",
      "[27]\ttrain-mlogloss:0.48722\teval-mlogloss:0.46727\n",
      "[28]\ttrain-mlogloss:0.47454\teval-mlogloss:0.45373\n",
      "[29]\ttrain-mlogloss:0.46214\teval-mlogloss:0.44002\n",
      "[30]\ttrain-mlogloss:0.45026\teval-mlogloss:0.42730\n",
      "[31]\ttrain-mlogloss:0.44032\teval-mlogloss:0.41696\n",
      "[32]\ttrain-mlogloss:0.42905\teval-mlogloss:0.40506\n",
      "[33]\ttrain-mlogloss:0.42156\teval-mlogloss:0.39860\n",
      "[34]\ttrain-mlogloss:0.41130\teval-mlogloss:0.38746\n",
      "[35]\ttrain-mlogloss:0.40144\teval-mlogloss:0.37750\n",
      "[36]\ttrain-mlogloss:0.39162\teval-mlogloss:0.36704\n",
      "[37]\ttrain-mlogloss:0.38180\teval-mlogloss:0.35619\n",
      "[38]\ttrain-mlogloss:0.37331\teval-mlogloss:0.34713\n",
      "[39]\ttrain-mlogloss:0.36615\teval-mlogloss:0.34014\n",
      "[40]\ttrain-mlogloss:0.35915\teval-mlogloss:0.33331\n",
      "[41]\ttrain-mlogloss:0.35092\teval-mlogloss:0.32455\n",
      "[42]\ttrain-mlogloss:0.34272\teval-mlogloss:0.31567\n",
      "[43]\ttrain-mlogloss:0.33490\teval-mlogloss:0.30766\n",
      "[44]\ttrain-mlogloss:0.32710\teval-mlogloss:0.29898\n",
      "[45]\ttrain-mlogloss:0.32033\teval-mlogloss:0.29160\n",
      "[46]\ttrain-mlogloss:0.31369\teval-mlogloss:0.28467\n",
      "[47]\ttrain-mlogloss:0.30744\teval-mlogloss:0.27838\n",
      "[48]\ttrain-mlogloss:0.30151\teval-mlogloss:0.27227\n",
      "[49]\ttrain-mlogloss:0.29571\teval-mlogloss:0.26619\n",
      "[50]\ttrain-mlogloss:0.28922\teval-mlogloss:0.25878\n",
      "[51]\ttrain-mlogloss:0.28274\teval-mlogloss:0.25168\n",
      "[52]\ttrain-mlogloss:0.27663\teval-mlogloss:0.24512\n",
      "[53]\ttrain-mlogloss:0.27102\teval-mlogloss:0.23931\n",
      "[54]\ttrain-mlogloss:0.26661\teval-mlogloss:0.23526\n",
      "[55]\ttrain-mlogloss:0.26107\teval-mlogloss:0.22960\n",
      "[56]\ttrain-mlogloss:0.25687\teval-mlogloss:0.22511\n",
      "[57]\ttrain-mlogloss:0.25157\teval-mlogloss:0.21929\n",
      "[58]\ttrain-mlogloss:0.24647\teval-mlogloss:0.21373\n",
      "[59]\ttrain-mlogloss:0.24176\teval-mlogloss:0.20843\n",
      "[60]\ttrain-mlogloss:0.23764\teval-mlogloss:0.20361\n",
      "[61]\ttrain-mlogloss:0.23394\teval-mlogloss:0.19983\n",
      "[62]\ttrain-mlogloss:0.23025\teval-mlogloss:0.19609\n",
      "[63]\ttrain-mlogloss:0.22590\teval-mlogloss:0.19155\n",
      "[64]\ttrain-mlogloss:0.22154\teval-mlogloss:0.18658\n",
      "[65]\ttrain-mlogloss:0.21789\teval-mlogloss:0.18247\n",
      "[66]\ttrain-mlogloss:0.21424\teval-mlogloss:0.17839\n",
      "[67]\ttrain-mlogloss:0.21030\teval-mlogloss:0.17365\n",
      "[68]\ttrain-mlogloss:0.20836\teval-mlogloss:0.17184\n",
      "[69]\ttrain-mlogloss:0.20531\teval-mlogloss:0.16836\n",
      "[70]\ttrain-mlogloss:0.20264\teval-mlogloss:0.16553\n",
      "[71]\ttrain-mlogloss:0.19919\teval-mlogloss:0.16143\n",
      "[72]\ttrain-mlogloss:0.19675\teval-mlogloss:0.15877\n",
      "[73]\ttrain-mlogloss:0.19375\teval-mlogloss:0.15535\n",
      "[74]\ttrain-mlogloss:0.19145\teval-mlogloss:0.15300\n",
      "[75]\ttrain-mlogloss:0.18955\teval-mlogloss:0.15126\n",
      "[76]\ttrain-mlogloss:0.18638\teval-mlogloss:0.14812\n",
      "[77]\ttrain-mlogloss:0.18486\teval-mlogloss:0.14615\n",
      "[78]\ttrain-mlogloss:0.18259\teval-mlogloss:0.14290\n",
      "[79]\ttrain-mlogloss:0.17982\teval-mlogloss:0.14004\n",
      "[80]\ttrain-mlogloss:0.17785\teval-mlogloss:0.13789\n",
      "[81]\ttrain-mlogloss:0.17531\teval-mlogloss:0.13492\n",
      "[82]\ttrain-mlogloss:0.17298\teval-mlogloss:0.13219\n",
      "[83]\ttrain-mlogloss:0.17061\teval-mlogloss:0.12969\n",
      "[84]\ttrain-mlogloss:0.16839\teval-mlogloss:0.12760\n",
      "[85]\ttrain-mlogloss:0.16645\teval-mlogloss:0.12507\n",
      "[86]\ttrain-mlogloss:0.16455\teval-mlogloss:0.12255\n",
      "[87]\ttrain-mlogloss:0.16259\teval-mlogloss:0.12038\n",
      "[88]\ttrain-mlogloss:0.16059\teval-mlogloss:0.11800\n",
      "[89]\ttrain-mlogloss:0.15843\teval-mlogloss:0.11552\n",
      "[90]\ttrain-mlogloss:0.15682\teval-mlogloss:0.11390\n",
      "[91]\ttrain-mlogloss:0.15476\teval-mlogloss:0.11108\n",
      "[92]\ttrain-mlogloss:0.15294\teval-mlogloss:0.10877\n",
      "[93]\ttrain-mlogloss:0.15092\teval-mlogloss:0.10662\n",
      "[94]\ttrain-mlogloss:0.14974\teval-mlogloss:0.10530\n",
      "[95]\ttrain-mlogloss:0.14804\teval-mlogloss:0.10341\n",
      "[96]\ttrain-mlogloss:0.14685\teval-mlogloss:0.10228\n",
      "[97]\ttrain-mlogloss:0.14551\teval-mlogloss:0.10056\n",
      "[98]\ttrain-mlogloss:0.14440\teval-mlogloss:0.09901\n",
      "[99]\ttrain-mlogloss:0.14338\teval-mlogloss:0.09755\n",
      "[100]\ttrain-mlogloss:0.14195\teval-mlogloss:0.09580\n",
      "[101]\ttrain-mlogloss:0.14075\teval-mlogloss:0.09451\n",
      "[102]\ttrain-mlogloss:0.13988\teval-mlogloss:0.09333\n",
      "[103]\ttrain-mlogloss:0.13920\teval-mlogloss:0.09215\n",
      "[104]\ttrain-mlogloss:0.13825\teval-mlogloss:0.09092\n",
      "[105]\ttrain-mlogloss:0.13757\teval-mlogloss:0.09008\n",
      "[106]\ttrain-mlogloss:0.13689\teval-mlogloss:0.08925\n",
      "[107]\ttrain-mlogloss:0.13653\teval-mlogloss:0.08899\n",
      "[108]\ttrain-mlogloss:0.13610\teval-mlogloss:0.08863\n",
      "[109]\ttrain-mlogloss:0.13553\teval-mlogloss:0.08782\n",
      "[110]\ttrain-mlogloss:0.13523\teval-mlogloss:0.08731\n",
      "[111]\ttrain-mlogloss:0.13481\teval-mlogloss:0.08675\n",
      "[112]\ttrain-mlogloss:0.13400\teval-mlogloss:0.08563\n",
      "[113]\ttrain-mlogloss:0.13387\teval-mlogloss:0.08551\n",
      "[114]\ttrain-mlogloss:0.13344\teval-mlogloss:0.08493\n",
      "[115]\ttrain-mlogloss:0.13306\teval-mlogloss:0.08456\n",
      "[116]\ttrain-mlogloss:0.13276\teval-mlogloss:0.08421\n",
      "[117]\ttrain-mlogloss:0.13248\teval-mlogloss:0.08435\n",
      "[118]\ttrain-mlogloss:0.13199\teval-mlogloss:0.08343\n",
      "[119]\ttrain-mlogloss:0.13150\teval-mlogloss:0.08270\n",
      "[120]\ttrain-mlogloss:0.13124\teval-mlogloss:0.08272\n",
      "[121]\ttrain-mlogloss:0.13080\teval-mlogloss:0.08257\n",
      "[122]\ttrain-mlogloss:0.13042\teval-mlogloss:0.08232\n",
      "[123]\ttrain-mlogloss:0.12995\teval-mlogloss:0.08167\n",
      "[124]\ttrain-mlogloss:0.12972\teval-mlogloss:0.08136\n",
      "[125]\ttrain-mlogloss:0.12935\teval-mlogloss:0.08082\n",
      "[126]\ttrain-mlogloss:0.12908\teval-mlogloss:0.08043\n",
      "[127]\ttrain-mlogloss:0.12872\teval-mlogloss:0.07976\n",
      "[128]\ttrain-mlogloss:0.12850\teval-mlogloss:0.07967\n",
      "[129]\ttrain-mlogloss:0.12829\teval-mlogloss:0.07974\n",
      "[130]\ttrain-mlogloss:0.12787\teval-mlogloss:0.07893\n",
      "[131]\ttrain-mlogloss:0.12753\teval-mlogloss:0.07850\n",
      "[132]\ttrain-mlogloss:0.12710\teval-mlogloss:0.07788\n",
      "[133]\ttrain-mlogloss:0.12694\teval-mlogloss:0.07801\n",
      "[134]\ttrain-mlogloss:0.12680\teval-mlogloss:0.07774\n",
      "[135]\ttrain-mlogloss:0.12660\teval-mlogloss:0.07781\n",
      "[136]\ttrain-mlogloss:0.12619\teval-mlogloss:0.07717\n",
      "[137]\ttrain-mlogloss:0.12589\teval-mlogloss:0.07683\n",
      "[138]\ttrain-mlogloss:0.12558\teval-mlogloss:0.07645\n",
      "[139]\ttrain-mlogloss:0.12533\teval-mlogloss:0.07616\n",
      "[140]\ttrain-mlogloss:0.12501\teval-mlogloss:0.07573\n",
      "[141]\ttrain-mlogloss:0.12489\teval-mlogloss:0.07545\n",
      "[142]\ttrain-mlogloss:0.12483\teval-mlogloss:0.07550\n",
      "[143]\ttrain-mlogloss:0.12454\teval-mlogloss:0.07500\n",
      "[144]\ttrain-mlogloss:0.12440\teval-mlogloss:0.07495\n",
      "[145]\ttrain-mlogloss:0.12419\teval-mlogloss:0.07468\n",
      "[146]\ttrain-mlogloss:0.12387\teval-mlogloss:0.07421\n",
      "[147]\ttrain-mlogloss:0.12356\teval-mlogloss:0.07365\n",
      "[148]\ttrain-mlogloss:0.12320\teval-mlogloss:0.07304\n",
      "[149]\ttrain-mlogloss:0.12290\teval-mlogloss:0.07250\n",
      "[150]\ttrain-mlogloss:0.12265\teval-mlogloss:0.07244\n",
      "[151]\ttrain-mlogloss:0.12239\teval-mlogloss:0.07204\n",
      "[152]\ttrain-mlogloss:0.12225\teval-mlogloss:0.07214\n",
      "[153]\ttrain-mlogloss:0.12204\teval-mlogloss:0.07173\n",
      "[154]\ttrain-mlogloss:0.12161\teval-mlogloss:0.07132\n",
      "[155]\ttrain-mlogloss:0.12137\teval-mlogloss:0.07121\n",
      "[156]\ttrain-mlogloss:0.12114\teval-mlogloss:0.07086\n",
      "[157]\ttrain-mlogloss:0.12108\teval-mlogloss:0.07082\n",
      "[158]\ttrain-mlogloss:0.12086\teval-mlogloss:0.07047\n",
      "[159]\ttrain-mlogloss:0.12060\teval-mlogloss:0.07002\n",
      "[160]\ttrain-mlogloss:0.12030\teval-mlogloss:0.06954\n",
      "[161]\ttrain-mlogloss:0.12013\teval-mlogloss:0.06937\n",
      "[162]\ttrain-mlogloss:0.11996\teval-mlogloss:0.06949\n",
      "[163]\ttrain-mlogloss:0.11978\teval-mlogloss:0.06917\n",
      "[164]\ttrain-mlogloss:0.11963\teval-mlogloss:0.06924\n",
      "[165]\ttrain-mlogloss:0.11936\teval-mlogloss:0.06877\n",
      "[166]\ttrain-mlogloss:0.11920\teval-mlogloss:0.06830\n",
      "[167]\ttrain-mlogloss:0.11906\teval-mlogloss:0.06810\n",
      "[168]\ttrain-mlogloss:0.11906\teval-mlogloss:0.06813\n",
      "[169]\ttrain-mlogloss:0.11890\teval-mlogloss:0.06772\n",
      "[170]\ttrain-mlogloss:0.11875\teval-mlogloss:0.06781\n",
      "[171]\ttrain-mlogloss:0.11861\teval-mlogloss:0.06795\n",
      "[172]\ttrain-mlogloss:0.11850\teval-mlogloss:0.06780\n",
      "[173]\ttrain-mlogloss:0.11830\teval-mlogloss:0.06797\n",
      "[174]\ttrain-mlogloss:0.11805\teval-mlogloss:0.06752\n",
      "[175]\ttrain-mlogloss:0.11804\teval-mlogloss:0.06749\n",
      "[176]\ttrain-mlogloss:0.11774\teval-mlogloss:0.06700\n",
      "[177]\ttrain-mlogloss:0.11764\teval-mlogloss:0.06674\n",
      "[178]\ttrain-mlogloss:0.11744\teval-mlogloss:0.06644\n",
      "[179]\ttrain-mlogloss:0.11724\teval-mlogloss:0.06617\n",
      "[180]\ttrain-mlogloss:0.11709\teval-mlogloss:0.06597\n",
      "[181]\ttrain-mlogloss:0.11694\teval-mlogloss:0.06602\n",
      "[182]\ttrain-mlogloss:0.11680\teval-mlogloss:0.06573\n",
      "[183]\ttrain-mlogloss:0.11664\teval-mlogloss:0.06556\n",
      "[184]\ttrain-mlogloss:0.11651\teval-mlogloss:0.06542\n",
      "[185]\ttrain-mlogloss:0.11637\teval-mlogloss:0.06527\n",
      "[186]\ttrain-mlogloss:0.11610\teval-mlogloss:0.06496\n",
      "[187]\ttrain-mlogloss:0.11596\teval-mlogloss:0.06477\n",
      "[188]\ttrain-mlogloss:0.11576\teval-mlogloss:0.06451\n",
      "[189]\ttrain-mlogloss:0.11566\teval-mlogloss:0.06445\n",
      "[190]\ttrain-mlogloss:0.11548\teval-mlogloss:0.06455\n",
      "[191]\ttrain-mlogloss:0.11534\teval-mlogloss:0.06461\n",
      "[192]\ttrain-mlogloss:0.11527\teval-mlogloss:0.06459\n",
      "[193]\ttrain-mlogloss:0.11513\teval-mlogloss:0.06428\n",
      "[194]\ttrain-mlogloss:0.11510\teval-mlogloss:0.06419\n",
      "[195]\ttrain-mlogloss:0.11493\teval-mlogloss:0.06399\n",
      "[196]\ttrain-mlogloss:0.11484\teval-mlogloss:0.06383\n",
      "[197]\ttrain-mlogloss:0.11472\teval-mlogloss:0.06365\n",
      "[198]\ttrain-mlogloss:0.11455\teval-mlogloss:0.06374\n",
      "[199]\ttrain-mlogloss:0.11440\teval-mlogloss:0.06346\n",
      "[200]\ttrain-mlogloss:0.11424\teval-mlogloss:0.06325\n",
      "[201]\ttrain-mlogloss:0.11418\teval-mlogloss:0.06321\n",
      "[202]\ttrain-mlogloss:0.11401\teval-mlogloss:0.06332\n",
      "[203]\ttrain-mlogloss:0.11398\teval-mlogloss:0.06327\n",
      "[204]\ttrain-mlogloss:0.11379\teval-mlogloss:0.06341\n",
      "[205]\ttrain-mlogloss:0.11360\teval-mlogloss:0.06306\n",
      "[206]\ttrain-mlogloss:0.11346\teval-mlogloss:0.06318\n",
      "[207]\ttrain-mlogloss:0.11334\teval-mlogloss:0.06320\n",
      "[208]\ttrain-mlogloss:0.11328\teval-mlogloss:0.06305\n",
      "[209]\ttrain-mlogloss:0.11322\teval-mlogloss:0.06297\n",
      "[210]\ttrain-mlogloss:0.11315\teval-mlogloss:0.06289\n",
      "[211]\ttrain-mlogloss:0.11302\teval-mlogloss:0.06284\n",
      "[212]\ttrain-mlogloss:0.11287\teval-mlogloss:0.06273\n",
      "[213]\ttrain-mlogloss:0.11277\teval-mlogloss:0.06250\n",
      "[214]\ttrain-mlogloss:0.11265\teval-mlogloss:0.06263\n",
      "[215]\ttrain-mlogloss:0.11252\teval-mlogloss:0.06246\n",
      "[216]\ttrain-mlogloss:0.11244\teval-mlogloss:0.06243\n",
      "[217]\ttrain-mlogloss:0.11230\teval-mlogloss:0.06216\n",
      "[218]\ttrain-mlogloss:0.11223\teval-mlogloss:0.06212\n",
      "[219]\ttrain-mlogloss:0.11218\teval-mlogloss:0.06208\n",
      "[220]\ttrain-mlogloss:0.11206\teval-mlogloss:0.06187\n",
      "[221]\ttrain-mlogloss:0.11203\teval-mlogloss:0.06182\n",
      "[222]\ttrain-mlogloss:0.11188\teval-mlogloss:0.06188\n",
      "[223]\ttrain-mlogloss:0.11183\teval-mlogloss:0.06179\n",
      "[224]\ttrain-mlogloss:0.11177\teval-mlogloss:0.06172\n",
      "[225]\ttrain-mlogloss:0.11164\teval-mlogloss:0.06177\n",
      "[226]\ttrain-mlogloss:0.11148\teval-mlogloss:0.06164\n",
      "[227]\ttrain-mlogloss:0.11132\teval-mlogloss:0.06169\n",
      "[228]\ttrain-mlogloss:0.11115\teval-mlogloss:0.06182\n",
      "[229]\ttrain-mlogloss:0.11095\teval-mlogloss:0.06151\n",
      "[230]\ttrain-mlogloss:0.11082\teval-mlogloss:0.06131\n",
      "[231]\ttrain-mlogloss:0.11071\teval-mlogloss:0.06138\n",
      "[232]\ttrain-mlogloss:0.11064\teval-mlogloss:0.06126\n",
      "[233]\ttrain-mlogloss:0.11064\teval-mlogloss:0.06118\n",
      "[234]\ttrain-mlogloss:0.11050\teval-mlogloss:0.06102\n",
      "[235]\ttrain-mlogloss:0.11038\teval-mlogloss:0.06103\n",
      "[236]\ttrain-mlogloss:0.11021\teval-mlogloss:0.06062\n",
      "[237]\ttrain-mlogloss:0.11009\teval-mlogloss:0.06052\n",
      "[238]\ttrain-mlogloss:0.10998\teval-mlogloss:0.06040\n",
      "[239]\ttrain-mlogloss:0.10991\teval-mlogloss:0.06033\n",
      "[240]\ttrain-mlogloss:0.10986\teval-mlogloss:0.06032\n",
      "[241]\ttrain-mlogloss:0.10974\teval-mlogloss:0.06043\n",
      "[242]\ttrain-mlogloss:0.10960\teval-mlogloss:0.06047\n",
      "[243]\ttrain-mlogloss:0.10945\teval-mlogloss:0.06015\n",
      "[244]\ttrain-mlogloss:0.10942\teval-mlogloss:0.06013\n",
      "[245]\ttrain-mlogloss:0.10935\teval-mlogloss:0.06004\n",
      "[246]\ttrain-mlogloss:0.10929\teval-mlogloss:0.06001\n",
      "[247]\ttrain-mlogloss:0.10924\teval-mlogloss:0.05996\n",
      "[248]\ttrain-mlogloss:0.10916\teval-mlogloss:0.05973\n",
      "[249]\ttrain-mlogloss:0.10909\teval-mlogloss:0.05984\n",
      "[250]\ttrain-mlogloss:0.10895\teval-mlogloss:0.05990\n",
      "[251]\ttrain-mlogloss:0.10881\teval-mlogloss:0.05983\n",
      "[252]\ttrain-mlogloss:0.10866\teval-mlogloss:0.05958\n",
      "[253]\ttrain-mlogloss:0.10865\teval-mlogloss:0.05952\n",
      "[254]\ttrain-mlogloss:0.10853\teval-mlogloss:0.05959\n",
      "[255]\ttrain-mlogloss:0.10840\teval-mlogloss:0.05926\n",
      "[256]\ttrain-mlogloss:0.10839\teval-mlogloss:0.05929\n",
      "[257]\ttrain-mlogloss:0.10830\teval-mlogloss:0.05909\n",
      "[258]\ttrain-mlogloss:0.10818\teval-mlogloss:0.05889\n",
      "[259]\ttrain-mlogloss:0.10807\teval-mlogloss:0.05878\n",
      "[260]\ttrain-mlogloss:0.10804\teval-mlogloss:0.05875\n",
      "[261]\ttrain-mlogloss:0.10796\teval-mlogloss:0.05886\n",
      "[262]\ttrain-mlogloss:0.10788\teval-mlogloss:0.05892\n",
      "[263]\ttrain-mlogloss:0.10775\teval-mlogloss:0.05862\n",
      "[264]\ttrain-mlogloss:0.10766\teval-mlogloss:0.05838\n",
      "[265]\ttrain-mlogloss:0.10759\teval-mlogloss:0.05857\n",
      "[266]\ttrain-mlogloss:0.10757\teval-mlogloss:0.05854\n",
      "[267]\ttrain-mlogloss:0.10754\teval-mlogloss:0.05851\n",
      "[268]\ttrain-mlogloss:0.10751\teval-mlogloss:0.05847\n",
      "[269]\ttrain-mlogloss:0.10738\teval-mlogloss:0.05807\n",
      "[270]\ttrain-mlogloss:0.10726\teval-mlogloss:0.05812\n",
      "[271]\ttrain-mlogloss:0.10719\teval-mlogloss:0.05835\n",
      "[272]\ttrain-mlogloss:0.10716\teval-mlogloss:0.05833\n",
      "[273]\ttrain-mlogloss:0.10712\teval-mlogloss:0.05843\n",
      "[274]\ttrain-mlogloss:0.10707\teval-mlogloss:0.05838\n",
      "[275]\ttrain-mlogloss:0.10707\teval-mlogloss:0.05837\n",
      "[276]\ttrain-mlogloss:0.10699\teval-mlogloss:0.05824\n",
      "[277]\ttrain-mlogloss:0.10696\teval-mlogloss:0.05821\n",
      "[278]\ttrain-mlogloss:0.10681\teval-mlogloss:0.05796\n",
      "[279]\ttrain-mlogloss:0.10675\teval-mlogloss:0.05791\n",
      "[280]\ttrain-mlogloss:0.10670\teval-mlogloss:0.05789\n",
      "[281]\ttrain-mlogloss:0.10671\teval-mlogloss:0.05799\n",
      "[282]\ttrain-mlogloss:0.10671\teval-mlogloss:0.05795\n",
      "[283]\ttrain-mlogloss:0.10666\teval-mlogloss:0.05793\n",
      "[284]\ttrain-mlogloss:0.10663\teval-mlogloss:0.05789\n",
      "[285]\ttrain-mlogloss:0.10658\teval-mlogloss:0.05784\n",
      "[286]\ttrain-mlogloss:0.10643\teval-mlogloss:0.05758\n",
      "[287]\ttrain-mlogloss:0.10641\teval-mlogloss:0.05760\n",
      "[288]\ttrain-mlogloss:0.10638\teval-mlogloss:0.05758\n",
      "[289]\ttrain-mlogloss:0.10637\teval-mlogloss:0.05753\n",
      "[290]\ttrain-mlogloss:0.10633\teval-mlogloss:0.05748\n",
      "[291]\ttrain-mlogloss:0.10633\teval-mlogloss:0.05747\n",
      "[292]\ttrain-mlogloss:0.10633\teval-mlogloss:0.05753\n",
      "[293]\ttrain-mlogloss:0.10629\teval-mlogloss:0.05748\n",
      "[294]\ttrain-mlogloss:0.10623\teval-mlogloss:0.05738\n",
      "[295]\ttrain-mlogloss:0.10619\teval-mlogloss:0.05730\n",
      "[296]\ttrain-mlogloss:0.10616\teval-mlogloss:0.05727\n",
      "[297]\ttrain-mlogloss:0.10614\teval-mlogloss:0.05727\n",
      "[298]\ttrain-mlogloss:0.10600\teval-mlogloss:0.05695\n",
      "[299]\ttrain-mlogloss:0.10598\teval-mlogloss:0.05691\n"
     ]
    },
    {
     "name": "stderr",
     "output_type": "stream",
     "text": [
      "[I 2024-11-25 11:24:39,938] Trial 7 finished with value: 1.0 and parameters: {'lambda': 0.03290650002787059, 'alpha': 0.0013108913627778488, 'eta': 0.02980341198728416, 'gamma': 1.3498648713046911e-08, 'max_depth': 7, 'min_child_weight': 4, 'subsample': 0.8341419326177371, 'colsample_bytree': 0.6862513561082139}. Best is trial 0 with value: 1.0.\n"
     ]
    },
    {
     "name": "stdout",
     "output_type": "stream",
     "text": [
      "[0]\ttrain-mlogloss:0.86055\teval-mlogloss:0.84989\n"
     ]
    },
    {
     "name": "stderr",
     "output_type": "stream",
     "text": [
      "[I 2024-11-25 11:24:39,967] Trial 8 pruned. Trial was pruned at iteration 1.\n"
     ]
    },
    {
     "name": "stdout",
     "output_type": "stream",
     "text": [
      "[0]\ttrain-mlogloss:1.08402\teval-mlogloss:1.08415\n",
      "[1]\ttrain-mlogloss:1.06729\teval-mlogloss:1.06716\n",
      "[2]\ttrain-mlogloss:1.04932\teval-mlogloss:1.05010\n",
      "[3]\ttrain-mlogloss:1.03608\teval-mlogloss:1.03655\n",
      "[4]\ttrain-mlogloss:1.02079\teval-mlogloss:1.02092\n",
      "[5]\ttrain-mlogloss:1.00780\teval-mlogloss:1.00945\n",
      "[6]\ttrain-mlogloss:0.99543\teval-mlogloss:0.99684\n",
      "[7]\ttrain-mlogloss:0.98341\teval-mlogloss:0.98544\n",
      "[8]\ttrain-mlogloss:0.96524\teval-mlogloss:0.96711\n",
      "[9]\ttrain-mlogloss:0.95174\teval-mlogloss:0.95278\n",
      "[10]\ttrain-mlogloss:0.93421\teval-mlogloss:0.93494\n",
      "[11]\ttrain-mlogloss:0.92052\teval-mlogloss:0.92195\n",
      "[12]\ttrain-mlogloss:0.91083\teval-mlogloss:0.91292\n",
      "[13]\ttrain-mlogloss:0.90003\teval-mlogloss:0.90151\n",
      "[14]\ttrain-mlogloss:0.88769\teval-mlogloss:0.88916\n",
      "[15]\ttrain-mlogloss:0.88077\teval-mlogloss:0.88405\n",
      "[16]\ttrain-mlogloss:0.87030\teval-mlogloss:0.87368\n",
      "[17]\ttrain-mlogloss:0.85830\teval-mlogloss:0.86175\n",
      "[18]\ttrain-mlogloss:0.84716\teval-mlogloss:0.85078\n",
      "[19]\ttrain-mlogloss:0.83555\teval-mlogloss:0.83843\n",
      "[20]\ttrain-mlogloss:0.82104\teval-mlogloss:0.82335\n",
      "[21]\ttrain-mlogloss:0.81153\teval-mlogloss:0.81363\n",
      "[22]\ttrain-mlogloss:0.80341\teval-mlogloss:0.80614\n",
      "[23]\ttrain-mlogloss:0.79475\teval-mlogloss:0.79747\n",
      "[24]\ttrain-mlogloss:0.78584\teval-mlogloss:0.78840\n",
      "[25]\ttrain-mlogloss:0.77574\teval-mlogloss:0.77850\n",
      "[26]\ttrain-mlogloss:0.76854\teval-mlogloss:0.77196\n",
      "[27]\ttrain-mlogloss:0.76189\teval-mlogloss:0.76615\n",
      "[28]\ttrain-mlogloss:0.75059\teval-mlogloss:0.75452\n",
      "[29]\ttrain-mlogloss:0.74263\teval-mlogloss:0.74579\n",
      "[30]\ttrain-mlogloss:0.73360\teval-mlogloss:0.73661\n",
      "[31]\ttrain-mlogloss:0.72892\teval-mlogloss:0.73317\n",
      "[32]\ttrain-mlogloss:0.71985\teval-mlogloss:0.72420\n",
      "[33]\ttrain-mlogloss:0.71209\teval-mlogloss:0.71643\n",
      "[34]\ttrain-mlogloss:0.70224\teval-mlogloss:0.70698\n",
      "[35]\ttrain-mlogloss:0.69095\teval-mlogloss:0.69529\n",
      "[36]\ttrain-mlogloss:0.68280\teval-mlogloss:0.68724\n",
      "[37]\ttrain-mlogloss:0.67192\teval-mlogloss:0.67555\n",
      "[38]\ttrain-mlogloss:0.66239\teval-mlogloss:0.66497\n",
      "[39]\ttrain-mlogloss:0.65828\teval-mlogloss:0.66132\n",
      "[40]\ttrain-mlogloss:0.65495\teval-mlogloss:0.65940\n",
      "[41]\ttrain-mlogloss:0.64687\teval-mlogloss:0.65145\n",
      "[42]\ttrain-mlogloss:0.63917\teval-mlogloss:0.64375\n",
      "[43]\ttrain-mlogloss:0.63176\teval-mlogloss:0.63653\n",
      "[44]\ttrain-mlogloss:0.62445\teval-mlogloss:0.62925\n",
      "[45]\ttrain-mlogloss:0.61791\teval-mlogloss:0.62331\n",
      "[46]\ttrain-mlogloss:0.61153\teval-mlogloss:0.61725\n",
      "[47]\ttrain-mlogloss:0.60559\teval-mlogloss:0.61125\n",
      "[48]\ttrain-mlogloss:0.59931\teval-mlogloss:0.60560\n",
      "[49]\ttrain-mlogloss:0.59556\teval-mlogloss:0.60265\n",
      "[50]\ttrain-mlogloss:0.58646\teval-mlogloss:0.59240\n",
      "[51]\ttrain-mlogloss:0.57748\teval-mlogloss:0.58297\n",
      "[52]\ttrain-mlogloss:0.56977\teval-mlogloss:0.57459\n",
      "[53]\ttrain-mlogloss:0.56463\teval-mlogloss:0.57024\n",
      "[54]\ttrain-mlogloss:0.55837\teval-mlogloss:0.56381\n",
      "[55]\ttrain-mlogloss:0.55319\teval-mlogloss:0.55847\n",
      "[56]\ttrain-mlogloss:0.54848\teval-mlogloss:0.55406\n",
      "[57]\ttrain-mlogloss:0.54528\teval-mlogloss:0.55127\n",
      "[58]\ttrain-mlogloss:0.53840\teval-mlogloss:0.54429\n",
      "[59]\ttrain-mlogloss:0.53380\teval-mlogloss:0.53959\n",
      "[60]\ttrain-mlogloss:0.52841\teval-mlogloss:0.53356\n",
      "[61]\ttrain-mlogloss:0.52484\teval-mlogloss:0.53067\n",
      "[62]\ttrain-mlogloss:0.52005\teval-mlogloss:0.52581\n",
      "[63]\ttrain-mlogloss:0.51353\teval-mlogloss:0.51852\n",
      "[64]\ttrain-mlogloss:0.50800\teval-mlogloss:0.51282\n",
      "[65]\ttrain-mlogloss:0.50387\teval-mlogloss:0.50869\n",
      "[66]\ttrain-mlogloss:0.49772\teval-mlogloss:0.50273\n",
      "[67]\ttrain-mlogloss:0.49230\teval-mlogloss:0.49694\n",
      "[68]\ttrain-mlogloss:0.48821\teval-mlogloss:0.49394\n",
      "[69]\ttrain-mlogloss:0.48447\teval-mlogloss:0.49036\n",
      "[70]\ttrain-mlogloss:0.48013\teval-mlogloss:0.48629\n",
      "[71]\ttrain-mlogloss:0.47461\teval-mlogloss:0.48004\n",
      "[72]\ttrain-mlogloss:0.47142\teval-mlogloss:0.47740\n",
      "[73]\ttrain-mlogloss:0.46556\teval-mlogloss:0.47047\n",
      "[74]\ttrain-mlogloss:0.46314\teval-mlogloss:0.46910\n",
      "[75]\ttrain-mlogloss:0.45853\teval-mlogloss:0.46445\n",
      "[76]\ttrain-mlogloss:0.45384\teval-mlogloss:0.45965\n",
      "[77]\ttrain-mlogloss:0.45174\teval-mlogloss:0.45760\n",
      "[78]\ttrain-mlogloss:0.44847\teval-mlogloss:0.45441\n",
      "[79]\ttrain-mlogloss:0.44477\teval-mlogloss:0.45042\n",
      "[80]\ttrain-mlogloss:0.44039\teval-mlogloss:0.44598\n",
      "[81]\ttrain-mlogloss:0.43611\teval-mlogloss:0.44144\n",
      "[82]\ttrain-mlogloss:0.43020\teval-mlogloss:0.43484\n",
      "[83]\ttrain-mlogloss:0.42544\teval-mlogloss:0.42982\n",
      "[84]\ttrain-mlogloss:0.42202\teval-mlogloss:0.42641\n",
      "[85]\ttrain-mlogloss:0.41738\teval-mlogloss:0.42098\n",
      "[86]\ttrain-mlogloss:0.41571\teval-mlogloss:0.41989\n",
      "[87]\ttrain-mlogloss:0.41256\teval-mlogloss:0.41698\n",
      "[88]\ttrain-mlogloss:0.40856\teval-mlogloss:0.41284\n",
      "[89]\ttrain-mlogloss:0.40305\teval-mlogloss:0.40635\n",
      "[90]\ttrain-mlogloss:0.40057\teval-mlogloss:0.40431\n",
      "[91]\ttrain-mlogloss:0.39520\teval-mlogloss:0.39815\n",
      "[92]\ttrain-mlogloss:0.39082\teval-mlogloss:0.39348\n",
      "[93]\ttrain-mlogloss:0.38793\teval-mlogloss:0.39051\n",
      "[94]\ttrain-mlogloss:0.38344\teval-mlogloss:0.38555\n",
      "[95]\ttrain-mlogloss:0.37963\teval-mlogloss:0.38164\n",
      "[96]\ttrain-mlogloss:0.37738\teval-mlogloss:0.37983\n",
      "[97]\ttrain-mlogloss:0.37487\teval-mlogloss:0.37729\n",
      "[98]\ttrain-mlogloss:0.37331\teval-mlogloss:0.37608\n",
      "[99]\ttrain-mlogloss:0.36993\teval-mlogloss:0.37266\n",
      "[100]\ttrain-mlogloss:0.36510\teval-mlogloss:0.36728\n",
      "[101]\ttrain-mlogloss:0.36037\teval-mlogloss:0.36191\n",
      "[102]\ttrain-mlogloss:0.35875\teval-mlogloss:0.36076\n",
      "[103]\ttrain-mlogloss:0.35467\teval-mlogloss:0.35578\n",
      "[104]\ttrain-mlogloss:0.35225\teval-mlogloss:0.35358\n",
      "[105]\ttrain-mlogloss:0.34945\teval-mlogloss:0.35055\n",
      "[106]\ttrain-mlogloss:0.34591\teval-mlogloss:0.34630\n",
      "[107]\ttrain-mlogloss:0.34331\teval-mlogloss:0.34376\n",
      "[108]\ttrain-mlogloss:0.34114\teval-mlogloss:0.34151\n",
      "[109]\ttrain-mlogloss:0.33896\teval-mlogloss:0.33939\n",
      "[110]\ttrain-mlogloss:0.33593\teval-mlogloss:0.33611\n",
      "[111]\ttrain-mlogloss:0.33253\teval-mlogloss:0.33252\n",
      "[112]\ttrain-mlogloss:0.32919\teval-mlogloss:0.32874\n",
      "[113]\ttrain-mlogloss:0.32638\teval-mlogloss:0.32569\n",
      "[114]\ttrain-mlogloss:0.32349\teval-mlogloss:0.32258\n",
      "[115]\ttrain-mlogloss:0.32136\teval-mlogloss:0.32079\n",
      "[116]\ttrain-mlogloss:0.31787\teval-mlogloss:0.31665\n",
      "[117]\ttrain-mlogloss:0.31511\teval-mlogloss:0.31372\n",
      "[118]\ttrain-mlogloss:0.31119\teval-mlogloss:0.30923\n",
      "[119]\ttrain-mlogloss:0.30893\teval-mlogloss:0.30710\n",
      "[120]\ttrain-mlogloss:0.30624\teval-mlogloss:0.30412\n",
      "[121]\ttrain-mlogloss:0.30331\teval-mlogloss:0.30078\n",
      "[122]\ttrain-mlogloss:0.30067\teval-mlogloss:0.29786\n",
      "[123]\ttrain-mlogloss:0.29814\teval-mlogloss:0.29516\n",
      "[124]\ttrain-mlogloss:0.29659\teval-mlogloss:0.29386\n",
      "[125]\ttrain-mlogloss:0.29406\teval-mlogloss:0.29120\n",
      "[126]\ttrain-mlogloss:0.29160\teval-mlogloss:0.28850\n",
      "[127]\ttrain-mlogloss:0.28817\teval-mlogloss:0.28455\n",
      "[128]\ttrain-mlogloss:0.28574\teval-mlogloss:0.28201\n",
      "[129]\ttrain-mlogloss:0.28467\teval-mlogloss:0.28146\n",
      "[130]\ttrain-mlogloss:0.28268\teval-mlogloss:0.27954\n",
      "[131]\ttrain-mlogloss:0.28013\teval-mlogloss:0.27638\n",
      "[132]\ttrain-mlogloss:0.27896\teval-mlogloss:0.27560\n",
      "[133]\ttrain-mlogloss:0.27802\teval-mlogloss:0.27492\n",
      "[134]\ttrain-mlogloss:0.27605\teval-mlogloss:0.27304\n",
      "[135]\ttrain-mlogloss:0.27349\teval-mlogloss:0.27058\n",
      "[136]\ttrain-mlogloss:0.27115\teval-mlogloss:0.26795\n",
      "[137]\ttrain-mlogloss:0.26865\teval-mlogloss:0.26537\n",
      "[138]\ttrain-mlogloss:0.26714\teval-mlogloss:0.26409\n",
      "[139]\ttrain-mlogloss:0.26407\teval-mlogloss:0.26071\n",
      "[140]\ttrain-mlogloss:0.26318\teval-mlogloss:0.26039\n",
      "[141]\ttrain-mlogloss:0.26144\teval-mlogloss:0.25851\n",
      "[142]\ttrain-mlogloss:0.25971\teval-mlogloss:0.25662\n",
      "[143]\ttrain-mlogloss:0.25772\teval-mlogloss:0.25442\n",
      "[144]\ttrain-mlogloss:0.25541\teval-mlogloss:0.25199\n",
      "[145]\ttrain-mlogloss:0.25336\teval-mlogloss:0.24970\n",
      "[146]\ttrain-mlogloss:0.25166\teval-mlogloss:0.24811\n",
      "[147]\ttrain-mlogloss:0.24876\teval-mlogloss:0.24439\n",
      "[148]\ttrain-mlogloss:0.24605\teval-mlogloss:0.24095\n",
      "[149]\ttrain-mlogloss:0.24338\teval-mlogloss:0.23762\n",
      "[150]\ttrain-mlogloss:0.24178\teval-mlogloss:0.23588\n",
      "[151]\ttrain-mlogloss:0.23907\teval-mlogloss:0.23277\n",
      "[152]\ttrain-mlogloss:0.23755\teval-mlogloss:0.23118\n",
      "[153]\ttrain-mlogloss:0.23502\teval-mlogloss:0.22818\n",
      "[154]\ttrain-mlogloss:0.23311\teval-mlogloss:0.22626\n",
      "[155]\ttrain-mlogloss:0.23184\teval-mlogloss:0.22530\n",
      "[156]\ttrain-mlogloss:0.23002\teval-mlogloss:0.22333\n",
      "[157]\ttrain-mlogloss:0.22763\teval-mlogloss:0.22053\n",
      "[158]\ttrain-mlogloss:0.22651\teval-mlogloss:0.21959\n",
      "[159]\ttrain-mlogloss:0.22495\teval-mlogloss:0.21801\n",
      "[160]\ttrain-mlogloss:0.22311\teval-mlogloss:0.21555\n",
      "[161]\ttrain-mlogloss:0.22087\teval-mlogloss:0.21272\n",
      "[162]\ttrain-mlogloss:0.21862\teval-mlogloss:0.21005\n",
      "[163]\ttrain-mlogloss:0.21740\teval-mlogloss:0.20875\n",
      "[164]\ttrain-mlogloss:0.21583\teval-mlogloss:0.20733\n",
      "[165]\ttrain-mlogloss:0.21499\teval-mlogloss:0.20674\n",
      "[166]\ttrain-mlogloss:0.21303\teval-mlogloss:0.20426\n",
      "[167]\ttrain-mlogloss:0.21142\teval-mlogloss:0.20279\n",
      "[168]\ttrain-mlogloss:0.21039\teval-mlogloss:0.20185\n",
      "[169]\ttrain-mlogloss:0.20834\teval-mlogloss:0.19927\n",
      "[170]\ttrain-mlogloss:0.20778\teval-mlogloss:0.19884\n",
      "[171]\ttrain-mlogloss:0.20691\teval-mlogloss:0.19843\n",
      "[172]\ttrain-mlogloss:0.20519\teval-mlogloss:0.19626\n",
      "[173]\ttrain-mlogloss:0.20371\teval-mlogloss:0.19484\n",
      "[174]\ttrain-mlogloss:0.20245\teval-mlogloss:0.19356\n",
      "[175]\ttrain-mlogloss:0.20073\teval-mlogloss:0.19159\n",
      "[176]\ttrain-mlogloss:0.20017\teval-mlogloss:0.19124\n",
      "[177]\ttrain-mlogloss:0.19909\teval-mlogloss:0.19019\n",
      "[178]\ttrain-mlogloss:0.19805\teval-mlogloss:0.18949\n",
      "[179]\ttrain-mlogloss:0.19645\teval-mlogloss:0.18733\n",
      "[180]\ttrain-mlogloss:0.19506\teval-mlogloss:0.18570\n",
      "[181]\ttrain-mlogloss:0.19464\teval-mlogloss:0.18578\n",
      "[182]\ttrain-mlogloss:0.19366\teval-mlogloss:0.18494\n",
      "[183]\ttrain-mlogloss:0.19234\teval-mlogloss:0.18376\n",
      "[184]\ttrain-mlogloss:0.19053\teval-mlogloss:0.18141\n",
      "[185]\ttrain-mlogloss:0.18961\teval-mlogloss:0.18084\n",
      "[186]\ttrain-mlogloss:0.18807\teval-mlogloss:0.17890\n",
      "[187]\ttrain-mlogloss:0.18680\teval-mlogloss:0.17755\n",
      "[188]\ttrain-mlogloss:0.18531\teval-mlogloss:0.17542\n",
      "[189]\ttrain-mlogloss:0.18448\teval-mlogloss:0.17448\n",
      "[190]\ttrain-mlogloss:0.18321\teval-mlogloss:0.17333\n",
      "[191]\ttrain-mlogloss:0.18227\teval-mlogloss:0.17232\n",
      "[192]\ttrain-mlogloss:0.18136\teval-mlogloss:0.17133\n",
      "[193]\ttrain-mlogloss:0.17996\teval-mlogloss:0.16962\n",
      "[194]\ttrain-mlogloss:0.17837\teval-mlogloss:0.16772\n",
      "[195]\ttrain-mlogloss:0.17758\teval-mlogloss:0.16715\n",
      "[196]\ttrain-mlogloss:0.17596\teval-mlogloss:0.16537\n",
      "[197]\ttrain-mlogloss:0.17472\teval-mlogloss:0.16423\n",
      "[198]\ttrain-mlogloss:0.17385\teval-mlogloss:0.16321\n",
      "[199]\ttrain-mlogloss:0.17229\teval-mlogloss:0.16148\n",
      "[200]\ttrain-mlogloss:0.17115\teval-mlogloss:0.16015\n",
      "[201]\ttrain-mlogloss:0.16965\teval-mlogloss:0.15850\n",
      "[202]\ttrain-mlogloss:0.16814\teval-mlogloss:0.15665\n",
      "[203]\ttrain-mlogloss:0.16734\teval-mlogloss:0.15564\n",
      "[204]\ttrain-mlogloss:0.16692\teval-mlogloss:0.15530\n",
      "[205]\ttrain-mlogloss:0.16589\teval-mlogloss:0.15426\n",
      "[206]\ttrain-mlogloss:0.16528\teval-mlogloss:0.15405\n",
      "[207]\ttrain-mlogloss:0.16454\teval-mlogloss:0.15338\n",
      "[208]\ttrain-mlogloss:0.16385\teval-mlogloss:0.15250\n",
      "[209]\ttrain-mlogloss:0.16272\teval-mlogloss:0.15110\n",
      "[210]\ttrain-mlogloss:0.16175\teval-mlogloss:0.15022\n",
      "[211]\ttrain-mlogloss:0.16092\teval-mlogloss:0.14927\n",
      "[212]\ttrain-mlogloss:0.16030\teval-mlogloss:0.14893\n",
      "[213]\ttrain-mlogloss:0.15901\teval-mlogloss:0.14760\n",
      "[214]\ttrain-mlogloss:0.15826\teval-mlogloss:0.14693\n",
      "[215]\ttrain-mlogloss:0.15802\teval-mlogloss:0.14694\n",
      "[216]\ttrain-mlogloss:0.15739\teval-mlogloss:0.14667\n",
      "[217]\ttrain-mlogloss:0.15643\teval-mlogloss:0.14539\n",
      "[218]\ttrain-mlogloss:0.15548\teval-mlogloss:0.14446\n",
      "[219]\ttrain-mlogloss:0.15486\teval-mlogloss:0.14414\n",
      "[220]\ttrain-mlogloss:0.15384\teval-mlogloss:0.14284\n",
      "[221]\ttrain-mlogloss:0.15332\teval-mlogloss:0.14252\n",
      "[222]\ttrain-mlogloss:0.15294\teval-mlogloss:0.14232\n",
      "[223]\ttrain-mlogloss:0.15246\teval-mlogloss:0.14176\n",
      "[224]\ttrain-mlogloss:0.15171\teval-mlogloss:0.14079\n",
      "[225]\ttrain-mlogloss:0.15048\teval-mlogloss:0.13917\n",
      "[226]\ttrain-mlogloss:0.15019\teval-mlogloss:0.13902\n",
      "[227]\ttrain-mlogloss:0.14966\teval-mlogloss:0.13869\n",
      "[228]\ttrain-mlogloss:0.14874\teval-mlogloss:0.13772\n",
      "[229]\ttrain-mlogloss:0.14786\teval-mlogloss:0.13664\n",
      "[230]\ttrain-mlogloss:0.14742\teval-mlogloss:0.13633\n",
      "[231]\ttrain-mlogloss:0.14666\teval-mlogloss:0.13559\n",
      "[232]\ttrain-mlogloss:0.14560\teval-mlogloss:0.13452\n",
      "[233]\ttrain-mlogloss:0.14512\teval-mlogloss:0.13398\n",
      "[234]\ttrain-mlogloss:0.14438\teval-mlogloss:0.13307\n",
      "[235]\ttrain-mlogloss:0.14374\teval-mlogloss:0.13246\n",
      "[236]\ttrain-mlogloss:0.14268\teval-mlogloss:0.13124\n",
      "[237]\ttrain-mlogloss:0.14195\teval-mlogloss:0.13050\n",
      "[238]\ttrain-mlogloss:0.14176\teval-mlogloss:0.13045\n",
      "[239]\ttrain-mlogloss:0.14142\teval-mlogloss:0.13035\n",
      "[240]\ttrain-mlogloss:0.14062\teval-mlogloss:0.12912\n",
      "[241]\ttrain-mlogloss:0.14008\teval-mlogloss:0.12848\n",
      "[242]\ttrain-mlogloss:0.13940\teval-mlogloss:0.12780\n",
      "[243]\ttrain-mlogloss:0.13912\teval-mlogloss:0.12771\n",
      "[244]\ttrain-mlogloss:0.13835\teval-mlogloss:0.12678\n",
      "[245]\ttrain-mlogloss:0.13739\teval-mlogloss:0.12549\n",
      "[246]\ttrain-mlogloss:0.13697\teval-mlogloss:0.12531\n",
      "[247]\ttrain-mlogloss:0.13650\teval-mlogloss:0.12494\n",
      "[248]\ttrain-mlogloss:0.13604\teval-mlogloss:0.12449\n",
      "[249]\ttrain-mlogloss:0.13544\teval-mlogloss:0.12368\n",
      "[250]\ttrain-mlogloss:0.13473\teval-mlogloss:0.12282\n",
      "[251]\ttrain-mlogloss:0.13420\teval-mlogloss:0.12203\n",
      "[252]\ttrain-mlogloss:0.13400\teval-mlogloss:0.12192\n",
      "[253]\ttrain-mlogloss:0.13323\teval-mlogloss:0.12082\n",
      "[254]\ttrain-mlogloss:0.13275\teval-mlogloss:0.12036\n",
      "[255]\ttrain-mlogloss:0.13258\teval-mlogloss:0.12017\n",
      "[256]\ttrain-mlogloss:0.13196\teval-mlogloss:0.11948\n",
      "[257]\ttrain-mlogloss:0.13156\teval-mlogloss:0.11903\n",
      "[258]\ttrain-mlogloss:0.13089\teval-mlogloss:0.11834\n",
      "[259]\ttrain-mlogloss:0.13023\teval-mlogloss:0.11768\n",
      "[260]\ttrain-mlogloss:0.12993\teval-mlogloss:0.11730\n",
      "[261]\ttrain-mlogloss:0.12937\teval-mlogloss:0.11672\n",
      "[262]\ttrain-mlogloss:0.12913\teval-mlogloss:0.11652\n",
      "[263]\ttrain-mlogloss:0.12831\teval-mlogloss:0.11542\n",
      "[264]\ttrain-mlogloss:0.12785\teval-mlogloss:0.11482\n",
      "[265]\ttrain-mlogloss:0.12762\teval-mlogloss:0.11477\n",
      "[266]\ttrain-mlogloss:0.12744\teval-mlogloss:0.11463\n",
      "[267]\ttrain-mlogloss:0.12722\teval-mlogloss:0.11454\n",
      "[268]\ttrain-mlogloss:0.12690\teval-mlogloss:0.11434\n",
      "[269]\ttrain-mlogloss:0.12676\teval-mlogloss:0.11433\n",
      "[270]\ttrain-mlogloss:0.12638\teval-mlogloss:0.11385\n",
      "[271]\ttrain-mlogloss:0.12579\teval-mlogloss:0.11317\n",
      "[272]\ttrain-mlogloss:0.12537\teval-mlogloss:0.11273\n",
      "[273]\ttrain-mlogloss:0.12481\teval-mlogloss:0.11223\n",
      "[274]\ttrain-mlogloss:0.12422\teval-mlogloss:0.11138\n",
      "[275]\ttrain-mlogloss:0.12389\teval-mlogloss:0.11082\n",
      "[276]\ttrain-mlogloss:0.12375\teval-mlogloss:0.11075\n",
      "[277]\ttrain-mlogloss:0.12349\teval-mlogloss:0.11050\n",
      "[278]\ttrain-mlogloss:0.12341\teval-mlogloss:0.11049\n",
      "[279]\ttrain-mlogloss:0.12323\teval-mlogloss:0.11040\n",
      "[280]\ttrain-mlogloss:0.12282\teval-mlogloss:0.10989\n",
      "[281]\ttrain-mlogloss:0.12208\teval-mlogloss:0.10876\n",
      "[282]\ttrain-mlogloss:0.12169\teval-mlogloss:0.10832\n",
      "[283]\ttrain-mlogloss:0.12130\teval-mlogloss:0.10779\n",
      "[284]\ttrain-mlogloss:0.12123\teval-mlogloss:0.10774\n",
      "[285]\ttrain-mlogloss:0.12087\teval-mlogloss:0.10719\n",
      "[286]\ttrain-mlogloss:0.12033\teval-mlogloss:0.10645\n",
      "[287]\ttrain-mlogloss:0.11995\teval-mlogloss:0.10626\n",
      "[288]\ttrain-mlogloss:0.11954\teval-mlogloss:0.10569\n",
      "[289]\ttrain-mlogloss:0.11879\teval-mlogloss:0.10473\n",
      "[290]\ttrain-mlogloss:0.11853\teval-mlogloss:0.10454\n",
      "[291]\ttrain-mlogloss:0.11825\teval-mlogloss:0.10434\n",
      "[292]\ttrain-mlogloss:0.11793\teval-mlogloss:0.10420\n",
      "[293]\ttrain-mlogloss:0.11722\teval-mlogloss:0.10321\n",
      "[294]\ttrain-mlogloss:0.11689\teval-mlogloss:0.10301\n",
      "[295]\ttrain-mlogloss:0.11638\teval-mlogloss:0.10214\n",
      "[296]\ttrain-mlogloss:0.11622\teval-mlogloss:0.10209\n",
      "[297]\ttrain-mlogloss:0.11589\teval-mlogloss:0.10156\n",
      "[298]\ttrain-mlogloss:0.11534\teval-mlogloss:0.10075\n",
      "[299]\ttrain-mlogloss:0.11467\teval-mlogloss:0.09982\n"
     ]
    },
    {
     "name": "stderr",
     "output_type": "stream",
     "text": [
      "[I 2024-11-25 11:24:43,487] Trial 9 finished with value: 1.0 and parameters: {'lambda': 0.01040587242752649, 'alpha': 0.0006061468321819499, 'eta': 0.016041561384281935, 'gamma': 0.027119358606794357, 'max_depth': 7, 'min_child_weight': 2, 'subsample': 0.8818439541606268, 'colsample_bytree': 0.4351219415888497}. Best is trial 0 with value: 1.0.\n"
     ]
    },
    {
     "name": "stdout",
     "output_type": "stream",
     "text": [
      "[0]\ttrain-mlogloss:0.89314\teval-mlogloss:0.89900\n",
      "[1]\ttrain-mlogloss:0.72260\teval-mlogloss:0.71693\n"
     ]
    },
    {
     "name": "stderr",
     "output_type": "stream",
     "text": [
      "[I 2024-11-25 11:24:43,725] Trial 10 pruned. Trial was pruned at iteration 1.\n"
     ]
    },
    {
     "name": "stdout",
     "output_type": "stream",
     "text": [
      "[0]\ttrain-mlogloss:0.82881\teval-mlogloss:0.82132\n",
      "[1]\ttrain-mlogloss:0.65539\teval-mlogloss:0.63279\n"
     ]
    },
    {
     "name": "stderr",
     "output_type": "stream",
     "text": [
      "[I 2024-11-25 11:24:43,815] Trial 11 pruned. Trial was pruned at iteration 1.\n"
     ]
    },
    {
     "name": "stdout",
     "output_type": "stream",
     "text": [
      "[0]\ttrain-mlogloss:0.95052\teval-mlogloss:0.95202\n",
      "[1]\ttrain-mlogloss:0.81907\teval-mlogloss:0.81307\n"
     ]
    },
    {
     "name": "stderr",
     "output_type": "stream",
     "text": [
      "[I 2024-11-25 11:24:43,902] Trial 12 pruned. Trial was pruned at iteration 1.\n"
     ]
    },
    {
     "name": "stdout",
     "output_type": "stream",
     "text": [
      "[0]\ttrain-mlogloss:0.82245\teval-mlogloss:0.81428\n"
     ]
    },
    {
     "name": "stderr",
     "output_type": "stream",
     "text": [
      "[I 2024-11-25 11:24:43,980] Trial 13 pruned. Trial was pruned at iteration 1.\n"
     ]
    },
    {
     "name": "stdout",
     "output_type": "stream",
     "text": [
      "[0]\ttrain-mlogloss:0.90623\teval-mlogloss:0.89790\n"
     ]
    },
    {
     "name": "stderr",
     "output_type": "stream",
     "text": [
      "[I 2024-11-25 11:24:44,067] Trial 14 pruned. Trial was pruned at iteration 1.\n"
     ]
    },
    {
     "name": "stdout",
     "output_type": "stream",
     "text": [
      "[0]\ttrain-mlogloss:0.77996\teval-mlogloss:0.79014\n"
     ]
    },
    {
     "name": "stderr",
     "output_type": "stream",
     "text": [
      "[I 2024-11-25 11:24:44,150] Trial 15 pruned. Trial was pruned at iteration 1.\n"
     ]
    },
    {
     "name": "stdout",
     "output_type": "stream",
     "text": [
      "[0]\ttrain-mlogloss:0.81260\teval-mlogloss:0.80479\n",
      "[1]\ttrain-mlogloss:0.63326\teval-mlogloss:0.61395\n"
     ]
    },
    {
     "name": "stderr",
     "output_type": "stream",
     "text": [
      "[I 2024-11-25 11:24:44,237] Trial 16 pruned. Trial was pruned at iteration 1.\n"
     ]
    },
    {
     "name": "stdout",
     "output_type": "stream",
     "text": [
      "[0]\ttrain-mlogloss:0.91997\teval-mlogloss:0.91257\n",
      "[1]\ttrain-mlogloss:0.79726\teval-mlogloss:0.78538\n"
     ]
    },
    {
     "name": "stderr",
     "output_type": "stream",
     "text": [
      "[I 2024-11-25 11:24:44,337] Trial 17 pruned. Trial was pruned at iteration 1.\n"
     ]
    },
    {
     "name": "stdout",
     "output_type": "stream",
     "text": [
      "[0]\ttrain-mlogloss:0.87804\teval-mlogloss:0.88286\n",
      "[1]\ttrain-mlogloss:0.70196\teval-mlogloss:0.69042\n"
     ]
    },
    {
     "name": "stderr",
     "output_type": "stream",
     "text": [
      "[I 2024-11-25 11:24:44,482] Trial 18 pruned. Trial was pruned at iteration 1.\n"
     ]
    },
    {
     "name": "stdout",
     "output_type": "stream",
     "text": [
      "[0]\ttrain-mlogloss:0.89639\teval-mlogloss:0.90219\n"
     ]
    },
    {
     "name": "stderr",
     "output_type": "stream",
     "text": [
      "[I 2024-11-25 11:24:44,570] Trial 19 pruned. Trial was pruned at iteration 1.\n"
     ]
    },
    {
     "name": "stdout",
     "output_type": "stream",
     "text": [
      "[0]\ttrain-mlogloss:0.96560\teval-mlogloss:0.96267\n",
      "[1]\ttrain-mlogloss:0.85977\teval-mlogloss:0.85647\n",
      "[2]\ttrain-mlogloss:0.76662\teval-mlogloss:0.75638\n",
      "[3]\ttrain-mlogloss:0.68707\teval-mlogloss:0.67140\n"
     ]
    },
    {
     "name": "stderr",
     "output_type": "stream",
     "text": [
      "[I 2024-11-25 11:24:44,670] Trial 20 pruned. Trial was pruned at iteration 4.\n"
     ]
    },
    {
     "name": "stdout",
     "output_type": "stream",
     "text": [
      "[0]\ttrain-mlogloss:1.06786\teval-mlogloss:1.06647\n",
      "[1]\ttrain-mlogloss:1.04153\teval-mlogloss:1.03948\n",
      "[2]\ttrain-mlogloss:1.01330\teval-mlogloss:1.00965\n",
      "[3]\ttrain-mlogloss:0.98690\teval-mlogloss:0.98270\n"
     ]
    },
    {
     "name": "stderr",
     "output_type": "stream",
     "text": [
      "[I 2024-11-25 11:24:44,775] Trial 21 pruned. Trial was pruned at iteration 4.\n"
     ]
    },
    {
     "name": "stdout",
     "output_type": "stream",
     "text": [
      "[0]\ttrain-mlogloss:1.02418\teval-mlogloss:1.02051\n",
      "[1]\ttrain-mlogloss:0.96355\teval-mlogloss:0.95795\n",
      "[2]\ttrain-mlogloss:0.90179\teval-mlogloss:0.89242\n",
      "[3]\ttrain-mlogloss:0.84663\teval-mlogloss:0.83618\n"
     ]
    },
    {
     "name": "stderr",
     "output_type": "stream",
     "text": [
      "[I 2024-11-25 11:24:44,878] Trial 22 pruned. Trial was pruned at iteration 4.\n"
     ]
    },
    {
     "name": "stdout",
     "output_type": "stream",
     "text": [
      "[0]\ttrain-mlogloss:0.98522\teval-mlogloss:0.98048\n"
     ]
    },
    {
     "name": "stderr",
     "output_type": "stream",
     "text": [
      "[I 2024-11-25 11:24:44,972] Trial 23 pruned. Trial was pruned at iteration 1.\n"
     ]
    },
    {
     "name": "stdout",
     "output_type": "stream",
     "text": [
      "[0]\ttrain-mlogloss:0.89666\teval-mlogloss:0.89042\n"
     ]
    },
    {
     "name": "stderr",
     "output_type": "stream",
     "text": [
      "[I 2024-11-25 11:24:45,066] Trial 24 pruned. Trial was pruned at iteration 1.\n"
     ]
    },
    {
     "name": "stdout",
     "output_type": "stream",
     "text": [
      "[0]\ttrain-mlogloss:0.84025\teval-mlogloss:0.82940\n",
      "[1]\ttrain-mlogloss:0.67861\teval-mlogloss:0.66064\n"
     ]
    },
    {
     "name": "stderr",
     "output_type": "stream",
     "text": [
      "[I 2024-11-25 11:24:45,154] Trial 25 pruned. Trial was pruned at iteration 1.\n"
     ]
    },
    {
     "name": "stdout",
     "output_type": "stream",
     "text": [
      "[0]\ttrain-mlogloss:0.94628\teval-mlogloss:0.94188\n"
     ]
    },
    {
     "name": "stderr",
     "output_type": "stream",
     "text": [
      "[I 2024-11-25 11:24:45,259] Trial 26 pruned. Trial was pruned at iteration 1.\n"
     ]
    },
    {
     "name": "stdout",
     "output_type": "stream",
     "text": [
      "[0]\ttrain-mlogloss:1.06061\teval-mlogloss:1.06021\n",
      "[1]\ttrain-mlogloss:1.01689\teval-mlogloss:1.01527\n",
      "[2]\ttrain-mlogloss:0.97241\teval-mlogloss:0.96996\n",
      "[3]\ttrain-mlogloss:0.94156\teval-mlogloss:0.93732\n",
      "[4]\ttrain-mlogloss:0.90680\teval-mlogloss:0.89927\n"
     ]
    },
    {
     "name": "stderr",
     "output_type": "stream",
     "text": [
      "[I 2024-11-25 11:24:45,364] Trial 27 pruned. Trial was pruned at iteration 4.\n"
     ]
    },
    {
     "name": "stdout",
     "output_type": "stream",
     "text": [
      "[0]\ttrain-mlogloss:0.76977\teval-mlogloss:0.76083\n",
      "[1]\ttrain-mlogloss:0.57908\teval-mlogloss:0.55747\n"
     ]
    },
    {
     "name": "stderr",
     "output_type": "stream",
     "text": [
      "[I 2024-11-25 11:24:45,453] Trial 28 pruned. Trial was pruned at iteration 1.\n"
     ]
    },
    {
     "name": "stdout",
     "output_type": "stream",
     "text": [
      "[0]\ttrain-mlogloss:0.79881\teval-mlogloss:0.78378\n"
     ]
    },
    {
     "name": "stderr",
     "output_type": "stream",
     "text": [
      "[I 2024-11-25 11:24:45,543] Trial 29 pruned. Trial was pruned at iteration 1.\n"
     ]
    },
    {
     "name": "stdout",
     "output_type": "stream",
     "text": [
      "[0]\ttrain-mlogloss:0.87075\teval-mlogloss:0.87678\n",
      "[1]\ttrain-mlogloss:0.67849\teval-mlogloss:0.67215\n"
     ]
    },
    {
     "name": "stderr",
     "output_type": "stream",
     "text": [
      "[I 2024-11-25 11:24:45,638] Trial 30 pruned. Trial was pruned at iteration 1.\n"
     ]
    },
    {
     "name": "stdout",
     "output_type": "stream",
     "text": [
      "[0]\ttrain-mlogloss:1.07581\teval-mlogloss:1.07637\n",
      "[1]\ttrain-mlogloss:1.04997\teval-mlogloss:1.05008\n",
      "[2]\ttrain-mlogloss:1.02241\teval-mlogloss:1.02374\n",
      "[3]\ttrain-mlogloss:1.00241\teval-mlogloss:1.00349\n",
      "[4]\ttrain-mlogloss:0.97964\teval-mlogloss:0.98047\n",
      "[5]\ttrain-mlogloss:0.96050\teval-mlogloss:0.96348\n",
      "[6]\ttrain-mlogloss:0.94254\teval-mlogloss:0.94529\n",
      "[7]\ttrain-mlogloss:0.92507\teval-mlogloss:0.92843\n",
      "[8]\ttrain-mlogloss:0.89901\teval-mlogloss:0.90204\n",
      "[9]\ttrain-mlogloss:0.87992\teval-mlogloss:0.88270\n",
      "[10]\ttrain-mlogloss:0.85535\teval-mlogloss:0.85757\n",
      "[11]\ttrain-mlogloss:0.83647\teval-mlogloss:0.83945\n",
      "[12]\ttrain-mlogloss:0.82334\teval-mlogloss:0.82707\n",
      "[13]\ttrain-mlogloss:0.80889\teval-mlogloss:0.81146\n",
      "[14]\ttrain-mlogloss:0.79249\teval-mlogloss:0.79468\n",
      "[15]\ttrain-mlogloss:0.78348\teval-mlogloss:0.78817\n"
     ]
    },
    {
     "name": "stderr",
     "output_type": "stream",
     "text": [
      "[I 2024-11-25 11:24:45,786] Trial 31 pruned. Trial was pruned at iteration 16.\n"
     ]
    },
    {
     "name": "stdout",
     "output_type": "stream",
     "text": [
      "[0]\ttrain-mlogloss:1.07683\teval-mlogloss:1.07616\n",
      "[1]\ttrain-mlogloss:1.05735\teval-mlogloss:1.05607\n",
      "[2]\ttrain-mlogloss:1.03649\teval-mlogloss:1.03367\n",
      "[3]\ttrain-mlogloss:1.01646\teval-mlogloss:1.01288\n",
      "[4]\ttrain-mlogloss:0.99709\teval-mlogloss:0.99297\n",
      "[5]\ttrain-mlogloss:0.97811\teval-mlogloss:0.97257\n",
      "[6]\ttrain-mlogloss:0.96051\teval-mlogloss:0.95439\n",
      "[7]\ttrain-mlogloss:0.94553\teval-mlogloss:0.93924\n",
      "[8]\ttrain-mlogloss:0.92816\teval-mlogloss:0.92124\n",
      "[9]\ttrain-mlogloss:0.91102\teval-mlogloss:0.90360\n",
      "[10]\ttrain-mlogloss:0.89425\teval-mlogloss:0.88645\n",
      "[11]\ttrain-mlogloss:0.87819\teval-mlogloss:0.87028\n",
      "[12]\ttrain-mlogloss:0.86239\teval-mlogloss:0.85383\n",
      "[13]\ttrain-mlogloss:0.84917\teval-mlogloss:0.84091\n",
      "[14]\ttrain-mlogloss:0.83660\teval-mlogloss:0.82870\n",
      "[15]\ttrain-mlogloss:0.82202\teval-mlogloss:0.81327\n"
     ]
    },
    {
     "name": "stderr",
     "output_type": "stream",
     "text": [
      "[I 2024-11-25 11:24:45,923] Trial 32 pruned. Trial was pruned at iteration 16.\n"
     ]
    },
    {
     "name": "stdout",
     "output_type": "stream",
     "text": [
      "[0]\ttrain-mlogloss:1.06227\teval-mlogloss:1.06177\n",
      "[1]\ttrain-mlogloss:1.02151\teval-mlogloss:1.02020\n",
      "[2]\ttrain-mlogloss:0.98049\teval-mlogloss:0.97847\n",
      "[3]\ttrain-mlogloss:0.95181\teval-mlogloss:0.94584\n",
      "[4]\ttrain-mlogloss:0.91876\teval-mlogloss:0.90984\n"
     ]
    },
    {
     "name": "stderr",
     "output_type": "stream",
     "text": [
      "[I 2024-11-25 11:24:46,071] Trial 33 pruned. Trial was pruned at iteration 4.\n"
     ]
    },
    {
     "name": "stdout",
     "output_type": "stream",
     "text": [
      "[0]\ttrain-mlogloss:1.00253\teval-mlogloss:1.00083\n"
     ]
    },
    {
     "name": "stderr",
     "output_type": "stream",
     "text": [
      "[I 2024-11-25 11:24:46,157] Trial 34 pruned. Trial was pruned at iteration 1.\n"
     ]
    },
    {
     "name": "stdout",
     "output_type": "stream",
     "text": [
      "[0]\ttrain-mlogloss:1.01390\teval-mlogloss:1.01861\n"
     ]
    },
    {
     "name": "stderr",
     "output_type": "stream",
     "text": [
      "[I 2024-11-25 11:24:46,239] Trial 35 pruned. Trial was pruned at iteration 1.\n"
     ]
    },
    {
     "name": "stdout",
     "output_type": "stream",
     "text": [
      "[0]\ttrain-mlogloss:0.99846\teval-mlogloss:0.99510\n",
      "[1]\ttrain-mlogloss:0.91293\teval-mlogloss:0.90539\n"
     ]
    },
    {
     "name": "stderr",
     "output_type": "stream",
     "text": [
      "[I 2024-11-25 11:24:46,326] Trial 36 pruned. Trial was pruned at iteration 1.\n"
     ]
    },
    {
     "name": "stdout",
     "output_type": "stream",
     "text": [
      "[0]\ttrain-mlogloss:1.08455\teval-mlogloss:1.08398\n",
      "[1]\ttrain-mlogloss:1.07074\teval-mlogloss:1.07002\n",
      "[2]\ttrain-mlogloss:1.05717\teval-mlogloss:1.05572\n",
      "[3]\ttrain-mlogloss:1.04398\teval-mlogloss:1.04236\n",
      "[4]\ttrain-mlogloss:1.03099\teval-mlogloss:1.02904\n",
      "[5]\ttrain-mlogloss:1.01832\teval-mlogloss:1.01572\n",
      "[6]\ttrain-mlogloss:1.00589\teval-mlogloss:1.00262\n",
      "[7]\ttrain-mlogloss:0.99370\teval-mlogloss:0.99023\n",
      "[8]\ttrain-mlogloss:0.98167\teval-mlogloss:0.97789\n",
      "[9]\ttrain-mlogloss:0.96985\teval-mlogloss:0.96558\n",
      "[10]\ttrain-mlogloss:0.95815\teval-mlogloss:0.95361\n",
      "[11]\ttrain-mlogloss:0.94686\teval-mlogloss:0.94179\n",
      "[12]\ttrain-mlogloss:0.93564\teval-mlogloss:0.93007\n",
      "[13]\ttrain-mlogloss:0.92459\teval-mlogloss:0.91857\n",
      "[14]\ttrain-mlogloss:0.91374\teval-mlogloss:0.90732\n",
      "[15]\ttrain-mlogloss:0.90310\teval-mlogloss:0.89611\n",
      "[16]\ttrain-mlogloss:0.89255\teval-mlogloss:0.88505\n",
      "[17]\ttrain-mlogloss:0.88219\teval-mlogloss:0.87435\n",
      "[18]\ttrain-mlogloss:0.87209\teval-mlogloss:0.86393\n",
      "[19]\ttrain-mlogloss:0.86214\teval-mlogloss:0.85339\n",
      "[20]\ttrain-mlogloss:0.85227\teval-mlogloss:0.84316\n",
      "[21]\ttrain-mlogloss:0.84268\teval-mlogloss:0.83336\n",
      "[22]\ttrain-mlogloss:0.83309\teval-mlogloss:0.82353\n",
      "[23]\ttrain-mlogloss:0.82371\teval-mlogloss:0.81393\n",
      "[24]\ttrain-mlogloss:0.81452\teval-mlogloss:0.80447\n",
      "[25]\ttrain-mlogloss:0.80543\teval-mlogloss:0.79523\n",
      "[26]\ttrain-mlogloss:0.79652\teval-mlogloss:0.78612\n",
      "[27]\ttrain-mlogloss:0.78762\teval-mlogloss:0.77701\n",
      "[28]\ttrain-mlogloss:0.77894\teval-mlogloss:0.76808\n",
      "[29]\ttrain-mlogloss:0.77039\teval-mlogloss:0.75889\n",
      "[30]\ttrain-mlogloss:0.76195\teval-mlogloss:0.75025\n",
      "[31]\ttrain-mlogloss:0.75374\teval-mlogloss:0.74188\n",
      "[32]\ttrain-mlogloss:0.74556\teval-mlogloss:0.73320\n",
      "[33]\ttrain-mlogloss:0.73764\teval-mlogloss:0.72494\n",
      "[34]\ttrain-mlogloss:0.72981\teval-mlogloss:0.71673\n",
      "[35]\ttrain-mlogloss:0.72198\teval-mlogloss:0.70867\n",
      "[36]\ttrain-mlogloss:0.71427\teval-mlogloss:0.70080\n",
      "[37]\ttrain-mlogloss:0.70668\teval-mlogloss:0.69279\n",
      "[38]\ttrain-mlogloss:0.69917\teval-mlogloss:0.68489\n",
      "[39]\ttrain-mlogloss:0.69185\teval-mlogloss:0.67721\n",
      "[40]\ttrain-mlogloss:0.68460\teval-mlogloss:0.66980\n",
      "[41]\ttrain-mlogloss:0.67742\teval-mlogloss:0.66242\n",
      "[42]\ttrain-mlogloss:0.67033\teval-mlogloss:0.65475\n",
      "[43]\ttrain-mlogloss:0.66334\teval-mlogloss:0.64764\n",
      "[44]\ttrain-mlogloss:0.65639\teval-mlogloss:0.64032\n",
      "[45]\ttrain-mlogloss:0.64959\teval-mlogloss:0.63310\n",
      "[46]\ttrain-mlogloss:0.64283\teval-mlogloss:0.62608\n",
      "[47]\ttrain-mlogloss:0.63627\teval-mlogloss:0.61934\n",
      "[48]\ttrain-mlogloss:0.62976\teval-mlogloss:0.61248\n",
      "[49]\ttrain-mlogloss:0.62329\teval-mlogloss:0.60570\n",
      "[50]\ttrain-mlogloss:0.61705\teval-mlogloss:0.59898\n",
      "[51]\ttrain-mlogloss:0.61073\teval-mlogloss:0.59241\n",
      "[52]\ttrain-mlogloss:0.60455\teval-mlogloss:0.58603\n",
      "[53]\ttrain-mlogloss:0.59852\teval-mlogloss:0.57989\n",
      "[54]\ttrain-mlogloss:0.59263\teval-mlogloss:0.57361\n",
      "[55]\ttrain-mlogloss:0.58676\teval-mlogloss:0.56754\n",
      "[56]\ttrain-mlogloss:0.58093\teval-mlogloss:0.56137\n",
      "[57]\ttrain-mlogloss:0.57515\teval-mlogloss:0.55514\n",
      "[58]\ttrain-mlogloss:0.56944\teval-mlogloss:0.54916\n",
      "[59]\ttrain-mlogloss:0.56388\teval-mlogloss:0.54330\n",
      "[60]\ttrain-mlogloss:0.55845\teval-mlogloss:0.53737\n",
      "[61]\ttrain-mlogloss:0.55305\teval-mlogloss:0.53166\n",
      "[62]\ttrain-mlogloss:0.54769\teval-mlogloss:0.52594\n",
      "[63]\ttrain-mlogloss:0.54249\teval-mlogloss:0.52052\n",
      "[64]\ttrain-mlogloss:0.53730\teval-mlogloss:0.51518\n",
      "[65]\ttrain-mlogloss:0.53220\teval-mlogloss:0.50982\n",
      "[66]\ttrain-mlogloss:0.52712\teval-mlogloss:0.50441\n",
      "[67]\ttrain-mlogloss:0.52209\teval-mlogloss:0.49905\n",
      "[68]\ttrain-mlogloss:0.51712\teval-mlogloss:0.49397\n",
      "[69]\ttrain-mlogloss:0.51222\teval-mlogloss:0.48891\n",
      "[70]\ttrain-mlogloss:0.50741\teval-mlogloss:0.48376\n",
      "[71]\ttrain-mlogloss:0.50259\teval-mlogloss:0.47868\n",
      "[72]\ttrain-mlogloss:0.49793\teval-mlogloss:0.47389\n",
      "[73]\ttrain-mlogloss:0.49331\teval-mlogloss:0.46899\n",
      "[74]\ttrain-mlogloss:0.48865\teval-mlogloss:0.46410\n",
      "[75]\ttrain-mlogloss:0.48416\teval-mlogloss:0.45937\n",
      "[76]\ttrain-mlogloss:0.47970\teval-mlogloss:0.45470\n",
      "[77]\ttrain-mlogloss:0.47527\teval-mlogloss:0.45006\n",
      "[78]\ttrain-mlogloss:0.47089\teval-mlogloss:0.44545\n",
      "[79]\ttrain-mlogloss:0.46665\teval-mlogloss:0.44089\n",
      "[80]\ttrain-mlogloss:0.46241\teval-mlogloss:0.43636\n",
      "[81]\ttrain-mlogloss:0.45819\teval-mlogloss:0.43184\n",
      "[82]\ttrain-mlogloss:0.45400\teval-mlogloss:0.42746\n",
      "[83]\ttrain-mlogloss:0.44988\teval-mlogloss:0.42326\n",
      "[84]\ttrain-mlogloss:0.44592\teval-mlogloss:0.41914\n",
      "[85]\ttrain-mlogloss:0.44192\teval-mlogloss:0.41486\n",
      "[86]\ttrain-mlogloss:0.43795\teval-mlogloss:0.41043\n",
      "[87]\ttrain-mlogloss:0.43408\teval-mlogloss:0.40630\n",
      "[88]\ttrain-mlogloss:0.43031\teval-mlogloss:0.40225\n",
      "[89]\ttrain-mlogloss:0.42649\teval-mlogloss:0.39826\n",
      "[90]\ttrain-mlogloss:0.42277\teval-mlogloss:0.39446\n",
      "[91]\ttrain-mlogloss:0.41908\teval-mlogloss:0.39044\n",
      "[92]\ttrain-mlogloss:0.41542\teval-mlogloss:0.38650\n",
      "[93]\ttrain-mlogloss:0.41169\teval-mlogloss:0.38269\n",
      "[94]\ttrain-mlogloss:0.40811\teval-mlogloss:0.37896\n",
      "[95]\ttrain-mlogloss:0.40461\teval-mlogloss:0.37547\n",
      "[96]\ttrain-mlogloss:0.40108\teval-mlogloss:0.37160\n",
      "[97]\ttrain-mlogloss:0.39766\teval-mlogloss:0.36791\n",
      "[98]\ttrain-mlogloss:0.39430\teval-mlogloss:0.36439\n",
      "[99]\ttrain-mlogloss:0.39086\teval-mlogloss:0.36079\n",
      "[100]\ttrain-mlogloss:0.38746\teval-mlogloss:0.35739\n",
      "[101]\ttrain-mlogloss:0.38417\teval-mlogloss:0.35405\n",
      "[102]\ttrain-mlogloss:0.38084\teval-mlogloss:0.35069\n",
      "[103]\ttrain-mlogloss:0.37759\teval-mlogloss:0.34718\n",
      "[104]\ttrain-mlogloss:0.37443\teval-mlogloss:0.34397\n",
      "[105]\ttrain-mlogloss:0.37129\teval-mlogloss:0.34081\n",
      "[106]\ttrain-mlogloss:0.36822\teval-mlogloss:0.33750\n",
      "[107]\ttrain-mlogloss:0.36517\teval-mlogloss:0.33433\n",
      "[108]\ttrain-mlogloss:0.36221\teval-mlogloss:0.33112\n",
      "[109]\ttrain-mlogloss:0.35921\teval-mlogloss:0.32800\n",
      "[110]\ttrain-mlogloss:0.35623\teval-mlogloss:0.32469\n",
      "[111]\ttrain-mlogloss:0.35330\teval-mlogloss:0.32142\n",
      "[112]\ttrain-mlogloss:0.35047\teval-mlogloss:0.31841\n",
      "[113]\ttrain-mlogloss:0.34765\teval-mlogloss:0.31522\n",
      "[114]\ttrain-mlogloss:0.34486\teval-mlogloss:0.31226\n",
      "[115]\ttrain-mlogloss:0.34211\teval-mlogloss:0.30929\n",
      "[116]\ttrain-mlogloss:0.33931\teval-mlogloss:0.30624\n",
      "[117]\ttrain-mlogloss:0.33664\teval-mlogloss:0.30329\n",
      "[118]\ttrain-mlogloss:0.33397\teval-mlogloss:0.30045\n",
      "[119]\ttrain-mlogloss:0.33136\teval-mlogloss:0.29765\n",
      "[120]\ttrain-mlogloss:0.32863\teval-mlogloss:0.29466\n",
      "[121]\ttrain-mlogloss:0.32601\teval-mlogloss:0.29188\n",
      "[122]\ttrain-mlogloss:0.32343\teval-mlogloss:0.28915\n",
      "[123]\ttrain-mlogloss:0.32098\teval-mlogloss:0.28645\n",
      "[124]\ttrain-mlogloss:0.31852\teval-mlogloss:0.28373\n",
      "[125]\ttrain-mlogloss:0.31625\teval-mlogloss:0.28096\n",
      "[126]\ttrain-mlogloss:0.31385\teval-mlogloss:0.27839\n",
      "[127]\ttrain-mlogloss:0.31140\teval-mlogloss:0.27570\n",
      "[128]\ttrain-mlogloss:0.30908\teval-mlogloss:0.27318\n",
      "[129]\ttrain-mlogloss:0.30673\teval-mlogloss:0.27074\n",
      "[130]\ttrain-mlogloss:0.30438\teval-mlogloss:0.26812\n",
      "[131]\ttrain-mlogloss:0.30213\teval-mlogloss:0.26573\n",
      "[132]\ttrain-mlogloss:0.29986\teval-mlogloss:0.26335\n",
      "[133]\ttrain-mlogloss:0.29786\teval-mlogloss:0.26108\n",
      "[134]\ttrain-mlogloss:0.29570\teval-mlogloss:0.25857\n",
      "[135]\ttrain-mlogloss:0.29347\teval-mlogloss:0.25602\n",
      "[136]\ttrain-mlogloss:0.29157\teval-mlogloss:0.25379\n",
      "[137]\ttrain-mlogloss:0.28942\teval-mlogloss:0.25150\n",
      "[138]\ttrain-mlogloss:0.28743\teval-mlogloss:0.24938\n",
      "[139]\ttrain-mlogloss:0.28545\teval-mlogloss:0.24725\n",
      "[140]\ttrain-mlogloss:0.28349\teval-mlogloss:0.24509\n",
      "[141]\ttrain-mlogloss:0.28153\teval-mlogloss:0.24297\n",
      "[142]\ttrain-mlogloss:0.27961\teval-mlogloss:0.24069\n",
      "[143]\ttrain-mlogloss:0.27774\teval-mlogloss:0.23865\n",
      "[144]\ttrain-mlogloss:0.27589\teval-mlogloss:0.23655\n",
      "[145]\ttrain-mlogloss:0.27399\teval-mlogloss:0.23444\n",
      "[146]\ttrain-mlogloss:0.27219\teval-mlogloss:0.23245\n",
      "[147]\ttrain-mlogloss:0.27042\teval-mlogloss:0.23041\n",
      "[148]\ttrain-mlogloss:0.26865\teval-mlogloss:0.22835\n",
      "[149]\ttrain-mlogloss:0.26688\teval-mlogloss:0.22630\n",
      "[150]\ttrain-mlogloss:0.26519\teval-mlogloss:0.22425\n",
      "[151]\ttrain-mlogloss:0.26347\teval-mlogloss:0.22233\n",
      "[152]\ttrain-mlogloss:0.26186\teval-mlogloss:0.22038\n",
      "[153]\ttrain-mlogloss:0.26022\teval-mlogloss:0.21844\n",
      "[154]\ttrain-mlogloss:0.25851\teval-mlogloss:0.21653\n",
      "[155]\ttrain-mlogloss:0.25690\teval-mlogloss:0.21460\n",
      "[156]\ttrain-mlogloss:0.25525\teval-mlogloss:0.21286\n",
      "[157]\ttrain-mlogloss:0.25358\teval-mlogloss:0.21103\n",
      "[158]\ttrain-mlogloss:0.25205\teval-mlogloss:0.20921\n",
      "[159]\ttrain-mlogloss:0.25048\teval-mlogloss:0.20742\n",
      "[160]\ttrain-mlogloss:0.24900\teval-mlogloss:0.20565\n",
      "[161]\ttrain-mlogloss:0.24751\teval-mlogloss:0.20401\n",
      "[162]\ttrain-mlogloss:0.24604\teval-mlogloss:0.20236\n",
      "[163]\ttrain-mlogloss:0.24472\teval-mlogloss:0.20075\n",
      "[164]\ttrain-mlogloss:0.24334\teval-mlogloss:0.19921\n",
      "[165]\ttrain-mlogloss:0.24196\teval-mlogloss:0.19764\n",
      "[166]\ttrain-mlogloss:0.24064\teval-mlogloss:0.19608\n",
      "[167]\ttrain-mlogloss:0.23930\teval-mlogloss:0.19462\n",
      "[168]\ttrain-mlogloss:0.23802\teval-mlogloss:0.19319\n",
      "[169]\ttrain-mlogloss:0.23672\teval-mlogloss:0.19167\n",
      "[170]\ttrain-mlogloss:0.23529\teval-mlogloss:0.19003\n",
      "[171]\ttrain-mlogloss:0.23406\teval-mlogloss:0.18850\n",
      "[172]\ttrain-mlogloss:0.23280\teval-mlogloss:0.18693\n",
      "[173]\ttrain-mlogloss:0.23155\teval-mlogloss:0.18544\n",
      "[174]\ttrain-mlogloss:0.23021\teval-mlogloss:0.18402\n",
      "[175]\ttrain-mlogloss:0.22898\teval-mlogloss:0.18247\n",
      "[176]\ttrain-mlogloss:0.22781\teval-mlogloss:0.18118\n",
      "[177]\ttrain-mlogloss:0.22662\teval-mlogloss:0.17979\n",
      "[178]\ttrain-mlogloss:0.22551\teval-mlogloss:0.17859\n",
      "[179]\ttrain-mlogloss:0.22434\teval-mlogloss:0.17712\n",
      "[180]\ttrain-mlogloss:0.22320\teval-mlogloss:0.17587\n",
      "[181]\ttrain-mlogloss:0.22208\teval-mlogloss:0.17459\n",
      "[182]\ttrain-mlogloss:0.22092\teval-mlogloss:0.17323\n",
      "[183]\ttrain-mlogloss:0.21977\teval-mlogloss:0.17197\n",
      "[184]\ttrain-mlogloss:0.21868\teval-mlogloss:0.17098\n",
      "[185]\ttrain-mlogloss:0.21755\teval-mlogloss:0.16964\n",
      "[186]\ttrain-mlogloss:0.21661\teval-mlogloss:0.16859\n",
      "[187]\ttrain-mlogloss:0.21555\teval-mlogloss:0.16741\n",
      "[188]\ttrain-mlogloss:0.21461\teval-mlogloss:0.16637\n",
      "[189]\ttrain-mlogloss:0.21367\teval-mlogloss:0.16536\n",
      "[190]\ttrain-mlogloss:0.21272\teval-mlogloss:0.16423\n",
      "[191]\ttrain-mlogloss:0.21180\teval-mlogloss:0.16313\n",
      "[192]\ttrain-mlogloss:0.21081\teval-mlogloss:0.16205\n",
      "[193]\ttrain-mlogloss:0.20984\teval-mlogloss:0.16107\n",
      "[194]\ttrain-mlogloss:0.20895\teval-mlogloss:0.15999\n",
      "[195]\ttrain-mlogloss:0.20794\teval-mlogloss:0.15881\n",
      "[196]\ttrain-mlogloss:0.20694\teval-mlogloss:0.15762\n",
      "[197]\ttrain-mlogloss:0.20609\teval-mlogloss:0.15669\n",
      "[198]\ttrain-mlogloss:0.20518\teval-mlogloss:0.15582\n",
      "[199]\ttrain-mlogloss:0.20429\teval-mlogloss:0.15487\n",
      "[200]\ttrain-mlogloss:0.20341\teval-mlogloss:0.15382\n",
      "[201]\ttrain-mlogloss:0.20256\teval-mlogloss:0.15300\n",
      "[202]\ttrain-mlogloss:0.20174\teval-mlogloss:0.15220\n",
      "[203]\ttrain-mlogloss:0.20091\teval-mlogloss:0.15122\n",
      "[204]\ttrain-mlogloss:0.20009\teval-mlogloss:0.15031\n",
      "[205]\ttrain-mlogloss:0.19929\teval-mlogloss:0.14936\n",
      "[206]\ttrain-mlogloss:0.19844\teval-mlogloss:0.14839\n",
      "[207]\ttrain-mlogloss:0.19766\teval-mlogloss:0.14754\n",
      "[208]\ttrain-mlogloss:0.19686\teval-mlogloss:0.14664\n",
      "[209]\ttrain-mlogloss:0.19612\teval-mlogloss:0.14577\n",
      "[210]\ttrain-mlogloss:0.19533\teval-mlogloss:0.14486\n",
      "[211]\ttrain-mlogloss:0.19458\teval-mlogloss:0.14398\n",
      "[212]\ttrain-mlogloss:0.19385\teval-mlogloss:0.14312\n",
      "[213]\ttrain-mlogloss:0.19309\teval-mlogloss:0.14222\n",
      "[214]\ttrain-mlogloss:0.19235\teval-mlogloss:0.14140\n",
      "[215]\ttrain-mlogloss:0.19161\teval-mlogloss:0.14059\n",
      "[216]\ttrain-mlogloss:0.19090\teval-mlogloss:0.13974\n",
      "[217]\ttrain-mlogloss:0.19016\teval-mlogloss:0.13894\n",
      "[218]\ttrain-mlogloss:0.18985\teval-mlogloss:0.13848\n",
      "[219]\ttrain-mlogloss:0.18923\teval-mlogloss:0.13772\n",
      "[220]\ttrain-mlogloss:0.18892\teval-mlogloss:0.13731\n",
      "[221]\ttrain-mlogloss:0.18862\teval-mlogloss:0.13695\n",
      "[222]\ttrain-mlogloss:0.18833\teval-mlogloss:0.13659\n",
      "[223]\ttrain-mlogloss:0.18763\teval-mlogloss:0.13578\n",
      "[224]\ttrain-mlogloss:0.18698\teval-mlogloss:0.13510\n",
      "[225]\ttrain-mlogloss:0.18632\teval-mlogloss:0.13434\n",
      "[226]\ttrain-mlogloss:0.18605\teval-mlogloss:0.13403\n",
      "[227]\ttrain-mlogloss:0.18573\teval-mlogloss:0.13356\n",
      "[228]\ttrain-mlogloss:0.18543\teval-mlogloss:0.13323\n",
      "[229]\ttrain-mlogloss:0.18480\teval-mlogloss:0.13249\n",
      "[230]\ttrain-mlogloss:0.18448\teval-mlogloss:0.13203\n",
      "[231]\ttrain-mlogloss:0.18419\teval-mlogloss:0.13166\n",
      "[232]\ttrain-mlogloss:0.18354\teval-mlogloss:0.13091\n",
      "[233]\ttrain-mlogloss:0.18327\teval-mlogloss:0.13051\n",
      "[234]\ttrain-mlogloss:0.18297\teval-mlogloss:0.13012\n",
      "[235]\ttrain-mlogloss:0.18268\teval-mlogloss:0.12967\n",
      "[236]\ttrain-mlogloss:0.18239\teval-mlogloss:0.12925\n",
      "[237]\ttrain-mlogloss:0.18209\teval-mlogloss:0.12884\n",
      "[238]\ttrain-mlogloss:0.18183\teval-mlogloss:0.12850\n",
      "[239]\ttrain-mlogloss:0.18157\teval-mlogloss:0.12816\n",
      "[240]\ttrain-mlogloss:0.18130\teval-mlogloss:0.12779\n",
      "[241]\ttrain-mlogloss:0.18105\teval-mlogloss:0.12751\n",
      "[242]\ttrain-mlogloss:0.18082\teval-mlogloss:0.12726\n",
      "[243]\ttrain-mlogloss:0.18058\teval-mlogloss:0.12688\n",
      "[244]\ttrain-mlogloss:0.18032\teval-mlogloss:0.12660\n",
      "[245]\ttrain-mlogloss:0.18008\teval-mlogloss:0.12630\n",
      "[246]\ttrain-mlogloss:0.17961\teval-mlogloss:0.12571\n",
      "[247]\ttrain-mlogloss:0.17933\teval-mlogloss:0.12532\n",
      "[248]\ttrain-mlogloss:0.17907\teval-mlogloss:0.12494\n",
      "[249]\ttrain-mlogloss:0.17879\teval-mlogloss:0.12455\n",
      "[250]\ttrain-mlogloss:0.17853\teval-mlogloss:0.12419\n",
      "[251]\ttrain-mlogloss:0.17829\teval-mlogloss:0.12388\n",
      "[252]\ttrain-mlogloss:0.17805\teval-mlogloss:0.12355\n",
      "[253]\ttrain-mlogloss:0.17781\teval-mlogloss:0.12322\n",
      "[254]\ttrain-mlogloss:0.17757\teval-mlogloss:0.12289\n",
      "[255]\ttrain-mlogloss:0.17735\teval-mlogloss:0.12258\n",
      "[256]\ttrain-mlogloss:0.17711\teval-mlogloss:0.12224\n",
      "[257]\ttrain-mlogloss:0.17689\teval-mlogloss:0.12191\n",
      "[258]\ttrain-mlogloss:0.17666\teval-mlogloss:0.12160\n",
      "[259]\ttrain-mlogloss:0.17642\teval-mlogloss:0.12131\n",
      "[260]\ttrain-mlogloss:0.17621\teval-mlogloss:0.12108\n",
      "[261]\ttrain-mlogloss:0.17601\teval-mlogloss:0.12083\n",
      "[262]\ttrain-mlogloss:0.17579\teval-mlogloss:0.12059\n",
      "[263]\ttrain-mlogloss:0.17555\teval-mlogloss:0.12022\n",
      "[264]\ttrain-mlogloss:0.17532\teval-mlogloss:0.11989\n",
      "[265]\ttrain-mlogloss:0.17509\teval-mlogloss:0.11958\n",
      "[266]\ttrain-mlogloss:0.17491\teval-mlogloss:0.11928\n",
      "[267]\ttrain-mlogloss:0.17466\teval-mlogloss:0.11895\n",
      "[268]\ttrain-mlogloss:0.17450\teval-mlogloss:0.11871\n",
      "[269]\ttrain-mlogloss:0.17430\teval-mlogloss:0.11835\n",
      "[270]\ttrain-mlogloss:0.17411\teval-mlogloss:0.11807\n",
      "[271]\ttrain-mlogloss:0.17389\teval-mlogloss:0.11777\n",
      "[272]\ttrain-mlogloss:0.17371\teval-mlogloss:0.11750\n",
      "[273]\ttrain-mlogloss:0.17355\teval-mlogloss:0.11725\n",
      "[274]\ttrain-mlogloss:0.17334\teval-mlogloss:0.11695\n",
      "[275]\ttrain-mlogloss:0.17310\teval-mlogloss:0.11663\n",
      "[276]\ttrain-mlogloss:0.17289\teval-mlogloss:0.11632\n",
      "[277]\ttrain-mlogloss:0.17267\teval-mlogloss:0.11608\n",
      "[278]\ttrain-mlogloss:0.17246\teval-mlogloss:0.11585\n",
      "[279]\ttrain-mlogloss:0.17223\teval-mlogloss:0.11554\n",
      "[280]\ttrain-mlogloss:0.17204\teval-mlogloss:0.11529\n",
      "[281]\ttrain-mlogloss:0.17185\teval-mlogloss:0.11500\n",
      "[282]\ttrain-mlogloss:0.17167\teval-mlogloss:0.11476\n",
      "[283]\ttrain-mlogloss:0.17147\teval-mlogloss:0.11448\n",
      "[284]\ttrain-mlogloss:0.17132\teval-mlogloss:0.11427\n",
      "[285]\ttrain-mlogloss:0.17115\teval-mlogloss:0.11404\n",
      "[286]\ttrain-mlogloss:0.17094\teval-mlogloss:0.11376\n",
      "[287]\ttrain-mlogloss:0.17074\teval-mlogloss:0.11347\n",
      "[288]\ttrain-mlogloss:0.17057\teval-mlogloss:0.11324\n",
      "[289]\ttrain-mlogloss:0.17039\teval-mlogloss:0.11297\n",
      "[290]\ttrain-mlogloss:0.17021\teval-mlogloss:0.11270\n",
      "[291]\ttrain-mlogloss:0.16997\teval-mlogloss:0.11237\n",
      "[292]\ttrain-mlogloss:0.16978\teval-mlogloss:0.11211\n",
      "[293]\ttrain-mlogloss:0.16966\teval-mlogloss:0.11192\n",
      "[294]\ttrain-mlogloss:0.16948\teval-mlogloss:0.11168\n",
      "[295]\ttrain-mlogloss:0.16932\teval-mlogloss:0.11143\n",
      "[296]\ttrain-mlogloss:0.16915\teval-mlogloss:0.11117\n",
      "[297]\ttrain-mlogloss:0.16897\teval-mlogloss:0.11093\n",
      "[298]\ttrain-mlogloss:0.16880\teval-mlogloss:0.11067\n",
      "[299]\ttrain-mlogloss:0.16860\teval-mlogloss:0.11046\n"
     ]
    },
    {
     "name": "stderr",
     "output_type": "stream",
     "text": [
      "[I 2024-11-25 11:24:47,962] Trial 37 finished with value: 1.0 and parameters: {'lambda': 0.004396924966080832, 'alpha': 7.644746306121658e-05, 'eta': 0.010579592532582945, 'gamma': 0.1579371584217237, 'max_depth': 9, 'min_child_weight': 7, 'subsample': 0.9187874916851467, 'colsample_bytree': 0.8627296815565431}. Best is trial 0 with value: 1.0.\n"
     ]
    },
    {
     "name": "stdout",
     "output_type": "stream",
     "text": [
      "[0]\ttrain-mlogloss:1.05441\teval-mlogloss:1.05243\n",
      "[1]\ttrain-mlogloss:1.01788\teval-mlogloss:1.01564\n",
      "[2]\ttrain-mlogloss:0.97978\teval-mlogloss:0.97449\n",
      "[3]\ttrain-mlogloss:0.94389\teval-mlogloss:0.93647\n"
     ]
    },
    {
     "name": "stderr",
     "output_type": "stream",
     "text": [
      "[I 2024-11-25 11:24:48,066] Trial 38 pruned. Trial was pruned at iteration 4.\n"
     ]
    },
    {
     "name": "stdout",
     "output_type": "stream",
     "text": [
      "[0]\ttrain-mlogloss:0.87466\teval-mlogloss:0.86431\n",
      "[1]\ttrain-mlogloss:0.72847\teval-mlogloss:0.71357\n"
     ]
    },
    {
     "name": "stderr",
     "output_type": "stream",
     "text": [
      "[I 2024-11-25 11:24:48,161] Trial 39 pruned. Trial was pruned at iteration 1.\n"
     ]
    },
    {
     "name": "stdout",
     "output_type": "stream",
     "text": [
      "[0]\ttrain-mlogloss:1.02855\teval-mlogloss:1.02550\n",
      "[1]\ttrain-mlogloss:0.97175\teval-mlogloss:0.96893\n",
      "[2]\ttrain-mlogloss:0.91283\teval-mlogloss:0.90720\n",
      "[3]\ttrain-mlogloss:0.85941\teval-mlogloss:0.85173\n",
      "[4]\ttrain-mlogloss:0.80995\teval-mlogloss:0.80094\n"
     ]
    },
    {
     "name": "stderr",
     "output_type": "stream",
     "text": [
      "[I 2024-11-25 11:24:48,266] Trial 40 pruned. Trial was pruned at iteration 4.\n"
     ]
    },
    {
     "name": "stdout",
     "output_type": "stream",
     "text": [
      "[0]\ttrain-mlogloss:1.08194\teval-mlogloss:1.08127\n",
      "[1]\ttrain-mlogloss:1.06567\teval-mlogloss:1.06477\n",
      "[2]\ttrain-mlogloss:1.04972\teval-mlogloss:1.04800\n",
      "[3]\ttrain-mlogloss:1.03422\teval-mlogloss:1.03227\n",
      "[4]\ttrain-mlogloss:1.01904\teval-mlogloss:1.01670\n",
      "[5]\ttrain-mlogloss:1.00430\teval-mlogloss:1.00137\n",
      "[6]\ttrain-mlogloss:0.98989\teval-mlogloss:0.98634\n",
      "[7]\ttrain-mlogloss:0.97577\teval-mlogloss:0.97207\n",
      "[8]\ttrain-mlogloss:0.96184\teval-mlogloss:0.95778\n",
      "[9]\ttrain-mlogloss:0.94823\teval-mlogloss:0.94360\n",
      "[10]\ttrain-mlogloss:0.93494\teval-mlogloss:0.92967\n",
      "[11]\ttrain-mlogloss:0.92214\teval-mlogloss:0.91631\n",
      "[12]\ttrain-mlogloss:0.90955\teval-mlogloss:0.90297\n",
      "[13]\ttrain-mlogloss:0.89693\teval-mlogloss:0.89001\n",
      "[14]\ttrain-mlogloss:0.88460\teval-mlogloss:0.87721\n",
      "[15]\ttrain-mlogloss:0.87257\teval-mlogloss:0.86464\n"
     ]
    },
    {
     "name": "stderr",
     "output_type": "stream",
     "text": [
      "[I 2024-11-25 11:24:48,506] Trial 41 pruned. Trial was pruned at iteration 16.\n"
     ]
    },
    {
     "name": "stdout",
     "output_type": "stream",
     "text": [
      "[0]\ttrain-mlogloss:1.04654\teval-mlogloss:1.04389\n",
      "[1]\ttrain-mlogloss:0.99853\teval-mlogloss:0.99384\n"
     ]
    },
    {
     "name": "stderr",
     "output_type": "stream",
     "text": [
      "[I 2024-11-25 11:24:48,608] Trial 42 pruned. Trial was pruned at iteration 1.\n"
     ]
    },
    {
     "name": "stdout",
     "output_type": "stream",
     "text": [
      "[0]\ttrain-mlogloss:1.08165\teval-mlogloss:1.08131\n",
      "[1]\ttrain-mlogloss:1.06507\teval-mlogloss:1.06437\n",
      "[2]\ttrain-mlogloss:1.04896\teval-mlogloss:1.04737\n",
      "[3]\ttrain-mlogloss:1.03321\teval-mlogloss:1.03099\n",
      "[4]\ttrain-mlogloss:1.01787\teval-mlogloss:1.01505\n",
      "[5]\ttrain-mlogloss:1.00263\teval-mlogloss:0.99905\n",
      "[6]\ttrain-mlogloss:0.98794\teval-mlogloss:0.98363\n",
      "[7]\ttrain-mlogloss:0.97355\teval-mlogloss:0.96874\n",
      "[8]\ttrain-mlogloss:0.95953\teval-mlogloss:0.95439\n",
      "[9]\ttrain-mlogloss:0.94586\teval-mlogloss:0.94038\n",
      "[10]\ttrain-mlogloss:0.93238\teval-mlogloss:0.92632\n",
      "[11]\ttrain-mlogloss:0.91935\teval-mlogloss:0.91282\n",
      "[12]\ttrain-mlogloss:0.90651\teval-mlogloss:0.89931\n",
      "[13]\ttrain-mlogloss:0.89390\teval-mlogloss:0.88647\n",
      "[14]\ttrain-mlogloss:0.88144\teval-mlogloss:0.87348\n",
      "[15]\ttrain-mlogloss:0.86918\teval-mlogloss:0.86070\n"
     ]
    },
    {
     "name": "stderr",
     "output_type": "stream",
     "text": [
      "[I 2024-11-25 11:24:48,755] Trial 43 pruned. Trial was pruned at iteration 16.\n"
     ]
    },
    {
     "name": "stdout",
     "output_type": "stream",
     "text": [
      "[0]\ttrain-mlogloss:0.85285\teval-mlogloss:0.84685\n"
     ]
    },
    {
     "name": "stderr",
     "output_type": "stream",
     "text": [
      "[I 2024-11-25 11:24:48,857] Trial 44 pruned. Trial was pruned at iteration 1.\n"
     ]
    },
    {
     "name": "stdout",
     "output_type": "stream",
     "text": [
      "[0]\ttrain-mlogloss:0.81463\teval-mlogloss:0.80263\n",
      "[1]\ttrain-mlogloss:0.63460\teval-mlogloss:0.61432\n"
     ]
    },
    {
     "name": "stderr",
     "output_type": "stream",
     "text": [
      "[I 2024-11-25 11:24:48,955] Trial 45 pruned. Trial was pruned at iteration 1.\n"
     ]
    },
    {
     "name": "stdout",
     "output_type": "stream",
     "text": [
      "[0]\ttrain-mlogloss:0.91548\teval-mlogloss:0.90799\n",
      "[1]\ttrain-mlogloss:0.77575\teval-mlogloss:0.76228\n"
     ]
    },
    {
     "name": "stderr",
     "output_type": "stream",
     "text": [
      "[I 2024-11-25 11:24:49,055] Trial 46 pruned. Trial was pruned at iteration 1.\n"
     ]
    },
    {
     "name": "stdout",
     "output_type": "stream",
     "text": [
      "[0]\ttrain-mlogloss:0.76550\teval-mlogloss:0.75724\n",
      "[1]\ttrain-mlogloss:0.57368\teval-mlogloss:0.54657\n"
     ]
    },
    {
     "name": "stderr",
     "output_type": "stream",
     "text": [
      "[I 2024-11-25 11:24:49,212] Trial 47 pruned. Trial was pruned at iteration 1.\n"
     ]
    },
    {
     "name": "stdout",
     "output_type": "stream",
     "text": [
      "[0]\ttrain-mlogloss:1.00516\teval-mlogloss:1.00075\n"
     ]
    },
    {
     "name": "stderr",
     "output_type": "stream",
     "text": [
      "[I 2024-11-25 11:24:49,313] Trial 48 pruned. Trial was pruned at iteration 1.\n"
     ]
    },
    {
     "name": "stdout",
     "output_type": "stream",
     "text": [
      "[0]\ttrain-mlogloss:1.05819\teval-mlogloss:1.05646\n",
      "[1]\ttrain-mlogloss:1.02393\teval-mlogloss:1.02204\n",
      "[2]\ttrain-mlogloss:0.98741\teval-mlogloss:0.98335\n",
      "[3]\ttrain-mlogloss:0.95335\teval-mlogloss:0.94892\n"
     ]
    },
    {
     "name": "stderr",
     "output_type": "stream",
     "text": [
      "[I 2024-11-25 11:24:49,422] Trial 49 pruned. Trial was pruned at iteration 4.\n"
     ]
    },
    {
     "name": "stdout",
     "output_type": "stream",
     "text": [
      "Best trial: {'lambda': 0.1862281922948573, 'alpha': 0.0002686829395108523, 'eta': 0.2010747597313131, 'gamma': 1.8671245320624107e-07, 'max_depth': 9, 'min_child_weight': 4, 'subsample': 0.7537517770115805, 'colsample_bytree': 0.9625969913585541}\n",
      "Best accuracy: 1.0\n"
     ]
    }
   ],
   "source": [
    "import optuna\n",
    "import xgboost as xgb\n",
    "from sklearn.model_selection import train_test_split\n",
    "from sklearn.datasets import load_iris\n",
    "from sklearn.metrics import accuracy_score\n",
    "import numpy as np\n",
    "\n",
    "# Load the Iris dataset\n",
    "X, y = load_iris(return_X_y=True)\n",
    "\n",
    "# Split the dataset into training and test sets\n",
    "X_train, X_test, y_train, y_test = train_test_split(X, y, test_size=0.2, random_state=42)\n",
    "\n",
    "# Define the objective function for XGBoost\n",
    "def objective(trial):\n",
    "    # Hyperparameter search space\n",
    "    param = {\n",
    "        'verbosity': 0,\n",
    "        'objective': 'multi:softprob',\n",
    "        'num_class': 3,\n",
    "        'eval_metric': 'mlogloss',  # Ensure that the eval_metric is specified here\n",
    "        'booster': 'gbtree',\n",
    "        'lambda': trial.suggest_float('lambda', 1e-8, 1.0, log=True),\n",
    "        'alpha': trial.suggest_float('alpha', 1e-8, 1.0, log=True),\n",
    "        'eta': trial.suggest_float('eta', 0.01, 0.3),\n",
    "        'gamma': trial.suggest_float('gamma', 1e-8, 1.0, log=True),\n",
    "        'max_depth': trial.suggest_int('max_depth', 3, 9),\n",
    "        'min_child_weight': trial.suggest_int('min_child_weight', 1, 10),\n",
    "        'subsample': trial.suggest_float('subsample', 0.4, 1.0),\n",
    "        'colsample_bytree': trial.suggest_float('colsample_bytree', 0.4, 1.0),\n",
    "        'n_estimators': 300,\n",
    "    }\n",
    "\n",
    "    # Create DMatrix for XGBoost\n",
    "    dtrain = xgb.DMatrix(X_train, label=y_train)\n",
    "    dtest = xgb.DMatrix(X_test, label=y_test)\n",
    "\n",
    "    # Define a pruning callback based on evaluation metrics\n",
    "    pruning_callback = optuna.integration.XGBoostPruningCallback(trial, \"eval-mlogloss\")  # Match the metric name in the evals list\n",
    "\n",
    "    # Train the model\n",
    "    bst = xgb.train(\n",
    "        param,\n",
    "        dtrain,\n",
    "        num_boost_round=300,\n",
    "        evals=[(dtrain, \"train\"), (dtest, \"eval\")],  # Ensure the eval datasets and names are specified\n",
    "        early_stopping_rounds=30,\n",
    "        callbacks=[pruning_callback]\n",
    "    )\n",
    "\n",
    "    # Predict on the test set\n",
    "    preds = bst.predict(dtest)\n",
    "    best_preds = [int(np.argmax(line)) for line in preds]\n",
    "\n",
    "    # Return accuracy as the objective value\n",
    "    accuracy = accuracy_score(y_test, best_preds)\n",
    "    return accuracy\n",
    "\n",
    "# Create a study with pruning\n",
    "study = optuna.create_study(direction='maximize', pruner=optuna.pruners.SuccessiveHalvingPruner())\n",
    "study.optimize(objective, n_trials=50)\n",
    "\n",
    "# Output the best trial\n",
    "print(f\"Best trial: {study.best_trial.params}\")\n",
    "print(f\"Best accuracy: {study.best_value}\")\n"
   ]
  },
  {
   "cell_type": "code",
   "execution_count": 36,
   "metadata": {
    "colab": {
     "base_uri": "https://localhost:8080/",
     "height": 542
    },
    "id": "TkIG5Cf6SoZ_",
    "outputId": "c9a5efa3-84a8-4d38-fe48-3a1fd6422f76"
   },
   "outputs": [
    {
     "data": {
      "application/vnd.plotly.v1+json": {
       "config": {
        "plotlyServerURL": "https://plot.ly"
       },
       "data": [
        {
         "marker": {
          "maxdisplayed": 10
         },
         "mode": "lines+markers",
         "name": "Trial0",
         "type": "scatter",
         "x": [
          0,
          1,
          2,
          3,
          4,
          5,
          6,
          7,
          8,
          9,
          10,
          11,
          12,
          13,
          14,
          15,
          16,
          17,
          18,
          19,
          20,
          21,
          22,
          23,
          24,
          25,
          26,
          27,
          28,
          29,
          30,
          31,
          32,
          33,
          34,
          35,
          36,
          37,
          38,
          39,
          40,
          41,
          42,
          43,
          44,
          45,
          46,
          47,
          48,
          49,
          50,
          51,
          52,
          53,
          54,
          55,
          56,
          57,
          58,
          59,
          60,
          61,
          62,
          63,
          64,
          65,
          66,
          67,
          68,
          69,
          70,
          71,
          72,
          73,
          74,
          75,
          76,
          77,
          78,
          79,
          80,
          81,
          82,
          83,
          84,
          85,
          86,
          87,
          88,
          89,
          90,
          91,
          92,
          93,
          94,
          95,
          96
         ],
         "y": [
          0.8398426711559296,
          0.6603150606155396,
          0.5292856266101201,
          0.4327229857444763,
          0.3556714475154877,
          0.28972267508506777,
          0.24174111386140187,
          0.20416472603877386,
          0.17436237881580988,
          0.15091066658496857,
          0.1279704009493192,
          0.11233509878317514,
          0.09628326098124186,
          0.08639526205758254,
          0.0842191385726134,
          0.07914763490358988,
          0.07507061300178369,
          0.0720124556372563,
          0.06808053677280744,
          0.06583511456847191,
          0.06478273905813695,
          0.06442809961736203,
          0.06269068320592244,
          0.06370546873658896,
          0.06275421275446812,
          0.06303871621688208,
          0.06301295508941014,
          0.06291448461512725,
          0.06228013237317403,
          0.06138757231334845,
          0.0626412320882082,
          0.06183911580592394,
          0.06274491896231969,
          0.06031898440172275,
          0.06078336015343666,
          0.05913942983994881,
          0.05893980388840039,
          0.05883212766299645,
          0.05885088779032231,
          0.05901667357732852,
          0.05958174970000982,
          0.05952778669695059,
          0.05861980685343345,
          0.05835070852190256,
          0.05805082985510428,
          0.05865267465511958,
          0.05983078101028998,
          0.05937528647482395,
          0.05947455217440923,
          0.05946787899980942,
          0.05843121949583292,
          0.05626749613632758,
          0.05560876137266556,
          0.05572749444593986,
          0.05611323329309623,
          0.05459443411479394,
          0.05466162494073312,
          0.05407741491993268,
          0.05349339991807937,
          0.05353882014751434,
          0.05378028688331445,
          0.05269684462497632,
          0.0530709999303023,
          0.05200737155973911,
          0.05181828793138266,
          0.05170638790975014,
          0.05147365952531497,
          0.05148028451949358,
          0.05239549241960049,
          0.05261484378327926,
          0.05263399723917246,
          0.05259595842411121,
          0.05229298795262972,
          0.0525707404439648,
          0.05295626409351826,
          0.05267971996217966,
          0.0523181604842345,
          0.05278257907678684,
          0.0532171714430054,
          0.05272936889280876,
          0.05262535164753596,
          0.05296733739475409,
          0.05234505701810122,
          0.0524022218460838,
          0.0528201852614681,
          0.05317978598177433,
          0.05299899528423945,
          0.05350149224201838,
          0.05360225439071655,
          0.05347837954759598,
          0.05371226376543443,
          0.05429354341079792,
          0.05382684047023455,
          0.05335236036529144,
          0.05285033714026213,
          0.05279906677703063,
          0.05237524012724559
         ]
        },
        {
         "marker": {
          "maxdisplayed": 10
         },
         "mode": "lines+markers",
         "name": "Trial1",
         "type": "scatter",
         "x": [
          0,
          1,
          2,
          3,
          4,
          5,
          6,
          7,
          8,
          9,
          10,
          11,
          12,
          13,
          14,
          15,
          16,
          17,
          18,
          19,
          20,
          21,
          22,
          23,
          24,
          25,
          26,
          27,
          28,
          29,
          30,
          31,
          32,
          33,
          34,
          35,
          36,
          37,
          38,
          39,
          40,
          41,
          42,
          43,
          44,
          45,
          46,
          47,
          48,
          49,
          50,
          51,
          52,
          53,
          54,
          55,
          56,
          57,
          58,
          59,
          60,
          61,
          62,
          63,
          64,
          65,
          66,
          67,
          68,
          69,
          70,
          71,
          72,
          73,
          74,
          75,
          76,
          77,
          78,
          79,
          80,
          81,
          82,
          83,
          84,
          85,
          86,
          87,
          88,
          89,
          90,
          91,
          92,
          93,
          94,
          95,
          96,
          97,
          98,
          99,
          100,
          101,
          102,
          103,
          104,
          105,
          106,
          107,
          108,
          109,
          110,
          111,
          112,
          113,
          114,
          115,
          116,
          117,
          118,
          119,
          120,
          121,
          122,
          123,
          124,
          125,
          126,
          127,
          128,
          129,
          130,
          131,
          132,
          133,
          134,
          135,
          136,
          137,
          138,
          139,
          140,
          141,
          142,
          143,
          144,
          145,
          146,
          147,
          148,
          149,
          150,
          151,
          152,
          153,
          154,
          155,
          156,
          157,
          158,
          159,
          160,
          161,
          162,
          163,
          164,
          165,
          166,
          167,
          168,
          169,
          170,
          171,
          172,
          173,
          174,
          175,
          176,
          177,
          178,
          179,
          180,
          181,
          182,
          183,
          184,
          185,
          186,
          187,
          188,
          189
         ],
         "y": [
          0.7263318101565043,
          0.5408297081788381,
          0.3975181688865026,
          0.30434452891349795,
          0.2492924119035403,
          0.2035192847251892,
          0.19883523732423783,
          0.19894813895225524,
          0.1818927804629008,
          0.1700624257326126,
          0.17042507976293564,
          0.1703162024418513,
          0.16747397035360337,
          0.1672605444987615,
          0.16656219412883122,
          0.16641063491503397,
          0.1660136123498281,
          0.16604703068733215,
          0.1664503092567126,
          0.1667161817351977,
          0.16651442100604374,
          0.16587494413057963,
          0.16580596019824345,
          0.16535517821709314,
          0.16512972662846248,
          0.16321145047744115,
          0.16329112276434898,
          0.16318495223919552,
          0.16328192899624508,
          0.16342585037151972,
          0.16335264866550764,
          0.1629953275124232,
          0.1629865974187851,
          0.15869191711147626,
          0.1588684931397438,
          0.1589117613931497,
          0.15898580029606818,
          0.1588967060049375,
          0.1591463044285774,
          0.15929051886002224,
          0.15934982374310494,
          0.15927496254444123,
          0.15742420280973116,
          0.156839669495821,
          0.1559414746860663,
          0.15567719886700312,
          0.15567139213283857,
          0.1456348163386186,
          0.1457513521114985,
          0.145771570255359,
          0.14577185437083245,
          0.1458099310596784,
          0.14589169919490813,
          0.1459898240864277,
          0.14587276925643286,
          0.14572027797500292,
          0.14587958082556723,
          0.14522957503795625,
          0.14535191679994267,
          0.14525407155354816,
          0.1454863205552101,
          0.14548813949028652,
          0.1454297758638859,
          0.1451315147181352,
          0.14518919189771015,
          0.1451341139773528,
          0.14511828670899074,
          0.14508091062307357,
          0.14627362713217734,
          0.1463291625181834,
          0.14637432470917702,
          0.14616381004452705,
          0.1460968179007371,
          0.14636427809794744,
          0.14653740227222442,
          0.14632976079980534,
          0.14623472889264424,
          0.14597423697511355,
          0.1460142195224762,
          0.14497358103593191,
          0.14494815667470295,
          0.14516497602065404,
          0.14442024206121762,
          0.14433598890900612,
          0.14432362044850985,
          0.1449751319984595,
          0.1445015291372935,
          0.14442042782902717,
          0.14446454520026844,
          0.1445052576561769,
          0.14452450821797053,
          0.1448038359483083,
          0.14490440338850022,
          0.14461632470289867,
          0.1446574479341507,
          0.14436453754703205,
          0.14428485756119092,
          0.14454708769917488,
          0.14471769506732624,
          0.14434512505928676,
          0.14451182186603545,
          0.14475899015863736,
          0.1443275737265746,
          0.14435716370741528,
          0.1444653722147147,
          0.14439384664098423,
          0.1445551040271918,
          0.14422784025470417,
          0.1439067892730236,
          0.1440666486819585,
          0.14430952096978825,
          0.14423817818363507,
          0.14413473134239516,
          0.14392371227343878,
          0.14387381772200267,
          0.14388800486922265,
          0.14422139376401902,
          0.14399281094471614,
          0.14444684783617656,
          0.14417522450288137,
          0.1442357751230399,
          0.14432704995075862,
          0.14428109402457873,
          0.14396539703011513,
          0.14427909726897875,
          0.14407508447766304,
          0.14417894557118416,
          0.14388216411074004,
          0.14372822095950444,
          0.14355577379465104,
          0.143750740836064,
          0.14389996752142906,
          0.14374825482567152,
          0.14396197646856307,
          0.14386236295104027,
          0.14377910494804383,
          0.14370635574062665,
          0.1438054176668326,
          0.1437198442717393,
          0.14389498482147853,
          0.14398992384473483,
          0.14402604723970094,
          0.1442043073475361,
          0.14395612453420956,
          0.14325111856063208,
          0.1435474711159865,
          0.14363003397981325,
          0.14361363823215167,
          0.1437686115503311,
          0.1438325899342696,
          0.14394113744298617,
          0.1434970128039519,
          0.14384887839357058,
          0.14341919620831808,
          0.14353131577372552,
          0.14123658662041028,
          0.14108531177043915,
          0.14088585649927457,
          0.140852469454209,
          0.14057524303595226,
          0.140749791264534,
          0.14071106736858685,
          0.1409055545926094,
          0.14105681826670965,
          0.14076434895396234,
          0.14086627711852392,
          0.14095048407713573,
          0.14097894355654716,
          0.14099439879258474,
          0.14135981152455013,
          0.14120269964138668,
          0.1414646176000436,
          0.14108880882461866,
          0.14132340475916863,
          0.1415819416443507,
          0.1413639781375726,
          0.14136194388071696,
          0.14119990145166714,
          0.14109454900026322,
          0.14096226940552395,
          0.14082508956392606,
          0.14087010249495507,
          0.14064419642090797,
          0.14061195279161134,
          0.1406654546658198,
          0.14081067244211834,
          0.14090912888447443,
          0.14097049906849862,
          0.14109524860978126,
          0.14106526946028072
         ]
        },
        {
         "marker": {
          "maxdisplayed": 10
         },
         "mode": "lines+markers",
         "name": "Trial2",
         "type": "scatter",
         "x": [
          0,
          1,
          2,
          3,
          4,
          5,
          6,
          7,
          8,
          9,
          10,
          11,
          12,
          13,
          14,
          15,
          16,
          17,
          18,
          19,
          20,
          21,
          22,
          23,
          24,
          25,
          26,
          27,
          28,
          29,
          30,
          31,
          32,
          33,
          34,
          35,
          36,
          37,
          38,
          39,
          40,
          41,
          42,
          43,
          44,
          45,
          46,
          47,
          48,
          49,
          50,
          51,
          52,
          53,
          54,
          55,
          56,
          57,
          58,
          59,
          60,
          61,
          62,
          63,
          64
         ],
         "y": [
          0.7692644675572713,
          0.5681526243686676,
          0.4274066905180613,
          0.3509157548348109,
          0.27695196171601616,
          0.2146541714668274,
          0.18890273422002793,
          0.18882870475451152,
          0.18376790781815847,
          0.17384019891421001,
          0.1751810799042384,
          0.17585083196560541,
          0.1725455751021703,
          0.1719794288277626,
          0.17128271808226903,
          0.17114949822425843,
          0.17015871057907742,
          0.17012714892625808,
          0.17168998817602793,
          0.1651876002550125,
          0.1637021521727244,
          0.16311742961406708,
          0.15269923955202103,
          0.15200508038202923,
          0.15094707086682319,
          0.15088592146833738,
          0.15046041160821916,
          0.1504966234167417,
          0.14960146298011143,
          0.1497268224755923,
          0.1497654562195142,
          0.14154504612088203,
          0.1415505031744639,
          0.137493139008681,
          0.1373996744553248,
          0.13747833495338757,
          0.13752451191345852,
          0.13720797474185625,
          0.13703536068399746,
          0.13712802554170292,
          0.13708425809939703,
          0.1371433195968469,
          0.13706067924698193,
          0.13596587429443996,
          0.13613723069429398,
          0.13581640248497326,
          0.1355126549800237,
          0.13548615897695224,
          0.13545758028825125,
          0.13546176105737687,
          0.13543827310204506,
          0.1355400490264098,
          0.13555825849374134,
          0.13587192247311275,
          0.13463291078805922,
          0.13468943958481153,
          0.13473658487200738,
          0.13509930471579235,
          0.13527477433284124,
          0.1350288562476635,
          0.13480900824069977,
          0.13266850337386132,
          0.1322306640446186,
          0.13219574615359306,
          0.13219464321931204
         ]
        },
        {
         "marker": {
          "maxdisplayed": 10
         },
         "mode": "lines+markers",
         "name": "Trial3",
         "type": "scatter",
         "x": [
          0,
          1,
          2,
          3,
          4,
          5,
          6,
          7,
          8,
          9,
          10,
          11,
          12,
          13,
          14,
          15,
          16,
          17,
          18,
          19,
          20,
          21,
          22,
          23,
          24,
          25,
          26,
          27,
          28,
          29,
          30,
          31,
          32,
          33,
          34,
          35,
          36,
          37,
          38,
          39,
          40,
          41,
          42,
          43,
          44,
          45,
          46,
          47,
          48,
          49,
          50,
          51,
          52,
          53,
          54,
          55,
          56,
          57,
          58,
          59,
          60,
          61,
          62,
          63,
          64
         ],
         "y": [
          1.0148688356081645,
          0.9509833117326101,
          0.8821630597114563,
          0.8209357360998789,
          0.7672607084115346,
          0.716918557882309,
          0.6775739252567291,
          0.6452125787734986,
          0.6050013760725658,
          0.5673737585544586,
          0.5327296286821366,
          0.5020335723956426,
          0.47210238575935365,
          0.4517216404279073,
          0.434747185309728,
          0.41060648957888285,
          0.3931224912405014,
          0.37075463434060413,
          0.3505471418301264,
          0.33041215538978574,
          0.31238867392142616,
          0.2977958997090658,
          0.2819072291254997,
          0.2698621486624082,
          0.25593705972035724,
          0.24688668698072433,
          0.23729847023884457,
          0.22982068111499152,
          0.21732776413361232,
          0.20647623787323635,
          0.19606561909119288,
          0.18889511078596116,
          0.18085183923443157,
          0.17590940867861113,
          0.16859232957164447,
          0.16218102698524792,
          0.15488610292474428,
          0.14722249209880828,
          0.14165134752790134,
          0.13874385903278988,
          0.1346946984529495,
          0.13160789733131725,
          0.12792296459277472,
          0.12487104286750157,
          0.12175717006127039,
          0.11945716266830762,
          0.11767209420601527,
          0.11594177410006523,
          0.11436660016576448,
          0.1131928212940693,
          0.11102048208316168,
          0.10957398836811384,
          0.10786374087134996,
          0.10687190641959508,
          0.10534979676206907,
          0.10428225596745809,
          0.1028298464914163,
          0.10122315548360347,
          0.10123908879856268,
          0.10020236298441887,
          0.09898075324793656,
          0.0988732231160005,
          0.09889550271133582,
          0.09797694496810436,
          0.09794391132891178
         ]
        },
        {
         "marker": {
          "maxdisplayed": 10
         },
         "mode": "lines+markers",
         "name": "Trial4",
         "type": "scatter",
         "x": [
          0,
          1
         ],
         "y": [
          0.8922902246316274,
          0.6953186094760895
         ]
        },
        {
         "marker": {
          "maxdisplayed": 10
         },
         "mode": "lines+markers",
         "name": "Trial5",
         "type": "scatter",
         "x": [
          0,
          1
         ],
         "y": [
          0.8475933929284414,
          0.6701693137486776
         ]
        },
        {
         "marker": {
          "maxdisplayed": 10
         },
         "mode": "lines+markers",
         "name": "Trial6",
         "type": "scatter",
         "x": [
          0,
          1
         ],
         "y": [
          0.9731692095597585,
          0.8829112748305002
         ]
        },
        {
         "marker": {
          "maxdisplayed": 10
         },
         "mode": "lines+markers",
         "name": "Trial7",
         "type": "scatter",
         "x": [
          0,
          1,
          2,
          3,
          4,
          5,
          6,
          7,
          8,
          9,
          10,
          11,
          12,
          13,
          14,
          15,
          16,
          17,
          18,
          19,
          20,
          21,
          22,
          23,
          24,
          25,
          26,
          27,
          28,
          29,
          30,
          31,
          32,
          33,
          34,
          35,
          36,
          37,
          38,
          39,
          40,
          41,
          42,
          43,
          44,
          45,
          46,
          47,
          48,
          49,
          50,
          51,
          52,
          53,
          54,
          55,
          56,
          57,
          58,
          59,
          60,
          61,
          62,
          63,
          64,
          65,
          66,
          67,
          68,
          69,
          70,
          71,
          72,
          73,
          74,
          75,
          76,
          77,
          78,
          79,
          80,
          81,
          82,
          83,
          84,
          85,
          86,
          87,
          88,
          89,
          90,
          91,
          92,
          93,
          94,
          95,
          96,
          97,
          98,
          99,
          100,
          101,
          102,
          103,
          104,
          105,
          106,
          107,
          108,
          109,
          110,
          111,
          112,
          113,
          114,
          115,
          116,
          117,
          118,
          119,
          120,
          121,
          122,
          123,
          124,
          125,
          126,
          127,
          128,
          129,
          130,
          131,
          132,
          133,
          134,
          135,
          136,
          137,
          138,
          139,
          140,
          141,
          142,
          143,
          144,
          145,
          146,
          147,
          148,
          149,
          150,
          151,
          152,
          153,
          154,
          155,
          156,
          157,
          158,
          159,
          160,
          161,
          162,
          163,
          164,
          165,
          166,
          167,
          168,
          169,
          170,
          171,
          172,
          173,
          174,
          175,
          176,
          177,
          178,
          179,
          180,
          181,
          182,
          183,
          184,
          185,
          186,
          187,
          188,
          189,
          190,
          191,
          192,
          193,
          194,
          195,
          196,
          197,
          198,
          199,
          200,
          201,
          202,
          203,
          204,
          205,
          206,
          207,
          208,
          209,
          210,
          211,
          212,
          213,
          214,
          215,
          216,
          217,
          218,
          219,
          220,
          221,
          222,
          223,
          224,
          225,
          226,
          227,
          228,
          229,
          230,
          231,
          232,
          233,
          234,
          235,
          236,
          237,
          238,
          239,
          240,
          241,
          242,
          243,
          244,
          245,
          246,
          247,
          248,
          249,
          250,
          251,
          252,
          253,
          254,
          255,
          256,
          257,
          258,
          259,
          260,
          261,
          262,
          263,
          264,
          265,
          266,
          267,
          268,
          269,
          270,
          271,
          272,
          273,
          274,
          275,
          276,
          277,
          278,
          279,
          280,
          281,
          282,
          283,
          284,
          285,
          286,
          287,
          288,
          289,
          290,
          291,
          292,
          293,
          294,
          295,
          296,
          297,
          298,
          299
         ],
         "y": [
          1.0577004313468934,
          1.0228627840677897,
          0.9845927755037943,
          0.9507439017295838,
          0.9183855990568797,
          0.8852385640144348,
          0.8577247520287832,
          0.8349361479282379,
          0.8068175196647644,
          0.780153489112854,
          0.7546975771586101,
          0.7305809756120046,
          0.7069214701652526,
          0.6891220966974895,
          0.672792665163676,
          0.6519253691037495,
          0.6361970702807108,
          0.6165604432423909,
          0.5974361439545949,
          0.5791871925195058,
          0.5614525119463603,
          0.5464767128229141,
          0.5298945963382721,
          0.5162734697262447,
          0.5014076719681422,
          0.49038543105125426,
          0.47893489301204684,
          0.4672739525636037,
          0.453725329041481,
          0.44002453486124676,
          0.42730335692564647,
          0.4169648210207621,
          0.40505575040976205,
          0.39859870076179504,
          0.3874557594458262,
          0.37749785582224527,
          0.3670369178056717,
          0.35619307557741803,
          0.34712691406408946,
          0.34013699889183047,
          0.33330962955951693,
          0.3245516965786616,
          0.3156745960315069,
          0.30766467104355494,
          0.2989787553747495,
          0.29159842630227406,
          0.2846700285871824,
          0.27838010241587957,
          0.2722693016131719,
          0.2661861255764961,
          0.25878472328186036,
          0.25167614916960396,
          0.24512471357981364,
          0.23930824945370358,
          0.23525505512952805,
          0.22960117956002554,
          0.22510617673397065,
          0.21928856521844864,
          0.21373360554377238,
          0.20843190600474676,
          0.20361140817403794,
          0.19982879906892775,
          0.19609419852495194,
          0.19154706100622812,
          0.18658152570327122,
          0.18247307961185774,
          0.17838889360427856,
          0.1736522597571214,
          0.17183895135919253,
          0.16835883483290673,
          0.16553355107704798,
          0.16142801195383072,
          0.15876654982566835,
          0.15534637967745463,
          0.1530027888715267,
          0.15126141359408696,
          0.14811960781613986,
          0.14614589512348175,
          0.14290374914805096,
          0.1400386467576027,
          0.13788794403274854,
          0.13491906002163886,
          0.1321909909447034,
          0.1296947511533896,
          0.12760119463006656,
          0.1250729354719321,
          0.12255253940820694,
          0.12038292561968168,
          0.11799727057417234,
          0.11552445491154989,
          0.11390326619148254,
          0.11108172809084256,
          0.10877202078700066,
          0.10661603696644306,
          0.1052988580117623,
          0.1034140103807052,
          0.10227733540038268,
          0.1005555177728335,
          0.09900828450918198,
          0.09755166818698248,
          0.0958044475565354,
          0.09451356455683708,
          0.09332886959115665,
          0.09214823407431444,
          0.09092345821360746,
          0.09008464850485325,
          0.08925103644529979,
          0.0889894250780344,
          0.08862794352074464,
          0.087815647944808,
          0.08730933790405591,
          0.08674938802917799,
          0.08563160859048366,
          0.08550509139895439,
          0.08492637214561304,
          0.08455654668311278,
          0.08421402499079704,
          0.08434827377398808,
          0.08343030139803886,
          0.08270391548673311,
          0.08272248841822147,
          0.08257450933257739,
          0.08232309222221375,
          0.08166943751275539,
          0.08136490720013777,
          0.08082437813282013,
          0.08042620619138081,
          0.07976225602130095,
          0.07966643621524175,
          0.07974044121801853,
          0.07892719817658266,
          0.07850098585089048,
          0.07787737970550855,
          0.07801286789278189,
          0.07774309118588765,
          0.07781134856243928,
          0.07716518007218838,
          0.0768306535979112,
          0.07644866059223811,
          0.07615867368876934,
          0.07572637125849724,
          0.07545338918765386,
          0.07549769182999928,
          0.07499652504920959,
          0.07495138756930828,
          0.07467908449470997,
          0.07420978421966234,
          0.07365239684780439,
          0.07304492524514596,
          0.07249940981467565,
          0.0724370381484429,
          0.07204216687629621,
          0.07214401215314865,
          0.07173437221596639,
          0.0713244382912914,
          0.07121185815582673,
          0.0708562013382713,
          0.07081602724889914,
          0.07047481971482436,
          0.07001535246769587,
          0.06954246244082848,
          0.06937078541765611,
          0.0694861192877094,
          0.06917294667412838,
          0.069237413816154,
          0.0687678383042415,
          0.06829777763535579,
          0.06810300219804048,
          0.06813250680764517,
          0.06772427049775918,
          0.0678059222176671,
          0.06795472080508867,
          0.06780412315080563,
          0.06797314224143823,
          0.06752151772379875,
          0.06748546088735262,
          0.06700231917202473,
          0.06673949267715215,
          0.06644421989719072,
          0.066168395926555,
          0.06596783188482126,
          0.06601746225108703,
          0.06573434751480818,
          0.06556181032210588,
          0.06542250749965509,
          0.06527428279320399,
          0.06495932756612698,
          0.0647725115219752,
          0.06450940805176894,
          0.0644452137251695,
          0.0645547299956282,
          0.06461274810135365,
          0.06458831131458283,
          0.06427767649292945,
          0.06419118270277976,
          0.06398808378726244,
          0.06382716620961824,
          0.06365469607214133,
          0.06373761041710774,
          0.063460038912793,
          0.06324963048100471,
          0.06320519478370747,
          0.0633196350807945,
          0.06326963032285372,
          0.06340821820000807,
          0.06306078415364028,
          0.0631774869437019,
          0.0631980866814653,
          0.06305316556245089,
          0.06296720101187626,
          0.06288510672748089,
          0.06284121156980595,
          0.06273269578814507,
          0.06249531848977009,
          0.06263030481835206,
          0.06245945580303669,
          0.06242679779728254,
          0.06215665408720573,
          0.06211678137381871,
          0.06207959024856488,
          0.06186841291685899,
          0.06182290793706973,
          0.06188440298040708,
          0.06178849712014198,
          0.06171560926983754,
          0.06177040276428063,
          0.06163858622312546,
          0.06168686753759781,
          0.06182280232508977,
          0.06151303369551897,
          0.06130728839586178,
          0.06138441401223341,
          0.06126042474061251,
          0.06117532917608817,
          0.06101801798989375,
          0.06103038862347603,
          0.06062150634825229,
          0.06051550700018803,
          0.06039964289714893,
          0.0603307930752635,
          0.06032022225360076,
          0.06042796596884727,
          0.06046840641647577,
          0.06014950238168239,
          0.0601323876529932,
          0.06003522252043089,
          0.06001086011528969,
          0.0599610835313797,
          0.05972865714381138,
          0.05983903569479784,
          0.05990466785927614,
          0.05983181664099296,
          0.05957732759416103,
          0.05951856803148985,
          0.05958976714561383,
          0.05926360680411259,
          0.05928737558424473,
          0.0590886967877547,
          0.05889030161003272,
          0.05878474929680427,
          0.05874700242032607,
          0.05886453340450923,
          0.05891886322448651,
          0.0586180712406834,
          0.05838236759106318,
          0.05856600316862266,
          0.05853947593520085,
          0.05850685524443786,
          0.05846552470078071,
          0.05807090730716784,
          0.05811879547933738,
          0.05835329194863637,
          0.05832931138575077,
          0.05842744037508964,
          0.05837587962547938,
          0.05837066744764646,
          0.05823990255594254,
          0.05820948537439108,
          0.05796075699230035,
          0.0579103780289491,
          0.05788640261938174,
          0.05799464645485083,
          0.05794671066105365,
          0.0579290218030413,
          0.05789186762024959,
          0.05783714155356089,
          0.05757533740252256,
          0.05759870428591966,
          0.05757849638660749,
          0.05753439888358116,
          0.05748173041890065,
          0.05746547374874354,
          0.05753099837650855,
          0.0574757864077886,
          0.0573798293247819,
          0.05730243188639482,
          0.05727297322203716,
          0.05727092207719883,
          0.05695166618873675,
          0.05691058877855539
         ]
        },
        {
         "marker": {
          "maxdisplayed": 10
         },
         "mode": "lines+markers",
         "name": "Trial8",
         "type": "scatter",
         "x": [
          0,
          1
         ],
         "y": [
          0.8498936533927918,
          0.6983543634414673
         ]
        },
        {
         "marker": {
          "maxdisplayed": 10
         },
         "mode": "lines+markers",
         "name": "Trial9",
         "type": "scatter",
         "x": [
          0,
          1,
          2,
          3,
          4,
          5,
          6,
          7,
          8,
          9,
          10,
          11,
          12,
          13,
          14,
          15,
          16,
          17,
          18,
          19,
          20,
          21,
          22,
          23,
          24,
          25,
          26,
          27,
          28,
          29,
          30,
          31,
          32,
          33,
          34,
          35,
          36,
          37,
          38,
          39,
          40,
          41,
          42,
          43,
          44,
          45,
          46,
          47,
          48,
          49,
          50,
          51,
          52,
          53,
          54,
          55,
          56,
          57,
          58,
          59,
          60,
          61,
          62,
          63,
          64,
          65,
          66,
          67,
          68,
          69,
          70,
          71,
          72,
          73,
          74,
          75,
          76,
          77,
          78,
          79,
          80,
          81,
          82,
          83,
          84,
          85,
          86,
          87,
          88,
          89,
          90,
          91,
          92,
          93,
          94,
          95,
          96,
          97,
          98,
          99,
          100,
          101,
          102,
          103,
          104,
          105,
          106,
          107,
          108,
          109,
          110,
          111,
          112,
          113,
          114,
          115,
          116,
          117,
          118,
          119,
          120,
          121,
          122,
          123,
          124,
          125,
          126,
          127,
          128,
          129,
          130,
          131,
          132,
          133,
          134,
          135,
          136,
          137,
          138,
          139,
          140,
          141,
          142,
          143,
          144,
          145,
          146,
          147,
          148,
          149,
          150,
          151,
          152,
          153,
          154,
          155,
          156,
          157,
          158,
          159,
          160,
          161,
          162,
          163,
          164,
          165,
          166,
          167,
          168,
          169,
          170,
          171,
          172,
          173,
          174,
          175,
          176,
          177,
          178,
          179,
          180,
          181,
          182,
          183,
          184,
          185,
          186,
          187,
          188,
          189,
          190,
          191,
          192,
          193,
          194,
          195,
          196,
          197,
          198,
          199,
          200,
          201,
          202,
          203,
          204,
          205,
          206,
          207,
          208,
          209,
          210,
          211,
          212,
          213,
          214,
          215,
          216,
          217,
          218,
          219,
          220,
          221,
          222,
          223,
          224,
          225,
          226,
          227,
          228,
          229,
          230,
          231,
          232,
          233,
          234,
          235,
          236,
          237,
          238,
          239,
          240,
          241,
          242,
          243,
          244,
          245,
          246,
          247,
          248,
          249,
          250,
          251,
          252,
          253,
          254,
          255,
          256,
          257,
          258,
          259,
          260,
          261,
          262,
          263,
          264,
          265,
          266,
          267,
          268,
          269,
          270,
          271,
          272,
          273,
          274,
          275,
          276,
          277,
          278,
          279,
          280,
          281,
          282,
          283,
          284,
          285,
          286,
          287,
          288,
          289,
          290,
          291,
          292,
          293,
          294,
          295,
          296,
          297,
          298,
          299
         ],
         "y": [
          1.084150493144989,
          1.067156453927358,
          1.050104820728302,
          1.036553160349528,
          1.0209219098091125,
          1.0094535231590271,
          0.996839557091395,
          0.9854397515455882,
          0.9671129584312439,
          0.9527790228525798,
          0.9349357088406881,
          0.9219508548577626,
          0.9129169762134552,
          0.9015134155750275,
          0.889161350329717,
          0.8840524077415466,
          0.8736752847830455,
          0.8617527425289154,
          0.8507834792137146,
          0.8384251554807027,
          0.8233502030372619,
          0.8136278569698334,
          0.8061351219813029,
          0.7974696775277456,
          0.7884028752644857,
          0.7784964283307393,
          0.7719580312569936,
          0.7661483903725942,
          0.7545246561368306,
          0.7457863748073578,
          0.7366050243377685,
          0.73317192196846,
          0.7242003361384074,
          0.7164289732774098,
          0.7069782972335815,
          0.695285560687383,
          0.6872442464033762,
          0.675547597805659,
          0.6649686892827352,
          0.6613223850727081,
          0.6593950351079305,
          0.651447222630183,
          0.6437461912631989,
          0.6365342259407043,
          0.6292469362417857,
          0.6233087191979091,
          0.6172528306643168,
          0.6112522135178248,
          0.6055967738231023,
          0.6026518106460571,
          0.5923958579699199,
          0.5829657981793086,
          0.5745877901713053,
          0.5702406187852224,
          0.5638133019208909,
          0.5584655314683914,
          0.5540575832128525,
          0.5512707402308782,
          0.5442865471045176,
          0.5395903696616491,
          0.5335640211900076,
          0.5306698660055796,
          0.5258058448632558,
          0.5185232043266297,
          0.5128170996904373,
          0.5086892704168956,
          0.5027272442976634,
          0.4969438940286636,
          0.49394245247046153,
          0.49036123752593996,
          0.4862865169843038,
          0.48003953794638315,
          0.47739982306957246,
          0.4704677114884059,
          0.4690990070501963,
          0.4644516428311666,
          0.4596498221158981,
          0.4576035459836324,
          0.4544130365053813,
          0.4504233757654826,
          0.44597603380680084,
          0.44143750667572024,
          0.4348444610834122,
          0.4298204243183136,
          0.4264131486415863,
          0.4209822913010915,
          0.4198912928501765,
          0.41697744727134706,
          0.4128352870543798,
          0.4063514361778895,
          0.4043106292684873,
          0.3981460725267728,
          0.3934801275531451,
          0.3905085727572441,
          0.38555399775505067,
          0.3816382656494776,
          0.3798257033030192,
          0.37728880445162455,
          0.37607825895150504,
          0.372664882739385,
          0.36728146076202395,
          0.36191121290127437,
          0.3607598607738813,
          0.3557810500264168,
          0.3535767927765846,
          0.35054715275764464,
          0.3463024958968163,
          0.34376340409119927,
          0.34150909930467604,
          0.33939031412204107,
          0.33610803286234536,
          0.3325159544746081,
          0.3287432551383972,
          0.32568588356177014,
          0.3225791295369466,
          0.3207867498199145,
          0.3166526645421982,
          0.31372133592764534,
          0.30922765185435613,
          0.30710257093111676,
          0.30411735574404397,
          0.30077735235293707,
          0.2978604813416799,
          0.2951623613635699,
          0.2938560158014297,
          0.2912008533875147,
          0.28849749664465585,
          0.28455006927251814,
          0.2820110102494558,
          0.2814627856016159,
          0.279538190861543,
          0.2763831113775571,
          0.27559542655944824,
          0.2749197607239087,
          0.27303861478964486,
          0.2705807827413082,
          0.2679474974672,
          0.265372642626365,
          0.2640872227648894,
          0.2607100767393907,
          0.26038673470417656,
          0.25850698426365853,
          0.2566226780414581,
          0.2544223976631959,
          0.25199296524127324,
          0.24970444689194363,
          0.2481128859023253,
          0.2443932943046093,
          0.24095478256543476,
          0.23762046669920286,
          0.23588207438588144,
          0.2327749195198218,
          0.2311839185655117,
          0.22818080683549244,
          0.22626176451643307,
          0.22530044664939244,
          0.223330070823431,
          0.22053326616684596,
          0.21958791514237722,
          0.21801194498936335,
          0.21555138677358626,
          0.2127222699423631,
          0.21005350947380066,
          0.20874560276667278,
          0.20733197033405304,
          0.20674140254656473,
          0.20426495770613354,
          0.20279033308227856,
          0.20185308828949927,
          0.19926803608735402,
          0.1988443486392498,
          0.19842775017023087,
          0.19626337562998136,
          0.1948382541537285,
          0.193559168279171,
          0.1915939509868622,
          0.19124113842844964,
          0.19019106154640517,
          0.1894933521747589,
          0.1873269644876321,
          0.18569615359107652,
          0.18578399618466696,
          0.18493866051236788,
          0.1837562695145607,
          0.18140840344130993,
          0.18084196758766968,
          0.17889833971858024,
          0.17754711906115214,
          0.17541986579696336,
          0.17447802412013214,
          0.17333130066593488,
          0.1723189384986957,
          0.17133220558365186,
          0.16961849008997282,
          0.16771918274462222,
          0.16715003872911136,
          0.1653699508557717,
          0.1642347847421964,
          0.1632065460085869,
          0.1614835844685634,
          0.1601513858884573,
          0.15850053057074548,
          0.15665342758099238,
          0.15564104790488878,
          0.1553041352579991,
          0.15425807908177375,
          0.1540514564762513,
          0.1533801386753718,
          0.15250474909941356,
          0.1510967628409465,
          0.15022014640271664,
          0.1492676777144273,
          0.14892610299090545,
          0.14759812243282794,
          0.1469290626545747,
          0.1469385323425134,
          0.14667293367286524,
          0.14538653406004112,
          0.14445978676279386,
          0.14413849959770839,
          0.14283766858279706,
          0.14252236957351366,
          0.14232293603320917,
          0.14176149492462475,
          0.1407947023709615,
          0.1391679782420397,
          0.1390168435871601,
          0.1386889268954595,
          0.13771854440371195,
          0.13664371830721697,
          0.13633285003403822,
          0.13559043382604916,
          0.13451501689851283,
          0.1339754222581784,
          0.13306868026653926,
          0.13245983980596066,
          0.13124383601049583,
          0.13049773996074995,
          0.13045486770570278,
          0.1303476791828871,
          0.1291193038225174,
          0.12847697560985882,
          0.1278048666814963,
          0.12770821290711562,
          0.12677595540881156,
          0.12548599385966858,
          0.12531396547953289,
          0.12493566299478213,
          0.12448573447763919,
          0.123681430456539,
          0.12282107044011355,
          0.12203240556021532,
          0.1219187829643488,
          0.12081697359681129,
          0.12035758116592964,
          0.12016814531137546,
          0.11948140319436788,
          0.11902703481415908,
          0.11833729644616445,
          0.11768112884213527,
          0.11730447063843409,
          0.11671849905202786,
          0.11652109349767367,
          0.11542145827164253,
          0.11482001629968484,
          0.11477356292307377,
          0.11462819191316763,
          0.1145420196155707,
          0.11434053424745798,
          0.1143342592443029,
          0.11385365730772416,
          0.11317390035837889,
          0.11273309712608655,
          0.11222727180769046,
          0.11138207303980986,
          0.11081597929199537,
          0.11074832292894522,
          0.11050452720373868,
          0.11049276795238257,
          0.11039640040447314,
          0.1098940987760822,
          0.10876185223460197,
          0.10831738263368607,
          0.10779013273616632,
          0.10773524542649587,
          0.10719030145555734,
          0.10645403563976288,
          0.10625742884973685,
          0.10568584315478802,
          0.10473284510274729,
          0.10454095049450794,
          0.10433741845190525,
          0.10419880400101343,
          0.10320824142545462,
          0.10300554608305296,
          0.10214425884187221,
          0.1020941125229001,
          0.10156252315888802,
          0.10074721829344829,
          0.09982328421125809
         ]
        },
        {
         "marker": {
          "maxdisplayed": 10
         },
         "mode": "lines+markers",
         "name": "Trial10",
         "type": "scatter",
         "x": [
          0,
          1
         ],
         "y": [
          0.8990049123764038,
          0.7169266025225322
         ]
        },
        {
         "marker": {
          "maxdisplayed": 10
         },
         "mode": "lines+markers",
         "name": "Trial11",
         "type": "scatter",
         "x": [
          0,
          1
         ],
         "y": [
          0.8213158984978993,
          0.6327943821748098
         ]
        },
        {
         "marker": {
          "maxdisplayed": 10
         },
         "mode": "lines+markers",
         "name": "Trial12",
         "type": "scatter",
         "x": [
          0,
          1
         ],
         "y": [
          0.95201935172081,
          0.8130658129851024
         ]
        },
        {
         "marker": {
          "maxdisplayed": 10
         },
         "mode": "lines+markers",
         "name": "Trial13",
         "type": "scatter",
         "x": [
          0,
          1
         ],
         "y": [
          0.81428462266922,
          0.6262297471364339
         ]
        },
        {
         "marker": {
          "maxdisplayed": 10
         },
         "mode": "lines+markers",
         "name": "Trial14",
         "type": "scatter",
         "x": [
          0,
          1
         ],
         "y": [
          0.897895069917043,
          0.7577916344006856
         ]
        },
        {
         "marker": {
          "maxdisplayed": 10
         },
         "mode": "lines+markers",
         "name": "Trial15",
         "type": "scatter",
         "x": [
          0,
          1
         ],
         "y": [
          0.7901386757691701,
          0.5614511489868164
         ]
        },
        {
         "marker": {
          "maxdisplayed": 10
         },
         "mode": "lines+markers",
         "name": "Trial16",
         "type": "scatter",
         "x": [
          0,
          1
         ],
         "y": [
          0.8047881046930949,
          0.6139451305071513
         ]
        },
        {
         "marker": {
          "maxdisplayed": 10
         },
         "mode": "lines+markers",
         "name": "Trial17",
         "type": "scatter",
         "x": [
          0,
          1
         ],
         "y": [
          0.9125683883825938,
          0.7853843530019124
         ]
        },
        {
         "marker": {
          "maxdisplayed": 10
         },
         "mode": "lines+markers",
         "name": "Trial18",
         "type": "scatter",
         "x": [
          0,
          1
         ],
         "y": [
          0.8828623414039611,
          0.6904247224330902
         ]
        },
        {
         "marker": {
          "maxdisplayed": 10
         },
         "mode": "lines+markers",
         "name": "Trial19",
         "type": "scatter",
         "x": [
          0,
          1
         ],
         "y": [
          0.9021907150745392,
          0.7251960615317027
         ]
        },
        {
         "marker": {
          "maxdisplayed": 10
         },
         "mode": "lines+markers",
         "name": "Trial20",
         "type": "scatter",
         "x": [
          0,
          1,
          2,
          3,
          4
         ],
         "y": [
          0.9626687188943227,
          0.8564664582411449,
          0.7563766996065776,
          0.6714048286279043,
          0.6002258837223053
         ]
        },
        {
         "marker": {
          "maxdisplayed": 10
         },
         "mode": "lines+markers",
         "name": "Trial21",
         "type": "scatter",
         "x": [
          0,
          1,
          2,
          3,
          4
         ],
         "y": [
          1.066467527548472,
          1.0394777536392212,
          1.0096466143925984,
          0.9826972782611847,
          0.9557675123214722
         ]
        },
        {
         "marker": {
          "maxdisplayed": 10
         },
         "mode": "lines+markers",
         "name": "Trial22",
         "type": "scatter",
         "x": [
          0,
          1,
          2,
          3,
          4
         ],
         "y": [
          1.0205066720644633,
          0.9579493383566539,
          0.8924237112204234,
          0.8361843526363373,
          0.7842583278814952
         ]
        },
        {
         "marker": {
          "maxdisplayed": 10
         },
         "mode": "lines+markers",
         "name": "Trial23",
         "type": "scatter",
         "x": [
          0,
          1
         ],
         "y": [
          0.9804848790168762,
          0.8919598539670308
         ]
        },
        {
         "marker": {
          "maxdisplayed": 10
         },
         "mode": "lines+markers",
         "name": "Trial24",
         "type": "scatter",
         "x": [
          0,
          1
         ],
         "y": [
          0.8904240210851033,
          0.7334312339623769
         ]
        },
        {
         "marker": {
          "maxdisplayed": 10
         },
         "mode": "lines+markers",
         "name": "Trial25",
         "type": "scatter",
         "x": [
          0,
          1
         ],
         "y": [
          0.8294035057226817,
          0.660641630490621
         ]
        },
        {
         "marker": {
          "maxdisplayed": 10
         },
         "mode": "lines+markers",
         "name": "Trial26",
         "type": "scatter",
         "x": [
          0,
          1
         ],
         "y": [
          0.941879669825236,
          0.8126442273457845
         ]
        },
        {
         "marker": {
          "maxdisplayed": 10
         },
         "mode": "lines+markers",
         "name": "Trial27",
         "type": "scatter",
         "x": [
          0,
          1,
          2,
          3,
          4
         ],
         "y": [
          1.0602108597755433,
          1.0152727882067363,
          0.9699634512265524,
          0.9373204986254374,
          0.8992703000704447
         ]
        },
        {
         "marker": {
          "maxdisplayed": 10
         },
         "mode": "lines+markers",
         "name": "Trial28",
         "type": "scatter",
         "x": [
          0,
          1
         ],
         "y": [
          0.7608298897743225,
          0.5574651678403219
         ]
        },
        {
         "marker": {
          "maxdisplayed": 10
         },
         "mode": "lines+markers",
         "name": "Trial29",
         "type": "scatter",
         "x": [
          0,
          1
         ],
         "y": [
          0.7837758739789327,
          0.5825385908285777
         ]
        },
        {
         "marker": {
          "maxdisplayed": 10
         },
         "mode": "lines+markers",
         "name": "Trial30",
         "type": "scatter",
         "x": [
          0,
          1
         ],
         "y": [
          0.8767817318439484,
          0.672150993347168
         ]
        },
        {
         "marker": {
          "maxdisplayed": 10
         },
         "mode": "lines+markers",
         "name": "Trial31",
         "type": "scatter",
         "x": [
          0,
          1,
          2,
          3,
          4,
          5,
          6,
          7,
          8,
          9,
          10,
          11,
          12,
          13,
          14,
          15,
          16
         ],
         "y": [
          1.0763658920923869,
          1.0500797112782796,
          1.0237371444702148,
          1.0034867783387502,
          0.9804723024368286,
          0.9634822487831116,
          0.9452943801879883,
          0.9284283975760143,
          0.9020420591036479,
          0.8826960821946462,
          0.8575663626194,
          0.8394485155741374,
          0.8270699481169382,
          0.8114578028519949,
          0.7946797549724579,
          0.7881667236487071,
          0.7745784044265747
         ]
        },
        {
         "marker": {
          "maxdisplayed": 10
         },
         "mode": "lines+markers",
         "name": "Trial32",
         "type": "scatter",
         "x": [
          0,
          1,
          2,
          3,
          4,
          5,
          6,
          7,
          8,
          9,
          10,
          11,
          12,
          13,
          14,
          15,
          16
         ],
         "y": [
          1.0761618852615356,
          1.0560654640197753,
          1.0336736679077148,
          1.0128831187884013,
          0.9929697434107463,
          0.9725714246431987,
          0.9543872892856597,
          0.9392373343308766,
          0.9212401926517486,
          0.9036019523938497,
          0.8864499648412069,
          0.8702761153380076,
          0.8538283705711365,
          0.8409136911233266,
          0.8286963780721028,
          0.8132705152034759,
          0.8015044808387757
         ]
        },
        {
         "marker": {
          "maxdisplayed": 10
         },
         "mode": "lines+markers",
         "name": "Trial33",
         "type": "scatter",
         "x": [
          0,
          1,
          2,
          3,
          4
         ],
         "y": [
          1.0617678125699361,
          1.0201999445756276,
          0.9784725805123647,
          0.9458390216032664,
          0.9098398764928182
         ]
        },
        {
         "marker": {
          "maxdisplayed": 10
         },
         "mode": "lines+markers",
         "name": "Trial34",
         "type": "scatter",
         "x": [
          0,
          1
         ],
         "y": [
          1.0008293171723683,
          0.9177939931551615
         ]
        },
        {
         "marker": {
          "maxdisplayed": 10
         },
         "mode": "lines+markers",
         "name": "Trial35",
         "type": "scatter",
         "x": [
          0,
          1
         ],
         "y": [
          1.0186143159866332,
          0.9197531958421071
         ]
        },
        {
         "marker": {
          "maxdisplayed": 10
         },
         "mode": "lines+markers",
         "name": "Trial36",
         "type": "scatter",
         "x": [
          0,
          1
         ],
         "y": [
          0.9950980504353841,
          0.9053945144017538
         ]
        },
        {
         "marker": {
          "maxdisplayed": 10
         },
         "mode": "lines+markers",
         "name": "Trial37",
         "type": "scatter",
         "x": [
          0,
          1,
          2,
          3,
          4,
          5,
          6,
          7,
          8,
          9,
          10,
          11,
          12,
          13,
          14,
          15,
          16,
          17,
          18,
          19,
          20,
          21,
          22,
          23,
          24,
          25,
          26,
          27,
          28,
          29,
          30,
          31,
          32,
          33,
          34,
          35,
          36,
          37,
          38,
          39,
          40,
          41,
          42,
          43,
          44,
          45,
          46,
          47,
          48,
          49,
          50,
          51,
          52,
          53,
          54,
          55,
          56,
          57,
          58,
          59,
          60,
          61,
          62,
          63,
          64,
          65,
          66,
          67,
          68,
          69,
          70,
          71,
          72,
          73,
          74,
          75,
          76,
          77,
          78,
          79,
          80,
          81,
          82,
          83,
          84,
          85,
          86,
          87,
          88,
          89,
          90,
          91,
          92,
          93,
          94,
          95,
          96,
          97,
          98,
          99,
          100,
          101,
          102,
          103,
          104,
          105,
          106,
          107,
          108,
          109,
          110,
          111,
          112,
          113,
          114,
          115,
          116,
          117,
          118,
          119,
          120,
          121,
          122,
          123,
          124,
          125,
          126,
          127,
          128,
          129,
          130,
          131,
          132,
          133,
          134,
          135,
          136,
          137,
          138,
          139,
          140,
          141,
          142,
          143,
          144,
          145,
          146,
          147,
          148,
          149,
          150,
          151,
          152,
          153,
          154,
          155,
          156,
          157,
          158,
          159,
          160,
          161,
          162,
          163,
          164,
          165,
          166,
          167,
          168,
          169,
          170,
          171,
          172,
          173,
          174,
          175,
          176,
          177,
          178,
          179,
          180,
          181,
          182,
          183,
          184,
          185,
          186,
          187,
          188,
          189,
          190,
          191,
          192,
          193,
          194,
          195,
          196,
          197,
          198,
          199,
          200,
          201,
          202,
          203,
          204,
          205,
          206,
          207,
          208,
          209,
          210,
          211,
          212,
          213,
          214,
          215,
          216,
          217,
          218,
          219,
          220,
          221,
          222,
          223,
          224,
          225,
          226,
          227,
          228,
          229,
          230,
          231,
          232,
          233,
          234,
          235,
          236,
          237,
          238,
          239,
          240,
          241,
          242,
          243,
          244,
          245,
          246,
          247,
          248,
          249,
          250,
          251,
          252,
          253,
          254,
          255,
          256,
          257,
          258,
          259,
          260,
          261,
          262,
          263,
          264,
          265,
          266,
          267,
          268,
          269,
          270,
          271,
          272,
          273,
          274,
          275,
          276,
          277,
          278,
          279,
          280,
          281,
          282,
          283,
          284,
          285,
          286,
          287,
          288,
          289,
          290,
          291,
          292,
          293,
          294,
          295,
          296,
          297,
          298,
          299
         ],
         "y": [
          1.083984363079071,
          1.0700168053309123,
          1.0557224988937377,
          1.0423648675282797,
          1.0290414969126382,
          1.0157227516174316,
          1.0026224394639334,
          0.9902260462443034,
          0.9778886238733927,
          0.9655769248803456,
          0.9536080857117971,
          0.9417889038721721,
          0.9300653338432312,
          0.9185711920261384,
          0.9073201815287272,
          0.8961110154787699,
          0.8850502471129099,
          0.8743493437767029,
          0.8639309624830882,
          0.8533928632736206,
          0.8431579411029816,
          0.8333589096864065,
          0.8235291600227356,
          0.8139322459697723,
          0.804474824666977,
          0.7952298283576965,
          0.7861229042212169,
          0.7770072638988494,
          0.7680810809135437,
          0.7588934302330017,
          0.7502492050329844,
          0.7418842236200969,
          0.7331969161828359,
          0.7249372323354085,
          0.7167275846004486,
          0.708674265940984,
          0.7007950405279796,
          0.6927855610847473,
          0.6848917961120605,
          0.6772098879019419,
          0.6697960416475932,
          0.6624157230059305,
          0.654754267136256,
          0.6476421515146892,
          0.6403229852517446,
          0.633100954691569,
          0.6260821501413981,
          0.6193364381790161,
          0.6124826649824778,
          0.6057027002175649,
          0.5989780743916829,
          0.5924050251642863,
          0.5860261440277099,
          0.5798942307631175,
          0.5736112475395203,
          0.5675393680731455,
          0.5613674322764078,
          0.5551369786262512,
          0.5491588095823924,
          0.5433015127976736,
          0.5373747636874516,
          0.5316567093133926,
          0.525942110021909,
          0.5205201427141826,
          0.5151756395896275,
          0.509815979997317,
          0.5044136573870976,
          0.49904749790827435,
          0.49397050340970355,
          0.48890701631704964,
          0.48375727732976276,
          0.4786815722783407,
          0.47389131486415864,
          0.46898584961891177,
          0.4640997886657715,
          0.459369824330012,
          0.45469739735126496,
          0.45006214678287504,
          0.4454548050959905,
          0.4408853401740392,
          0.4363556037346522,
          0.4318404297033946,
          0.42746085723241173,
          0.42326305905977885,
          0.4191399405399958,
          0.414861727754275,
          0.41043322285016376,
          0.4062987595796585,
          0.40224869052569073,
          0.39826211929321287,
          0.3944610277811686,
          0.3904400279124578,
          0.3864967515071233,
          0.38269118865331014,
          0.3789604594310125,
          0.37546542982260384,
          0.37159521083037056,
          0.3679140508174896,
          0.36439194679260256,
          0.360794539252917,
          0.3573911746342977,
          0.3540529916683833,
          0.35068711936473845,
          0.34718485275904337,
          0.3439696361621221,
          0.3408111910025279,
          0.33749745090802513,
          0.3343277841806412,
          0.3311182588338852,
          0.3279966165622075,
          0.32469215591748557,
          0.3214166730642319,
          0.31840845247109734,
          0.31521870791912077,
          0.3122618168592453,
          0.3092881977558136,
          0.30623767475287117,
          0.303293181459109,
          0.30044599970181785,
          0.2976509501536687,
          0.29466169476509096,
          0.29188274492820104,
          0.2891454557577769,
          0.28645100941260654,
          0.2837327063083649,
          0.2809630696972211,
          0.27838610460360846,
          0.27570061286290487,
          0.2731819729010264,
          0.27074404855569206,
          0.2681183303395907,
          0.2657346025109291,
          0.2633530338605245,
          0.26108197967211405,
          0.2585747684041659,
          0.2560191070040067,
          0.25378701835870743,
          0.25149790694316226,
          0.24937677333752314,
          0.24724558492501578,
          0.24509482582410178,
          0.24296515782674152,
          0.24068951308727266,
          0.2386484424273173,
          0.2365469162662824,
          0.23443567057450612,
          0.2324530785282453,
          0.23041212409734727,
          0.22835452506939571,
          0.22629904349644978,
          0.2242485096057256,
          0.22232674658298493,
          0.22037961135307949,
          0.2184398372968038,
          0.2165288413564364,
          0.21460263828436535,
          0.21285783251126608,
          0.2110317627588908,
          0.20920567860205969,
          0.20741994827985763,
          0.20565489133199055,
          0.20401105682055157,
          0.20235707759857177,
          0.20075460424025854,
          0.19921357681353888,
          0.19764120479424793,
          0.19608033200105032,
          0.19462266465028127,
          0.19319454878568648,
          0.1916654313604037,
          0.19002689123153688,
          0.1884983370701472,
          0.18692803581555684,
          0.18543750494718553,
          0.18401500483353933,
          0.18246975938479107,
          0.18117771297693253,
          0.17979395439227422,
          0.17858830044666926,
          0.17711699455976487,
          0.17586982250213623,
          0.17459467550118765,
          0.17322589010000228,
          0.1719706505537033,
          0.17098299662272134,
          0.16963803817828496,
          0.16858681390682856,
          0.1674116373062134,
          0.16636614153782528,
          0.16536175509293874,
          0.1642327959338824,
          0.16312865565220516,
          0.1620505392551422,
          0.16106798102458317,
          0.15999143570661545,
          0.1588080604871114,
          0.15761635154485704,
          0.15668592477838197,
          0.15581640526652335,
          0.15486706768472988,
          0.1538189746439457,
          0.15299800932407379,
          0.15220240900913876,
          0.1512167456249396,
          0.15030899023016295,
          0.14936422680815062,
          0.14839152867595354,
          0.1475436692436536,
          0.1466378428041935,
          0.14576539397239685,
          0.14486172273755074,
          0.1439790392915408,
          0.14312093779444696,
          0.14222120518485706,
          0.14140416805942854,
          0.14058713242411613,
          0.13973798006772994,
          0.13894227370619774,
          0.13847646365563074,
          0.13771630947788557,
          0.13730729495485625,
          0.1369541808962822,
          0.13659062435229619,
          0.13578446234265965,
          0.13510462616880733,
          0.13434255570173265,
          0.13402869825561842,
          0.13355809450149536,
          0.13322597270210584,
          0.13249085247516632,
          0.13202519516150157,
          0.13166247606277465,
          0.13090516130129495,
          0.13050710062185925,
          0.1301210363705953,
          0.12967455461621286,
          0.12924624110261598,
          0.128839215139548,
          0.12849755013982456,
          0.12815899426738422,
          0.12778508812189102,
          0.12751439213752747,
          0.1272572455306848,
          0.12687918469309806,
          0.12660152142246564,
          0.12630204508701962,
          0.12570693666736285,
          0.12531824509302775,
          0.12494278028607368,
          0.12455215205748876,
          0.12418656100829442,
          0.12387768452366194,
          0.12354814261198044,
          0.12321909939249356,
          0.1228932946920395,
          0.12258098920186361,
          0.12223516876498858,
          0.12191009397308032,
          0.1215950479110082,
          0.12131316860516866,
          0.12108089129130045,
          0.12082884709040324,
          0.12058782105644544,
          0.12021718223889669,
          0.11988825897375742,
          0.11957541331648827,
          0.11928230871756872,
          0.11894631882508595,
          0.11870664432644844,
          0.1183495079477628,
          0.11807017674048742,
          0.11776860406001409,
          0.11750033075610797,
          0.11724709595243137,
          0.11694958085815112,
          0.11663340578476587,
          0.1163245715200901,
          0.11608168035745621,
          0.11585114498933156,
          0.11553583070635795,
          0.11528661126891772,
          0.11500294332702955,
          0.11475852479537328,
          0.11448382313052813,
          0.11426873405774435,
          0.11404285058379174,
          0.11375677362084388,
          0.11347111413876215,
          0.11323902731140455,
          0.11296916007995605,
          0.11269541804989179,
          0.11236739307641982,
          0.11211039945483207,
          0.1119234211742878,
          0.11167639394601186,
          0.11143328994512558,
          0.11117318545778593,
          0.11093301177024842,
          0.11067377900083859,
          0.11045724352200827
         ]
        },
        {
         "marker": {
          "maxdisplayed": 10
         },
         "mode": "lines+markers",
         "name": "Trial38",
         "type": "scatter",
         "x": [
          0,
          1,
          2,
          3,
          4
         ],
         "y": [
          1.0524284362792968,
          1.0156437317530314,
          0.9744860053062439,
          0.9364729026953379,
          0.9016393760840098
         ]
        },
        {
         "marker": {
          "maxdisplayed": 10
         },
         "mode": "lines+markers",
         "name": "Trial39",
         "type": "scatter",
         "x": [
          0,
          1
         ],
         "y": [
          0.8643053730328878,
          0.7135708630084991
         ]
        },
        {
         "marker": {
          "maxdisplayed": 10
         },
         "mode": "lines+markers",
         "name": "Trial40",
         "type": "scatter",
         "x": [
          0,
          1,
          2,
          3,
          4
         ],
         "y": [
          1.0255015770594278,
          0.9689329087734222,
          0.907204008102417,
          0.8517312864462535,
          0.8009350160757701
         ]
        },
        {
         "marker": {
          "maxdisplayed": 10
         },
         "mode": "lines+markers",
         "name": "Trial41",
         "type": "scatter",
         "x": [
          0,
          1,
          2,
          3,
          4,
          5,
          6,
          7,
          8,
          9,
          10,
          11,
          12,
          13,
          14,
          15,
          16
         ],
         "y": [
          1.0812745690345764,
          1.0647738019625346,
          1.048003574212392,
          1.0322749733924865,
          1.0166959007581076,
          1.001370108127594,
          0.9863403817017873,
          0.9720703581968944,
          0.9577756663163502,
          0.9435986300309499,
          0.9296651303768158,
          0.9163116931915283,
          0.9029737889766694,
          0.8900116006533305,
          0.8772124866644542,
          0.8646403213342031,
          0.852095369497935
         ]
        },
        {
         "marker": {
          "maxdisplayed": 10
         },
         "mode": "lines+markers",
         "name": "Trial42",
         "type": "scatter",
         "x": [
          0,
          1
         ],
         "y": [
          1.0438871224721273,
          0.9938429931799571
         ]
        },
        {
         "marker": {
          "maxdisplayed": 10
         },
         "mode": "lines+markers",
         "name": "Trial43",
         "type": "scatter",
         "x": [
          0,
          1,
          2,
          3,
          4,
          5,
          6,
          7,
          8,
          9,
          10,
          11,
          12,
          13,
          14,
          15,
          16
         ],
         "y": [
          1.0813056389490763,
          1.0643706003824869,
          1.0473674019177754,
          1.0309866031010946,
          1.0150462150573731,
          0.9990450600783031,
          0.9836296200752258,
          0.968741649389267,
          0.954385366042455,
          0.9403797745704651,
          0.9263190428415934,
          0.9128164331118266,
          0.8993145823478699,
          0.8864701608816783,
          0.8734822273254395,
          0.8606991012891133,
          0.847723267475764
         ]
        },
        {
         "marker": {
          "maxdisplayed": 10
         },
         "mode": "lines+markers",
         "name": "Trial44",
         "type": "scatter",
         "x": [
          0,
          1
         ],
         "y": [
          0.8468518694241841,
          0.6683145761489868
         ]
        },
        {
         "marker": {
          "maxdisplayed": 10
         },
         "mode": "lines+markers",
         "name": "Trial45",
         "type": "scatter",
         "x": [
          0,
          1
         ],
         "y": [
          0.8026281476020813,
          0.6143225789070129
         ]
        },
        {
         "marker": {
          "maxdisplayed": 10
         },
         "mode": "lines+markers",
         "name": "Trial46",
         "type": "scatter",
         "x": [
          0,
          1
         ],
         "y": [
          0.9079875747362772,
          0.7622840166091919
         ]
        },
        {
         "marker": {
          "maxdisplayed": 10
         },
         "mode": "lines+markers",
         "name": "Trial47",
         "type": "scatter",
         "x": [
          0,
          1
         ],
         "y": [
          0.7572384337584178,
          0.5465719640254975
         ]
        },
        {
         "marker": {
          "maxdisplayed": 10
         },
         "mode": "lines+markers",
         "name": "Trial48",
         "type": "scatter",
         "x": [
          0,
          1
         ],
         "y": [
          1.0007527907689413,
          0.9299971004327138
         ]
        },
        {
         "marker": {
          "maxdisplayed": 10
         },
         "mode": "lines+markers",
         "name": "Trial49",
         "type": "scatter",
         "x": [
          0,
          1,
          2,
          3,
          4
         ],
         "y": [
          1.0564558267593385,
          1.02203764518102,
          0.9833472053209941,
          0.9489188293615977,
          0.9153512279192607
         ]
        }
       ],
       "layout": {
        "showlegend": false,
        "template": {
         "data": {
          "bar": [
           {
            "error_x": {
             "color": "#2a3f5f"
            },
            "error_y": {
             "color": "#2a3f5f"
            },
            "marker": {
             "line": {
              "color": "#E5ECF6",
              "width": 0.5
             },
             "pattern": {
              "fillmode": "overlay",
              "size": 10,
              "solidity": 0.2
             }
            },
            "type": "bar"
           }
          ],
          "barpolar": [
           {
            "marker": {
             "line": {
              "color": "#E5ECF6",
              "width": 0.5
             },
             "pattern": {
              "fillmode": "overlay",
              "size": 10,
              "solidity": 0.2
             }
            },
            "type": "barpolar"
           }
          ],
          "carpet": [
           {
            "aaxis": {
             "endlinecolor": "#2a3f5f",
             "gridcolor": "white",
             "linecolor": "white",
             "minorgridcolor": "white",
             "startlinecolor": "#2a3f5f"
            },
            "baxis": {
             "endlinecolor": "#2a3f5f",
             "gridcolor": "white",
             "linecolor": "white",
             "minorgridcolor": "white",
             "startlinecolor": "#2a3f5f"
            },
            "type": "carpet"
           }
          ],
          "choropleth": [
           {
            "colorbar": {
             "outlinewidth": 0,
             "ticks": ""
            },
            "type": "choropleth"
           }
          ],
          "contour": [
           {
            "colorbar": {
             "outlinewidth": 0,
             "ticks": ""
            },
            "colorscale": [
             [
              0,
              "#0d0887"
             ],
             [
              0.1111111111111111,
              "#46039f"
             ],
             [
              0.2222222222222222,
              "#7201a8"
             ],
             [
              0.3333333333333333,
              "#9c179e"
             ],
             [
              0.4444444444444444,
              "#bd3786"
             ],
             [
              0.5555555555555556,
              "#d8576b"
             ],
             [
              0.6666666666666666,
              "#ed7953"
             ],
             [
              0.7777777777777778,
              "#fb9f3a"
             ],
             [
              0.8888888888888888,
              "#fdca26"
             ],
             [
              1,
              "#f0f921"
             ]
            ],
            "type": "contour"
           }
          ],
          "contourcarpet": [
           {
            "colorbar": {
             "outlinewidth": 0,
             "ticks": ""
            },
            "type": "contourcarpet"
           }
          ],
          "heatmap": [
           {
            "colorbar": {
             "outlinewidth": 0,
             "ticks": ""
            },
            "colorscale": [
             [
              0,
              "#0d0887"
             ],
             [
              0.1111111111111111,
              "#46039f"
             ],
             [
              0.2222222222222222,
              "#7201a8"
             ],
             [
              0.3333333333333333,
              "#9c179e"
             ],
             [
              0.4444444444444444,
              "#bd3786"
             ],
             [
              0.5555555555555556,
              "#d8576b"
             ],
             [
              0.6666666666666666,
              "#ed7953"
             ],
             [
              0.7777777777777778,
              "#fb9f3a"
             ],
             [
              0.8888888888888888,
              "#fdca26"
             ],
             [
              1,
              "#f0f921"
             ]
            ],
            "type": "heatmap"
           }
          ],
          "heatmapgl": [
           {
            "colorbar": {
             "outlinewidth": 0,
             "ticks": ""
            },
            "colorscale": [
             [
              0,
              "#0d0887"
             ],
             [
              0.1111111111111111,
              "#46039f"
             ],
             [
              0.2222222222222222,
              "#7201a8"
             ],
             [
              0.3333333333333333,
              "#9c179e"
             ],
             [
              0.4444444444444444,
              "#bd3786"
             ],
             [
              0.5555555555555556,
              "#d8576b"
             ],
             [
              0.6666666666666666,
              "#ed7953"
             ],
             [
              0.7777777777777778,
              "#fb9f3a"
             ],
             [
              0.8888888888888888,
              "#fdca26"
             ],
             [
              1,
              "#f0f921"
             ]
            ],
            "type": "heatmapgl"
           }
          ],
          "histogram": [
           {
            "marker": {
             "pattern": {
              "fillmode": "overlay",
              "size": 10,
              "solidity": 0.2
             }
            },
            "type": "histogram"
           }
          ],
          "histogram2d": [
           {
            "colorbar": {
             "outlinewidth": 0,
             "ticks": ""
            },
            "colorscale": [
             [
              0,
              "#0d0887"
             ],
             [
              0.1111111111111111,
              "#46039f"
             ],
             [
              0.2222222222222222,
              "#7201a8"
             ],
             [
              0.3333333333333333,
              "#9c179e"
             ],
             [
              0.4444444444444444,
              "#bd3786"
             ],
             [
              0.5555555555555556,
              "#d8576b"
             ],
             [
              0.6666666666666666,
              "#ed7953"
             ],
             [
              0.7777777777777778,
              "#fb9f3a"
             ],
             [
              0.8888888888888888,
              "#fdca26"
             ],
             [
              1,
              "#f0f921"
             ]
            ],
            "type": "histogram2d"
           }
          ],
          "histogram2dcontour": [
           {
            "colorbar": {
             "outlinewidth": 0,
             "ticks": ""
            },
            "colorscale": [
             [
              0,
              "#0d0887"
             ],
             [
              0.1111111111111111,
              "#46039f"
             ],
             [
              0.2222222222222222,
              "#7201a8"
             ],
             [
              0.3333333333333333,
              "#9c179e"
             ],
             [
              0.4444444444444444,
              "#bd3786"
             ],
             [
              0.5555555555555556,
              "#d8576b"
             ],
             [
              0.6666666666666666,
              "#ed7953"
             ],
             [
              0.7777777777777778,
              "#fb9f3a"
             ],
             [
              0.8888888888888888,
              "#fdca26"
             ],
             [
              1,
              "#f0f921"
             ]
            ],
            "type": "histogram2dcontour"
           }
          ],
          "mesh3d": [
           {
            "colorbar": {
             "outlinewidth": 0,
             "ticks": ""
            },
            "type": "mesh3d"
           }
          ],
          "parcoords": [
           {
            "line": {
             "colorbar": {
              "outlinewidth": 0,
              "ticks": ""
             }
            },
            "type": "parcoords"
           }
          ],
          "pie": [
           {
            "automargin": true,
            "type": "pie"
           }
          ],
          "scatter": [
           {
            "fillpattern": {
             "fillmode": "overlay",
             "size": 10,
             "solidity": 0.2
            },
            "type": "scatter"
           }
          ],
          "scatter3d": [
           {
            "line": {
             "colorbar": {
              "outlinewidth": 0,
              "ticks": ""
             }
            },
            "marker": {
             "colorbar": {
              "outlinewidth": 0,
              "ticks": ""
             }
            },
            "type": "scatter3d"
           }
          ],
          "scattercarpet": [
           {
            "marker": {
             "colorbar": {
              "outlinewidth": 0,
              "ticks": ""
             }
            },
            "type": "scattercarpet"
           }
          ],
          "scattergeo": [
           {
            "marker": {
             "colorbar": {
              "outlinewidth": 0,
              "ticks": ""
             }
            },
            "type": "scattergeo"
           }
          ],
          "scattergl": [
           {
            "marker": {
             "colorbar": {
              "outlinewidth": 0,
              "ticks": ""
             }
            },
            "type": "scattergl"
           }
          ],
          "scattermapbox": [
           {
            "marker": {
             "colorbar": {
              "outlinewidth": 0,
              "ticks": ""
             }
            },
            "type": "scattermapbox"
           }
          ],
          "scatterpolar": [
           {
            "marker": {
             "colorbar": {
              "outlinewidth": 0,
              "ticks": ""
             }
            },
            "type": "scatterpolar"
           }
          ],
          "scatterpolargl": [
           {
            "marker": {
             "colorbar": {
              "outlinewidth": 0,
              "ticks": ""
             }
            },
            "type": "scatterpolargl"
           }
          ],
          "scatterternary": [
           {
            "marker": {
             "colorbar": {
              "outlinewidth": 0,
              "ticks": ""
             }
            },
            "type": "scatterternary"
           }
          ],
          "surface": [
           {
            "colorbar": {
             "outlinewidth": 0,
             "ticks": ""
            },
            "colorscale": [
             [
              0,
              "#0d0887"
             ],
             [
              0.1111111111111111,
              "#46039f"
             ],
             [
              0.2222222222222222,
              "#7201a8"
             ],
             [
              0.3333333333333333,
              "#9c179e"
             ],
             [
              0.4444444444444444,
              "#bd3786"
             ],
             [
              0.5555555555555556,
              "#d8576b"
             ],
             [
              0.6666666666666666,
              "#ed7953"
             ],
             [
              0.7777777777777778,
              "#fb9f3a"
             ],
             [
              0.8888888888888888,
              "#fdca26"
             ],
             [
              1,
              "#f0f921"
             ]
            ],
            "type": "surface"
           }
          ],
          "table": [
           {
            "cells": {
             "fill": {
              "color": "#EBF0F8"
             },
             "line": {
              "color": "white"
             }
            },
            "header": {
             "fill": {
              "color": "#C8D4E3"
             },
             "line": {
              "color": "white"
             }
            },
            "type": "table"
           }
          ]
         },
         "layout": {
          "annotationdefaults": {
           "arrowcolor": "#2a3f5f",
           "arrowhead": 0,
           "arrowwidth": 1
          },
          "autotypenumbers": "strict",
          "coloraxis": {
           "colorbar": {
            "outlinewidth": 0,
            "ticks": ""
           }
          },
          "colorscale": {
           "diverging": [
            [
             0,
             "#8e0152"
            ],
            [
             0.1,
             "#c51b7d"
            ],
            [
             0.2,
             "#de77ae"
            ],
            [
             0.3,
             "#f1b6da"
            ],
            [
             0.4,
             "#fde0ef"
            ],
            [
             0.5,
             "#f7f7f7"
            ],
            [
             0.6,
             "#e6f5d0"
            ],
            [
             0.7,
             "#b8e186"
            ],
            [
             0.8,
             "#7fbc41"
            ],
            [
             0.9,
             "#4d9221"
            ],
            [
             1,
             "#276419"
            ]
           ],
           "sequential": [
            [
             0,
             "#0d0887"
            ],
            [
             0.1111111111111111,
             "#46039f"
            ],
            [
             0.2222222222222222,
             "#7201a8"
            ],
            [
             0.3333333333333333,
             "#9c179e"
            ],
            [
             0.4444444444444444,
             "#bd3786"
            ],
            [
             0.5555555555555556,
             "#d8576b"
            ],
            [
             0.6666666666666666,
             "#ed7953"
            ],
            [
             0.7777777777777778,
             "#fb9f3a"
            ],
            [
             0.8888888888888888,
             "#fdca26"
            ],
            [
             1,
             "#f0f921"
            ]
           ],
           "sequentialminus": [
            [
             0,
             "#0d0887"
            ],
            [
             0.1111111111111111,
             "#46039f"
            ],
            [
             0.2222222222222222,
             "#7201a8"
            ],
            [
             0.3333333333333333,
             "#9c179e"
            ],
            [
             0.4444444444444444,
             "#bd3786"
            ],
            [
             0.5555555555555556,
             "#d8576b"
            ],
            [
             0.6666666666666666,
             "#ed7953"
            ],
            [
             0.7777777777777778,
             "#fb9f3a"
            ],
            [
             0.8888888888888888,
             "#fdca26"
            ],
            [
             1,
             "#f0f921"
            ]
           ]
          },
          "colorway": [
           "#636efa",
           "#EF553B",
           "#00cc96",
           "#ab63fa",
           "#FFA15A",
           "#19d3f3",
           "#FF6692",
           "#B6E880",
           "#FF97FF",
           "#FECB52"
          ],
          "font": {
           "color": "#2a3f5f"
          },
          "geo": {
           "bgcolor": "white",
           "lakecolor": "white",
           "landcolor": "#E5ECF6",
           "showlakes": true,
           "showland": true,
           "subunitcolor": "white"
          },
          "hoverlabel": {
           "align": "left"
          },
          "hovermode": "closest",
          "mapbox": {
           "style": "light"
          },
          "paper_bgcolor": "white",
          "plot_bgcolor": "#E5ECF6",
          "polar": {
           "angularaxis": {
            "gridcolor": "white",
            "linecolor": "white",
            "ticks": ""
           },
           "bgcolor": "#E5ECF6",
           "radialaxis": {
            "gridcolor": "white",
            "linecolor": "white",
            "ticks": ""
           }
          },
          "scene": {
           "xaxis": {
            "backgroundcolor": "#E5ECF6",
            "gridcolor": "white",
            "gridwidth": 2,
            "linecolor": "white",
            "showbackground": true,
            "ticks": "",
            "zerolinecolor": "white"
           },
           "yaxis": {
            "backgroundcolor": "#E5ECF6",
            "gridcolor": "white",
            "gridwidth": 2,
            "linecolor": "white",
            "showbackground": true,
            "ticks": "",
            "zerolinecolor": "white"
           },
           "zaxis": {
            "backgroundcolor": "#E5ECF6",
            "gridcolor": "white",
            "gridwidth": 2,
            "linecolor": "white",
            "showbackground": true,
            "ticks": "",
            "zerolinecolor": "white"
           }
          },
          "shapedefaults": {
           "line": {
            "color": "#2a3f5f"
           }
          },
          "ternary": {
           "aaxis": {
            "gridcolor": "white",
            "linecolor": "white",
            "ticks": ""
           },
           "baxis": {
            "gridcolor": "white",
            "linecolor": "white",
            "ticks": ""
           },
           "bgcolor": "#E5ECF6",
           "caxis": {
            "gridcolor": "white",
            "linecolor": "white",
            "ticks": ""
           }
          },
          "title": {
           "x": 0.05
          },
          "xaxis": {
           "automargin": true,
           "gridcolor": "white",
           "linecolor": "white",
           "ticks": "",
           "title": {
            "standoff": 15
           },
           "zerolinecolor": "white",
           "zerolinewidth": 2
          },
          "yaxis": {
           "automargin": true,
           "gridcolor": "white",
           "linecolor": "white",
           "ticks": "",
           "title": {
            "standoff": 15
           },
           "zerolinecolor": "white",
           "zerolinewidth": 2
          }
         }
        },
        "title": {
         "text": "Intermediate Values Plot"
        },
        "xaxis": {
         "title": {
          "text": "Step"
         }
        },
        "yaxis": {
         "title": {
          "text": "Intermediate Value"
         }
        }
       }
      }
     },
     "metadata": {},
     "output_type": "display_data"
    }
   ],
   "source": [
    "from optuna.visualization import plot_intermediate_values\n",
    "\n",
    "# 1. Plot intermediate values during the trials\n",
    "plot_intermediate_values(study).show()"
   ]
  },
  {
   "cell_type": "code",
   "execution_count": null,
   "metadata": {
    "id": "iQ0mswalTZ7a"
   },
   "outputs": [],
   "source": []
  }
 ],
 "metadata": {
  "colab": {
   "provenance": []
  },
  "kernelspec": {
   "display_name": ".venv",
   "language": "python",
   "name": "python3"
  },
  "language_info": {
   "codemirror_mode": {
    "name": "ipython",
    "version": 3
   },
   "file_extension": ".py",
   "mimetype": "text/x-python",
   "name": "python",
   "nbconvert_exporter": "python",
   "pygments_lexer": "ipython3",
   "version": "3.10.11"
  }
 },
 "nbformat": 4,
 "nbformat_minor": 0
}
