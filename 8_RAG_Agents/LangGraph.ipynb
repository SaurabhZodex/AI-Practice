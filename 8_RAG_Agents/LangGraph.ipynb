{
 "cells": [
  {
   "cell_type": "code",
   "execution_count": null,
   "id": "e6d42e58",
   "metadata": {},
   "outputs": [],
   "source": [
    "GROQ_API_KEY = \"GROQ_API_KEY\"\n",
    "SERP_API_KEY = \"SERP_API_KEY\"\n",
    "ANTHROPY_API_KEY = \"ANTHROPY_API_KEY\""
   ]
  },
  {
   "cell_type": "markdown",
   "id": "4e723729",
   "metadata": {},
   "source": [
    "## Simple Chatbot"
   ]
  },
  {
   "cell_type": "code",
   "execution_count": null,
   "id": "5de95b1b",
   "metadata": {},
   "outputs": [],
   "source": [
    "from langchain_groq import ChatGroq"
   ]
  },
  {
   "cell_type": "code",
   "execution_count": null,
   "id": "65e13273",
   "metadata": {},
   "outputs": [],
   "source": [
    "# Initialize LLM (replace with your preferred model)\n",
    "llm = ChatGroq(\n",
    "    temperature=0,\n",
    "    model_name=\"llama-3.3-70b-versatile\",\n",
    "    api_key=GROQ_API_KEY\n",
    ")"
   ]
  },
  {
   "cell_type": "code",
   "execution_count": 4,
   "id": "a32c44be",
   "metadata": {},
   "outputs": [],
   "source": [
    "from typing import Annotated\n",
    "\n",
    "from typing_extensions import TypedDict\n",
    "\n",
    "from langgraph.graph import StateGraph, START, END\n",
    "from langgraph.graph.message import add_messages\n",
    "\n",
    "\n",
    "class State(TypedDict):\n",
    "    # Messages have the type \"list\". The `add_messages` function\n",
    "    # in the annotation defines how this state key should be updated\n",
    "    # (in this case, it appends messages to the list, rather than overwriting them)\n",
    "    messages: Annotated[list, add_messages]"
   ]
  },
  {
   "cell_type": "code",
   "execution_count": 5,
   "id": "4d1f1c0a",
   "metadata": {},
   "outputs": [],
   "source": [
    "def chatbot(state: State):\n",
    "    return {\"messages\": [llm.invoke(state[\"messages\"])]}\n",
    "# The first argument is the unique node name\n",
    "# The second argument is the function or object that will be called whenever\n",
    "# the node is used."
   ]
  },
  {
   "cell_type": "code",
   "execution_count": 6,
   "id": "cacf7a3f",
   "metadata": {},
   "outputs": [
    {
     "data": {
      "text/plain": [
       "<langgraph.graph.state.StateGraph at 0x2e1f1969390>"
      ]
     },
     "execution_count": 6,
     "metadata": {},
     "output_type": "execute_result"
    }
   ],
   "source": [
    "graph_builder = StateGraph(State)\n",
    "graph_builder.add_node(\"chatbot\", chatbot)"
   ]
  },
  {
   "cell_type": "code",
   "execution_count": 7,
   "id": "cc64fb86",
   "metadata": {},
   "outputs": [],
   "source": [
    "graph_builder.add_edge(START, \"chatbot\")\n",
    "graph_builder.add_edge(\"chatbot\", END)\n",
    "graph = graph_builder.compile()"
   ]
  },
  {
   "cell_type": "code",
   "execution_count": 8,
   "id": "bb121615",
   "metadata": {},
   "outputs": [
    {
     "data": {
      "image/png": "[encoded data removed]",
      "text/plain": [
       "<IPython.core.display.Image object>"
      ]
     },
     "metadata": {},
     "output_type": "display_data"
    }
   ],
   "source": [
    "from IPython.display import Image, display, Markdown\n",
    "\n",
    "try:\n",
    "    display(Image(graph.get_graph().draw_mermaid_png()))\n",
    "except Exception:\n",
    "    # This requires some extra dependencies and is optional\n",
    "    mermaid_code = graph.get_graph().draw_mermaid()\n",
    "    display(Markdown(f\"```mermaid\\n{mermaid_code}\\n```\"))"
   ]
  },
  {
   "cell_type": "code",
   "execution_count": 9,
   "id": "94456752",
   "metadata": {},
   "outputs": [],
   "source": [
    "def stream_graph_updates(user_input: str):\n",
    "    print(\"User: \" + user_input)\n",
    "    print(\"--\" * 50)\n",
    "    # This will print the graph updates as they happen\n",
    "    for event in graph.stream({\"messages\": [{\"role\": \"user\", \"content\": user_input}]}):\n",
    "        print(event)\n",
    "        print(\"--\" * 50)\n",
    "        for key, value in event.items():\n",
    "            print(f\"{key}:\", value[\"messages\"][-1].content)"
   ]
  },
  {
   "cell_type": "code",
   "execution_count": 10,
   "id": "2bdd27b1",
   "metadata": {},
   "outputs": [
    {
     "name": "stdout",
     "output_type": "stream",
     "text": [
      "User: Hi, I am Saurabh.\n",
      "----------------------------------------------------------------------------------------------------\n",
      "{'chatbot': {'messages': [AIMessage(content=\"Hello Saurabh, it's nice to meet you. Is there something I can help you with or would you like to chat?\", additional_kwargs={}, response_metadata={'token_usage': {'completion_tokens': 28, 'prompt_tokens': 43, 'total_tokens': 71, 'completion_time': 0.101818182, 'prompt_time': 0.002390045, 'queue_time': 0.061070970999999995, 'total_time': 0.104208227}, 'model_name': 'llama-3.3-70b-versatile', 'system_fingerprint': 'fp_9a8b91ba77', 'finish_reason': 'stop', 'logprobs': None}, id='run-4cc9ca5d-6158-4653-95d8-451945a9daf1-0', usage_metadata={'input_tokens': 43, 'output_tokens': 28, 'total_tokens': 71})]}}\n",
      "----------------------------------------------------------------------------------------------------\n",
      "chatbot: Hello Saurabh, it's nice to meet you. Is there something I can help you with or would you like to chat?\n"
     ]
    }
   ],
   "source": [
    "user_input = \"Hi, I am Saurabh.\"\n",
    "stream_graph_updates(user_input)"
   ]
  },
  {
   "cell_type": "markdown",
   "id": "180f52ab",
   "metadata": {},
   "source": [
    "## Enhancing the Chatbot with Search Tools"
   ]
  },
  {
   "cell_type": "code",
   "execution_count": 108,
   "id": "4c54c3d6",
   "metadata": {},
   "outputs": [],
   "source": [
    "import requests\n",
    "import json\n",
    "from langchain_core.messages import ToolMessage\n",
    "from langchain_core.prompts import PromptTemplate\n",
    "from datetime import datetime"
   ]
  },
  {
   "cell_type": "code",
   "execution_count": null,
   "id": "af33d969",
   "metadata": {},
   "outputs": [],
   "source": [
    "# ================== Internet Search Agent ==================\n",
    "class InternetSearchAgent:\n",
    "    def __init__(self):\n",
    "        self.url = \"https://google.serper.dev/search\"\n",
    "        self.headers = {\n",
    "        'X-API-KEY': SERP_API_KEY,\n",
    "        'Content-Type': 'application/json'\n",
    "        }\n",
    "        self.history = []\n",
    "\n",
    "    def search_web(self, query):\n",
    "        \"\"\"Perform web search with error handling\"\"\"\n",
    "        try:\n",
    "            payload = json.dumps({\n",
    "                \"q\": query,\n",
    "                \"location\": \"India\",\n",
    "                \"gl\": \"in\"\n",
    "            })\n",
    "            response = requests.post(self.url, headers=self.headers, data=payload, timeout=10)\n",
    "            response.raise_for_status()\n",
    "            \n",
    "            result = response.json()\n",
    "            self.history.append({\"query\": query, \"result\": result})\n",
    "            \n",
    "            # Extract and format relevant information\n",
    "            if 'organic' not in result:\n",
    "                return \"No relevant web results found.\"\n",
    "                \n",
    "            top_results = result['organic'][:3]\n",
    "            return \"\\n\".join([f\"{res['title']}: {res.get('snippet', '')}\" for res in top_results])\n",
    "            \n",
    "        except Exception as e:\n",
    "            return f\"Search error: {str(e)}\"\n"
   ]
  },
  {
   "cell_type": "code",
   "execution_count": 13,
   "id": "da82100a",
   "metadata": {},
   "outputs": [],
   "source": [
    "from langchain.tools import Tool  # Import Tool class\n",
    "internet_agent = InternetSearchAgent()\n",
    "internet_search_tool = Tool(\n",
    "    name=\"InternetSearch\",\n",
    "    func=internet_agent.search_web,\n",
    "    description=\"Searches the internet for current information and general knowledge. Input should be a search query string.\"\n",
    ")\n",
    "# Define tools with proper formatting\n",
    "tools = [\n",
    "    internet_search_tool,\n",
    "]"
   ]
  },
  {
   "cell_type": "code",
   "execution_count": 15,
   "id": "867392c7",
   "metadata": {},
   "outputs": [
    {
     "data": {
      "text/plain": [
       "\"LangGraph Glossary - GitHub Pages: Nodes : Python functions that encode the logic of your agents. They receive the current State as input, perform some computation or side-effect, and return an ...\\nLangGraph - LangChain Blog: ... node that is used to represent the end of the graph. It is important that your cycles be able to end eventually! from langgraph.graph import END ...\\nBeginner's Guide to LangGraph: Understanding State, Nodes, and ...: Each node represents a specific function or operation that processes the current state. Nodes can perform computations, modify the state, or ...\""
      ]
     },
     "execution_count": 15,
     "metadata": {},
     "output_type": "execute_result"
    }
   ],
   "source": [
    "internet_search_tool.invoke(\"What's a 'node' in LangGraph?\")"
   ]
  },
  {
   "cell_type": "code",
   "execution_count": 191,
   "id": "67fad154",
   "metadata": {},
   "outputs": [],
   "source": [
    "# Initialize LLM (replace with your preferred model)\n",
    "llm = ChatGroq(\n",
    "    temperature=0,\n",
    "    # model_name=\"llama3-70b-8192\",\n",
    "    model_name=\"llama-3.1-8b-instant\",\n",
    "    api_key=GROQ_API_KEY\n",
    ")\n",
    "# Modification: tell the LLM which tools it can call\n",
    "llm_with_tools = llm.bind_tools(tools)"
   ]
  },
  {
   "cell_type": "code",
   "execution_count": 192,
   "id": "44fdb375",
   "metadata": {},
   "outputs": [],
   "source": [
    "# ================== State Definitions ==================\n",
    "class State(TypedDict):\n",
    "    messages: Annotated[list, add_messages]"
   ]
  },
  {
   "cell_type": "code",
   "execution_count": 193,
   "id": "02862f82",
   "metadata": {},
   "outputs": [
    {
     "data": {
      "text/plain": [
       "{'InternetSearch': Tool(name='InternetSearch', description='Searches the internet for current information and general knowledge. Input should be a search query string.', func=<bound method InternetSearchAgent.search_web of <__main__.InternetSearchAgent object at 0x000002E1F2C55ED0>>)}"
      ]
     },
     "execution_count": 193,
     "metadata": {},
     "output_type": "execute_result"
    }
   ],
   "source": [
    "tools_by_name = {tool.name: tool for tool in tools}\n",
    "tools_by_name"
   ]
  },
  {
   "cell_type": "markdown",
   "id": "90ff378b",
   "metadata": {},
   "source": [
    "State:  {'messages': [\n",
    "\n",
    "    HumanMessage(content='Hi, I am Saurabh.', additional_kwargs={}, response_metadata={}, id='36f8373d-a4d2-4b28-8195-75eef34bfeb9'),\n",
    "\n",
    "    AIMessage(content='', additional_kwargs={'tool_calls': [{'id': 'call_k7wv', 'function': {'arguments': '{\"__arg1\":\"Saurabh\"}', 'name': 'InternetSearch'}, 'type': 'function'}]}, response_metadata={'token_usage': {'completion_tokens': 47, 'prompt_tokens': 931, 'total_tokens': 978, 'completion_time': 0.134285714, 'prompt_time': 0.038009731, 'queue_time': 0.054636106999999996, 'total_time': 0.172295445}, 'model_name': 'llama3-70b-8192', 'system_fingerprint': 'fp_dd4ae1c591', 'finish_reason': 'tool_calls', 'logprobs': None}, id='run-2d687b0f-36f1-48e7-a83f-fe28f38efa88-0', tool_calls=[{'name': 'InternetSearch', 'args': {'__arg1': 'Saurabh'}, 'id': 'call_k7wv', 'type': 'tool_call'}], usage_metadata={'input_tokens': 931, 'output_tokens': 47, 'total_tokens': 978}),\n",
    "    \n",
    "    ToolMessage(content='\"Saurabh Tiwary - Wikipedia: Saurabh Tiwary (born 30 December 1989) is an Indian former cricketer who played as a left-handed middle order batsman. He was one of the key batsmen in the ...\\\\nSaurabh Tiwary Profile - Cricket Player India | Stats, Records, Video: Saurabh Tiwary, a left-handed batsman who began playing cricket at the age of 11, represented Jharkhand at the Under-14 level before making his first-class ...\\\\nSaurabh Tiwary (@iamstiwary) \\\\u2022 Instagram photos and videos: Cricketer. Jharkhand @mumbaiindians \\\\u00b7 Photo by Saurabh Tiwary on April 13, 2016. Blessed to share the dugout area with these stalwarts of the game. \\\\u00b7 Photo by ...\"', name='InternetSearch', id='60a8af3f-bda0-4664-9c20-778a9c074572', tool_call_id='call_k7wv')\n",
    "    \n",
    "    ]}"
   ]
  },
  {
   "cell_type": "code",
   "execution_count": 194,
   "id": "b5973924",
   "metadata": {},
   "outputs": [],
   "source": [
    "# ================== Node Definitions ==================\n",
    "def chatbot(state: State):\n",
    "    # print(\"State: \", state)\n",
    "    return {\"messages\": [llm_with_tools.invoke(state[\"messages\"])]}\n",
    "    # Define the prompt template\n",
    "    prompt = PromptTemplate(\n",
    "        template=\"\"\"You are a helpful AI assistant with access to internet search. \n",
    "        Current date: {current_date}\n",
    "        \n",
    "        Use internet search when:\n",
    "        1. Asked about recent events or news\n",
    "        2. Questions require up-to-date information (after your knowledge cutoff)\n",
    "        3. You need factual data that may not be in your training\n",
    "        4. User asks for latest research, statistics, or developments\n",
    "        \n",
    "        Guidelines:\n",
    "        - First determine if the question requires current information\n",
    "        - If needed, call the search tool with a concise yet specific query\n",
    "        - Always maintain helpful, conversational tone\n",
    "        \n",
    "        Question: {question}\n",
    "        \"\"\",\n",
    "        input_variables=[\"question\", \"current_date\"],\n",
    "    )\n",
    "    \n",
    "    # Get the conversation history and latest question\n",
    "    messages = state[\"messages\"][-1].content\n",
    "    \n",
    "    # Create and invoke the chain\n",
    "    chain = prompt | llm_with_tools\n",
    "    result = chain.invoke({\n",
    "        \"question\": messages,\n",
    "        \"current_date\": datetime.now().strftime(\"%Y-%m-%d\")\n",
    "    })\n",
    "    return {\"messages\": [result]}\n",
    "\n",
    "class BasicToolNode:\n",
    "    \"\"\"A node that runs the tools requested in the last AIMessage.\"\"\"\n",
    "\n",
    "    def __init__(self, tools: list) -> None:\n",
    "        self.tools_by_name = {tool.name: tool for tool in tools}\n",
    "\n",
    "    def __call__(self, inputs: dict):\n",
    "        if messages := inputs.get(\"messages\", []):\n",
    "            message = messages[-1]\n",
    "        else:\n",
    "            raise ValueError(\"No message found in input\")\n",
    "        outputs = []\n",
    "        for tool_call in message.tool_calls:\n",
    "            tool_result = self.tools_by_name[tool_call[\"name\"]].invoke(\n",
    "                tool_call[\"args\"]\n",
    "            )\n",
    "            outputs.append(\n",
    "                ToolMessage(\n",
    "                    content=json.dumps(tool_result),\n",
    "                    name=tool_call[\"name\"],\n",
    "                    tool_call_id=tool_call[\"id\"],\n",
    "                )\n",
    "            )\n",
    "        return {\"messages\": outputs}\n",
    "tool_node = BasicToolNode(tools=tools)"
   ]
  },
  {
   "cell_type": "code",
   "execution_count": 195,
   "id": "2894ef31",
   "metadata": {},
   "outputs": [],
   "source": [
    "# ================== Conditional Edge ==================\n",
    "def route_tools(state: State,):\n",
    "    \"\"\"\n",
    "    Use in the conditional_edge to route to the ToolNode if the last message\n",
    "    has tool calls. Otherwise, route to the end.\n",
    "    \"\"\"\n",
    "    if isinstance(state, list):\n",
    "        ai_message = state[-1]\n",
    "    elif messages := state.get(\"messages\", []):\n",
    "        ai_message = messages[-1]\n",
    "    else:\n",
    "        raise ValueError(f\"No messages found in input state to tool_edge: {state}\")\n",
    "    # print(\"AI Message:\", ai_message)\n",
    "    if hasattr(ai_message, \"tool_calls\") and len(ai_message.tool_calls) > 0:\n",
    "        return \"tools\"\n",
    "    return END"
   ]
  },
  {
   "cell_type": "code",
   "execution_count": 196,
   "id": "bc0a0694",
   "metadata": {},
   "outputs": [
    {
     "data": {
      "text/plain": [
       "<langgraph.graph.state.StateGraph at 0x2e1f8b5a5f0>"
      ]
     },
     "execution_count": 196,
     "metadata": {},
     "output_type": "execute_result"
    }
   ],
   "source": [
    "#  ================== Graph Definition ==================\n",
    "graph_builder = StateGraph(State)\n",
    "# Add the nodes to the graph\n",
    "graph_builder.add_node(\"chatbot\", chatbot)\n",
    "graph_builder.add_node(\"tools\", tool_node)\n"
   ]
  },
  {
   "cell_type": "code",
   "execution_count": 197,
   "id": "f157c586",
   "metadata": {},
   "outputs": [
    {
     "data": {
      "text/plain": [
       "<langgraph.graph.state.StateGraph at 0x2e1f8b5a5f0>"
      ]
     },
     "execution_count": 197,
     "metadata": {},
     "output_type": "execute_result"
    }
   ],
   "source": [
    "# The `tools_condition` function returns \"tools\" if the chatbot asks to use a tool, and \"END\" if\n",
    "# it is fine directly responding. This conditional routing defines the main agent loop.\n",
    "graph_builder.add_conditional_edges(\n",
    "    \"chatbot\",\n",
    "    route_tools,\n",
    "    # The following dictionary lets you tell the graph to interpret the condition's outputs as a specific node\n",
    "    # It defaults to the identity function, but if you\n",
    "    # want to use a node named something else apart from \"tools\",\n",
    "    # You can update the value of the dictionary to something else\n",
    "    # e.g., \"tools\": \"my_tools\"\n",
    "    {\"tools\": \"tools\", END: END},\n",
    ")"
   ]
  },
  {
   "cell_type": "code",
   "execution_count": 198,
   "id": "647fde98",
   "metadata": {},
   "outputs": [
    {
     "data": {
      "text/plain": [
       "<langgraph.graph.state.StateGraph at 0x2e1f8b5a5f0>"
      ]
     },
     "execution_count": 198,
     "metadata": {},
     "output_type": "execute_result"
    }
   ],
   "source": [
    "# Any time a tool is called, we return to the chatbot to decide the next step\n",
    "graph_builder.add_edge(START, \"chatbot\")\n",
    "graph_builder.add_edge(\"tools\", \"chatbot\")"
   ]
  },
  {
   "cell_type": "code",
   "execution_count": 199,
   "id": "480b40d5",
   "metadata": {},
   "outputs": [],
   "source": [
    "graph = graph_builder.compile()"
   ]
  },
  {
   "cell_type": "code",
   "execution_count": 200,
   "id": "14e90a31",
   "metadata": {},
   "outputs": [
    {
     "data": {
      "image/png": "[encoded data removed]",
      "text/plain": [
       "<IPython.core.display.Image object>"
      ]
     },
     "metadata": {},
     "output_type": "display_data"
    }
   ],
   "source": [
    "from IPython.display import Image, display, Markdown\n",
    "\n",
    "try:\n",
    "    display(Image(graph.get_graph().draw_mermaid_png()))\n",
    "except Exception:\n",
    "    # This requires some extra dependencies and is optional\n",
    "    mermaid_code = graph.get_graph().draw_mermaid()\n",
    "    display(Markdown(f\"```mermaid\\n{mermaid_code}\\n```\"))"
   ]
  },
  {
   "cell_type": "code",
   "execution_count": 201,
   "id": "93395a61",
   "metadata": {},
   "outputs": [],
   "source": [
    "def stream_graph_updates(user_input: str):\n",
    "    # print(\"User: \" + user_input)\n",
    "    print(\"==\" * 50)\n",
    "    # This will print the graph updates as they happen\n",
    "    for event in graph.stream({\"messages\": [{\"role\": \"user\", \"content\": user_input}]}):\n",
    "        print(\"--\" * 50)\n",
    "        print(event)\n",
    "        for key, value in event.items():\n",
    "            # print(f\"{key}:\", value[\"messages\"][-1].content)\n",
    "            value[\"messages\"][-1].pretty_print()\n",
    "        ai_output = value[\"messages\"][-1].content\n",
    "    print(\"================================== AskAI ==================================\")\n",
    "    print(\"User:\", user_input)\n",
    "    print(\"AskAI:\", ai_output)"
   ]
  },
  {
   "cell_type": "code",
   "execution_count": 202,
   "id": "72aea482",
   "metadata": {},
   "outputs": [
    {
     "name": "stdout",
     "output_type": "stream",
     "text": [
      "====================================================================================================\n",
      "----------------------------------------------------------------------------------------------------\n",
      "{'chatbot': {'messages': [AIMessage(content='Hello Saurabh, how can I assist you today?', additional_kwargs={}, response_metadata={'token_usage': {'completion_tokens': 13, 'prompt_tokens': 254, 'total_tokens': 267, 'completion_time': 0.017333333, 'prompt_time': 0.035331784, 'queue_time': 0.051672435999999995, 'total_time': 0.052665117}, 'model_name': 'llama-3.1-8b-instant', 'system_fingerprint': 'fp_a4265e44d5', 'finish_reason': 'stop', 'logprobs': None}, id='run-86b04e68-e927-4794-9e09-e62bc7bf1a5d-0', usage_metadata={'input_tokens': 254, 'output_tokens': 13, 'total_tokens': 267})]}}\n",
      "==================================\u001b[1m Ai Message \u001b[0m==================================\n",
      "\n",
      "Hello Saurabh, how can I assist you today?\n",
      "================================== AskAI ==================================\n",
      "User: Hi, I am Saurabh.\n",
      "AskAI: Hello Saurabh, how can I assist you today?\n"
     ]
    }
   ],
   "source": [
    "user_input = \"Hi, I am Saurabh.\"\n",
    "stream_graph_updates(user_input)"
   ]
  },
  {
   "cell_type": "code",
   "execution_count": 203,
   "id": "d38461b9",
   "metadata": {},
   "outputs": [
    {
     "name": "stdout",
     "output_type": "stream",
     "text": [
      "====================================================================================================\n",
      "----------------------------------------------------------------------------------------------------\n",
      "{'chatbot': {'messages': [AIMessage(content='', additional_kwargs={'tool_calls': [{'id': 'call_aeve', 'function': {'arguments': '{\"__arg1\": \"Bangalore weather today\"}', 'name': 'InternetSearch'}, 'type': 'function'}]}, response_metadata={'token_usage': {'completion_tokens': 20, 'prompt_tokens': 253, 'total_tokens': 273, 'completion_time': 0.026666667, 'prompt_time': 0.047525174, 'queue_time': 0.047611376, 'total_time': 0.074191841}, 'model_name': 'llama-3.1-8b-instant', 'system_fingerprint': 'fp_a4265e44d5', 'finish_reason': 'tool_calls', 'logprobs': None}, id='run-462c9e05-4795-40ed-9f07-dad124eea546-0', tool_calls=[{'name': 'InternetSearch', 'args': {'__arg1': 'Bangalore weather today'}, 'id': 'call_aeve', 'type': 'tool_call'}], usage_metadata={'input_tokens': 253, 'output_tokens': 20, 'total_tokens': 273})]}}\n",
      "==================================\u001b[1m Ai Message \u001b[0m==================================\n",
      "Tool Calls:\n",
      "  InternetSearch (call_aeve)\n",
      " Call ID: call_aeve\n",
      "  Args:\n",
      "    __arg1: Bangalore weather today\n",
      "----------------------------------------------------------------------------------------------------\n",
      "{'tools': {'messages': [ToolMessage(content='\"Bengaluru, Karnataka, India Weather Forecast - AccuWeather: Hourly Weather \\\\u00b7 1 AM 78\\\\u00b0. rain drop 1% \\\\u00b7 2 AM 77\\\\u00b0. rain drop 1% \\\\u00b7 3 AM 76\\\\u00b0. rain drop 1% \\\\u00b7 4 AM 75\\\\u00b0. rain drop 1% \\\\u00b7 5 AM 75\\\\u00b0. rain drop 1% \\\\u00b7 6 AM 74\\\\u00b0. rain drop 1%.\\\\nReal-Time Bangalore Weather Conditions & Forecast - AQI: Current Bangalore weather condition is Partly cloudy with real-time temperature (27\\\\u00b0C), humidity 62%, wind 25.9km/h, pressure (1015mb), UV (0), ...\\\\nBengaluru-City - Local Weather Report and Forecast: 7 Day\\'s Forecast. Date, Min Temp, Max Temp, Weather. 27-Apr, 23.0, 34.0, Partly cloudy sky with one or two spells of rain or thundershowers.\"', name='InternetSearch', id='bd00a56c-3c50-4c82-a45c-46a608ab2fd9', tool_call_id='call_aeve')]}}\n",
      "=================================\u001b[1m Tool Message \u001b[0m=================================\n",
      "Name: InternetSearch\n",
      "\n",
      "\"Bengaluru, Karnataka, India Weather Forecast - AccuWeather: Hourly Weather \\u00b7 1 AM 78\\u00b0. rain drop 1% \\u00b7 2 AM 77\\u00b0. rain drop 1% \\u00b7 3 AM 76\\u00b0. rain drop 1% \\u00b7 4 AM 75\\u00b0. rain drop 1% \\u00b7 5 AM 75\\u00b0. rain drop 1% \\u00b7 6 AM 74\\u00b0. rain drop 1%.\\nReal-Time Bangalore Weather Conditions & Forecast - AQI: Current Bangalore weather condition is Partly cloudy with real-time temperature (27\\u00b0C), humidity 62%, wind 25.9km/h, pressure (1015mb), UV (0), ...\\nBengaluru-City - Local Weather Report and Forecast: 7 Day's Forecast. Date, Min Temp, Max Temp, Weather. 27-Apr, 23.0, 34.0, Partly cloudy sky with one or two spells of rain or thundershowers.\"\n",
      "----------------------------------------------------------------------------------------------------\n",
      "{'chatbot': {'messages': [AIMessage(content='The weather in Bangalore is partly cloudy with a temperature of 27°C, humidity of 62%, wind speed of 25.9km/h, and pressure of 1015mb. There is a chance of rain or thundershowers.', additional_kwargs={}, response_metadata={'token_usage': {'completion_tokens': 51, 'prompt_tokens': 538, 'total_tokens': 589, 'completion_time': 0.068, 'prompt_time': 0.080595782, 'queue_time': 0.06985665799999999, 'total_time': 0.148595782}, 'model_name': 'llama-3.1-8b-instant', 'system_fingerprint': 'fp_a4265e44d5', 'finish_reason': 'stop', 'logprobs': None}, id='run-90d5cb2d-8fe4-4a0a-b6e7-bb2fd6da9adb-0', usage_metadata={'input_tokens': 538, 'output_tokens': 51, 'total_tokens': 589})]}}\n",
      "==================================\u001b[1m Ai Message \u001b[0m==================================\n",
      "\n",
      "The weather in Bangalore is partly cloudy with a temperature of 27°C, humidity of 62%, wind speed of 25.9km/h, and pressure of 1015mb. There is a chance of rain or thundershowers.\n",
      "================================== AskAI ==================================\n",
      "User: What is the weather in Bangalore.\n",
      "AskAI: The weather in Bangalore is partly cloudy with a temperature of 27°C, humidity of 62%, wind speed of 25.9km/h, and pressure of 1015mb. There is a chance of rain or thundershowers.\n"
     ]
    }
   ],
   "source": [
    "user_input = \"What is the weather in Bangalore.\"\n",
    "stream_graph_updates(user_input)"
   ]
  },
  {
   "cell_type": "markdown",
   "id": "53a27dd9",
   "metadata": {},
   "source": [
    "## Adding Memory to the Chatbot"
   ]
  },
  {
   "cell_type": "code",
   "execution_count": 204,
   "id": "631777c9",
   "metadata": {},
   "outputs": [],
   "source": [
    "import requests\n",
    "import json\n",
    "from langchain_core.messages import ToolMessage\n",
    "from langchain_core.prompts import PromptTemplate\n",
    "from datetime import datetime"
   ]
  },
  {
   "cell_type": "code",
   "execution_count": 205,
   "id": "a2be526a",
   "metadata": {},
   "outputs": [],
   "source": [
    "# ================== Internet Search Agent ==================\n",
    "class InternetSearchAgent:\n",
    "    def __init__(self):\n",
    "        self.url = \"https://google.serper.dev/search\"\n",
    "        self.headers = {\n",
    "        'X-API-KEY': SERP_API_KEY,\n",
    "        'Content-Type': 'application/json'\n",
    "        }\n",
    "        self.history = []\n",
    "\n",
    "    def search_web(self, query):\n",
    "        \"\"\"Perform web search with error handling\"\"\"\n",
    "        try:\n",
    "            payload = json.dumps({\n",
    "                \"q\": query,\n",
    "                \"location\": \"India\",\n",
    "                \"gl\": \"in\"\n",
    "            })\n",
    "            response = requests.post(self.url, headers=self.headers, data=payload, timeout=10)\n",
    "            response.raise_for_status()\n",
    "            \n",
    "            result = response.json()\n",
    "            self.history.append({\"query\": query, \"result\": result})\n",
    "            \n",
    "            # Extract and format relevant information\n",
    "            if 'organic' not in result:\n",
    "                return \"No relevant web results found.\"\n",
    "                \n",
    "            top_results = result['organic'][:3]\n",
    "            return \"\\n\".join([f\"{res['title']}: {res.get('snippet', '')}\" for res in top_results])\n",
    "            \n",
    "        except Exception as e:\n",
    "            return f\"Search error: {str(e)}\"\n"
   ]
  },
  {
   "cell_type": "code",
   "execution_count": 206,
   "id": "1d256765",
   "metadata": {},
   "outputs": [],
   "source": [
    "from langchain.tools import Tool  # Import Tool class\n",
    "internet_agent = InternetSearchAgent()\n",
    "internet_search_tool = Tool(\n",
    "    name=\"InternetSearch\",\n",
    "    func=internet_agent.search_web,\n",
    "    description=\"Searches the internet for current information and general knowledge. Input should be a search query string.\"\n",
    ")\n",
    "# Define tools with proper formatting\n",
    "tools = [\n",
    "    internet_search_tool,\n",
    "]"
   ]
  },
  {
   "cell_type": "code",
   "execution_count": 207,
   "id": "132ce7d9",
   "metadata": {},
   "outputs": [
    {
     "data": {
      "text/plain": [
       "\"LangGraph Glossary - GitHub Pages: Nodes : Python functions that encode the logic of your agents. They receive the current State as input, perform some computation or side-effect, and return an ...\\nLangGraph - LangChain Blog: ... node that is used to represent the end of the graph. It is important that your cycles be able to end eventually! from langgraph.graph import END ...\\nBeginner's Guide to LangGraph: Understanding State, Nodes, and ...: Each node represents a specific function or operation that processes the current state. Nodes can perform computations, modify the state, or ...\""
      ]
     },
     "execution_count": 207,
     "metadata": {},
     "output_type": "execute_result"
    }
   ],
   "source": [
    "internet_search_tool.invoke(\"What's a 'node' in LangGraph?\")"
   ]
  },
  {
   "cell_type": "code",
   "execution_count": 240,
   "id": "4a1da7ce",
   "metadata": {},
   "outputs": [],
   "source": [
    "# Initialize LLM (replace with your preferred model)\n",
    "llm = ChatGroq(\n",
    "    temperature=0,\n",
    "    # model_name=\"llama3-70b-8192\",\n",
    "    model_name=\"llama-3.1-8b-instant\",\n",
    "    api_key=GROQ_API_KEY\n",
    ")\n",
    "# Modification: tell the LLM which tools it can call\n",
    "llm_with_tools = llm.bind_tools(tools)"
   ]
  },
  {
   "cell_type": "code",
   "execution_count": 241,
   "id": "6feb3214",
   "metadata": {},
   "outputs": [],
   "source": [
    "# ================== State Definitions ==================\n",
    "class State(TypedDict):\n",
    "    messages: Annotated[list, add_messages]"
   ]
  },
  {
   "cell_type": "code",
   "execution_count": 242,
   "id": "48e83ab9",
   "metadata": {},
   "outputs": [],
   "source": [
    "# ================== Node Definitions ==================\n",
    "def chatbot(state: State):\n",
    "    # print(\"State: \", state)\n",
    "    return {\"messages\": [llm_with_tools.invoke(state[\"messages\"])]}\n",
    "    # Define the prompt template\n",
    "    prompt = PromptTemplate(\n",
    "        template=\"\"\"You are a helpful AI assistant with access to internet search. \n",
    "        Current date: {current_date}\n",
    "        \n",
    "        Use internet search when:\n",
    "        1. Asked about recent events or news\n",
    "        2. Questions require up-to-date information (after your knowledge cutoff)\n",
    "        3. You need factual data that may not be in your training\n",
    "        4. User asks for latest research, statistics, or developments\n",
    "        \n",
    "        Guidelines:\n",
    "        - First determine if the question requires current information\n",
    "        - If needed, call the search tool with a concise yet specific query\n",
    "        - Always maintain helpful, conversational tone\n",
    "        \n",
    "        Question: {question}\n",
    "        \"\"\",\n",
    "        input_variables=[\"question\", \"current_date\"],\n",
    "    )\n",
    "    \n",
    "    # Get the conversation history and latest question\n",
    "    messages = state[\"messages\"][-1].content\n",
    "    \n",
    "    # Create and invoke the chain\n",
    "    chain = prompt | llm_with_tools\n",
    "    result = chain.invoke({\n",
    "        \"question\": messages,\n",
    "        \"current_date\": datetime.now().strftime(\"%Y-%m-%d\")\n",
    "    })\n",
    "    return {\"messages\": [result]}\n",
    "\n",
    "class BasicToolNode:\n",
    "    \"\"\"A node that runs the tools requested in the last AIMessage.\"\"\"\n",
    "\n",
    "    def __init__(self, tools: list) -> None:\n",
    "        self.tools_by_name = {tool.name: tool for tool in tools}\n",
    "\n",
    "    def __call__(self, inputs: dict):\n",
    "        if messages := inputs.get(\"messages\", []):\n",
    "            message = messages[-1]\n",
    "        else:\n",
    "            raise ValueError(\"No message found in input\")\n",
    "        outputs = []\n",
    "        for tool_call in message.tool_calls:\n",
    "            tool_result = self.tools_by_name[tool_call[\"name\"]].invoke(\n",
    "                tool_call[\"args\"]\n",
    "            )\n",
    "            outputs.append(\n",
    "                ToolMessage(\n",
    "                    content=json.dumps(tool_result),\n",
    "                    name=tool_call[\"name\"],\n",
    "                    tool_call_id=tool_call[\"id\"],\n",
    "                )\n",
    "            )\n",
    "        return {\"messages\": outputs}\n",
    "tool_node = BasicToolNode(tools=tools)"
   ]
  },
  {
   "cell_type": "code",
   "execution_count": 243,
   "id": "6e75ed07",
   "metadata": {},
   "outputs": [],
   "source": [
    "# ================== Conditional Edge ==================\n",
    "def route_tools(state: State,):\n",
    "    \"\"\"\n",
    "    Use in the conditional_edge to route to the ToolNode if the last message\n",
    "    has tool calls. Otherwise, route to the end.\n",
    "    \"\"\"\n",
    "    if isinstance(state, list):\n",
    "        ai_message = state[-1]\n",
    "    elif messages := state.get(\"messages\", []):\n",
    "        ai_message = messages[-1]\n",
    "    else:\n",
    "        raise ValueError(f\"No messages found in input state to tool_edge: {state}\")\n",
    "    # print(\"AI Message:\", ai_message)\n",
    "    if hasattr(ai_message, \"tool_calls\") and len(ai_message.tool_calls) > 0:\n",
    "        return \"tools\"\n",
    "    return END"
   ]
  },
  {
   "cell_type": "code",
   "execution_count": 244,
   "id": "e8e29756",
   "metadata": {},
   "outputs": [],
   "source": [
    "from langgraph.checkpoint.memory import MemorySaver\n",
    "\n",
    "memory = MemorySaver()"
   ]
  },
  {
   "cell_type": "code",
   "execution_count": 245,
   "id": "a2211477",
   "metadata": {},
   "outputs": [
    {
     "data": {
      "text/plain": [
       "<langgraph.graph.state.StateGraph at 0x2e1f8c87460>"
      ]
     },
     "execution_count": 245,
     "metadata": {},
     "output_type": "execute_result"
    }
   ],
   "source": [
    "#  ================== Graph Definition ==================\n",
    "graph_builder = StateGraph(State)\n",
    "# Add the nodes to the graph\n",
    "graph_builder.add_node(\"chatbot\", chatbot)\n",
    "graph_builder.add_node(\"tools\", tool_node)\n"
   ]
  },
  {
   "cell_type": "code",
   "execution_count": 246,
   "id": "8dccb4a8",
   "metadata": {},
   "outputs": [
    {
     "data": {
      "text/plain": [
       "<langgraph.graph.state.StateGraph at 0x2e1f8c87460>"
      ]
     },
     "execution_count": 246,
     "metadata": {},
     "output_type": "execute_result"
    }
   ],
   "source": [
    "# The `tools_condition` function returns \"tools\" if the chatbot asks to use a tool, and \"END\" if\n",
    "# it is fine directly responding. This conditional routing defines the main agent loop.\n",
    "graph_builder.add_conditional_edges(\n",
    "    \"chatbot\",\n",
    "    route_tools,\n",
    "    # The following dictionary lets you tell the graph to interpret the condition's outputs as a specific node\n",
    "    # It defaults to the identity function, but if you\n",
    "    # want to use a node named something else apart from \"tools\",\n",
    "    # You can update the value of the dictionary to something else\n",
    "    # e.g., \"tools\": \"my_tools\"\n",
    "    {\"tools\": \"tools\", END: END},\n",
    ")"
   ]
  },
  {
   "cell_type": "code",
   "execution_count": 247,
   "id": "18aa5b9f",
   "metadata": {},
   "outputs": [
    {
     "data": {
      "text/plain": [
       "<langgraph.graph.state.StateGraph at 0x2e1f8c87460>"
      ]
     },
     "execution_count": 247,
     "metadata": {},
     "output_type": "execute_result"
    }
   ],
   "source": [
    "# Any time a tool is called, we return to the chatbot to decide the next step\n",
    "graph_builder.add_edge(START, \"chatbot\")\n",
    "graph_builder.add_edge(\"tools\", \"chatbot\")"
   ]
  },
  {
   "cell_type": "code",
   "execution_count": 248,
   "id": "60b7e081",
   "metadata": {},
   "outputs": [],
   "source": [
    "graph = graph_builder.compile(checkpointer=memory)"
   ]
  },
  {
   "cell_type": "code",
   "execution_count": 249,
   "id": "a71cb46a",
   "metadata": {},
   "outputs": [
    {
     "data": {
      "image/png": "[encoded data removed]",
      "text/plain": [
       "<IPython.core.display.Image object>"
      ]
     },
     "metadata": {},
     "output_type": "display_data"
    }
   ],
   "source": [
    "from IPython.display import Image, display, Markdown\n",
    "\n",
    "try:\n",
    "    display(Image(graph.get_graph().draw_mermaid_png()))\n",
    "except Exception:\n",
    "    # This requires some extra dependencies and is optional\n",
    "    mermaid_code = graph.get_graph().draw_mermaid()\n",
    "    display(Markdown(f\"```mermaid\\n{mermaid_code}\\n```\"))"
   ]
  },
  {
   "cell_type": "code",
   "execution_count": 250,
   "id": "508d50f1",
   "metadata": {},
   "outputs": [],
   "source": [
    "config = {\"configurable\": {\"thread_id\": \"1\"}}"
   ]
  },
  {
   "cell_type": "code",
   "execution_count": 251,
   "id": "e90149bb",
   "metadata": {},
   "outputs": [],
   "source": [
    "def stream_graph_updates(user_input: str):\n",
    "    # print(\"User: \" + user_input)\n",
    "    print(\"==\" * 50)\n",
    "    # This will print the graph updates as they happen\n",
    "    for event in graph.stream({\"messages\": [{\"role\": \"user\", \"content\": user_input}]}, config):\n",
    "        print(\"--\" * 50)\n",
    "        print(event)\n",
    "        for key, value in event.items():\n",
    "            # print(f\"{key}:\", value[\"messages\"][-1].content)\n",
    "            value[\"messages\"][-1].pretty_print()\n",
    "        ai_output = value[\"messages\"][-1].content\n",
    "    print(\"================================== AskAI ==================================\")\n",
    "    print(\"User:\", user_input)\n",
    "    print(\"AskAI:\", ai_output)"
   ]
  },
  {
   "cell_type": "code",
   "execution_count": 252,
   "id": "1fdc2570",
   "metadata": {},
   "outputs": [
    {
     "name": "stdout",
     "output_type": "stream",
     "text": [
      "====================================================================================================\n",
      "----------------------------------------------------------------------------------------------------\n",
      "{'chatbot': {'messages': [AIMessage(content='Hello Saurabh, how can I assist you today?', additional_kwargs={}, response_metadata={'token_usage': {'completion_tokens': 13, 'prompt_tokens': 254, 'total_tokens': 267, 'completion_time': 0.017333333, 'prompt_time': 0.047622217, 'queue_time': 0.954682987, 'total_time': 0.06495555}, 'model_name': 'llama-3.1-8b-instant', 'system_fingerprint': 'fp_8d1c73bd4c', 'finish_reason': 'stop', 'logprobs': None}, id='run-7160f215-36c5-4871-97a9-98a7db1eebb1-0', usage_metadata={'input_tokens': 254, 'output_tokens': 13, 'total_tokens': 267})]}}\n",
      "==================================\u001b[1m Ai Message \u001b[0m==================================\n",
      "\n",
      "Hello Saurabh, how can I assist you today?\n",
      "================================== AskAI ==================================\n",
      "User: Hi, I am Saurabh.\n",
      "AskAI: Hello Saurabh, how can I assist you today?\n"
     ]
    }
   ],
   "source": [
    "user_input = \"Hi, I am Saurabh.\"\n",
    "stream_graph_updates(user_input)"
   ]
  },
  {
   "cell_type": "code",
   "execution_count": 253,
   "id": "43a7ffe0",
   "metadata": {},
   "outputs": [
    {
     "name": "stdout",
     "output_type": "stream",
     "text": [
      "====================================================================================================\n",
      "----------------------------------------------------------------------------------------------------\n",
      "{'chatbot': {'messages': [AIMessage(content='', additional_kwargs={'tool_calls': [{'id': 'call_da0t', 'function': {'arguments': '{\"search query string\": \"Bangalore weather today\"}', 'name': 'InternetSearch'}, 'type': 'function'}]}, response_metadata={'token_usage': {'completion_tokens': 20, 'prompt_tokens': 289, 'total_tokens': 309, 'completion_time': 0.026666667, 'prompt_time': 0.027869836, 'queue_time': 0.046563859, 'total_time': 0.054536503}, 'model_name': 'llama-3.1-8b-instant', 'system_fingerprint': 'fp_a56f6eea01', 'finish_reason': 'tool_calls', 'logprobs': None}, id='run-2ebf192c-6e11-4889-abbd-b4bc245c3996-0', tool_calls=[{'name': 'InternetSearch', 'args': {'search query string': 'Bangalore weather today'}, 'id': 'call_da0t', 'type': 'tool_call'}], usage_metadata={'input_tokens': 289, 'output_tokens': 20, 'total_tokens': 309})]}}\n",
      "==================================\u001b[1m Ai Message \u001b[0m==================================\n",
      "Tool Calls:\n",
      "  InternetSearch (call_da0t)\n",
      " Call ID: call_da0t\n",
      "  Args:\n",
      "    search query string: Bangalore weather today\n",
      "----------------------------------------------------------------------------------------------------\n",
      "{'tools': {'messages': [ToolMessage(content='\"Bengaluru, Karnataka, India Weather Forecast - AccuWeather: Hourly Weather \\\\u00b7 1 AM 78\\\\u00b0. rain drop 1% \\\\u00b7 2 AM 77\\\\u00b0. rain drop 1% \\\\u00b7 3 AM 76\\\\u00b0. rain drop 1% \\\\u00b7 4 AM 75\\\\u00b0. rain drop 1% \\\\u00b7 5 AM 75\\\\u00b0. rain drop 1% \\\\u00b7 6 AM 74\\\\u00b0. rain drop 1%.\\\\nReal-Time Bangalore Weather Conditions & Forecast - AQI: Current Bangalore weather condition is Partly cloudy with real-time temperature (27\\\\u00b0C), humidity 62%, wind 25.9km/h, pressure (1015mb), UV (0), ...\\\\nBengaluru-City - Local Weather Report and Forecast: Date, Min Temp, Max Temp, Weather ; 27-Apr, 23.0, 34.0, Partly cloudy sky with one or two spells of rain or thundershowers.\"', name='InternetSearch', id='c0469412-c904-4a74-bff3-0cfa28f877db', tool_call_id='call_da0t')]}}\n",
      "=================================\u001b[1m Tool Message \u001b[0m=================================\n",
      "Name: InternetSearch\n",
      "\n",
      "\"Bengaluru, Karnataka, India Weather Forecast - AccuWeather: Hourly Weather \\u00b7 1 AM 78\\u00b0. rain drop 1% \\u00b7 2 AM 77\\u00b0. rain drop 1% \\u00b7 3 AM 76\\u00b0. rain drop 1% \\u00b7 4 AM 75\\u00b0. rain drop 1% \\u00b7 5 AM 75\\u00b0. rain drop 1% \\u00b7 6 AM 74\\u00b0. rain drop 1%.\\nReal-Time Bangalore Weather Conditions & Forecast - AQI: Current Bangalore weather condition is Partly cloudy with real-time temperature (27\\u00b0C), humidity 62%, wind 25.9km/h, pressure (1015mb), UV (0), ...\\nBengaluru-City - Local Weather Report and Forecast: Date, Min Temp, Max Temp, Weather ; 27-Apr, 23.0, 34.0, Partly cloudy sky with one or two spells of rain or thundershowers.\"\n",
      "----------------------------------------------------------------------------------------------------\n",
      "{'chatbot': {'messages': [AIMessage(content='It seems like the weather in Bangalore is partly cloudy with a temperature of around 27°C and a humidity of 62%. There might be some rain or thundershowers.', additional_kwargs={}, response_metadata={'token_usage': {'completion_tokens': 37, 'prompt_tokens': 568, 'total_tokens': 605, 'completion_time': 0.049333333, 'prompt_time': 0.106139323, 'queue_time': 0.266735832, 'total_time': 0.155472656}, 'model_name': 'llama-3.1-8b-instant', 'system_fingerprint': 'fp_8d1c73bd4c', 'finish_reason': 'stop', 'logprobs': None}, id='run-17851cd0-4277-4bde-aa5a-dac19aadfc8b-0', usage_metadata={'input_tokens': 568, 'output_tokens': 37, 'total_tokens': 605})]}}\n",
      "==================================\u001b[1m Ai Message \u001b[0m==================================\n",
      "\n",
      "It seems like the weather in Bangalore is partly cloudy with a temperature of around 27°C and a humidity of 62%. There might be some rain or thundershowers.\n",
      "================================== AskAI ==================================\n",
      "User: I live in Bangalore. Can you tell me the weather there?\n",
      "AskAI: It seems like the weather in Bangalore is partly cloudy with a temperature of around 27°C and a humidity of 62%. There might be some rain or thundershowers.\n"
     ]
    }
   ],
   "source": [
    "user_input = \"I live in Bangalore. Can you tell me the weather there?\"\n",
    "stream_graph_updates(user_input)"
   ]
  },
  {
   "cell_type": "code",
   "execution_count": 254,
   "id": "6569803a",
   "metadata": {},
   "outputs": [
    {
     "name": "stdout",
     "output_type": "stream",
     "text": [
      "====================================================================================================\n",
      "----------------------------------------------------------------------------------------------------\n",
      "{'chatbot': {'messages': [AIMessage(content='I remember, your name is Saurabh and you live in Bangalore.', additional_kwargs={}, response_metadata={'token_usage': {'completion_tokens': 16, 'prompt_tokens': 622, 'total_tokens': 638, 'completion_time': 0.021333333, 'prompt_time': 0.029782457, 'queue_time': 0.070348577, 'total_time': 0.05111579}, 'model_name': 'llama-3.1-8b-instant', 'system_fingerprint': 'fp_8d1c73bd4c', 'finish_reason': 'stop', 'logprobs': None}, id='run-5c2283cb-d3ae-48e7-afab-eb3fac8c8fe4-0', usage_metadata={'input_tokens': 622, 'output_tokens': 16, 'total_tokens': 638})]}}\n",
      "==================================\u001b[1m Ai Message \u001b[0m==================================\n",
      "\n",
      "I remember, your name is Saurabh and you live in Bangalore.\n",
      "================================== AskAI ==================================\n",
      "User: Remember my name and where I live?\n",
      "AskAI: I remember, your name is Saurabh and you live in Bangalore.\n"
     ]
    }
   ],
   "source": [
    "user_input = \"Remember my name and where I live?\"\n",
    "stream_graph_updates(user_input)"
   ]
  },
  {
   "cell_type": "code",
   "execution_count": 255,
   "id": "761d624a",
   "metadata": {},
   "outputs": [],
   "source": [
    "config = {\"configurable\": {\"thread_id\": \"2\"}}"
   ]
  },
  {
   "cell_type": "code",
   "execution_count": 256,
   "id": "516edc52",
   "metadata": {},
   "outputs": [
    {
     "name": "stdout",
     "output_type": "stream",
     "text": [
      "====================================================================================================\n",
      "----------------------------------------------------------------------------------------------------\n",
      "{'chatbot': {'messages': [AIMessage(content=\"I don't have personal memories or the ability to store information about individual users. Each time you interact with me, it's a new conversation and I don't retain any information from previous conversations.\", additional_kwargs={}, response_metadata={'token_usage': {'completion_tokens': 40, 'prompt_tokens': 254, 'total_tokens': 294, 'completion_time': 0.053333333, 'prompt_time': 0.012486247, 'queue_time': 0.045929409000000004, 'total_time': 0.06581958}, 'model_name': 'llama-3.1-8b-instant', 'system_fingerprint': 'fp_a56f6eea01', 'finish_reason': 'stop', 'logprobs': None}, id='run-0d13227f-a47a-4aa8-8227-26a236c14f1e-0', usage_metadata={'input_tokens': 254, 'output_tokens': 40, 'total_tokens': 294})]}}\n",
      "==================================\u001b[1m Ai Message \u001b[0m==================================\n",
      "\n",
      "I don't have personal memories or the ability to store information about individual users. Each time you interact with me, it's a new conversation and I don't retain any information from previous conversations.\n",
      "================================== AskAI ==================================\n",
      "User: Remember my name and where I live?\n",
      "AskAI: I don't have personal memories or the ability to store information about individual users. Each time you interact with me, it's a new conversation and I don't retain any information from previous conversations.\n"
     ]
    }
   ],
   "source": [
    "user_input = \"Remember my name and where I live?\"\n",
    "stream_graph_updates(user_input)"
   ]
  },
  {
   "cell_type": "code",
   "execution_count": 259,
   "id": "856e1a6a",
   "metadata": {},
   "outputs": [
    {
     "name": "stdout",
     "output_type": "stream",
     "text": [
      "StateSnapshot(values={'messages': [HumanMessage(content='Hi, I am Saurabh.', additional_kwargs={}, response_metadata={}, id='fd195913-4ca4-4fa4-8979-85d57b805743'), AIMessage(content='Hello Saurabh, how can I assist you today?', additional_kwargs={}, response_metadata={'token_usage': {'completion_tokens': 13, 'prompt_tokens': 254, 'total_tokens': 267, 'completion_time': 0.017333333, 'prompt_time': 0.047622217, 'queue_time': 0.954682987, 'total_time': 0.06495555}, 'model_name': 'llama-3.1-8b-instant', 'system_fingerprint': 'fp_8d1c73bd4c', 'finish_reason': 'stop', 'logprobs': None}, id='run-7160f215-36c5-4871-97a9-98a7db1eebb1-0', usage_metadata={'input_tokens': 254, 'output_tokens': 13, 'total_tokens': 267}), HumanMessage(content='I live in Bangalore. Can you tell me the weather there?', additional_kwargs={}, response_metadata={}, id='f58fd5f4-7b85-4ba7-885e-680f835685d1'), AIMessage(content='', additional_kwargs={'tool_calls': [{'id': 'call_da0t', 'function': {'arguments': '{\"search query string\": \"Bangalore weather today\"}', 'name': 'InternetSearch'}, 'type': 'function'}]}, response_metadata={'token_usage': {'completion_tokens': 20, 'prompt_tokens': 289, 'total_tokens': 309, 'completion_time': 0.026666667, 'prompt_time': 0.027869836, 'queue_time': 0.046563859, 'total_time': 0.054536503}, 'model_name': 'llama-3.1-8b-instant', 'system_fingerprint': 'fp_a56f6eea01', 'finish_reason': 'tool_calls', 'logprobs': None}, id='run-2ebf192c-6e11-4889-abbd-b4bc245c3996-0', tool_calls=[{'name': 'InternetSearch', 'args': {'search query string': 'Bangalore weather today'}, 'id': 'call_da0t', 'type': 'tool_call'}], usage_metadata={'input_tokens': 289, 'output_tokens': 20, 'total_tokens': 309}), ToolMessage(content='\"Bengaluru, Karnataka, India Weather Forecast - AccuWeather: Hourly Weather \\\\u00b7 1 AM 78\\\\u00b0. rain drop 1% \\\\u00b7 2 AM 77\\\\u00b0. rain drop 1% \\\\u00b7 3 AM 76\\\\u00b0. rain drop 1% \\\\u00b7 4 AM 75\\\\u00b0. rain drop 1% \\\\u00b7 5 AM 75\\\\u00b0. rain drop 1% \\\\u00b7 6 AM 74\\\\u00b0. rain drop 1%.\\\\nReal-Time Bangalore Weather Conditions & Forecast - AQI: Current Bangalore weather condition is Partly cloudy with real-time temperature (27\\\\u00b0C), humidity 62%, wind 25.9km/h, pressure (1015mb), UV (0), ...\\\\nBengaluru-City - Local Weather Report and Forecast: Date, Min Temp, Max Temp, Weather ; 27-Apr, 23.0, 34.0, Partly cloudy sky with one or two spells of rain or thundershowers.\"', name='InternetSearch', id='c0469412-c904-4a74-bff3-0cfa28f877db', tool_call_id='call_da0t'), AIMessage(content='It seems like the weather in Bangalore is partly cloudy with a temperature of around 27°C and a humidity of 62%. There might be some rain or thundershowers.', additional_kwargs={}, response_metadata={'token_usage': {'completion_tokens': 37, 'prompt_tokens': 568, 'total_tokens': 605, 'completion_time': 0.049333333, 'prompt_time': 0.106139323, 'queue_time': 0.266735832, 'total_time': 0.155472656}, 'model_name': 'llama-3.1-8b-instant', 'system_fingerprint': 'fp_8d1c73bd4c', 'finish_reason': 'stop', 'logprobs': None}, id='run-17851cd0-4277-4bde-aa5a-dac19aadfc8b-0', usage_metadata={'input_tokens': 568, 'output_tokens': 37, 'total_tokens': 605}), HumanMessage(content='Remember my name and where I live?', additional_kwargs={}, response_metadata={}, id='44575a7b-21c0-4a7a-bf57-832ec5d49af6'), AIMessage(content='I remember, your name is Saurabh and you live in Bangalore.', additional_kwargs={}, response_metadata={'token_usage': {'completion_tokens': 16, 'prompt_tokens': 622, 'total_tokens': 638, 'completion_time': 0.021333333, 'prompt_time': 0.029782457, 'queue_time': 0.070348577, 'total_time': 0.05111579}, 'model_name': 'llama-3.1-8b-instant', 'system_fingerprint': 'fp_8d1c73bd4c', 'finish_reason': 'stop', 'logprobs': None}, id='run-5c2283cb-d3ae-48e7-afab-eb3fac8c8fe4-0', usage_metadata={'input_tokens': 622, 'output_tokens': 16, 'total_tokens': 638})]}, next=(), config={'configurable': {'thread_id': '1', 'checkpoint_ns': '', 'checkpoint_id': '1f0239c9-ba51-6317-8009-677819bbda50'}}, metadata={'source': 'loop', 'writes': {'chatbot': {'messages': [AIMessage(content='I remember, your name is Saurabh and you live in Bangalore.', additional_kwargs={}, response_metadata={'token_usage': {'completion_tokens': 16, 'prompt_tokens': 622, 'total_tokens': 638, 'completion_time': 0.021333333, 'prompt_time': 0.029782457, 'queue_time': 0.070348577, 'total_time': 0.05111579}, 'model_name': 'llama-3.1-8b-instant', 'system_fingerprint': 'fp_8d1c73bd4c', 'finish_reason': 'stop', 'logprobs': None}, id='run-5c2283cb-d3ae-48e7-afab-eb3fac8c8fe4-0', usage_metadata={'input_tokens': 622, 'output_tokens': 16, 'total_tokens': 638})]}}, 'step': 9, 'parents': {}, 'thread_id': '1'}, created_at='2025-04-27T19:19:58.164251+00:00', parent_config={'configurable': {'thread_id': '1', 'checkpoint_ns': '', 'checkpoint_id': '1f0239c9-b812-610d-8008-c9eb10785de3'}}, tasks=())\n"
     ]
    }
   ],
   "source": [
    "config = {\"configurable\": {\"thread_id\": \"1\"}}\n",
    "state = graph.get_state(config=config)\n",
    "print(state)"
   ]
  },
  {
   "cell_type": "markdown",
   "id": "5157416e",
   "metadata": {},
   "source": [
    "StateSnapshot(values={'messages': \n",
    "\n",
    "[HumanMessage(content='Hi, I am Saurabh.', additional_kwargs={}, response_metadata={}, id='fd195913-4ca4-4fa4-8979-85d57b805743'), \n",
    "\n",
    "AIMessage(content='Hello Saurabh, how can I assist you today?', additional_kwargs={}, response_metadata={'token_usage': {'completion_tokens': 13, 'prompt_tokens': 254, 'total_tokens': 267, 'completion_time': 0.017333333, 'prompt_time': 0.047622217, 'queue_time': 0.954682987, 'total_time': 0.06495555}, 'model_name': 'llama-3.1-8b-instant', 'system_fingerprint': 'fp_8d1c73bd4c', 'finish_reason': 'stop', 'logprobs': None}, id='run-7160f215-36c5-4871-97a9-98a7db1eebb1-0', usage_metadata={'input_tokens': 254, 'output_tokens': 13, 'total_tokens': 267}),\n",
    "\n",
    "HumanMessage(content='I live in Bangalore. Can you tell me the weather there?', additional_kwargs={}, response_metadata={}, id='f58fd5f4-7b85-4ba7-885e-680f835685d1'), \n",
    "\n",
    "AIMessage(content='', additional_kwargs={'tool_calls': [{'id': 'call_da0t', 'function': {'arguments': '{\"search query string\": \"Bangalore weather today\"}', 'name': 'InternetSearch'}, 'type': 'function'}]}, response_metadata={'token_usage': {'completion_tokens': 20, 'prompt_tokens': 289, 'total_tokens': 309, 'completion_time': 0.026666667, 'prompt_time': 0.027869836, 'queue_time': 0.046563859, 'total_time': 0.054536503}, 'model_name': 'llama-3.1-8b-instant', 'system_fingerprint': 'fp_a56f6eea01', 'finish_reason': 'tool_calls', 'logprobs': None}, id='run-2ebf192c-6e11-4889-abbd-b4bc245c3996-0', tool_calls=[{'name': 'InternetSearch', 'args': {'search query string': 'Bangalore weather today'}, 'id': 'call_da0t', 'type': 'tool_call'}], usage_metadata={'input_tokens': 289, 'output_tokens': 20, 'total_tokens': 309}), \n",
    "\n",
    "ToolMessage(content='\"Bengaluru, Karnataka, India Weather Forecast - AccuWeather: Hourly Weather \\\\u00b7 1 AM 78\\\\u00b0. rain drop 1% \\\\u00b7 2 AM 77\\\\u00b0. rain drop 1% \\\\u00b7 3 AM 76\\\\u00b0. rain drop 1% \\\\u00b7 4 AM 75\\\\u00b0. rain drop 1% \\\\u00b7 5 AM 75\\\\u00b0. rain drop 1% \\\\u00b7 6 AM 74\\\\u00b0. rain drop 1%.\\\\nReal-Time Bangalore Weather Conditions & Forecast - AQI: Current Bangalore weather condition is Partly cloudy with real-time temperature (27\\\\u00b0C), humidity 62%, wind 25.9km/h, pressure (1015mb), UV (0), ...\\\\nBengaluru-City - Local Weather Report and Forecast: Date, Min Temp, Max Temp, Weather ; 27-Apr, 23.0, 34.0, Partly cloudy sky with one or two spells of rain or thundershowers.\"', name='InternetSearch', id='c0469412-c904-4a74-bff3-0cfa28f877db', tool_call_id='call_da0t'), \n",
    "\n",
    "AIMessage(content='It seems like the weather in Bangalore is partly cloudy with a temperature of around 27°C and a humidity of 62%. There might be some rain or thundershowers.', additional_kwargs={}, response_metadata={'token_usage': {'completion_tokens': 37, 'prompt_tokens': 568, 'total_tokens': 605, 'completion_time': 0.049333333, 'prompt_time': 0.106139323, 'queue_time': 0.266735832, 'total_time': 0.155472656}, 'model_name': 'llama-3.1-8b-instant', 'system_fingerprint': 'fp_8d1c73bd4c', 'finish_reason': 'stop', 'logprobs': None}, id='run-17851cd0-4277-4bde-aa5a-dac19aadfc8b-0', usage_metadata={'input_tokens': 568, 'output_tokens': 37, 'total_tokens': 605}), \n",
    "\n",
    "HumanMessage(content='Remember my name and where I live?', additional_kwargs={}, response_metadata={}, id='44575a7b-21c0-4a7a-bf57-832ec5d49af6'), \n",
    "\n",
    "AIMessage(content='I remember, your name is Saurabh and you live in Bangalore.', additional_kwargs={}, response_metadata={'token_usage': {'completion_tokens': 16, 'prompt_tokens': 622, 'total_tokens': 638, 'completion_time': 0.021333333, 'prompt_time': 0.029782457, 'queue_time': 0.070348577, 'total_time': 0.05111579}, 'model_name': 'llama-3.1-8b-instant', 'system_fingerprint': 'fp_8d1c73bd4c', 'finish_reason': 'stop', 'logprobs': None}, id='run-5c2283cb-d3ae-48e7-afab-eb3fac8c8fe4-0', usage_metadata={'input_tokens': 622, 'output_tokens': 16, 'total_tokens': 638})]}, next=(), config={'configurable': {'thread_id': '1', 'checkpoint_ns': '', 'checkpoint_id': '1f0239c9-ba51-6317-8009-677819bbda50'}}, metadata={'source': 'loop', 'writes': {'chatbot': {'messages': [AIMessage(content='I remember, your name is Saurabh and you live in Bangalore.', additional_kwargs={}, response_metadata={'token_usage': {'completion_tokens': 16, 'prompt_tokens': 622, 'total_tokens': 638, 'completion_time': 0.021333333, 'prompt_time': 0.029782457, 'queue_time': 0.070348577, 'total_time': 0.05111579}, 'model_name': 'llama-3.1-8b-instant', 'system_fingerprint': 'fp_8d1c73bd4c', 'finish_reason': 'stop', 'logprobs': None}, id='run-5c2283cb-d3ae-48e7-afab-eb3fac8c8fe4-0', usage_metadata={'input_tokens': 622, 'output_tokens': 16, 'total_tokens': 638})]}}, 'step': 9, 'parents': {}, 'thread_id': '1'}, created_at='2025-04-27T19:19:58.164251+00:00', parent_config={'configurable': {'thread_id': '1', 'checkpoint_ns': '', 'checkpoint_id': '1f0239c9-b812-610d-8008-c9eb10785de3'}}, tasks=())"
   ]
  },
  {
   "cell_type": "code",
   "execution_count": 260,
   "id": "a67f6564",
   "metadata": {},
   "outputs": [
    {
     "name": "stdout",
     "output_type": "stream",
     "text": [
      "StateSnapshot(values={'messages': [HumanMessage(content='Hi, I am Saurabh.', additional_kwargs={}, response_metadata={}, id='fd195913-4ca4-4fa4-8979-85d57b805743'), AIMessage(content='Hello Saurabh, how can I assist you today?', additional_kwargs={}, response_metadata={'token_usage': {'completion_tokens': 13, 'prompt_tokens': 254, 'total_tokens': 267, 'completion_time': 0.017333333, 'prompt_time': 0.047622217, 'queue_time': 0.954682987, 'total_time': 0.06495555}, 'model_name': 'llama-3.1-8b-instant', 'system_fingerprint': 'fp_8d1c73bd4c', 'finish_reason': 'stop', 'logprobs': None}, id='run-7160f215-36c5-4871-97a9-98a7db1eebb1-0', usage_metadata={'input_tokens': 254, 'output_tokens': 13, 'total_tokens': 267}), HumanMessage(content='I live in Bangalore. Can you tell me the weather there?', additional_kwargs={}, response_metadata={}, id='f58fd5f4-7b85-4ba7-885e-680f835685d1'), AIMessage(content='', additional_kwargs={'tool_calls': [{'id': 'call_da0t', 'function': {'arguments': '{\"search query string\": \"Bangalore weather today\"}', 'name': 'InternetSearch'}, 'type': 'function'}]}, response_metadata={'token_usage': {'completion_tokens': 20, 'prompt_tokens': 289, 'total_tokens': 309, 'completion_time': 0.026666667, 'prompt_time': 0.027869836, 'queue_time': 0.046563859, 'total_time': 0.054536503}, 'model_name': 'llama-3.1-8b-instant', 'system_fingerprint': 'fp_a56f6eea01', 'finish_reason': 'tool_calls', 'logprobs': None}, id='run-2ebf192c-6e11-4889-abbd-b4bc245c3996-0', tool_calls=[{'name': 'InternetSearch', 'args': {'search query string': 'Bangalore weather today'}, 'id': 'call_da0t', 'type': 'tool_call'}], usage_metadata={'input_tokens': 289, 'output_tokens': 20, 'total_tokens': 309}), ToolMessage(content='\"Bengaluru, Karnataka, India Weather Forecast - AccuWeather: Hourly Weather \\\\u00b7 1 AM 78\\\\u00b0. rain drop 1% \\\\u00b7 2 AM 77\\\\u00b0. rain drop 1% \\\\u00b7 3 AM 76\\\\u00b0. rain drop 1% \\\\u00b7 4 AM 75\\\\u00b0. rain drop 1% \\\\u00b7 5 AM 75\\\\u00b0. rain drop 1% \\\\u00b7 6 AM 74\\\\u00b0. rain drop 1%.\\\\nReal-Time Bangalore Weather Conditions & Forecast - AQI: Current Bangalore weather condition is Partly cloudy with real-time temperature (27\\\\u00b0C), humidity 62%, wind 25.9km/h, pressure (1015mb), UV (0), ...\\\\nBengaluru-City - Local Weather Report and Forecast: Date, Min Temp, Max Temp, Weather ; 27-Apr, 23.0, 34.0, Partly cloudy sky with one or two spells of rain or thundershowers.\"', name='InternetSearch', id='c0469412-c904-4a74-bff3-0cfa28f877db', tool_call_id='call_da0t'), AIMessage(content='It seems like the weather in Bangalore is partly cloudy with a temperature of around 27°C and a humidity of 62%. There might be some rain or thundershowers.', additional_kwargs={}, response_metadata={'token_usage': {'completion_tokens': 37, 'prompt_tokens': 568, 'total_tokens': 605, 'completion_time': 0.049333333, 'prompt_time': 0.106139323, 'queue_time': 0.266735832, 'total_time': 0.155472656}, 'model_name': 'llama-3.1-8b-instant', 'system_fingerprint': 'fp_8d1c73bd4c', 'finish_reason': 'stop', 'logprobs': None}, id='run-17851cd0-4277-4bde-aa5a-dac19aadfc8b-0', usage_metadata={'input_tokens': 568, 'output_tokens': 37, 'total_tokens': 605}), HumanMessage(content='Remember my name and where I live?', additional_kwargs={}, response_metadata={}, id='44575a7b-21c0-4a7a-bf57-832ec5d49af6'), AIMessage(content='I remember, your name is Saurabh and you live in Bangalore.', additional_kwargs={}, response_metadata={'token_usage': {'completion_tokens': 16, 'prompt_tokens': 622, 'total_tokens': 638, 'completion_time': 0.021333333, 'prompt_time': 0.029782457, 'queue_time': 0.070348577, 'total_time': 0.05111579}, 'model_name': 'llama-3.1-8b-instant', 'system_fingerprint': 'fp_8d1c73bd4c', 'finish_reason': 'stop', 'logprobs': None}, id='run-5c2283cb-d3ae-48e7-afab-eb3fac8c8fe4-0', usage_metadata={'input_tokens': 622, 'output_tokens': 16, 'total_tokens': 638})]}, next=(), config={'configurable': {'thread_id': '1', 'checkpoint_ns': '', 'checkpoint_id': '1f0239c9-ba51-6317-8009-677819bbda50'}}, metadata={'source': 'loop', 'writes': {'chatbot': {'messages': [AIMessage(content='I remember, your name is Saurabh and you live in Bangalore.', additional_kwargs={}, response_metadata={'token_usage': {'completion_tokens': 16, 'prompt_tokens': 622, 'total_tokens': 638, 'completion_time': 0.021333333, 'prompt_time': 0.029782457, 'queue_time': 0.070348577, 'total_time': 0.05111579}, 'model_name': 'llama-3.1-8b-instant', 'system_fingerprint': 'fp_8d1c73bd4c', 'finish_reason': 'stop', 'logprobs': None}, id='run-5c2283cb-d3ae-48e7-afab-eb3fac8c8fe4-0', usage_metadata={'input_tokens': 622, 'output_tokens': 16, 'total_tokens': 638})]}}, 'step': 9, 'parents': {}, 'thread_id': '1'}, created_at='2025-04-27T19:19:58.164251+00:00', parent_config={'configurable': {'thread_id': '1', 'checkpoint_ns': '', 'checkpoint_id': '1f0239c9-b812-610d-8008-c9eb10785de3'}}, tasks=())\n",
      "StateSnapshot(values={'messages': [HumanMessage(content='Hi, I am Saurabh.', additional_kwargs={}, response_metadata={}, id='fd195913-4ca4-4fa4-8979-85d57b805743'), AIMessage(content='Hello Saurabh, how can I assist you today?', additional_kwargs={}, response_metadata={'token_usage': {'completion_tokens': 13, 'prompt_tokens': 254, 'total_tokens': 267, 'completion_time': 0.017333333, 'prompt_time': 0.047622217, 'queue_time': 0.954682987, 'total_time': 0.06495555}, 'model_name': 'llama-3.1-8b-instant', 'system_fingerprint': 'fp_8d1c73bd4c', 'finish_reason': 'stop', 'logprobs': None}, id='run-7160f215-36c5-4871-97a9-98a7db1eebb1-0', usage_metadata={'input_tokens': 254, 'output_tokens': 13, 'total_tokens': 267}), HumanMessage(content='I live in Bangalore. Can you tell me the weather there?', additional_kwargs={}, response_metadata={}, id='f58fd5f4-7b85-4ba7-885e-680f835685d1'), AIMessage(content='', additional_kwargs={'tool_calls': [{'id': 'call_da0t', 'function': {'arguments': '{\"search query string\": \"Bangalore weather today\"}', 'name': 'InternetSearch'}, 'type': 'function'}]}, response_metadata={'token_usage': {'completion_tokens': 20, 'prompt_tokens': 289, 'total_tokens': 309, 'completion_time': 0.026666667, 'prompt_time': 0.027869836, 'queue_time': 0.046563859, 'total_time': 0.054536503}, 'model_name': 'llama-3.1-8b-instant', 'system_fingerprint': 'fp_a56f6eea01', 'finish_reason': 'tool_calls', 'logprobs': None}, id='run-2ebf192c-6e11-4889-abbd-b4bc245c3996-0', tool_calls=[{'name': 'InternetSearch', 'args': {'search query string': 'Bangalore weather today'}, 'id': 'call_da0t', 'type': 'tool_call'}], usage_metadata={'input_tokens': 289, 'output_tokens': 20, 'total_tokens': 309}), ToolMessage(content='\"Bengaluru, Karnataka, India Weather Forecast - AccuWeather: Hourly Weather \\\\u00b7 1 AM 78\\\\u00b0. rain drop 1% \\\\u00b7 2 AM 77\\\\u00b0. rain drop 1% \\\\u00b7 3 AM 76\\\\u00b0. rain drop 1% \\\\u00b7 4 AM 75\\\\u00b0. rain drop 1% \\\\u00b7 5 AM 75\\\\u00b0. rain drop 1% \\\\u00b7 6 AM 74\\\\u00b0. rain drop 1%.\\\\nReal-Time Bangalore Weather Conditions & Forecast - AQI: Current Bangalore weather condition is Partly cloudy with real-time temperature (27\\\\u00b0C), humidity 62%, wind 25.9km/h, pressure (1015mb), UV (0), ...\\\\nBengaluru-City - Local Weather Report and Forecast: Date, Min Temp, Max Temp, Weather ; 27-Apr, 23.0, 34.0, Partly cloudy sky with one or two spells of rain or thundershowers.\"', name='InternetSearch', id='c0469412-c904-4a74-bff3-0cfa28f877db', tool_call_id='call_da0t'), AIMessage(content='It seems like the weather in Bangalore is partly cloudy with a temperature of around 27°C and a humidity of 62%. There might be some rain or thundershowers.', additional_kwargs={}, response_metadata={'token_usage': {'completion_tokens': 37, 'prompt_tokens': 568, 'total_tokens': 605, 'completion_time': 0.049333333, 'prompt_time': 0.106139323, 'queue_time': 0.266735832, 'total_time': 0.155472656}, 'model_name': 'llama-3.1-8b-instant', 'system_fingerprint': 'fp_8d1c73bd4c', 'finish_reason': 'stop', 'logprobs': None}, id='run-17851cd0-4277-4bde-aa5a-dac19aadfc8b-0', usage_metadata={'input_tokens': 568, 'output_tokens': 37, 'total_tokens': 605}), HumanMessage(content='Remember my name and where I live?', additional_kwargs={}, response_metadata={}, id='44575a7b-21c0-4a7a-bf57-832ec5d49af6')]}, next=('chatbot',), config={'configurable': {'thread_id': '1', 'checkpoint_ns': '', 'checkpoint_id': '1f0239c9-b812-610d-8008-c9eb10785de3'}}, metadata={'source': 'loop', 'writes': None, 'step': 8, 'parents': {}, 'thread_id': '1'}, created_at='2025-04-27T19:19:57.928679+00:00', parent_config={'configurable': {'thread_id': '1', 'checkpoint_ns': '', 'checkpoint_id': '1f0239c9-b80e-6a92-8007-a00882d5aaa7'}}, tasks=(PregelTask(id='d5171fbd-197a-0427-0cb4-ce02322f6436', name='chatbot', path=('__pregel_pull', 'chatbot'), error=None, interrupts=(), state=None, result={'messages': [AIMessage(content='I remember, your name is Saurabh and you live in Bangalore.', additional_kwargs={}, response_metadata={'token_usage': {'completion_tokens': 16, 'prompt_tokens': 622, 'total_tokens': 638, 'completion_time': 0.021333333, 'prompt_time': 0.029782457, 'queue_time': 0.070348577, 'total_time': 0.05111579}, 'model_name': 'llama-3.1-8b-instant', 'system_fingerprint': 'fp_8d1c73bd4c', 'finish_reason': 'stop', 'logprobs': None}, id='run-5c2283cb-d3ae-48e7-afab-eb3fac8c8fe4-0', usage_metadata={'input_tokens': 622, 'output_tokens': 16, 'total_tokens': 638})]}),))\n",
      "StateSnapshot(values={'messages': [HumanMessage(content='Hi, I am Saurabh.', additional_kwargs={}, response_metadata={}, id='fd195913-4ca4-4fa4-8979-85d57b805743'), AIMessage(content='Hello Saurabh, how can I assist you today?', additional_kwargs={}, response_metadata={'token_usage': {'completion_tokens': 13, 'prompt_tokens': 254, 'total_tokens': 267, 'completion_time': 0.017333333, 'prompt_time': 0.047622217, 'queue_time': 0.954682987, 'total_time': 0.06495555}, 'model_name': 'llama-3.1-8b-instant', 'system_fingerprint': 'fp_8d1c73bd4c', 'finish_reason': 'stop', 'logprobs': None}, id='run-7160f215-36c5-4871-97a9-98a7db1eebb1-0', usage_metadata={'input_tokens': 254, 'output_tokens': 13, 'total_tokens': 267}), HumanMessage(content='I live in Bangalore. Can you tell me the weather there?', additional_kwargs={}, response_metadata={}, id='f58fd5f4-7b85-4ba7-885e-680f835685d1'), AIMessage(content='', additional_kwargs={'tool_calls': [{'id': 'call_da0t', 'function': {'arguments': '{\"search query string\": \"Bangalore weather today\"}', 'name': 'InternetSearch'}, 'type': 'function'}]}, response_metadata={'token_usage': {'completion_tokens': 20, 'prompt_tokens': 289, 'total_tokens': 309, 'completion_time': 0.026666667, 'prompt_time': 0.027869836, 'queue_time': 0.046563859, 'total_time': 0.054536503}, 'model_name': 'llama-3.1-8b-instant', 'system_fingerprint': 'fp_a56f6eea01', 'finish_reason': 'tool_calls', 'logprobs': None}, id='run-2ebf192c-6e11-4889-abbd-b4bc245c3996-0', tool_calls=[{'name': 'InternetSearch', 'args': {'search query string': 'Bangalore weather today'}, 'id': 'call_da0t', 'type': 'tool_call'}], usage_metadata={'input_tokens': 289, 'output_tokens': 20, 'total_tokens': 309}), ToolMessage(content='\"Bengaluru, Karnataka, India Weather Forecast - AccuWeather: Hourly Weather \\\\u00b7 1 AM 78\\\\u00b0. rain drop 1% \\\\u00b7 2 AM 77\\\\u00b0. rain drop 1% \\\\u00b7 3 AM 76\\\\u00b0. rain drop 1% \\\\u00b7 4 AM 75\\\\u00b0. rain drop 1% \\\\u00b7 5 AM 75\\\\u00b0. rain drop 1% \\\\u00b7 6 AM 74\\\\u00b0. rain drop 1%.\\\\nReal-Time Bangalore Weather Conditions & Forecast - AQI: Current Bangalore weather condition is Partly cloudy with real-time temperature (27\\\\u00b0C), humidity 62%, wind 25.9km/h, pressure (1015mb), UV (0), ...\\\\nBengaluru-City - Local Weather Report and Forecast: Date, Min Temp, Max Temp, Weather ; 27-Apr, 23.0, 34.0, Partly cloudy sky with one or two spells of rain or thundershowers.\"', name='InternetSearch', id='c0469412-c904-4a74-bff3-0cfa28f877db', tool_call_id='call_da0t'), AIMessage(content='It seems like the weather in Bangalore is partly cloudy with a temperature of around 27°C and a humidity of 62%. There might be some rain or thundershowers.', additional_kwargs={}, response_metadata={'token_usage': {'completion_tokens': 37, 'prompt_tokens': 568, 'total_tokens': 605, 'completion_time': 0.049333333, 'prompt_time': 0.106139323, 'queue_time': 0.266735832, 'total_time': 0.155472656}, 'model_name': 'llama-3.1-8b-instant', 'system_fingerprint': 'fp_8d1c73bd4c', 'finish_reason': 'stop', 'logprobs': None}, id='run-17851cd0-4277-4bde-aa5a-dac19aadfc8b-0', usage_metadata={'input_tokens': 568, 'output_tokens': 37, 'total_tokens': 605})]}, next=('__start__',), config={'configurable': {'thread_id': '1', 'checkpoint_ns': '', 'checkpoint_id': '1f0239c9-b80e-6a92-8007-a00882d5aaa7'}}, metadata={'source': 'input', 'writes': {'__start__': {'messages': [{'role': 'user', 'content': 'Remember my name and where I live?'}]}}, 'step': 7, 'parents': {}, 'thread_id': '1'}, created_at='2025-04-27T19:19:57.927285+00:00', parent_config={'configurable': {'thread_id': '1', 'checkpoint_ns': '', 'checkpoint_id': '1f0239c7-9b3e-6160-8006-b60bee08d1b2'}}, tasks=(PregelTask(id='15f2dec8-d23b-3eb1-ccd4-059175073a33', name='__start__', path=('__pregel_pull', '__start__'), error=None, interrupts=(), state=None, result={'messages': [{'role': 'user', 'content': 'Remember my name and where I live?'}]}),))\n",
      "StateSnapshot(values={'messages': [HumanMessage(content='Hi, I am Saurabh.', additional_kwargs={}, response_metadata={}, id='fd195913-4ca4-4fa4-8979-85d57b805743'), AIMessage(content='Hello Saurabh, how can I assist you today?', additional_kwargs={}, response_metadata={'token_usage': {'completion_tokens': 13, 'prompt_tokens': 254, 'total_tokens': 267, 'completion_time': 0.017333333, 'prompt_time': 0.047622217, 'queue_time': 0.954682987, 'total_time': 0.06495555}, 'model_name': 'llama-3.1-8b-instant', 'system_fingerprint': 'fp_8d1c73bd4c', 'finish_reason': 'stop', 'logprobs': None}, id='run-7160f215-36c5-4871-97a9-98a7db1eebb1-0', usage_metadata={'input_tokens': 254, 'output_tokens': 13, 'total_tokens': 267}), HumanMessage(content='I live in Bangalore. Can you tell me the weather there?', additional_kwargs={}, response_metadata={}, id='f58fd5f4-7b85-4ba7-885e-680f835685d1'), AIMessage(content='', additional_kwargs={'tool_calls': [{'id': 'call_da0t', 'function': {'arguments': '{\"search query string\": \"Bangalore weather today\"}', 'name': 'InternetSearch'}, 'type': 'function'}]}, response_metadata={'token_usage': {'completion_tokens': 20, 'prompt_tokens': 289, 'total_tokens': 309, 'completion_time': 0.026666667, 'prompt_time': 0.027869836, 'queue_time': 0.046563859, 'total_time': 0.054536503}, 'model_name': 'llama-3.1-8b-instant', 'system_fingerprint': 'fp_a56f6eea01', 'finish_reason': 'tool_calls', 'logprobs': None}, id='run-2ebf192c-6e11-4889-abbd-b4bc245c3996-0', tool_calls=[{'name': 'InternetSearch', 'args': {'search query string': 'Bangalore weather today'}, 'id': 'call_da0t', 'type': 'tool_call'}], usage_metadata={'input_tokens': 289, 'output_tokens': 20, 'total_tokens': 309}), ToolMessage(content='\"Bengaluru, Karnataka, India Weather Forecast - AccuWeather: Hourly Weather \\\\u00b7 1 AM 78\\\\u00b0. rain drop 1% \\\\u00b7 2 AM 77\\\\u00b0. rain drop 1% \\\\u00b7 3 AM 76\\\\u00b0. rain drop 1% \\\\u00b7 4 AM 75\\\\u00b0. rain drop 1% \\\\u00b7 5 AM 75\\\\u00b0. rain drop 1% \\\\u00b7 6 AM 74\\\\u00b0. rain drop 1%.\\\\nReal-Time Bangalore Weather Conditions & Forecast - AQI: Current Bangalore weather condition is Partly cloudy with real-time temperature (27\\\\u00b0C), humidity 62%, wind 25.9km/h, pressure (1015mb), UV (0), ...\\\\nBengaluru-City - Local Weather Report and Forecast: Date, Min Temp, Max Temp, Weather ; 27-Apr, 23.0, 34.0, Partly cloudy sky with one or two spells of rain or thundershowers.\"', name='InternetSearch', id='c0469412-c904-4a74-bff3-0cfa28f877db', tool_call_id='call_da0t'), AIMessage(content='It seems like the weather in Bangalore is partly cloudy with a temperature of around 27°C and a humidity of 62%. There might be some rain or thundershowers.', additional_kwargs={}, response_metadata={'token_usage': {'completion_tokens': 37, 'prompt_tokens': 568, 'total_tokens': 605, 'completion_time': 0.049333333, 'prompt_time': 0.106139323, 'queue_time': 0.266735832, 'total_time': 0.155472656}, 'model_name': 'llama-3.1-8b-instant', 'system_fingerprint': 'fp_8d1c73bd4c', 'finish_reason': 'stop', 'logprobs': None}, id='run-17851cd0-4277-4bde-aa5a-dac19aadfc8b-0', usage_metadata={'input_tokens': 568, 'output_tokens': 37, 'total_tokens': 605})]}, next=(), config={'configurable': {'thread_id': '1', 'checkpoint_ns': '', 'checkpoint_id': '1f0239c7-9b3e-6160-8006-b60bee08d1b2'}}, metadata={'source': 'loop', 'writes': {'chatbot': {'messages': [AIMessage(content='It seems like the weather in Bangalore is partly cloudy with a temperature of around 27°C and a humidity of 62%. There might be some rain or thundershowers.', additional_kwargs={}, response_metadata={'token_usage': {'completion_tokens': 37, 'prompt_tokens': 568, 'total_tokens': 605, 'completion_time': 0.049333333, 'prompt_time': 0.106139323, 'queue_time': 0.266735832, 'total_time': 0.155472656}, 'model_name': 'llama-3.1-8b-instant', 'system_fingerprint': 'fp_8d1c73bd4c', 'finish_reason': 'stop', 'logprobs': None}, id='run-17851cd0-4277-4bde-aa5a-dac19aadfc8b-0', usage_metadata={'input_tokens': 568, 'output_tokens': 37, 'total_tokens': 605})]}}, 'step': 6, 'parents': {}, 'thread_id': '1'}, created_at='2025-04-27T19:19:01.218748+00:00', parent_config={'configurable': {'thread_id': '1', 'checkpoint_ns': '', 'checkpoint_id': '1f0239c7-968b-6f20-8005-7e519e9dc1c2'}}, tasks=())\n",
      "StateSnapshot(values={'messages': [HumanMessage(content='Hi, I am Saurabh.', additional_kwargs={}, response_metadata={}, id='fd195913-4ca4-4fa4-8979-85d57b805743'), AIMessage(content='Hello Saurabh, how can I assist you today?', additional_kwargs={}, response_metadata={'token_usage': {'completion_tokens': 13, 'prompt_tokens': 254, 'total_tokens': 267, 'completion_time': 0.017333333, 'prompt_time': 0.047622217, 'queue_time': 0.954682987, 'total_time': 0.06495555}, 'model_name': 'llama-3.1-8b-instant', 'system_fingerprint': 'fp_8d1c73bd4c', 'finish_reason': 'stop', 'logprobs': None}, id='run-7160f215-36c5-4871-97a9-98a7db1eebb1-0', usage_metadata={'input_tokens': 254, 'output_tokens': 13, 'total_tokens': 267}), HumanMessage(content='I live in Bangalore. Can you tell me the weather there?', additional_kwargs={}, response_metadata={}, id='f58fd5f4-7b85-4ba7-885e-680f835685d1'), AIMessage(content='', additional_kwargs={'tool_calls': [{'id': 'call_da0t', 'function': {'arguments': '{\"search query string\": \"Bangalore weather today\"}', 'name': 'InternetSearch'}, 'type': 'function'}]}, response_metadata={'token_usage': {'completion_tokens': 20, 'prompt_tokens': 289, 'total_tokens': 309, 'completion_time': 0.026666667, 'prompt_time': 0.027869836, 'queue_time': 0.046563859, 'total_time': 0.054536503}, 'model_name': 'llama-3.1-8b-instant', 'system_fingerprint': 'fp_a56f6eea01', 'finish_reason': 'tool_calls', 'logprobs': None}, id='run-2ebf192c-6e11-4889-abbd-b4bc245c3996-0', tool_calls=[{'name': 'InternetSearch', 'args': {'search query string': 'Bangalore weather today'}, 'id': 'call_da0t', 'type': 'tool_call'}], usage_metadata={'input_tokens': 289, 'output_tokens': 20, 'total_tokens': 309}), ToolMessage(content='\"Bengaluru, Karnataka, India Weather Forecast - AccuWeather: Hourly Weather \\\\u00b7 1 AM 78\\\\u00b0. rain drop 1% \\\\u00b7 2 AM 77\\\\u00b0. rain drop 1% \\\\u00b7 3 AM 76\\\\u00b0. rain drop 1% \\\\u00b7 4 AM 75\\\\u00b0. rain drop 1% \\\\u00b7 5 AM 75\\\\u00b0. rain drop 1% \\\\u00b7 6 AM 74\\\\u00b0. rain drop 1%.\\\\nReal-Time Bangalore Weather Conditions & Forecast - AQI: Current Bangalore weather condition is Partly cloudy with real-time temperature (27\\\\u00b0C), humidity 62%, wind 25.9km/h, pressure (1015mb), UV (0), ...\\\\nBengaluru-City - Local Weather Report and Forecast: Date, Min Temp, Max Temp, Weather ; 27-Apr, 23.0, 34.0, Partly cloudy sky with one or two spells of rain or thundershowers.\"', name='InternetSearch', id='c0469412-c904-4a74-bff3-0cfa28f877db', tool_call_id='call_da0t')]}, next=('chatbot',), config={'configurable': {'thread_id': '1', 'checkpoint_ns': '', 'checkpoint_id': '1f0239c7-968b-6f20-8005-7e519e9dc1c2'}}, metadata={'source': 'loop', 'writes': {'tools': {'messages': [ToolMessage(content='\"Bengaluru, Karnataka, India Weather Forecast - AccuWeather: Hourly Weather \\\\u00b7 1 AM 78\\\\u00b0. rain drop 1% \\\\u00b7 2 AM 77\\\\u00b0. rain drop 1% \\\\u00b7 3 AM 76\\\\u00b0. rain drop 1% \\\\u00b7 4 AM 75\\\\u00b0. rain drop 1% \\\\u00b7 5 AM 75\\\\u00b0. rain drop 1% \\\\u00b7 6 AM 74\\\\u00b0. rain drop 1%.\\\\nReal-Time Bangalore Weather Conditions & Forecast - AQI: Current Bangalore weather condition is Partly cloudy with real-time temperature (27\\\\u00b0C), humidity 62%, wind 25.9km/h, pressure (1015mb), UV (0), ...\\\\nBengaluru-City - Local Weather Report and Forecast: Date, Min Temp, Max Temp, Weather ; 27-Apr, 23.0, 34.0, Partly cloudy sky with one or two spells of rain or thundershowers.\"', name='InternetSearch', id='c0469412-c904-4a74-bff3-0cfa28f877db', tool_call_id='call_da0t')]}}, 'step': 5, 'parents': {}, 'thread_id': '1'}, created_at='2025-04-27T19:19:00.726352+00:00', parent_config={'configurable': {'thread_id': '1', 'checkpoint_ns': '', 'checkpoint_id': '1f0239c7-8df9-69e3-8004-9611564a2ea1'}}, tasks=(PregelTask(id='9f4d3371-0be2-f3c2-1651-52bbcc567089', name='chatbot', path=('__pregel_pull', 'chatbot'), error=None, interrupts=(), state=None, result={'messages': [AIMessage(content='It seems like the weather in Bangalore is partly cloudy with a temperature of around 27°C and a humidity of 62%. There might be some rain or thundershowers.', additional_kwargs={}, response_metadata={'token_usage': {'completion_tokens': 37, 'prompt_tokens': 568, 'total_tokens': 605, 'completion_time': 0.049333333, 'prompt_time': 0.106139323, 'queue_time': 0.266735832, 'total_time': 0.155472656}, 'model_name': 'llama-3.1-8b-instant', 'system_fingerprint': 'fp_8d1c73bd4c', 'finish_reason': 'stop', 'logprobs': None}, id='run-17851cd0-4277-4bde-aa5a-dac19aadfc8b-0', usage_metadata={'input_tokens': 568, 'output_tokens': 37, 'total_tokens': 605})]}),))\n",
      "StateSnapshot(values={'messages': [HumanMessage(content='Hi, I am Saurabh.', additional_kwargs={}, response_metadata={}, id='fd195913-4ca4-4fa4-8979-85d57b805743'), AIMessage(content='Hello Saurabh, how can I assist you today?', additional_kwargs={}, response_metadata={'token_usage': {'completion_tokens': 13, 'prompt_tokens': 254, 'total_tokens': 267, 'completion_time': 0.017333333, 'prompt_time': 0.047622217, 'queue_time': 0.954682987, 'total_time': 0.06495555}, 'model_name': 'llama-3.1-8b-instant', 'system_fingerprint': 'fp_8d1c73bd4c', 'finish_reason': 'stop', 'logprobs': None}, id='run-7160f215-36c5-4871-97a9-98a7db1eebb1-0', usage_metadata={'input_tokens': 254, 'output_tokens': 13, 'total_tokens': 267}), HumanMessage(content='I live in Bangalore. Can you tell me the weather there?', additional_kwargs={}, response_metadata={}, id='f58fd5f4-7b85-4ba7-885e-680f835685d1'), AIMessage(content='', additional_kwargs={'tool_calls': [{'id': 'call_da0t', 'function': {'arguments': '{\"search query string\": \"Bangalore weather today\"}', 'name': 'InternetSearch'}, 'type': 'function'}]}, response_metadata={'token_usage': {'completion_tokens': 20, 'prompt_tokens': 289, 'total_tokens': 309, 'completion_time': 0.026666667, 'prompt_time': 0.027869836, 'queue_time': 0.046563859, 'total_time': 0.054536503}, 'model_name': 'llama-3.1-8b-instant', 'system_fingerprint': 'fp_a56f6eea01', 'finish_reason': 'tool_calls', 'logprobs': None}, id='run-2ebf192c-6e11-4889-abbd-b4bc245c3996-0', tool_calls=[{'name': 'InternetSearch', 'args': {'search query string': 'Bangalore weather today'}, 'id': 'call_da0t', 'type': 'tool_call'}], usage_metadata={'input_tokens': 289, 'output_tokens': 20, 'total_tokens': 309})]}, next=('tools',), config={'configurable': {'thread_id': '1', 'checkpoint_ns': '', 'checkpoint_id': '1f0239c7-8df9-69e3-8004-9611564a2ea1'}}, metadata={'source': 'loop', 'writes': {'chatbot': {'messages': [AIMessage(content='', additional_kwargs={'tool_calls': [{'id': 'call_da0t', 'function': {'arguments': '{\"search query string\": \"Bangalore weather today\"}', 'name': 'InternetSearch'}, 'type': 'function'}]}, response_metadata={'token_usage': {'completion_tokens': 20, 'prompt_tokens': 289, 'total_tokens': 309, 'completion_time': 0.026666667, 'prompt_time': 0.027869836, 'queue_time': 0.046563859, 'total_time': 0.054536503}, 'model_name': 'llama-3.1-8b-instant', 'system_fingerprint': 'fp_a56f6eea01', 'finish_reason': 'tool_calls', 'logprobs': None}, id='run-2ebf192c-6e11-4889-abbd-b4bc245c3996-0', tool_calls=[{'name': 'InternetSearch', 'args': {'search query string': 'Bangalore weather today'}, 'id': 'call_da0t', 'type': 'tool_call'}], usage_metadata={'input_tokens': 289, 'output_tokens': 20, 'total_tokens': 309})]}}, 'step': 4, 'parents': {}, 'thread_id': '1'}, created_at='2025-04-27T19:18:59.827555+00:00', parent_config={'configurable': {'thread_id': '1', 'checkpoint_ns': '', 'checkpoint_id': '1f0239c7-8c3e-604e-8003-483c6f38d255'}}, tasks=(PregelTask(id='bc31f249-9db3-9abd-4ab0-5345feeb8008', name='tools', path=('__pregel_pull', 'tools'), error=None, interrupts=(), state=None, result={'messages': [ToolMessage(content='\"Bengaluru, Karnataka, India Weather Forecast - AccuWeather: Hourly Weather \\\\u00b7 1 AM 78\\\\u00b0. rain drop 1% \\\\u00b7 2 AM 77\\\\u00b0. rain drop 1% \\\\u00b7 3 AM 76\\\\u00b0. rain drop 1% \\\\u00b7 4 AM 75\\\\u00b0. rain drop 1% \\\\u00b7 5 AM 75\\\\u00b0. rain drop 1% \\\\u00b7 6 AM 74\\\\u00b0. rain drop 1%.\\\\nReal-Time Bangalore Weather Conditions & Forecast - AQI: Current Bangalore weather condition is Partly cloudy with real-time temperature (27\\\\u00b0C), humidity 62%, wind 25.9km/h, pressure (1015mb), UV (0), ...\\\\nBengaluru-City - Local Weather Report and Forecast: Date, Min Temp, Max Temp, Weather ; 27-Apr, 23.0, 34.0, Partly cloudy sky with one or two spells of rain or thundershowers.\"', name='InternetSearch', id='c0469412-c904-4a74-bff3-0cfa28f877db', tool_call_id='call_da0t')]}),))\n",
      "StateSnapshot(values={'messages': [HumanMessage(content='Hi, I am Saurabh.', additional_kwargs={}, response_metadata={}, id='fd195913-4ca4-4fa4-8979-85d57b805743'), AIMessage(content='Hello Saurabh, how can I assist you today?', additional_kwargs={}, response_metadata={'token_usage': {'completion_tokens': 13, 'prompt_tokens': 254, 'total_tokens': 267, 'completion_time': 0.017333333, 'prompt_time': 0.047622217, 'queue_time': 0.954682987, 'total_time': 0.06495555}, 'model_name': 'llama-3.1-8b-instant', 'system_fingerprint': 'fp_8d1c73bd4c', 'finish_reason': 'stop', 'logprobs': None}, id='run-7160f215-36c5-4871-97a9-98a7db1eebb1-0', usage_metadata={'input_tokens': 254, 'output_tokens': 13, 'total_tokens': 267}), HumanMessage(content='I live in Bangalore. Can you tell me the weather there?', additional_kwargs={}, response_metadata={}, id='f58fd5f4-7b85-4ba7-885e-680f835685d1')]}, next=('chatbot',), config={'configurable': {'thread_id': '1', 'checkpoint_ns': '', 'checkpoint_id': '1f0239c7-8c3e-604e-8003-483c6f38d255'}}, metadata={'source': 'loop', 'writes': None, 'step': 3, 'parents': {}, 'thread_id': '1'}, created_at='2025-04-27T19:18:59.645857+00:00', parent_config={'configurable': {'thread_id': '1', 'checkpoint_ns': '', 'checkpoint_id': '1f0239c7-8c39-61e9-8002-d1274c51d592'}}, tasks=(PregelTask(id='b80440d7-38d5-b96c-3c08-e928c90e6d58', name='chatbot', path=('__pregel_pull', 'chatbot'), error=None, interrupts=(), state=None, result={'messages': [AIMessage(content='', additional_kwargs={'tool_calls': [{'id': 'call_da0t', 'function': {'arguments': '{\"search query string\": \"Bangalore weather today\"}', 'name': 'InternetSearch'}, 'type': 'function'}]}, response_metadata={'token_usage': {'completion_tokens': 20, 'prompt_tokens': 289, 'total_tokens': 309, 'completion_time': 0.026666667, 'prompt_time': 0.027869836, 'queue_time': 0.046563859, 'total_time': 0.054536503}, 'model_name': 'llama-3.1-8b-instant', 'system_fingerprint': 'fp_a56f6eea01', 'finish_reason': 'tool_calls', 'logprobs': None}, id='run-2ebf192c-6e11-4889-abbd-b4bc245c3996-0', tool_calls=[{'name': 'InternetSearch', 'args': {'search query string': 'Bangalore weather today'}, 'id': 'call_da0t', 'type': 'tool_call'}], usage_metadata={'input_tokens': 289, 'output_tokens': 20, 'total_tokens': 309})]}),))\n",
      "StateSnapshot(values={'messages': [HumanMessage(content='Hi, I am Saurabh.', additional_kwargs={}, response_metadata={}, id='fd195913-4ca4-4fa4-8979-85d57b805743'), AIMessage(content='Hello Saurabh, how can I assist you today?', additional_kwargs={}, response_metadata={'token_usage': {'completion_tokens': 13, 'prompt_tokens': 254, 'total_tokens': 267, 'completion_time': 0.017333333, 'prompt_time': 0.047622217, 'queue_time': 0.954682987, 'total_time': 0.06495555}, 'model_name': 'llama-3.1-8b-instant', 'system_fingerprint': 'fp_8d1c73bd4c', 'finish_reason': 'stop', 'logprobs': None}, id='run-7160f215-36c5-4871-97a9-98a7db1eebb1-0', usage_metadata={'input_tokens': 254, 'output_tokens': 13, 'total_tokens': 267})]}, next=('__start__',), config={'configurable': {'thread_id': '1', 'checkpoint_ns': '', 'checkpoint_id': '1f0239c7-8c39-61e9-8002-d1274c51d592'}}, metadata={'source': 'input', 'writes': {'__start__': {'messages': [{'role': 'user', 'content': 'I live in Bangalore. Can you tell me the weather there?'}]}}, 'step': 2, 'parents': {}, 'thread_id': '1'}, created_at='2025-04-27T19:18:59.643850+00:00', parent_config={'configurable': {'thread_id': '1', 'checkpoint_ns': '', 'checkpoint_id': '1f0239c7-8115-6a3b-8001-87f92788bea6'}}, tasks=(PregelTask(id='02c00ec2-9f58-2cf1-7edb-270e34d1f4f8', name='__start__', path=('__pregel_pull', '__start__'), error=None, interrupts=(), state=None, result={'messages': [{'role': 'user', 'content': 'I live in Bangalore. Can you tell me the weather there?'}]}),))\n",
      "StateSnapshot(values={'messages': [HumanMessage(content='Hi, I am Saurabh.', additional_kwargs={}, response_metadata={}, id='fd195913-4ca4-4fa4-8979-85d57b805743'), AIMessage(content='Hello Saurabh, how can I assist you today?', additional_kwargs={}, response_metadata={'token_usage': {'completion_tokens': 13, 'prompt_tokens': 254, 'total_tokens': 267, 'completion_time': 0.017333333, 'prompt_time': 0.047622217, 'queue_time': 0.954682987, 'total_time': 0.06495555}, 'model_name': 'llama-3.1-8b-instant', 'system_fingerprint': 'fp_8d1c73bd4c', 'finish_reason': 'stop', 'logprobs': None}, id='run-7160f215-36c5-4871-97a9-98a7db1eebb1-0', usage_metadata={'input_tokens': 254, 'output_tokens': 13, 'total_tokens': 267})]}, next=(), config={'configurable': {'thread_id': '1', 'checkpoint_ns': '', 'checkpoint_id': '1f0239c7-8115-6a3b-8001-87f92788bea6'}}, metadata={'source': 'loop', 'writes': {'chatbot': {'messages': [AIMessage(content='Hello Saurabh, how can I assist you today?', additional_kwargs={}, response_metadata={'token_usage': {'completion_tokens': 13, 'prompt_tokens': 254, 'total_tokens': 267, 'completion_time': 0.017333333, 'prompt_time': 0.047622217, 'queue_time': 0.954682987, 'total_time': 0.06495555}, 'model_name': 'llama-3.1-8b-instant', 'system_fingerprint': 'fp_8d1c73bd4c', 'finish_reason': 'stop', 'logprobs': None}, id='run-7160f215-36c5-4871-97a9-98a7db1eebb1-0', usage_metadata={'input_tokens': 254, 'output_tokens': 13, 'total_tokens': 267})]}}, 'step': 1, 'parents': {}, 'thread_id': '1'}, created_at='2025-04-27T19:18:58.475884+00:00', parent_config={'configurable': {'thread_id': '1', 'checkpoint_ns': '', 'checkpoint_id': '1f0239c7-769c-60af-8000-0e02d56fc78e'}}, tasks=())\n",
      "StateSnapshot(values={'messages': [HumanMessage(content='Hi, I am Saurabh.', additional_kwargs={}, response_metadata={}, id='fd195913-4ca4-4fa4-8979-85d57b805743')]}, next=('chatbot',), config={'configurable': {'thread_id': '1', 'checkpoint_ns': '', 'checkpoint_id': '1f0239c7-769c-60af-8000-0e02d56fc78e'}}, metadata={'source': 'loop', 'writes': None, 'step': 0, 'parents': {}, 'thread_id': '1'}, created_at='2025-04-27T19:18:57.377502+00:00', parent_config={'configurable': {'thread_id': '1', 'checkpoint_ns': '', 'checkpoint_id': '1f0239c7-7698-64a2-bfff-92c6e63b9eda'}}, tasks=(PregelTask(id='fa946b0c-9282-6c85-22e6-6329b15d3952', name='chatbot', path=('__pregel_pull', 'chatbot'), error=None, interrupts=(), state=None, result={'messages': [AIMessage(content='Hello Saurabh, how can I assist you today?', additional_kwargs={}, response_metadata={'token_usage': {'completion_tokens': 13, 'prompt_tokens': 254, 'total_tokens': 267, 'completion_time': 0.017333333, 'prompt_time': 0.047622217, 'queue_time': 0.954682987, 'total_time': 0.06495555}, 'model_name': 'llama-3.1-8b-instant', 'system_fingerprint': 'fp_8d1c73bd4c', 'finish_reason': 'stop', 'logprobs': None}, id='run-7160f215-36c5-4871-97a9-98a7db1eebb1-0', usage_metadata={'input_tokens': 254, 'output_tokens': 13, 'total_tokens': 267})]}),))\n",
      "StateSnapshot(values={'messages': []}, next=('__start__',), config={'configurable': {'thread_id': '1', 'checkpoint_ns': '', 'checkpoint_id': '1f0239c7-7698-64a2-bfff-92c6e63b9eda'}}, metadata={'source': 'input', 'writes': {'__start__': {'messages': [{'role': 'user', 'content': 'Hi, I am Saurabh.'}]}}, 'step': -1, 'parents': {}, 'thread_id': '1'}, created_at='2025-04-27T19:18:57.375964+00:00', parent_config=None, tasks=(PregelTask(id='bb7b7cab-a53d-abb8-380a-999255f9ce27', name='__start__', path=('__pregel_pull', '__start__'), error=None, interrupts=(), state=None, result={'messages': [{'role': 'user', 'content': 'Hi, I am Saurabh.'}]}),))\n"
     ]
    }
   ],
   "source": [
    "config = {\"configurable\": {\"thread_id\": \"1\"}}\n",
    "state_history = graph.get_state_history(config)\n",
    "for state in state_history:\n",
    "    print(state)"
   ]
  },
  {
   "cell_type": "markdown",
   "id": "ad9de19c",
   "metadata": {},
   "source": [
    "## Human-in-the-loop"
   ]
  },
  {
   "cell_type": "code",
   "execution_count": 38,
   "id": "d96e98d1",
   "metadata": {},
   "outputs": [],
   "source": [
    "from typing import Annotated\n",
    "import json\n",
    "import requests\n",
    "from langchain.chat_models import init_chat_model\n",
    "from langchain_core.tools import tool\n",
    "from typing_extensions import TypedDict\n",
    "\n",
    "from langgraph.checkpoint.memory import MemorySaver\n",
    "from langgraph.graph import StateGraph, START, END\n",
    "from langgraph.graph.message import add_messages\n",
    "from langgraph.prebuilt import ToolNode, tools_condition\n",
    "\n",
    "from langgraph.types import Command, interrupt\n",
    "from langchain.tools import Tool  # Import Tool class"
   ]
  },
  {
   "cell_type": "code",
   "execution_count": 39,
   "id": "2f00f196",
   "metadata": {},
   "outputs": [],
   "source": [
    "# ================== Internet Search Agent ==================\n",
    "class InternetSearchAgent:\n",
    "    def __init__(self):\n",
    "        self.url = \"https://google.serper.dev/search\"\n",
    "        self.headers = {\n",
    "        'X-API-KEY': SERP_API_KEY,\n",
    "        'Content-Type': 'application/json'\n",
    "        }\n",
    "        self.history = []\n",
    "\n",
    "    def search_web(self, query):\n",
    "        \"\"\"Perform web search with error handling\"\"\"\n",
    "        try:\n",
    "            payload = json.dumps({\n",
    "                \"q\": query,\n",
    "                \"location\": \"India\",\n",
    "                \"gl\": \"in\"\n",
    "            })\n",
    "            response = requests.post(self.url, headers=self.headers, data=payload, timeout=10)\n",
    "            response.raise_for_status()\n",
    "            \n",
    "            result = response.json()\n",
    "            self.history.append({\"query\": query, \"result\": result})\n",
    "            \n",
    "            # Extract and format relevant information\n",
    "            if 'organic' not in result:\n",
    "                return \"No relevant web results found.\"\n",
    "                \n",
    "            top_results = result['organic'][:3]\n",
    "            return \"\\n\".join([f\"{res['title']}: {res.get('snippet', '')}\" for res in top_results])\n",
    "            \n",
    "        except Exception as e:\n",
    "            return f\"Search error: {str(e)}\"\n",
    "        \n",
    "internet_agent = InternetSearchAgent()\n",
    "internet_search_tool = Tool(\n",
    "    name=\"InternetSearch\",\n",
    "    func=internet_agent.search_web,\n",
    "    description=\"Searches the internet for current information and general knowledge. Input should be a search query string.\"\n",
    ")\n"
   ]
  },
  {
   "cell_type": "code",
   "execution_count": 40,
   "id": "262008bb",
   "metadata": {},
   "outputs": [],
   "source": [
    "@tool\n",
    "def human_assistance(query: str) -> str:\n",
    "    \"\"\"Request assistance from a human.\"\"\"\n",
    "    human_response = interrupt({\"query\": query})\n",
    "    return human_response[\"data\"]\n",
    "\n",
    "\n",
    "tools = [internet_search_tool, human_assistance]\n",
    "\n",
    "# Initialize LLM (replace with your preferred model)\n",
    "llm = ChatGroq(\n",
    "    temperature=0,\n",
    "    # model_name=\"llama3-70b-8192\",\n",
    "    model_name=\"llama-3.1-8b-instant\",\n",
    "    api_key=GROQ_API_KEY\n",
    ")\n",
    "# Modification: tell the LLM which tools it can call\n",
    "llm_with_tools = llm.bind_tools(tools)"
   ]
  },
  {
   "cell_type": "code",
   "execution_count": 41,
   "id": "88a2d865",
   "metadata": {},
   "outputs": [],
   "source": [
    "# ================== State Definitions ==================\n",
    "class State(TypedDict):\n",
    "    messages: Annotated[list, add_messages]\n",
    "\n",
    "# ================== Graph Build ==================\n",
    "graph_builder = StateGraph(State)"
   ]
  },
  {
   "cell_type": "code",
   "execution_count": 42,
   "id": "3dec3386",
   "metadata": {},
   "outputs": [
    {
     "data": {
      "text/plain": [
       "<langgraph.graph.state.StateGraph at 0x1c8763a5c30>"
      ]
     },
     "execution_count": 42,
     "metadata": {},
     "output_type": "execute_result"
    }
   ],
   "source": [
    "# ================== Node Definitions ==================\n",
    "def chatbot(state: State):\n",
    "    message = llm_with_tools.invoke(state[\"messages\"])\n",
    "    # Because we will be interrupting during tool execution,\n",
    "    # we disable parallel tool calling to avoid repeating any\n",
    "    # tool invocations when we resume.\n",
    "    assert len(message.tool_calls) <= 1\n",
    "    return {\"messages\": [message]}\n",
    "\n",
    "tool_node = ToolNode(tools=tools)\n",
    "\n",
    "\n",
    "# ================== Add Node ==================\n",
    "graph_builder.add_node(\"chatbot\", chatbot)\n",
    "graph_builder.add_node(\"tools\", tool_node)\n",
    "\n",
    "# ================== Conditional Edge ==================\n",
    "graph_builder.add_conditional_edges(\n",
    "    \"chatbot\",\n",
    "    tools_condition,\n",
    ")\n",
    "graph_builder.add_edge(\"tools\", \"chatbot\")\n",
    "graph_builder.add_edge(START, \"chatbot\")"
   ]
  },
  {
   "cell_type": "code",
   "execution_count": 43,
   "id": "7637ccb5",
   "metadata": {},
   "outputs": [],
   "source": [
    "memory = MemorySaver()\n",
    "graph = graph_builder.compile(checkpointer=memory)"
   ]
  },
  {
   "cell_type": "code",
   "execution_count": 44,
   "id": "0fc88bde",
   "metadata": {},
   "outputs": [
    {
     "data": {
      "image/png": "[encoded data removed]",
      "text/plain": [
       "<IPython.core.display.Image object>"
      ]
     },
     "metadata": {},
     "output_type": "display_data"
    }
   ],
   "source": [
    "from IPython.display import Image, display, Markdown\n",
    "\n",
    "try:\n",
    "    display(Image(graph.get_graph().draw_mermaid_png()))\n",
    "except Exception:\n",
    "    # This requires some extra dependencies and is optional\n",
    "    mermaid_code = graph.get_graph().draw_mermaid()\n",
    "    display(Markdown(f\"```mermaid\\n{mermaid_code}\\n```\"))"
   ]
  },
  {
   "cell_type": "code",
   "execution_count": 49,
   "id": "129db2c8",
   "metadata": {},
   "outputs": [
    {
     "name": "stdout",
     "output_type": "stream",
     "text": [
      "================================\u001b[1m Human Message \u001b[0m=================================\n",
      "\n",
      "I need some expert guidance for building an AI agent. Could you request assistance for me?\n",
      "==================================\u001b[1m Ai Message \u001b[0m==================================\n",
      "Tool Calls:\n",
      "  human_assistance (call_vnd3)\n",
      " Call ID: call_vnd3\n",
      "  Args:\n",
      "    query: expert guidance for building an AI agent\n"
     ]
    }
   ],
   "source": [
    "user_input = \"I need some expert guidance for building an AI agent. Could you request assistance for me?\"\n",
    "config = {\"configurable\": {\"thread_id\": \"1\"}}\n",
    "\n",
    "events = graph.stream(\n",
    "    {\"messages\": [{\"role\": \"user\", \"content\": user_input}]},\n",
    "    config,\n",
    "    stream_mode=\"values\",\n",
    ")\n",
    "for event in events:\n",
    "    if \"messages\" in event:\n",
    "        event[\"messages\"][-1].pretty_print()"
   ]
  },
  {
   "cell_type": "code",
   "execution_count": 50,
   "id": "830af3a7",
   "metadata": {},
   "outputs": [
    {
     "data": {
      "text/plain": [
       "('tools',)"
      ]
     },
     "execution_count": 50,
     "metadata": {},
     "output_type": "execute_result"
    }
   ],
   "source": [
    "snapshot = graph.get_state(config)\n",
    "snapshot.next"
   ]
  },
  {
   "cell_type": "code",
   "execution_count": null,
   "id": "04786967",
   "metadata": {},
   "outputs": [],
   "source": [
    "human_response = (\n",
    "    \"We, the experts are here to help! We'd recommend you check out LangGraph to build your agent.\"\n",
    "    \" It's much more reliable and extensible than simple autonomous agents.\"\n",
    ")\n",
    "\n",
    "human_command = Command(resume={\"data\": human_response})\n",
    "\n",
    "events = graph.stream(human_command, config, stream_mode=\"values\")\n",
    "for event in events:\n",
    "    if \"messages\" in event:\n",
    "        event[\"messages\"][-1].pretty_print()"
   ]
  },
  {
   "cell_type": "markdown",
   "id": "36bf6652",
   "metadata": {},
   "source": [
    "## Customizing State"
   ]
  },
  {
   "cell_type": "code",
   "execution_count": null,
   "id": "1a64fc09",
   "metadata": {},
   "outputs": [],
   "source": []
  }
 ],
 "metadata": {
  "kernelspec": {
   "display_name": ".venv",
   "language": "python",
   "name": "python3"
  },
  "language_info": {
   "codemirror_mode": {
    "name": "ipython",
    "version": 3
   },
   "file_extension": ".py",
   "mimetype": "text/x-python",
   "name": "python",
   "nbconvert_exporter": "python",
   "pygments_lexer": "ipython3",
   "version": "3.10.11"
  }
 },
 "nbformat": 4,
 "nbformat_minor": 5
}
